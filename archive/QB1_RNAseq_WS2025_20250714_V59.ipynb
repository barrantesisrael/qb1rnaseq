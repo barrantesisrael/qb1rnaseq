{
  "cells": [
    {
      "cell_type": "markdown",
      "metadata": {
        "id": "1yyQjJS95SZQ"
      },
      "source": [
        "# UMR QB1 - Seminar on Gene Expression Analysis\n",
        "\n",
        "---\n",
        "\n",
        "## Medical Problem & Research Question\n",
        "\n",
        "### **Central Clinical Question:**\n",
        "**\"_What are the molecular differences between cancer cells and normal human tissue, and how can we use these differences to identify new therapeutic targets for cancer treatment?_\"**\n",
        "\n",
        "### **Why This Matters for Medicine:**\n",
        "- **Cancer heterogeneity:** Different cancers have distinct molecular signatures\n",
        "- **Precision medicine:** Treatments must be tailored to specific cancer types\n",
        "- **Drug resistance:** Cancer cells evolve to evade treatment\n",
        "- **Therapeutic targets:** New drugs are desperately needed for better patient outcomes\n",
        "\n",
        "### **What We'll Discover:**\n",
        "1. **Molecular cancer signatures:** Genes consistently altered in cancer vs normal tissue\n",
        "2. **Therapeutic vulnerabilities:** Pathways that could be targeted with drugs\n",
        "3. **Drug repositioning opportunities:** Existing drugs that might treat cancer\n",
        "4. **Biomarker identification:** Genes that could predict treatment response\n",
        "\n",
        "---\n"
      ]
    },
    {
      "cell_type": "markdown",
      "metadata": {
        "id": "6vk_Nn6J5vcP"
      },
      "source": [
        "## Dataset: A Real Cancer vs Normal Tissue Study\n",
        "\n",
        "**Clinical Context:** Universal Human Reference (UHR) vs Human Brain Reference (HBR)  \n",
        "**Medical Relevance:** Cancer cell lines vs normal human brain tissue<br>\n",
        "**Sample Size:** 6 samples (3 cancer replicates vs 3 normal brain replicates)  \n",
        "**Data Type:** Paired-end RNA-sequencing (chromosome 22 subset)  \n",
        "**Reference:** Griffith M, Walker JR, Spies NC, Ainscough BJ, Griffith OL (2015) Informatics for RNA Sequencing: A Web Resource for Analysis on the Cloud. *PLoS Comput Biol* 11(8): e1004393. https://doi.org/10.1371/journal.pcbi.1004393\n",
        "\n",
        "\n",
        "\n",
        "### **Medical Samples**\n",
        "\n",
        "#### **UHR (Universal Human Reference) = CANCER SAMPLES**\n",
        "- **Composition:** Total RNA from 10 different human cancer cell lines\n",
        "- **Cancer types included:** Breast, liver, cervix, testis, brain, skin cancers plus immune cells (T cell, B cell, macrophage, histocyte)\n",
        "- **Why this matters:** Represents the common molecular features shared across different cancer types\n",
        "- **Clinical relevance:** Helps identify pan-cancer therapeutic targets\n",
        "\n",
        "#### **HBR (Human Brain Reference) = NORMAL TISSUE CONTROLS**\n",
        "- **Composition:** Total RNA from brains of 23 healthy Caucasians, mostly 60-80 years old\n",
        "- **Why brain tissue:** Provides a normal tissue baseline for comparison\n",
        "- **Clinical relevance:** Shows what \"healthy\" gene expression looks like\n",
        "\n",
        "### **The Biological Hypothesis:**\n",
        "**Cancer cells will show systematic changes in gene expression compared to normal tissue, revealing:**\n",
        "1. **Oncogenes** (cancer-promoting genes) that are overexpressed\n",
        "2. **Tumor suppressors** (cancer-preventing genes) that are silenced\n",
        "3. **Metabolic pathways** altered to support cancer growth\n",
        "4. **Drug targets** that could selectively kill cancer cells\n",
        "\n",
        "---"
      ]
    },
    {
      "cell_type": "markdown",
      "metadata": {
        "id": "1LErHlIH572V"
      },
      "source": [
        "## Learning Objectives\n",
        "\n",
        "By the end of this seminar, students will:\n",
        "\n",
        "### **Technical Skills:**\n",
        "1. Execute differential expression analysis to identify cancer biomarkers\n",
        "2. Run pathway enrichment to understand cancer biology\n",
        "3. Use computational drug repositioning for therapeutic discovery\n",
        "\n",
        "### **Medical Understanding:**\n",
        "1. **Interpret cancer gene signatures** in clinical context\n",
        "2. **Identify potential biomarkers** for cancer diagnosis/prognosis\n",
        "3. **Understand drug repositioning** as a strategy for faster therapeutic development\n",
        "4. **Connect computational findings** to real cancer treatment decisions\n",
        "\n",
        "### **Clinical Translation:**\n",
        "1. **Evaluate therapeutic targets** identified through RNA-seq\n",
        "2. **Assess drug candidates** for cancer treatment potential\n",
        "3. **Understand precision medicine** approaches to cancer care\n"
      ]
    },
    {
      "cell_type": "markdown",
      "metadata": {
        "id": "s4LtcS-o6GG2"
      },
      "source": [
        "## Part 0: Software Installation and Setup (10 minutes)\n",
        "\n",
        "### Step 0.1: Install Conda in Google Colab\n",
        "\n",
        "After running this cell, the runtime will restart automatically. Wait for it to complete, then continue."
      ]
    },
    {
      "cell_type": "code",
      "execution_count": null,
      "metadata": {
        "id": "pu2Sqm7bAGcw"
      },
      "outputs": [],
      "source": [
        "!pip install -q condacolab\n",
        "import condacolab\n",
        "condacolab.install()"
      ]
    },
    {
      "cell_type": "markdown",
      "metadata": {
        "id": "OkEKf6vF6RRY"
      },
      "source": [
        "### Step 0.2: Verify Conda installation"
      ]
    },
    {
      "cell_type": "code",
      "execution_count": null,
      "metadata": {
        "id": "CGWzfISgdm1-"
      },
      "outputs": [],
      "source": [
        "import condacolab\n",
        "condacolab.check()"
      ]
    },
    {
      "cell_type": "markdown",
      "metadata": {
        "id": "Vn_hUX296ees"
      },
      "source": [
        "### Step 0.3: Install all required software and packages"
      ]
    },
    {
      "cell_type": "code",
      "execution_count": null,
      "metadata": {
        "collapsed": true,
        "id": "LPhMuJU8gc2T"
      },
      "outputs": [],
      "source": [
        "%%bash\n",
        "conda install -c bioconda -c conda-forge salmon gffread bioconductor-deseq2 r-optparse r-ggplot2 r-gprofiler2 r-dplyr r-tidyr -y -q 2>&1"
      ]
    },
    {
      "cell_type": "markdown",
      "metadata": {
        "id": "lpxI-nR-6n7K"
      },
      "source": [
        "### Step 0.4: Download Data and script repository\n",
        "\n",
        "**Background: Version Control and Reproducible Research**\n",
        "\n",
        "In modern bioinformatics, we use version control systems like Git to manage our analysis scripts and data. This ensures reproducibility and allows collaboration. We're downloading a repository that contains:\n",
        "- Pre-processed RNA-seq data files\n",
        "- Analysis scripts for each step\n",
        "- Reference genome files and annotations"
      ]
    },
    {
      "cell_type": "code",
      "execution_count": null,
      "metadata": {
        "id": "Mgpcp6N3N3k2",
        "collapsed": true
      },
      "outputs": [],
      "source": [
        "%%bash\n",
        "git clone https://gitlab.uni-rostock.de/wb283/qb1rnaseq.git"
      ]
    },
    {
      "cell_type": "code",
      "source": [
        "%%bash\n",
        "ls"
      ],
      "metadata": {
        "id": "wbi0mKWoyxO7"
      },
      "execution_count": null,
      "outputs": []
    },
    {
      "cell_type": "code",
      "source": [
        "%%bash\n",
        "ls -lht"
      ],
      "metadata": {
        "id": "Fddvkl-O1O13"
      },
      "execution_count": null,
      "outputs": []
    },
    {
      "cell_type": "code",
      "execution_count": null,
      "metadata": {
        "id": "SvkkPQhp1K_e"
      },
      "outputs": [],
      "source": [
        "# Change working directory permanently\n",
        "import os\n",
        "os.chdir('qb1rnaseq')"
      ]
    },
    {
      "cell_type": "code",
      "source": [
        "%%bash\n",
        "ls"
      ],
      "metadata": {
        "id": "yFYEY6Btqf9g"
      },
      "execution_count": null,
      "outputs": []
    },
    {
      "cell_type": "code",
      "execution_count": null,
      "metadata": {
        "id": "onSL19mk1PNA"
      },
      "outputs": [],
      "source": [
        "%%bash\n",
        "tar xzf griffith-data.tar.gz"
      ]
    },
    {
      "cell_type": "code",
      "source": [
        "%%bash\n",
        "ls -lht"
      ],
      "metadata": {
        "id": "-OAEbk3J1c6B"
      },
      "execution_count": null,
      "outputs": []
    },
    {
      "cell_type": "code",
      "execution_count": null,
      "metadata": {
        "id": "VGi8SR1q1sdv"
      },
      "outputs": [],
      "source": [
        "%%bash\n",
        "head samples.tsv"
      ]
    },
    {
      "cell_type": "markdown",
      "metadata": {
        "id": "vgZlH_O57sGh"
      },
      "source": [
        "---\n",
        "\n",
        "## Part 1: Gene Expression Datasets (2 minutes)\n",
        "\n",
        "All data and scripts are now included in the repository! No separate download needed.\n",
        "\n",
        "### Step 1.1: Verify Dataset Contents\n",
        "\n",
        "**🧬 Background: FASTQ Files and RNA-seq Data Format**\n",
        "\n",
        "**What are FASTQ files?**\n",
        "FASTQ files contain the raw sequencing data from RNA-seq experiments. Each sequencing read is represented by 4 lines:\n",
        "1. **Header line**: Starts with `@`, contains read identifier\n",
        "2. **Sequence line**: The actual DNA/RNA sequence (A, T, G, C)\n",
        "3. **Plus line**: Starts with `+`, sometimes repeats the identifier\n",
        "4. **Quality line**: ASCII characters representing base quality scores\n",
        "\n",
        "**Why paired-end sequencing?**\n",
        "Each RNA fragment is sequenced from both ends (R1 and R2), providing:\n",
        "- Better mapping accuracy\n",
        "- Detection of splice junctions\n",
        "- Improved quantification of gene expression\n",
        "\n",
        "**Our dataset:**\n",
        "- **UHR samples**: Mixed cancer cell lines (Universal Human Reference)\n",
        "- **HBR samples**: Normal brain tissue (Human Brain Reference)\n",
        "- **Chr22 subset**: Educational dataset focusing on chromosome 22 genes\n"
      ]
    },
    {
      "cell_type": "code",
      "source": [
        "%%bash\n",
        "ls reads/"
      ],
      "metadata": {
        "id": "uTRiAG-jm1wb"
      },
      "execution_count": null,
      "outputs": []
    },
    {
      "cell_type": "code",
      "execution_count": null,
      "metadata": {
        "id": "DEquWpY63wyE"
      },
      "outputs": [],
      "source": [
        "%%bash\n",
        "# expression data\n",
        "head reads/UHR_1_R1.fq"
      ]
    },
    {
      "cell_type": "code",
      "source": [
        "%%bash\n",
        "wc -l reads/HBR_1_R1.fq"
      ],
      "metadata": {
        "id": "hSC8gJWqy4vS"
      },
      "execution_count": null,
      "outputs": []
    },
    {
      "cell_type": "code",
      "source": [
        "%%bash\n",
        "wc -l reads/UHR_1_R1.fq | awk '{print $1/4}'"
      ],
      "metadata": {
        "id": "rSpyWTP6mwYe"
      },
      "execution_count": null,
      "outputs": []
    },
    {
      "cell_type": "code",
      "execution_count": null,
      "metadata": {
        "id": "l2ikqIKP5Dxd"
      },
      "outputs": [],
      "source": [
        "%%bash\n",
        "# Count reads per sample\n",
        "for sample in UHR_1 UHR_2 UHR_3 HBR_1 HBR_2 HBR_3; do\n",
        "    count=$(wc -l reads/${sample}_R1.fq | awk '{print $1/4}')\n",
        "    echo \"$sample: $count reads\"\n",
        "done"
      ]
    },
    {
      "cell_type": "markdown",
      "metadata": {
        "id": "IBZ34V7R8lBT"
      },
      "source": [
        "### Step 1.2: Examine Input Data Formats\n",
        "\n",
        "**Background: Understanding Bioinformatics File Formats**\n",
        "\n",
        "Let's examine the three fundamental file types used in RNA-seq analysis to understand their structure and biological meaning:\n",
        "\n",
        "#### 1.2.1 FASTQ Format - Raw Sequencing Data\n",
        "\n",
        "- **Line 1** (`@`): Read identifier with sequencing machine info, flow cell coordinates\n",
        "- **Line 2**: DNA sequence (A, T, G, C) - this is the actual RNA converted to DNA\n",
        "- **Line 3** (`+`): Separator (sometimes repeats identifier)\n",
        "- **Line 4**: Quality scores - each character represents confidence in the corresponding base\n",
        "\n",
        "**Quality scores (Phred scores):**\n",
        "- High quality: `I` (Phred 40) = 99.99% accuracy\n",
        "- Medium quality: `B` (Phred 33) = 99.95% accuracy  \n",
        "- Low quality: `#` (Phred 2) = 37% accuracy"
      ]
    },
    {
      "cell_type": "code",
      "source": [
        "%%bash\n",
        "ls -lht"
      ],
      "metadata": {
        "id": "DVxy_N-42IgL"
      },
      "execution_count": null,
      "outputs": []
    },
    {
      "cell_type": "code",
      "execution_count": null,
      "metadata": {
        "id": "iSXkQA0-y_ak"
      },
      "outputs": [],
      "source": [
        "%%bash\n",
        "# expression data\n",
        "head reads/UHR_1_R2.fq"
      ]
    },
    {
      "cell_type": "markdown",
      "metadata": {
        "id": "9a5PSUFb8p1s"
      },
      "source": [
        "#### 1.2.2 GTF Format - Gene Annotations\n",
        "\n",
        "- **Column 1**: Chromosome name (22)\n",
        "- **Column 2**: Annotation source (HAVANA, ENSEMBL)\n",
        "- **Column 3**: Feature type (gene, transcript, exon, CDS)\n",
        "- **Column 4-5**: Start and end coordinates (1-based)\n",
        "- **Column 6**: Score (usually `.` for missing)\n",
        "- **Column 7**: Strand (`+` forward, `-` reverse)\n",
        "- **Column 8**: Frame (for coding sequences)\n",
        "- **Column 9**: Attributes (gene_id, gene_name, transcript_id, etc.)\n",
        "\n",
        "**Medical relevance:**\n",
        "- Tells us where genes are located on the chromosome\n",
        "- Defines exon boundaries (coding regions)\n",
        "- Links gene IDs to human-readable gene names\n",
        "- Essential for quantifying expression accurately\n"
      ]
    },
    {
      "cell_type": "code",
      "source": [
        "%%bash\n",
        "ls refs/"
      ],
      "metadata": {
        "id": "TiWG530fm-Fw"
      },
      "execution_count": null,
      "outputs": []
    },
    {
      "cell_type": "code",
      "execution_count": null,
      "metadata": {
        "id": "ErZ9RUFas9vT"
      },
      "outputs": [],
      "source": [
        "%%bash\n",
        "# transcriptome annotations\n",
        "head refs/22.gtf"
      ]
    },
    {
      "cell_type": "markdown",
      "metadata": {
        "id": "7Jae7bTo8zp3"
      },
      "source": [
        "#### 1.2.3 FASTA Format - Genome Sequence\n",
        "\n",
        "- **Header line** (`>`): Sequence identifier and description\n",
        "- **Sequence lines**: Raw DNA sequence (A, T, G, C, N)\n",
        "  - `A` = Adenine\n",
        "  - `T` = Thymine  \n",
        "  - `G` = Guanine\n",
        "  - `C` = Cytosine\n",
        "  - `N` = Unknown/ambiguous base\n",
        "\n",
        "**Biological context:**\n",
        "- This is the reference genome sequence for chromosome 22\n",
        "- Contains ~51 million base pairs\n",
        "- Includes both coding (genes) and non-coding regions\n",
        "- Used as a template to identify where RNA-seq reads originated\n",
        "\n",
        "**How these files work together:**\n",
        "1. **FASTQ files**: Contain the expression experimental data (what we measured)\n",
        "2. **GTF file**: Tells us where genes are located (the map)\n",
        "3. **FASTA file**: Provides the reference sequence (the genome sequence blueprint)\n",
        "\n",
        "Together, they allow us to determine which genes the RNA-seq reads came from and quantify their expression levels."
      ]
    },
    {
      "cell_type": "code",
      "execution_count": null,
      "metadata": {
        "id": "kT7fUehbHVPF"
      },
      "outputs": [],
      "source": [
        "%%bash\n",
        "# sequence data\n",
        "head refs/22.fa"
      ]
    },
    {
      "cell_type": "markdown",
      "metadata": {
        "id": "w_TPcDZu73zH"
      },
      "source": [
        "## Part 2: Build Transcriptome and Quantify Expression (15 minutes)\n",
        "\n",
        "### Step 2.1: Extract Transcriptome and Build Salmon Index\n",
        "\n",
        "**🧬 Background: Transcriptomes vs Genomes for RNA-seq Analysis**\n",
        "\n",
        "**Why extract a transcriptome?**\n",
        "- **Genome**: Contains all DNA sequences including introns, exons, and regulatory regions\n",
        "- **Transcriptome**: Contains only the mature mRNA sequences (exons spliced together)\n",
        "- **RNA-seq reads**: Come from mature mRNA, so they match transcriptome sequences\n",
        "\n",
        "**What is gffread doing?**\n",
        "The `gffread` tool reads the GTF annotation file to identify exon coordinates, then extracts and splices these exonic sequences from the genome to create a transcriptome FASTA file.\n",
        "\n",
        "**What is a Salmon index?**\n",
        "Salmon uses a sophisticated indexing strategy that creates:\n",
        "- A compressed representation of all transcripts\n",
        "- K-mer (short sequence) lookup tables for fast mapping\n",
        "- This allows ultra-fast quantification without traditional alignment\n",
        "\n",
        "**Clinical relevance:**\n",
        "Accurate quantification is essential for identifying biomarkers and therapeutic targets in cancer research.\n"
      ]
    },
    {
      "cell_type": "code",
      "execution_count": null,
      "metadata": {
        "collapsed": true,
        "id": "NtKaB1hS5MTc"
      },
      "outputs": [],
      "source": [
        "%%bash\n",
        "gffread -w chr22_transcriptome.fa -g refs/22.fa refs/22.gtf"
      ]
    },
    {
      "cell_type": "code",
      "execution_count": null,
      "metadata": {
        "id": "dHveYv-c_xpC"
      },
      "outputs": [],
      "source": [
        "%%bash\n",
        "head chr22_transcriptome.fa"
      ]
    },
    {
      "cell_type": "code",
      "execution_count": null,
      "metadata": {
        "collapsed": true,
        "id": "Vqo2zZVhwj1S"
      },
      "outputs": [],
      "source": [
        "%%bash\n",
        "salmon index -t chr22_transcriptome.fa -i salmon_index -k 31 2>&1"
      ]
    },
    {
      "cell_type": "markdown",
      "metadata": {
        "id": "4cQrm331949L"
      },
      "source": [
        "### Step 2.2: Quantify All Samples\n",
        "\n",
        "**Background: RNA-seq Quantification with Salmon**\n",
        "\n",
        "**What is RNA-seq quantification?**\n",
        "RNA-seq quantification determines how many RNA molecules (gene expression level) were present in each sample for each gene. This process involves:\n",
        "\n",
        "1. **Mapping reads**: Determining which gene/transcript each sequencing read came from\n",
        "2. **Counting**: Tallying how many reads map to each gene\n",
        "3. **Normalization**: Adjusting for sequencing depth and gene length differences\n",
        "\n",
        "**How does Salmon work?**\n",
        "Unlike traditional aligners, Salmon uses:\n",
        "- **Lightweight mapping**: Fast probabilistic assignment of reads to transcripts\n",
        "- **EM algorithm**: Handles reads that map to multiple transcripts\n",
        "- **Bias correction**: Accounts for sequence composition and positional biases\n",
        "\n",
        "**Command parameters explained:**\n",
        "- `-i salmon_index`: Use our pre-built index\n",
        "- `-l A`: Auto-detect library type (paired-end, strand-specific, etc.)\n",
        "- `-1` and `-2`: Forward and reverse read files (paired-end)\n",
        "- `-o`: Output directory for results\n",
        "- `-q`: Quiet mode (less verbose output)\n",
        "\n",
        "**Medical significance:**\n",
        "Gene expression differences between cancer and normal samples reveal:\n",
        "- Oncogenes (overexpressed in cancer)\n",
        "- Tumor suppressors (underexpressed in cancer)\n",
        "- Potential therapeutic targets"
      ]
    },
    {
      "cell_type": "code",
      "execution_count": null,
      "metadata": {
        "collapsed": true,
        "id": "8IzWGmQroNLV"
      },
      "outputs": [],
      "source": [
        "%%bash\n",
        "mkdir -p salmon_quant"
      ]
    },
    {
      "cell_type": "code",
      "source": [
        "%%bash\n",
        "ls -lht"
      ],
      "metadata": {
        "id": "09rs8IIX0Ngg"
      },
      "execution_count": null,
      "outputs": []
    },
    {
      "cell_type": "code",
      "source": [
        "%%bash\n",
        "bash mapping.sh"
      ],
      "metadata": {
        "collapsed": true,
        "id": "Px7OClqk0PiL"
      },
      "execution_count": null,
      "outputs": []
    },
    {
      "cell_type": "code",
      "source": [
        "%%bash\n",
        "cat mapping.sh"
      ],
      "metadata": {
        "id": "QJwGzBes0XpL"
      },
      "execution_count": null,
      "outputs": []
    },
    {
      "cell_type": "markdown",
      "metadata": {
        "id": "C3NCCHAN-XS_"
      },
      "source": [
        "### Step 2.3: Examine Salmon Quantification Results\n",
        "\n",
        "**Background: Understanding Salmon Output Format**\n",
        "\n",
        "**What is in the `quant.sf` file?**\n",
        "Salmon produces a quantification file (quant.sf) for each sample containing the estimated expression levels for all transcripts. This file is the core output that we'll use for downstream differential expression analysis.\n",
        "\n",
        "**Let's examine the quantification results:**"
      ]
    },
    {
      "cell_type": "code",
      "source": [
        "%%bash\n",
        "ls -lht salmon_quant/"
      ],
      "metadata": {
        "id": "mliXLgSdnU8s"
      },
      "execution_count": null,
      "outputs": []
    },
    {
      "cell_type": "code",
      "source": [
        "%%bash\n",
        "ls -lht salmon_quant/HBR_rep1/"
      ],
      "metadata": {
        "id": "taHFhldc2zMx"
      },
      "execution_count": null,
      "outputs": []
    },
    {
      "cell_type": "code",
      "execution_count": null,
      "metadata": {
        "id": "yUQV-kWOo795"
      },
      "outputs": [],
      "source": [
        "%%bash\n",
        "head salmon_quant/HBR_rep1/quant.sf"
      ]
    },
    {
      "cell_type": "code",
      "execution_count": null,
      "metadata": {
        "id": "Q7GRgp3mAHdO"
      },
      "outputs": [],
      "source": [
        "%%bash\n",
        "tail salmon_quant/HBR_rep1/quant.sf"
      ]
    },
    {
      "cell_type": "markdown",
      "metadata": {
        "id": "uf8sqvcx-7Ub"
      },
      "source": [
        "**Understanding the quant.sf format:**\n",
        "\n",
        "**Column explanations:**\n",
        "- **Name**: Transcript identifier (from our GTF annotation file)\n",
        "- **Length**: Effective transcript length in base pairs (accounts for fragment length distribution)\n",
        "- **EffectiveLength**: Length used for TPM calculation (adjusted for sequencing biases)\n",
        "- **TPM**: **Transcripts Per Million** - normalized expression measure\n",
        "- **NumReads**: Estimated number of reads assigned to this transcript (what we'll use for DESeq2)\n",
        "\n",
        "**Why these metrics matter:**\n",
        "\n",
        "**TPM (Transcripts Per Million):**\n",
        "- **Normalized measure**: Accounts for both sequencing depth and transcript length\n",
        "- **Comparable across samples**: Same TPM value means same expression level\n",
        "- **Range**: 0 to very high (no upper limit)\n",
        "- **Interpretation**: TPM of 1 means 1 transcript per million transcripts in the sample\n",
        "\n",
        "**NumReads (Read Counts):**\n",
        "- **Raw abundance**: Actual number of sequencing reads assigned to each transcript\n",
        "- **Statistical analysis**: Used by DESeq2 for differential expression testing\n",
        "- **Integer values**: Whole numbers suitable for count-based statistical models\n",
        "- **Not normalized**: Higher values could mean higher expression OR deeper sequencing\n",
        "\n",
        "**Length vs EffectiveLength:**\n",
        "- **Length**: Actual transcript length from annotation\n",
        "- **EffectiveLength**: Adjusted for experimental biases (GC content, positional bias)\n",
        "- **Importance**: Longer transcripts naturally get more reads, so normalization is crucial\n",
        "\n",
        "**Clinical Relevance:**\n",
        "- **Biomarker discovery**: TPM values help identify consistently expressed genes\n",
        "- **Drug targets**: NumReads provides statistical power for finding significant differences\n",
        "- **Personalized medicine**: Expression levels guide treatment decisions\n",
        "\n",
        "**What to expect:**\n",
        "- **High TPM/NumReads**: Highly expressed genes (often housekeeping genes)\n",
        "- **Zero values**: Genes not expressed in this tissue/condition\n",
        "- **Intermediate values**: Tissue-specific or condition-dependent expression"
      ]
    },
    {
      "cell_type": "markdown",
      "metadata": {
        "id": "FxlIWGyD_P8-"
      },
      "source": [
        "---\n",
        "\n",
        "## Part 3: Differential Expression Analysis (20 minutes)\n",
        "\n",
        "### Step 3.1: Load Libraries and Data\n",
        "\n",
        "**Background: Data Import and Preparation for Statistical Analysis**\n",
        "\n",
        "**What is our R script doing?**\n",
        "The `load_data.R` script performs several critical steps:\n",
        "\n",
        "1. **Data Integration**: Combines salmon results from all 6 samples into a single count matrix\n",
        "2. **Sample Annotation**: Creates metadata linking each sample to its experimental condition\n",
        "3. **Quality Control**: Checks data integrity and reports basic statistics\n",
        "4. **Format Preparation**: Converts data into the format required for DESeq2 analysis\n",
        "\n",
        "**Why use count data?**\n",
        "- **Raw counts**: Represent the actual number of sequencing reads per gene\n",
        "- **Statistical requirements**: Count-based statistical models (like DESeq2) need integer counts\n",
        "- **Comparability**: Counts can be normalized across samples for fair comparison\n",
        "\n",
        "**Medical context:**\n",
        "This step transforms raw sequencing data into a format suitable for identifying genes that are differentially expressed between cancer and normal tissue.\n"
      ]
    },
    {
      "cell_type": "code",
      "source": [
        "%%bash\n",
        "ls -lht"
      ],
      "metadata": {
        "id": "zJ5ZL09s3C32"
      },
      "execution_count": null,
      "outputs": []
    },
    {
      "cell_type": "code",
      "execution_count": null,
      "metadata": {
        "id": "_ps_d8EWyZnt"
      },
      "outputs": [],
      "source": [
        "%%bash\n",
        "cat samples.tsv"
      ]
    },
    {
      "cell_type": "code",
      "execution_count": null,
      "metadata": {
        "collapsed": true,
        "id": "xh5x4P5U_Lqd"
      },
      "outputs": [],
      "source": [
        "%%bash\n",
        "# 2025-07-14\n",
        "Rscript load_data.R --input salmon_quant/ --metadata samples.tsv --output counts.tsv"
      ]
    },
    {
      "cell_type": "markdown",
      "metadata": {
        "id": "vMPUOJt4HHQJ"
      },
      "source": [
        "### Step 3.1.1: Examine the Count Matrix\n",
        "\n",
        "**Background: Understanding the Gene Expression Count Matrix**\n",
        "\n",
        "**What is a count matrix?**\n",
        "The count matrix is the fundamental data structure for RNA-seq analysis. It's a table where:\n",
        "- **Rows**: Represent genes/transcripts\n",
        "- **Columns**: Represent samples (cancer_rep1, cancer_rep2, etc.)\n",
        "- **Values**: Number of sequencing reads assigned to each gene in each sample\n",
        "\n",
        "**Why is this important?**\n",
        "- **Statistical foundation**: All differential expression analysis starts with this matrix\n",
        "- **Data quality**: Allows us to spot potential issues before analysis\n",
        "- **Biological insight**: Shows which genes are highly vs lowly expressed\n",
        "- **Clinical relevance**: Forms the basis for identifying cancer biomarkers\n",
        "\n",
        "**Let's examine our count matrix:**\n"
      ]
    },
    {
      "cell_type": "code",
      "source": [
        "%%bash\n",
        "wc -l counts.tsv"
      ],
      "metadata": {
        "id": "PLOmoffv3O8c"
      },
      "execution_count": null,
      "outputs": []
    },
    {
      "cell_type": "code",
      "execution_count": null,
      "metadata": {
        "id": "L1iSgvmqHRxt"
      },
      "outputs": [],
      "source": [
        "%%bash\n",
        "head counts.tsv"
      ]
    },
    {
      "cell_type": "code",
      "execution_count": null,
      "metadata": {
        "id": "R-c2ej9EAZri"
      },
      "outputs": [],
      "source": [
        "%%bash\n",
        "tail counts.tsv"
      ]
    },
    {
      "cell_type": "markdown",
      "metadata": {
        "id": "MZ--Q8RZHcrk"
      },
      "source": [
        "**Understanding the count matrix structure:**\n",
        "\n",
        "**Gene_ID Column:**\n",
        "- **Transcript identifiers**: From our GTF annotation file\n",
        "- **ENST format**: Ensembl transcript IDs (e.g., ENST00000215832.4)\n",
        "- **Version numbers**: The `.4` indicates annotation version\n",
        "- **Biological meaning**: Each ID represents a specific mRNA transcript\n",
        "\n",
        "**Sample Columns:**\n",
        "- **cancer_rep1, cancer_rep2, cancer_rep3**: Three biological replicates of cancer cell lines\n",
        "- **normal_rep1, normal_rep2, normal_rep3**: Three biological replicates of normal brain tissue\n",
        "- **Replication importance**: Multiple replicates allow statistical testing\n",
        "\n",
        "**Count Values:**\n",
        "- **Integer numbers**: Whole read counts (0, 1, 2, 150, 5000, etc.)\n",
        "- **Dynamic range**: From 0 (not expressed) to tens of thousands (highly expressed)\n",
        "- **Raw counts**: Not yet normalized for library size or gene length\n",
        "\n",
        "**What the numbers tell us:**\n",
        "\n",
        "| Genes | High count values | Medium count values | Low count values | Zero count values |\n",
        "| --- | --- | --- | --- | --- |\n",
        "| Counts range | >1000 | 10-1000 | 0-10 | 0 |\n",
        "| Typical content | <ul><li>Housekeeping genes: Essential cellular functions (ribosomal proteins, metabolism)</li><li>Tissue-specific genes: Genes characteristic of the tissue type</li><li>Abundant transcripts: Genes producing lots of mRNA | <ul><li>Regulated genes: Genes that may change between conditions</li><li>Functional specialization: Genes involved in specific biological processes</li><li>Potential biomarkers: Candidates for differential expression</li></ul> | <ul><li>Lowly expressed genes: Genes with minimal transcription</li><li>Tissue-inappropriate genes: Genes not typically expressed in this tissue</li><li>Technical noise: Some low counts may be background</li></ul> | <ul><li>Not expressed: Gene is turned off in this sample/condition</li><li>Below detection: Expression too low to detect reliably</li><li>Technical artifacts: Missing due to technical limitations</li></ul> |\n",
        "\n",
        "\n",
        "**Clinical and Research Implications:**\n",
        "\n",
        "**Quality indicators:**\n",
        "- **Similar patterns**: Replicates should show similar count patterns\n",
        "- **Dynamic range**: Healthy samples should show diverse expression levels\n",
        "- **Library sizes**: Total counts should be similar across samples\n",
        "\n",
        "**Biological insights:**\n",
        "- **Condition differences**: Cancer vs normal samples may show different patterns\n",
        "- **Gene expression hierarchy**: Most genes lowly expressed, few highly expressed\n",
        "- **Functional categories**: Different gene types have characteristic expression levels\n",
        "\n",
        "This count matrix serves as the foundation for identifying genes that are differentially expressed between cancer and normal tissue, which will guide our search for therapeutic targets."
      ]
    },
    {
      "cell_type": "markdown",
      "metadata": {
        "id": "iCM0rc2U_WtA"
      },
      "source": [
        "### Step 3.2: Run Differential Expression Analysis\n",
        "\n",
        "**Background: Statistical Analysis with DESeq2**\n",
        "\n",
        "**What is differential expression analysis?**\n",
        "Differential expression analysis identifies genes whose expression levels significantly differ between experimental conditions (cancer vs normal). This involves:\n",
        "\n",
        "1. **Normalization**: Adjusting for differences in sequencing depth and composition\n",
        "2. **Variance modeling**: Estimating biological and technical variability\n",
        "3. **Statistical testing**: Using negative binomial models to test for significant differences\n",
        "4. **Multiple testing correction**: Adjusting p-values for testing thousands of genes simultaneously\n",
        "\n",
        "**How does DESeq2 work?**\n",
        "DESeq2 uses sophisticated statistical methods:\n",
        "- **Size factors**: Normalize for sequencing depth differences\n",
        "- **Dispersion estimation**: Model gene-specific variance\n",
        "- **Wald test**: Test for significant expression differences\n",
        "- **Benjamini-Hochberg**: Control false discovery rate\n",
        "\n",
        "**Key outputs:**\n",
        "- **Log2 fold change**: Magnitude of expression difference\n",
        "- **P-value**: Statistical significance of the difference\n",
        "- **Adjusted p-value**: Corrected for multiple testing\n",
        "\n",
        "**Clinical interpretation:**\n",
        "- **Positive fold change**: Higher expression in cancer (potential oncogenes)\n",
        "- **Negative fold change**: Lower expression in cancer (potential tumor suppressors)"
      ]
    },
    {
      "cell_type": "code",
      "execution_count": null,
      "metadata": {
        "collapsed": true,
        "id": "ljiBiyvOsN3x"
      },
      "outputs": [],
      "source": [
        "%%bash\n",
        "# 2025-07-14\n",
        "Rscript run_deseq2.R \\\n",
        "    --metadata samples.tsv \\\n",
        "    --expression counts.tsv \\\n",
        "    --output-degs degs.tsv \\\n",
        "    --output-plots pca_plot.png,heatmap.png,volcano_plot.png \\\n",
        "    --output-image deseq2_results.RData"
      ]
    },
    {
      "cell_type": "code",
      "execution_count": null,
      "metadata": {
        "id": "WzHrRwoYugCx"
      },
      "outputs": [],
      "source": [
        "%%bash\n",
        "head degs.tsv"
      ]
    },
    {
      "cell_type": "code",
      "execution_count": null,
      "metadata": {
        "id": "LGOiK2v_upTs"
      },
      "outputs": [],
      "source": [
        "%%bash\n",
        "grep \"ENST00000328933.9\" refs/22.gtf | cut -f9"
      ]
    },
    {
      "cell_type": "markdown",
      "metadata": {
        "id": "jjeWg47B_8S6"
      },
      "source": [
        "### Step 3.3: Create Visualization Plots\n",
        "\n",
        "**Background: Data Visualization for Biological Interpretation**\n",
        "\n",
        "**Why visualize RNA-seq results?**\n",
        "Visualization helps us understand complex datasets and communicate findings effectively. Our three key plots serve different purposes:\n",
        "\n",
        "**1. PCA Plot (Principal Component Analysis):**\n",
        "- **Purpose**: Shows overall similarity/differences between samples\n",
        "- **What it reveals**: Whether cancer and normal samples cluster separately\n",
        "- **Clinical significance**: Validates that cancer has distinct molecular signatures\n",
        "\n",
        "**2. Volcano Plot:**\n",
        "- **Purpose**: Displays both statistical significance and biological magnitude\n",
        "- **X-axis**: Log2 fold change (magnitude of difference)\n",
        "- **Y-axis**: -log10 p-value (statistical significance)\n",
        "- **Clinical significance**: Identifies the most promising therapeutic targets\n",
        "\n",
        "**3. Heatmap:**\n",
        "- **Purpose**: Shows expression patterns of top differentially expressed genes\n",
        "- **Colors**: Red = high expression, Blue = low expression\n",
        "- **Clinical significance**: Reveals potential biomarkers for cancer diagnosis\n",
        "\n",
        "**Our visualization script:**\n",
        "Uses professional ggplot2 graphics to create publication-quality figures suitable for scientific papers and clinical presentations."
      ]
    },
    {
      "cell_type": "code",
      "execution_count": null,
      "metadata": {
        "collapsed": true,
        "id": "l-daKIxDqUCA"
      },
      "outputs": [],
      "source": [
        "from IPython.display import Image, display\n",
        "import os\n",
        "\n",
        "display(Image('heatmap.png'))"
      ]
    },
    {
      "cell_type": "markdown",
      "source": [
        "Now let's see the annotations of one of these transcripts, e.g. `ENST00000390323.2`:"
      ],
      "metadata": {
        "id": "L2tzrcJC5_-2"
      }
    },
    {
      "cell_type": "code",
      "execution_count": null,
      "metadata": {
        "id": "UZpMrMTLtMlC"
      },
      "outputs": [],
      "source": [
        "%%bash\n",
        "# Annotations from differentially expressed genes\n",
        "grep \"ENST00000390323.2\" refs/22.gtf | cut -f9"
      ]
    },
    {
      "cell_type": "markdown",
      "metadata": {
        "id": "58cpUdi8AFik"
      },
      "source": [
        "---\n",
        "\n",
        "## Part 4: Pathway Analysis (15 minutes)\n",
        "\n",
        "### Step 4.1: Run Pathway Analysis\n",
        "\n",
        "**Background: Understanding Biological Pathways in Cancer**\n",
        "\n",
        "**What is pathway enrichment analysis?**\n",
        "Instead of looking at individual genes, pathway analysis examines groups of genes that work together in biological processes. This helps us understand:\n",
        "\n",
        "**1. Biological mechanisms:** How cancer disrupts normal cellular functions\n",
        "**2. Therapeutic targets:** Which pathways could be targeted with drugs\n",
        "**3. Disease understanding:** The underlying biology of cancer progression\n",
        "\n",
        "**How does pathway enrichment work?**\n",
        "1. **Gene sets**: Pre-defined groups of genes involved in specific biological processes\n",
        "2. **Statistical testing**: Determines if cancer-associated genes are overrepresented in specific pathways\n",
        "3. **Databases used**:\n",
        "   - **GO (Gene Ontology)**: Biological processes, molecular functions\n",
        "   - **KEGG**: Metabolic and signaling pathways\n",
        "   - **Reactome**: Detailed biological reactions\n",
        "\n",
        "**Expected cancer pathways:**\n",
        "- **Upregulated**: Cell cycle, DNA replication, metabolic reprogramming\n",
        "- **Downregulated**: Apoptosis, DNA repair, immune response\n",
        "\n",
        "**Clinical relevance:**\n",
        "Pathway analysis reveals which biological systems are disrupted in cancer, guiding therapeutic strategies and drug development."
      ]
    },
    {
      "cell_type": "code",
      "execution_count": null,
      "metadata": {
        "id": "1kyO0lPupxJ0"
      },
      "outputs": [],
      "source": [
        "%%bash\n",
        "Rscript pathway_analysis.R --input degs.tsv --output pathway_results.tsv"
      ]
    },
    {
      "cell_type": "code",
      "execution_count": null,
      "metadata": {
        "collapsed": true,
        "id": "5gJS4DuyOAna"
      },
      "outputs": [],
      "source": [
        "%%bash\n",
        "head pathway_results.tsv"
      ]
    },
    {
      "cell_type": "markdown",
      "metadata": {
        "id": "iQ4L9QfuAOjE"
      },
      "source": [
        "---\n",
        "\n",
        "## Part 5: Drug Repositioning (10 minutes)\n",
        "\n",
        "### 5.1 Drug Repositioning in Cancer Research\n",
        "\n",
        "**What is drug repositioning?**\n",
        "Drug repositioning (also called drug repurposing) involves finding new therapeutic uses for existing drugs. This approach offers several advantages:\n",
        "\n",
        "1. **Faster development**: 5-10 years vs 15-20 years for new drugs\n",
        "2. **Known safety profiles**: Existing drugs have established safety data\n",
        "3. **Lower costs**: Reduces the risk and expense of drug development\n",
        "4. **Immediate clinical application**: Can be prescribed off-label in some cases\n",
        "\n",
        "**How does computational drug repositioning work?**\n",
        "Our approach uses gene expression signatures:\n",
        "1. **Cancer signature**: Lists of oncogenes (upregulated) and tumor suppressors (downregulated)\n",
        "2. **Drug effects database**: How thousands of drugs affect gene expression\n",
        "3. **Signature matching**: Find drugs that reverse cancer gene expression patterns\n",
        "\n",
        "**Success stories:**\n",
        "- **Metformin**: Diabetes drug → Cancer prevention (200+ clinical trials)\n",
        "- **Aspirin**: Pain relief → Cancer prevention (FDA approved)\n",
        "- **Rapamycin**: Immunosuppressant → Cancer and aging research\n",
        "\n",
        "**Our script preparation:**\n",
        "Converts our DESeq2 results into a format compatible with L1000CDS2, a major drug repositioning database."
      ]
    },
    {
      "cell_type": "markdown",
      "metadata": {
        "id": "6UqDdjzbAVr0"
      },
      "source": [
        "### 5.2 Querying the L1000CDS2 Drug Database\n",
        "\n",
        "**Background: The L1000CDS2 Drug Repositioning Platform**\n",
        "\n",
        "**What is L1000CDS2?**\n",
        "L1000CDS2 (L1000 Characteristic Direction Signature) is a computational tool developed by the Ma'ayan Laboratory that:\n",
        "\n",
        "1. **Database scope**: Contains gene expression signatures for >20,000 drugs tested on human cell lines\n",
        "2. **Signature matching**: Uses mathematical algorithms to find drugs that reverse disease signatures\n",
        "3. **LINCS program**: Part of the NIH Library of Integrated Network-based Cellular Signatures initiative\n",
        "\n",
        "**How does the algorithm work?**\n",
        "1. **Input signature**: Our cancer gene signature (oncogenes + tumor suppressors)\n",
        "2. **Database search**: Compares against drug-induced expression changes\n",
        "3. **Scoring system**: Calculates how well each drug reverses the cancer signature\n",
        "4. **Ranking**: Returns drugs ranked by their potential to counteract cancer\n",
        "\n",
        "**Interpreting the results:**\n",
        "- **Negative scores**: Drugs that reverse cancer signatures (high therapeutic potential)\n",
        "- **Positive scores**: Drugs that mimic cancer signatures (avoid these)\n",
        "- **Score magnitude**: Larger absolute values indicate stronger effects\n",
        "\n",
        "**Clinical validation:**\n",
        "The system has successfully identified:\n",
        "- Known cancer drugs (validates the approach)\n",
        "- Repositioned drugs already in cancer trials\n",
        "- Novel repositioning opportunities for further investigation\n"
      ]
    },
    {
      "cell_type": "code",
      "execution_count": null,
      "metadata": {
        "collapsed": true,
        "id": "h4VYoOu3u_NT"
      },
      "outputs": [],
      "source": [
        "%%bash\n",
        "python drug_repositioning.py --input degs.tsv --output drug_candidates.txt"
      ]
    },
    {
      "cell_type": "code",
      "execution_count": null,
      "metadata": {
        "id": "efW7R2kcPLlH"
      },
      "outputs": [],
      "source": [
        "%%bash\n",
        "cat drug_candidates.txt"
      ]
    },
    {
      "cell_type": "markdown",
      "metadata": {
        "id": "mOY47OK3OZMF"
      },
      "source": [
        "### Step 5.3: Interpret Drug Repositioning Results\n",
        "\n",
        "**💊 Background: Clinical Interpretation of Drug Repositioning Results**\n",
        "\n",
        "**Understanding L1000CDS2 Scores:**\n",
        "\n",
        "The drug repositioning analysis produces a ranked list of compounds based on their ability to reverse cancer gene signatures. Here's how to interpret the results:\n",
        "\n",
        "**🎯 Score Interpretation:**\n",
        "- **Negative scores**: High therapeutic potential (drugs that reverse cancer signatures)\n",
        "- **Positive scores**: Avoid these drugs (they mimic or worsen cancer signatures)\n",
        "- **Score magnitude**: Larger absolute values indicate stronger predicted effects\n",
        "\n",
        "**✅ Validation Categories:**\n",
        "\n",
        "**1️⃣ Known Cancer Drugs (Positive Controls):**\n",
        "- **Examples**: Doxorubicin, Paclitaxel, Cisplatin, Tamoxifen, Imatinib\n",
        "- **Significance**: Validates our computational approach\n",
        "- **Clinical meaning**: Confirms the cancer signature is biologically relevant\n",
        "- **Research value**: Shows the method can identify established cancer therapeutics\n",
        "\n",
        "**2️⃣ Successfully Repositioned Drugs:**\n",
        "- **Metformin**: Originally for diabetes → Now in 200+ cancer clinical trials\n",
        "- **Aspirin**: Originally for pain/inflammation → FDA-approved for cancer prevention\n",
        "- **Clinical success**: These drugs prove repositioning works in practice\n",
        "- **Patient benefit**: Already available for off-label use in some cases\n",
        "\n",
        "**3️⃣ Promising Repositioning Candidates:**\n",
        "- **Statins** (cholesterol drugs): Anti-cancer properties discovered in studies\n",
        "- **Rapamycin** (immunosuppressant): Active cancer and aging research\n",
        "- **Chloroquine** (antimalarial): Being investigated for cancer applications\n",
        "- **Research opportunity**: Novel applications requiring further validation\n",
        "\n",
        "**🚀 Clinical Translation Success Stories:**\n",
        "\n",
        "**📈 Metformin (Diabetes → Cancer Prevention):**\n",
        "- **Original discovery**: Diabetic patients had unexpectedly lower cancer rates\n",
        "- **Mechanism**: Targets cancer cell metabolism through mTOR pathway inhibition\n",
        "- **Current status**: Phase III clinical trials for cancer prevention\n",
        "- **Clinical application**: Already prescribed to diabetic cancer patients\n",
        "- **Evidence**: Some studies show 30% reduction in cancer risk\n",
        "\n",
        "**📈 Aspirin (Pain Relief → Cancer Prevention):**\n",
        "- **Original discovery**: Regular aspirin users had reduced colorectal cancer incidence\n",
        "- **Mechanism**: Inhibits chronic inflammation that promotes cancer development\n",
        "- **Current status**: FDA-approved for cancer prevention in high-risk patients\n",
        "- **Clinical application**: Daily low-dose aspirin protocols established\n",
        "- **Evidence**: Significant reduction in colorectal cancer deaths\n",
        "\n",
        "**🔬 Why Drug Repositioning Works:**\n",
        "\n",
        "**Scientific advantages:**\n",
        "- **Faster development timeline**: 5-10 years vs 15-20 years for new drugs\n",
        "- **Known safety profiles**: Existing drugs have established safety and side effect data\n",
        "- **Lower development costs**: Reduces financial risk for pharmaceutical companies\n",
        "- **Regulatory advantages**: Faster approval process for new indications\n",
        "\n",
        "**Biological rationale:**\n",
        "- **Pathway targeting**: Many diseases share common molecular pathways\n",
        "- **Polypharmacology**: Single drugs often affect multiple biological targets\n",
        "- **Network effects**: Drugs can impact interconnected cellular systems\n",
        "- **Serendipitous discoveries**: Unexpected beneficial effects in different diseases\n",
        "\n",
        "**🏥 Clinical Translation Process:**\n",
        "\n",
        "**Validation pipeline:**\n",
        "1. **In vitro testing**: Test drug effects on cancer cell lines\n",
        "2. **Animal studies**: Validate efficacy and safety in cancer models\n",
        "3. **Phase I trials**: Test safety and dosing in cancer patients\n",
        "4. **Phase II trials**: Evaluate efficacy in specific cancer types\n",
        "5. **Phase III trials**: Compare to standard treatments\n",
        "6. **Clinical implementation**: Integration into treatment guidelines\n",
        "\n",
        "**Patient selection strategies:**\n",
        "- **Biomarker-guided therapy**: Use gene expression to select patients\n",
        "- **Combination approaches**: Pair repositioned drugs with standard treatments\n",
        "- **Risk stratification**: Target high-risk patients for prevention\n",
        "- **Personalized dosing**: Optimize doses based on individual characteristics\n"
      ]
    },
    {
      "cell_type": "markdown",
      "metadata": {
        "id": "5iXwfTEdA6zR"
      },
      "source": [
        "---\n",
        "\n",
        "## Part 6: Summary and Clinical Applications (5 minutes)\n",
        "\n",
        "### What We Accomplished Today\n",
        "\n",
        "**🎉 Complete RNA-seq Analysis Pipeline Accomplished!**\n",
        "\n",
        "**Technical achievements:**\n",
        "- ✅ Downloaded and verified real cancer vs normal tissue data\n",
        "- ✅ Built transcriptome index and quantified gene expression using Salmon\n",
        "- ✅ Identified cancer-associated genes (oncogenes & tumor suppressors) with DESeq2\n",
        "- ✅ Created publication-quality visualizations (PCA, volcano plot, heatmap)\n",
        "- ✅ Performed pathway enrichment analysis to understand biological mechanisms\n",
        "- ✅ Discovered drug repositioning candidates using computational approaches\n",
        "- ✅ Learned professional bioinformatics workflow and command-line tools\n",
        "\n",
        "**From FASTQ files → Therapeutic insights in 90 minutes!**\n",
        "\n",
        "### Clinical Translation and Medical Impact\n",
        "\n",
        "**🏥 How This Analysis Guides Cancer Medicine:**\n",
        "\n",
        "#### **1. Biomarker Discovery**\n",
        "**Diagnostic markers:** Genes consistently different between cancer and normal tissue can serve as diagnostic biomarkers. For example, if certain genes are always overexpressed in cancer samples, they could be used in blood tests or tissue biopsies to detect cancer early.\n",
        "\n",
        "**Prognostic indicators:** Expression patterns that predict patient outcomes help physicians make treatment decisions. Patients with high expression of certain oncogenes might need more aggressive treatment, while those with favorable signatures might do well with less intensive therapy.\n",
        "\n",
        "**Predictive biomarkers:** Signatures that indicate drug response likelihood enable personalized medicine. Before prescribing a targeted therapy, doctors could test whether a patient's tumor has the molecular signature that predicts response to that specific drug.\n",
        "\n",
        "#### **2. Drug Target Identification**\n",
        "**Oncogenes:** Genes overexpressed in cancer represent potential targets for inhibition. For example, kinase inhibitors can block overactive growth signals in cancer cells.\n",
        "\n",
        "**Tumor suppressors:** Pathways that are suppressed in cancer could be restored through therapeutic intervention. For instance, drugs that reactivate p53 tumor suppressor function are being developed.\n",
        "\n",
        "**Metabolic vulnerabilities:** Cancer-specific dependencies can be exploited therapeutically. If cancer cells become dependent on certain metabolic pathways, drugs targeting those pathways could selectively kill cancer cells while sparing normal cells.\n",
        "\n",
        "#### **3. Drug Repositioning Success Stories**\n",
        "\n",
        "**Metformin: Diabetes drug → Cancer prevention**\n",
        "- **Discovery process:** Epidemiological studies noticed that diabetic patients taking metformin had lower cancer rates than expected\n",
        "- **Mechanism understanding:** Research revealed metformin targets cancer cell metabolism through AMPK/mTOR pathway inhibition\n",
        "- **Clinical validation:** Over 200 clinical trials are now testing metformin for cancer prevention and treatment\n",
        "- **Current status:** Some studies show 30% reduction in cancer risk; already prescribed off-label to diabetic cancer patients\n",
        "\n",
        "**Aspirin: Pain relief → Cancer prevention**\n",
        "- **Discovery process:** Large epidemiological studies found that regular aspirin users had significantly reduced colorectal cancer incidence\n",
        "- **Mechanism understanding:** Aspirin reduces chronic inflammation, which is known to promote cancer development\n",
        "- **Clinical validation:** Multiple randomized trials confirmed the protective effect\n",
        "- **Current status:** FDA-approved for cancer prevention in high-risk patients; daily low-dose aspirin protocols established\n",
        "\n",
        "#### **4. Real-World Clinical Applications**\n",
        "\n",
        "**Patient care example:**\n",
        "A 65-year-old patient with high cancer risk could benefit from this analysis workflow:\n",
        "1. **Tumor biopsy** → RNA-seq analysis performed in hospital laboratory\n",
        "2. **Gene signature analysis** → Compare patient's tumor to our normal tissue database\n",
        "3. **Therapeutic target identification** → Identify which oncogenes are overactive\n",
        "4. **Treatment selection** → Choose targeted therapy based on molecular profile\n",
        "5. **Response monitoring** → Follow-up RNA-seq to assess treatment effectiveness\n",
        "\n",
        "**Precision medicine implementation:**\n",
        "- **Tumor boards** use RNA-seq results to make treatment recommendations\n",
        "- **Clinical trials** enroll patients based on molecular signatures\n",
        "- **Therapeutic monitoring** tracks changes in gene expression during treatment\n",
        "- **Resistance prediction** identifies mechanisms before clinical resistance develops\n",
        "\n"
      ]
    },
    {
      "cell_type": "markdown",
      "metadata": {
        "id": "8Ee-nVbhPBJY"
      },
      "source": [
        "---\n",
        "\n",
        "### Professional Bioinformatics Skills Learned\n",
        "\n",
        "**🔧 Technical Skills Acquired:**\n",
        "- **RNA-seq data processing pipeline:** Complete workflow from FASTQ to results\n",
        "- **Differential expression analysis:** Statistical methods for identifying significant changes\n",
        "- **Data visualization:** Creating publication-quality scientific figures\n",
        "- **Pathway enrichment analysis:** Understanding biological mechanisms\n",
        "- **Command-line proficiency:** Professional bioinformatics tool usage\n",
        "- **Quality control:** Assessing data reliability and identifying potential issues\n",
        "\n",
        "**🎯 Professional Skills Developed:**\n",
        "- **Version control understanding:** Using Git repositories for reproducible research\n",
        "- **Workflow management:** Organizing complex multi-step analyses\n",
        "- **Error handling strategies:** Dealing with technical challenges professionally\n",
        "- **Results interpretation:** Connecting statistical results to biological meaning\n",
        "- **Scientific communication:** Presenting findings to clinical audiences\n",
        "\n",
        "**🏥 Medical Applications Mastered:**\n",
        "- **Cancer biomarker identification:** Finding genes useful for diagnosis and prognosis\n",
        "- **Therapeutic target discovery:** Identifying molecular vulnerabilities in cancer\n",
        "- **Drug repositioning strategies:** Finding new uses for existing medications\n",
        "- **Precision medicine approaches:** Tailoring treatment to individual molecular profiles\n",
        "\n",
        "### Key Learning Outcomes\n",
        "\n",
        "**Students now understand:**\n",
        "\n",
        "1. **How cancer differs molecularly from normal tissue:** Cancer involves systematic changes in gene expression that affect multiple cellular pathways, creating vulnerabilities that can be targeted therapeutically.\n",
        "\n",
        "2. **Why RNA-seq is essential for precision medicine:** Gene expression profiling provides the molecular information needed to classify cancers, predict treatment responses, and monitor therapeutic efficacy.\n",
        "\n",
        "3. **How computational biology accelerates drug discovery:** Bioinformatics approaches can identify therapeutic targets and repositioning opportunities much faster than traditional experimental methods.\n",
        "\n",
        "4. **The complete pipeline from sequencing to therapeutics:** Understanding how raw sequencing data becomes actionable clinical information through systematic computational analysis.\n",
        "\n",
        "5. **Professional bioinformatics workflow practices:** Experience with industry-standard tools, reproducible research methods, and systematic approaches to biological data analysis.\n",
        "\n",
        "6. **How to handle technical challenges in research:** Developing problem-solving skills and backup strategies for when analyses don't go as planned.\n",
        "\n",
        "### Next Steps in Cancer Research\n",
        "\n",
        "**🔬 Experimental Validation:**\n",
        "- **Cell line studies:** Test drug predictions in cancer cell cultures\n",
        "- **Animal model validation:** Confirm therapeutic effects in mouse cancer models\n",
        "- **Biomarker validation:** Test identified genes in independent patient cohorts\n",
        "- **Mechanism studies:** Understand how identified drugs affect cancer cells\n",
        "\n",
        "**🏥 Clinical Translation:**\n",
        "- **Clinical trial design:** Develop protocols to test promising drug candidates\n",
        "- **Diagnostic test development:** Create clinical assays for identified biomarkers\n",
        "- **Treatment guideline integration:** Incorporate findings into clinical practice standards\n",
        "- **Regulatory approval:** Navigate FDA processes for new therapeutic indications\n",
        "\n",
        "**📊 Computational Extensions:**\n",
        "- **Full transcriptome analysis:** Analyze complete gene expression profiles, not just chromosome 22\n",
        "- **Multi-cancer studies:** Compare our findings across different cancer types\n",
        "- **Multi-omics integration:** Combine RNA-seq with DNA, protein, and metabolite data\n",
        "- **Machine learning applications:** Use AI approaches for more sophisticated pattern recognition\n",
        "\n",
        "**🌍 Global Health Impact:**\n",
        "- **Accessible diagnostics:** Develop cost-effective tests for resource-limited settings\n",
        "- **Prevention strategies:** Implement repositioned drugs for cancer prevention programs\n",
        "- **Personalized medicine democratization:** Make precision medicine available to more patients\n",
        "- **Training programs:** Educate healthcare workers in genomic medicine approaches\n"
      ]
    },
    {
      "cell_type": "markdown",
      "metadata": {
        "id": "6JO6iPIHAzZ1"
      },
      "source": [
        "---\n",
        "\n",
        "## Assessment Questions for Medical Students\n",
        "\n",
        "### **Clinical Reasoning Questions:**\n",
        "\n",
        "1. **Therapeutic Application:**\n",
        "   - \"Based on our analysis, how would you prioritize the drug repositioning candidates for a cancer patient? Consider efficacy, safety, and current approval status.\"\n",
        "\n",
        "2. **Biomarker Development:**\n",
        "   - \"Which genes from our analysis would make the best diagnostic biomarkers for cancer? What additional validation would be needed?\"\n",
        "\n",
        "3. **Precision Medicine:**\n",
        "   - \"How could this RNA-seq approach be integrated into routine cancer care? What are the practical challenges and benefits?\"\n",
        "\n",
        "### **Data Interpretation:**\n",
        "\n",
        "1. **Results Analysis:**\n",
        "   - \"Why do known cancer drugs (doxorubicin, paclitaxel) appear in our repositioning results? What does this tell us about our computational approach?\"\n",
        "\n",
        "2. **Clinical Translation:**\n",
        "   - \"Metformin shows promise for cancer treatment. Design a clinical trial to test this hypothesis, including patient selection criteria and endpoints.\"\n",
        "\n",
        "### **Professional Skills:**\n",
        "\n",
        "1. **Workflow Management:**\n",
        "   - \"The L1000CDS2 API was unavailable during our analysis. How did we handle this professionally, and why is this important in research?\"\n",
        "\n",
        "2. **Scientific Communication:**\n",
        "   - \"Present our key findings to a hospital tumor board. Focus on actionable insights for patient care.\"\n",
        "\n",
        "---\n",
        "\n",
        "**Congratulations! You've completed a professional-level RNA-seq analysis and learned how computational biology directly contributes to cancer treatment and drug discovery.**\n",
        "\n",
        "*This hands-on experience demonstrates the complete pipeline from raw sequencing data to therapeutic insights, preparing future physicians for the era of genomic medicine and personalized cancer care.*\n",
        "\n",
        "---\n",
        "\n",
        "## Contact\n",
        "\n",
        "Dr. rer. nat. Israel Barrantes <br>\n",
        "Junior Research Group Translational Bioinformatics (head)<br>\n",
        "Institute for Biostatistics and Informatics in Medicine and Ageing Research, Office 3017<br>\n",
        "Rostock University Medical Center<br>\n",
        "Ernst-Heydemann-Str. 8<br>\n",
        "18057 Rostock, Germany<br>\n",
        "\n",
        "Email: israel.barrantes[bei]uni-rostock.de\n",
        "\n",
        "---\n",
        "Last update 2025/10/25\n"
      ]
    }
  ],
  "metadata": {
    "colab": {
      "provenance": []
    },
    "kernelspec": {
      "display_name": "Python 3",
      "name": "python3"
    },
    "language_info": {
      "name": "python"
    }
  },
  "nbformat": 4,
  "nbformat_minor": 0
}