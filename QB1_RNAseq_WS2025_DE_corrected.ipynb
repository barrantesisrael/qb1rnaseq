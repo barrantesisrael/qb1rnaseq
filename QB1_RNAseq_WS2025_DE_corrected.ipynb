{
  "cells": [
    {
      "cell_type": "markdown",
      "metadata": {
        "id": "1yyQjJS95SZQ"
      },
      "source": [
        "# UMR QB1 - Seminar zur Genexpressionsanalyse\n",
        "\n",
        "---\n",
        "\n",
        "## Medizinisches Problem & Forschungsfrage\n",
        "\n",
        "**\"_Was sind die molekularen Unterschiede zwischen Krebszellen und normalem menschlichem Gewebe, und wie können wir diese Unterschiede nutzen, um neue therapeutische Ziele und deren Medikamente für die Krebsbehandlung zu identifizieren?_\"**\n",
        "\n",
        "### **Warum dies für die Medizin wichtig ist:**\n",
        "- **Krebs-Heterogenität:** Verschiedene Krebsarten haben unterschiedliche molekulare Signaturen\n",
        "- **Personalisierte Medizin:** Behandlungen müssen auf spezifische Krebsarten zugeschnitten sein\n",
        "- **Medikamentenresistenz:** Krebszellen entwickeln sich weiter, um der Behandlung zu entgehen\n",
        "- **Therapeutische Ziele:** Neue Medikamente werden dringend für bessere Patientenergebnisse benötigt\n",
        "\n",
        "### **Was wir entdecken werden:**\n",
        "1. **Molekulare Krebs-Signaturen:** Gene, die in Krebs vs. normalem Gewebe konsistent verändert sind\n",
        "2. **Therapeutische Schwachstellen:** Signalwege, die mit Medikamenten gezielt behandelt werden könnten\n",
        "3. **Drug Repurposing-Möglichkeiten:** Bestehende Medikamente, die Krebs behandeln könnten\n",
        "4. **Biomarker-Identifikation:** Gene, die das Therapieansprechen vorhersagen könnten\n",
        "\n",
        "---\n"
      ]
    },
    {
      "cell_type": "markdown",
      "metadata": {
        "id": "6vk_Nn6J5vcP"
      },
      "source": [
        "## Datensatz: Eine echte Krebs vs. Normal Gewebe Studie\n",
        "\n",
        "**Klinischer Kontext:** Universal Human Reference (UHR) vs Human Brain Reference (HBR)  \n",
        "**Medizinische Relevanz:** Krebs-Zelllinien vs. normales menschliches Hirngewebe<br>\n",
        "**Stichprobengröße:** 6 Proben (3 Krebs-Replikate vs. 3 Normal-Hirngewebe-Replikate)  \n",
        "**Datentyp:** Paired-end RNA-Sequenzierung (Chromosom 22 Teilmenge)  \n",
        "**Referenz:** Griffith M, Walker JR, Spies NC, Ainscough BJ, Griffith OL (2015) Informatics for RNA Sequencing: A Web Resource for Analysis on the Cloud. *PLoS Comput Biol* 11(8): e1004393. https://doi.org/10.1371/journal.pcbi.1004393\n",
        "\n",
        "\n",
        "\n",
        "### **Medizinische Proben**\n",
        "\n",
        "#### **UHR (Universal Human Reference) = KREBS-PROBEN**\n",
        "- **Zusammensetzung:** Gesamt-RNA aus 10 verschiedenen menschlichen Krebs-Zelllinien\n",
        "- **Enthaltene Krebsarten:** Brust-, Leber-, Gebärmutterhals-, Hoden-, Hirn-, Hautkrebs plus Immunzellen (T-Zelle, B-Zelle, Makrophage, Histiozyt)\n",
        "- **Warum dies wichtig ist:** Repräsentiert die gemeinsamen molekularen Merkmale verschiedener Krebsarten\n",
        "- **Klinische Relevanz:** Hilft bei der Identifizierung von pan-Krebs therapeutischen Zielen\n",
        "\n",
        "#### **HBR (Human Brain Reference) = NORMALE GEWEBE-KONTROLLEN**\n",
        "- **Zusammensetzung:** Gesamt-RNA aus Gehirnen von 23 gesunden Kaukasiern, meist 60-80 Jahre alt\n",
        "- **Warum Hirngewebe:** Bietet eine normale Gewebe-Baseline zum Vergleich\n",
        "- **Klinische Relevanz:** Zeigt, wie \"gesunde\" Genexpression aussieht\n",
        "\n",
        "### **Die biologische Hypothese:**\n",
        "**Krebszellen werden systematische Veränderungen in der Genexpression im Vergleich zu normalem Gewebe zeigen, die offenbaren:**\n",
        "1. **Onkogene** (krebsfördernde Gene), die überexprimiert sind\n",
        "2. **Tumorsuppressoren** (krebsverhindernde Gene), die unterdrückt sind\n",
        "3. **Stoffwechselwege**, die verändert sind, um Krebswachstum zu unterstützen\n",
        "4. **Medikamenten-Ziele**, die Krebszellen selektiv abtöten könnten\n",
        "\n",
        "---"
      ]
    },
    {
      "cell_type": "markdown",
      "metadata": {
        "id": "1LErHlIH572V"
      },
      "source": [
        "## Lernziele\n",
        "\n",
        "\n",
        "**Technische Fähigkeiten:**\n",
        "1. Durchführung einer differentiellen Expressionsanalyse zur Identifikation von Krebs-Biomarkern\n",
        "2. Durchführung einer Pathway-Anreicherung zum Verständnis der Krebsbiologie\n",
        "3. Anwendung von computationalem Drug Repurposing zur therapeutischen Entdeckung\n",
        "\n",
        "**Medizinisches Verständnis:**\n",
        "1. **Interpretation von Krebs-Gensignaturen** im klinischen Kontext\n",
        "2. **Identifikation potenzieller Biomarker** für Krebsdiagnose/-prognose\n",
        "3. **Verständnis des Drug Repurposing** als Strategie für schnellere therapeutische Entwicklung\n",
        "4. **Verknüpfung computationaler Befunde** mit realen Krebsbehandlungsentscheidungen\n",
        "\n",
        "**Klinische Translation:**\n",
        "1. **Bewertung therapeutischer Ziele**, die durch RNA-Seq identifiziert wurden\n",
        "2. **Beurteilung von Medikamentenkandidaten** für Krebsbehandlungspotenzial\n",
        "3. **Verständnis von Personalisierter Medizin**-Ansätzen in der Krebsversorgung\n",
        "\n",
        "---"
      ]
    },
    {
      "cell_type": "markdown",
      "metadata": {
        "id": "s4LtcS-o6GG2"
      },
      "source": [
        "## Setup und Einführung\n",
        "\n",
        "#### Installation von Conda\n",
        "\n",
        "Nach Ausführung dieser Zelle wird die Laufzeitumgebung automatisch neu gestartet. Warten Sie, bis dieser Vorgang abgeschlossen ist, bevor Sie fortfahren. Ignorieren Sie Fehlermeldungen und Warnungen"
      ]
    },
    {
      "cell_type": "code",
      "execution_count": null,
      "metadata": {
        "id": "pu2Sqm7bAGcw"
      },
      "outputs": [],
      "source": [
        "!pip install -q condacolab\n",
        "import condacolab\n",
        "condacolab.install()"
      ]
    },
    {
      "cell_type": "markdown",
      "metadata": {
        "id": "OkEKf6vF6RRY"
      },
      "source": [
        "#### Überprüfung der Conda-Installation"
      ]
    },
    {
      "cell_type": "code",
      "execution_count": null,
      "metadata": {
        "id": "CGWzfISgdm1-"
      },
      "outputs": [],
      "source": [
        "import condacolab\n",
        "condacolab.check()"
      ]
    },
    {
      "cell_type": "markdown",
      "metadata": {
        "id": "Vn_hUX296ees"
      },
      "source": [
        "#### Installation aller erforderlichen Software und Pakete"
      ]
    },
    {
      "cell_type": "code",
      "execution_count": null,
      "metadata": {
        "collapsed": true,
        "id": "LPhMuJU8gc2T"
      },
      "outputs": [],
      "source": [
        "%%bash\n",
        "conda install -c bioconda -c conda-forge bioconductor-deseq2 r-optparse r-ggplot2 r-gprofiler2 r-dplyr r-tidyr -y -q 2>&1"
      ]
    },
    {
      "cell_type": "markdown",
      "metadata": {
        "id": "lpxI-nR-6n7K"
      },
      "source": [
        "#### Daten- und Skript-Repository\n",
        "\n",
        "- Expressionsdaten: Vorverarbeitete RNA-Seq Datendateien und Count-Matrix\n",
        "- Analyseskripte für jeden Schritt\n",
        "- Referenzgenom-Dateien und Annotationen"
      ]
    },
    {
      "cell_type": "code",
      "execution_count": null,
      "metadata": {
        "id": "Mgpcp6N3N3k2",
        "collapsed": true
      },
      "outputs": [],
      "source": [
        "%%bash\n",
        "git clone https://gitlab.uni-rostock.de/wb283/qb1rnaseq.git"
      ]
    },
    {
      "cell_type": "code",
      "source": [
        "%%bash\n",
        "ls"
      ],
      "metadata": {
        "id": "wbi0mKWoyxO7"
      },
      "execution_count": null,
      "outputs": []
    },
    {
      "cell_type": "code",
      "source": [
        "%%bash\n",
        "ls -lht"
      ],
      "metadata": {
        "id": "CQxj4oMby5O7"
      },
      "execution_count": null,
      "outputs": []
    },
    {
      "cell_type": "code",
      "execution_count": null,
      "metadata": {
        "id": "XS-AKIJWsySV"
      },
      "outputs": [],
      "source": [
        "%%bash\n",
        "ls qb1rnaseq"
      ]
    },
    {
      "cell_type": "markdown",
      "metadata": {
        "id": "GrR-UiSx6xj7"
      },
      "source": [
        "---\n",
        "\n",
        "## 1 Datenexploration\n",
        "\n",
        "### Laden der Genexpressionsdaten\n",
        "\n",
        "Dieser Schritt lädt die vorverarbeiteten RNA-Seq Expressionsdaten und bereitet sie für die statistische Analyse vor.\n",
        "\n",
        "**Was geschieht hier:**\n",
        "- Einlesen der Count-Matrix (Zeilen = Gene, Spalten = Proben)\n",
        "- Laden der Proben-Metadaten (Krebs vs. Normal)\n",
        "- Grundlegende Qualitätskontrollprüfungen\n",
        "- Vorbereitung der Daten für DESeq2-Analyse\n",
        "\n",
        "**Medizinische Bedeutung:**\n",
        "Diese Count-Matrix repräsentiert, wie aktiv jedes Gen in Krebs vs. normalem Gewebe ist. Höhere Werte = höhere Genexpression."
      ]
    },
    {
      "cell_type": "code",
      "execution_count": null,
      "metadata": {
        "id": "DyPT-TpQuZJ2",
        "collapsed": true
      },
      "outputs": [],
      "source": [
        "%%bash\n",
        "cd qb1rnaseq\n",
        "Rscript load_data.R"
      ]
    },
    {
      "cell_type": "markdown",
      "metadata": {
        "id": "q4S1iXhp74F3"
      },
      "source": [
        "---\n",
        "\n",
        "## 2 Differentielle Expressionsanalyse\n",
        "\n",
        "### Differentielle Expressionsanalyse mit DESeq2\n",
        "\n",
        "**Was ist differentielle Expression?**\n",
        "Differentielle Expressionsanalyse identifiziert Gene, die zwischen Krebs und normalem Gewebe unterschiedlich exprimiert sind. Dies offenbart:\n",
        "- **Onkogene**: Gene mit höherer Expression in Krebs (fördern Krebswachstum)\n",
        "- **Tumorsuppressoren**: Gene mit niedrigerer Expression in Krebs (verhindern normalerweise Krebs)\n",
        "\n",
        "**Wie funktioniert DESeq2?**\n",
        "DESeq2 ist eine statistische Methode, die:\n",
        "1. Normalisiert Count-Daten über Proben hinweg\n",
        "2. Modelliert biologische Variabilität zwischen Replikaten\n",
        "3. Testet auf signifikante Expressionsunterschiede\n",
        "4. Korrigiert für multiple Testprobleme\n",
        "\n",
        "**Wichtige Ausgabemetriken:**\n",
        "- **Log2FoldChange**: Wie stark sich die Expression verändert hat (positiv = höher in Krebs)\n",
        "- **Adjusted p-value (padj)**: Statistische Signifikanz (< 0.05 = signifikant)\n",
        "- **Base mean**: Durchschnittliche Expressionsstärke über alle Proben\n",
        "\n",
        "**Medizinische Interpretation:**\n",
        "- Gene mit **hohem positivem log2FC** sind potenzielle Medikamenten-Ziele (zu unterdrücken)\n",
        "- Gene mit **hohem negativem log2FC** sind potenzielle Biomarker für Krebssuppression\n",
        "- **Signifikante Gene** (padj < 0.05) könnten als diagnostische oder prognostische Marker dienen"
      ]
    },
    {
      "cell_type": "code",
      "execution_count": null,
      "metadata": {
        "id": "4VHJixrTuevR",
        "collapsed": true
      },
      "outputs": [],
      "source": [
        "%%bash\n",
        "cd qb1rnaseq\n",
        "Rscript run_deseq2.R"
      ]
    },
    {
      "cell_type": "code",
      "execution_count": null,
      "metadata": {
        "id": "IHLqZS5bPG5C"
      },
      "outputs": [],
      "source": [
        "%%bash\n",
        "cd qb1rnaseq\n",
        "head degs.tsv"
      ]
    },
    {
      "cell_type": "markdown",
      "metadata": {
        "id": "hQJUxuXr8EFY"
      },
      "source": [
        "### Interpretation der DESeq2-Ergebnisse\n",
        "\n",
        "**Verständnis der Ausgabetabelle:**\n",
        "\n",
        "Jede Zeile repräsentiert ein Gen mit den folgenden Spalten:\n",
        "\n",
        "**gene_id**\n",
        "- Eindeutige Kennung für jedes Gen oder Transkript\n",
        "- Format: Ensembl-Transkript-ID (z.B. ENST00000...)\n",
        "\n",
        "**baseMean**\n",
        "- Durchschnittliche normalisierte Count-Anzahl über alle Proben\n",
        "- Höhere Werte = stärkere Gesamt-Genexpression\n",
        "- Wichtig für die Priorisierung biologisch relevanter Gene\n",
        "\n",
        "**log2FoldChange**\n",
        "- Expressionsänderung zwischen Krebs und normalem Gewebe (auf log2-Skala)\n",
        "- **Positive Werte**: Gene höher exprimiert in Krebs (potenzielle Onkogene)\n",
        "- **Negative Werte**: Gene niedriger exprimiert in Krebs (potenzielle Tumorsuppressoren)\n",
        "- **Magnitude**: |log2FC| > 1 bedeutet eine mindestens 2-fache Veränderung\n",
        "\n",
        "**lfcSE (log fold change standard error)**\n",
        "- Unsicherheitsmaß für die log2FoldChange-Schätzung\n",
        "- Kleinere Werte = präzisere Schätzungen\n",
        "\n",
        "**stat**\n",
        "- Wald-Teststatistik (verwendet für die Hypothesentestung)\n",
        "- Größere absolute Werte deuten auf stärkere Evidenz für differentielle Expression hin\n",
        "\n",
        "**pvalue**\n",
        "- Roher p-Wert aus dem statistischen Test\n",
        "- Wahrscheinlichkeit, diesen Effekt zufällig zu beobachten\n",
        "\n",
        "**padj (adjusted p-value)**\n",
        "- P-Wert korrigiert für multiples Testen (Benjamini-Hochberg-Methode)\n",
        "- **< 0.05**: Statistisch signifikante differentielle Expression\n",
        "- **< 0.01**: Hochsignifikante differentielle Expression\n",
        "- Dies ist die wichtigste Metrik für die Identifikation echter Krebs-assoziierter Gene\n",
        "\n",
        "---\n",
        "\n",
        "### Priorisierung von Krebs-assoziierten Genen\n",
        "\n",
        "**Für therapeutische Ziele (Onkogene):**\n",
        "```\n",
        "Suchen nach:\n",
        "- padj < 0.05 (statistisch signifikant)\n",
        "- log2FoldChange > 1 (mindestens 2-fach erhöht in Krebs)\n",
        "- baseMean > 50 (angemessen exprimiert)\n",
        "```\n",
        "\n",
        "**Für Krebs-Biomarker (Tumorsuppressoren):**\n",
        "```\n",
        "Suchen nach:\n",
        "- padj < 0.05 (statistisch signifikant)\n",
        "- log2FoldChange < -1 (mindestens 2-fach verringert in Krebs)\n",
        "- baseMean > 50 (angemessen exprimiert)\n",
        "```\n",
        "\n",
        "**Klinische Bedeutung:**\n",
        "- **Hochregulierte Gene** (positiver log2FC) könnten mit Inhibitor-Medikamenten gezielt behandelt werden\n",
        "- **Herunterregulierte Gene** (negativer log2FC) könnten Wege offenbaren, die wiederhergestellt werden müssen\n",
        "- **Signifikante Gene** sind Kandidaten für diagnostische Tests oder therapeutische Interventionen"
      ]
    },
    {
      "cell_type": "markdown",
      "metadata": {
        "id": "zI2sptCM8LOC"
      },
      "source": [
        "### Visualisierung differentiell exprimierter Gene\n",
        "\n",
        "**Volcano Plot:**\n",
        "Visualisiert sowohl die Größe der Veränderung (log2 fold change) als auch die statistische Signifikanz (p-Wert) für alle Gene gleichzeitig.\n",
        "\n",
        "**Interpretation:**\n",
        "- **X-Achse**: Expressionsveränderung (negativ = herunterreguliert in Krebs, positiv = hochreguliert)\n",
        "- **Y-Achse**: Statistische Signifikanz (-log10 p-Wert; höher = signifikanter)\n",
        "- **Rote Punkte**: Potenzielle Onkogene (hochreguliert in Krebs)\n",
        "- **Blaue Punkte**: Potenzielle Tumorsuppressoren (herunterreguliert in Krebs)\n",
        "- **Graue Punkte**: Nicht signifikante Veränderungen\n",
        "\n",
        "**Klinische Bedeutung:**\n",
        "- Die am weitesten rechts liegenden roten Punkte sind die stärksten Onkogen-Kandidaten\n",
        "- Die am weitesten links liegenden blauen Punkte sind die stärksten Tumorsuppressor-Kandidaten\n",
        "- Höhe auf der Y-Achse bestätigt statistische Robustheit"
      ]
    },
    {
      "cell_type": "code",
      "execution_count": null,
      "metadata": {
        "collapsed": true,
        "id": "9gGOSSPcutAt"
      },
      "outputs": [],
      "source": [
        "%%bash\n",
        "cd qb1rnaseq\n",
        "Rscript create_plots.R"
      ]
    },
    {
      "cell_type": "code",
      "execution_count": null,
      "metadata": {
        "id": "yUqJmUmLO9vZ"
      },
      "outputs": [],
      "source": [
        "from IPython.display import Image, display\n",
        "display(Image('qb1rnaseq/volcano_plot.png'))"
      ]
    },
    {
      "cell_type": "markdown",
      "metadata": {
        "id": "z92BscP28UjX"
      },
      "source": [
        "**PCA Plot (Principal Component Analysis):**\n",
        "Reduziert Tausende von Genmessungen auf zwei Dimensionen und zeigt, wie ähnlich oder unterschiedlich Proben basierend auf ihren gesamten Genexpressionsprofilen sind.\n",
        "\n",
        "**Interpretation:**\n",
        "- **Jeder Punkt** = eine Probe (rot = Krebs, blau = normal)\n",
        "- **Abstand zwischen Punkten** = molekulare Ähnlichkeit\n",
        "- **Klare Trennung** = deutliche molekulare Unterschiede zwischen Krebs und Normal\n",
        "- **PC1 & PC2** = Hauptkomponenten, die die größte Variation erfassen\n",
        "\n",
        "**Klinische Bedeutung:**\n",
        "- Klare Trennung bestätigt robuste Krebs vs. Normal-Unterschiede\n",
        "- Clustering innerhalb von Gruppen zeigt konsistente Replikation\n",
        "- Dies validiert, dass unsere Genexpressionsunterschiede real sind"
      ]
    },
    {
      "cell_type": "code",
      "execution_count": null,
      "metadata": {
        "id": "1ot3nwOGO_Y_"
      },
      "outputs": [],
      "source": [
        "display(Image('qb1rnaseq/pca_plot.png'))"
      ]
    },
    {
      "cell_type": "markdown",
      "metadata": {
        "id": "xdJJ0xk18bMv"
      },
      "source": [
        "**Heatmap (Wärmekarte):**\n",
        "Zeigt Expressionsmuster der 20 signifikantesten Gene über alle Proben hinweg, wobei Farbe die Expressionsstärke repräsentiert.\n",
        "\n",
        "**Interpretation:**\n",
        "- **Zeilen** = Gene (Top 20 signifikanteste)\n",
        "- **Spalten** = Proben (Krebs links, Normal rechts)\n",
        "- **Farbe** = Expressionsstärke (rot = hoch, blau = niedrig)\n",
        "- **Muster** = Konsistente Unterschiede zwischen Krebs und Normal\n",
        "\n",
        "**Klinische Bedeutung:**\n",
        "- Gene mit roter/Krebs- und blau/Normal-Spalten = potenzielle Onkogene\n",
        "- Gene mit blau/Krebs- und roter/Normal-Spalten = potenzielle Tumorsuppressoren\n",
        "- Konsistente Muster über Replikate hinweg bestätigen zuverlässige Biomarker"
      ]
    },
    {
      "cell_type": "code",
      "execution_count": null,
      "metadata": {
        "id": "NYhx-1TXPCxJ"
      },
      "outputs": [],
      "source": [
        "display(Image('qb1rnaseq/heatmap.png'))"
      ]
    },
    {
      "cell_type": "markdown",
      "metadata": {
        "id": "VCnjW4Mf8i9Q"
      },
      "source": [
        "---\n",
        "\n",
        "## 3 Pathway-Analyse\n",
        "\n",
        "### Pathway-Analyse mit g:Profiler\n",
        "\n",
        "**Was ist Pathway-Analyse?**\n",
        "Pathway-Analyse gruppiert differentiell exprimierte Gene in biologische Funktionen, Stoffwechsel- und Signalwege. Statt einzelner Gene untersuchen wir ganze zelluläre Prozesse.\n",
        "\n",
        "**Warum dies wichtig ist:**\n",
        "- Einzelne Gene sind schwer zu interpretieren\n",
        "- Pathway-Veränderungen offenbaren, **wie** Krebs funktioniert\n",
        "- Identifiziert Prozesse, die gezielt mit Medikamenten behandelt werden können\n",
        "- Verbindet molekulare Daten mit bekannter Krebsbiologie\n",
        "\n",
        "**Was g:Profiler macht:**\n",
        "1. Nimmt unsere Liste differentiell exprimierter Gene entgegen\n",
        "2. Testet auf Überrepräsentation in biologischen Datenbanken:\n",
        "   - **GO:BP** (Gene Ontology: Biological Process) - zelluläre Funktionen\n",
        "   - **KEGG** - metabolische und Signalwege\n",
        "   - **REAC** (Reactome) - molekulare Interaktionsnetzwerke\n",
        "3. Gibt angereicherte Pathways mit statistischer Signifikanz zurück\n",
        "\n",
        "**Erwartete Krebs-Pathways:**\n",
        "\n",
        "**Hochreguliert in Krebs (Onkogene):**\n",
        "- Zellzyklus-Progression (unkontrollierte Zellteilung)\n",
        "- DNA-Replikation (schnelle Zellvermehrung)\n",
        "- Metabolische Umprogrammierung (Energieerzeugung für Wachstum)\n",
        "- Angiogenese (Blutgefäßbildung zur Tumorversorgung)\n",
        "\n",
        "**Herunterreguliert in Krebs (Tumorsuppressoren):**\n",
        "- Apoptose (programmierter Zelltod)\n",
        "- DNA-Reparatur (Aufrechterhaltung der genomischen Stabilität)\n",
        "- Zellzyklus-Checkpoints (Stopp geschädigter Zellen)\n",
        "- Immunüberwachung (Erkennung abnormaler Zellen)\n",
        "\n",
        "**Klinische Anwendung:**\n",
        "- Angereicherte Pathways offenbaren **therapeutische Schwachstellen**\n",
        "- Beispiel: Wenn DNA-Reparatur herunterreguliert ist → DNA-schädigende Chemotherapie könnte effektiver sein\n",
        "- Pathway-Wissen leitet die Auswahl von Kombinationstherapien"
      ]
    },
    {
      "cell_type": "code",
      "execution_count": null,
      "metadata": {
        "id": "1kyO0lPupxJ0"
      },
      "outputs": [],
      "source": [
        "%%bash\n",
        "cd qb1rnaseq\n",
        "Rscript pathway_analysis.R --input degs.tsv --output pathway_results.tsv"
      ]
    },
    {
      "cell_type": "code",
      "execution_count": null,
      "metadata": {
        "collapsed": true,
        "id": "5gJS4DuyOAna"
      },
      "outputs": [],
      "source": [
        "%%bash\n",
        "cd qb1rnaseq\n",
        "head pathway_results.tsv"
      ]
    },
    {
      "cell_type": "markdown",
      "metadata": {
        "id": "iQ4L9QfuAOjE"
      },
      "source": [
        "---\n",
        "\n",
        "## 4 Drug Repurposing\n",
        "\n",
        "### Drug Repurposing in der Krebsforschung\n",
        "\n",
        "**Was ist Drug Repurposing?**\n",
        "Drug Repurposing (auch Wirkstoffumnutzung genannt) bedeutet, neue therapeutische Anwendungen für bestehende Medikamente zu finden. Dieser Ansatz bietet mehrere Vorteile:\n",
        "\n",
        "1. **Schnellere Entwicklung**: 5-10 Jahre vs. 15-20 Jahre für neue Medikamente\n",
        "2. **Bekannte Sicherheitsprofile**: Bestehende Medikamente haben etablierte Sicherheitsdaten\n",
        "3. **Niedrigere Kosten**: Reduziert das Risiko und die Kosten der Medikamentenentwicklung\n",
        "4. **Sofortige klinische Anwendung**: Kann in einigen Fällen off-label verschrieben werden\n",
        "\n",
        "**Wie funktioniert computationales Drug Repurposing?**\n",
        "Unser Ansatz verwendet Genexpressions-Signaturen:\n",
        "1. **Krebs-Signatur**: Listen von Onkogenen (hochreguliert) und Tumorsuppressoren (herunterreguliert)\n",
        "2. **Medikamenten-Effekt-Datenbank**: Wie Tausende von Medikamenten die Genexpression beeinflussen\n",
        "3. **Signatur-Matching**: Finde Medikamente, die Krebs-Genexpressionsmuster umkehren\n",
        "\n",
        "**Erfolgsgeschichten:**\n",
        "- **Metformin**: Diabetes-Medikament → Krebsprävention (200+ klinische Studien)\n",
        "- **Aspirin**: Schmerzlinderung → Krebsprävention (FDA-zugelassen)\n",
        "- **Rapamycin**: Immunsuppressivum → Krebs- und Alterungsforschung\n",
        "\n",
        "**Unsere Skript-Vorbereitung:**\n",
        "Konvertiert unsere DESeq2-Ergebnisse in ein Format, das mit L1000CDS2, einer großen Drug Repurposing-Datenbank, kompatibel ist."
      ]
    },
    {
      "cell_type": "markdown",
      "metadata": {
        "id": "6UqDdjzbAVr0"
      },
      "source": [
        "### Abfrage der L1000CDS2-Medikamenten-Datenbank\n",
        "\n",
        "**Was ist L1000CDS2?**\n",
        "L1000CDS2 (L1000 Characteristic Direction Signature) ist ein von dem Ma'ayan-Labor entwickeltes computationales Tool, das:\n",
        "\n",
        "1. **Datenbankumfang**: Enthält Genexpressions-Signaturen für >20.000 Medikamente, die an menschlichen Zelllinien getestet wurden\n",
        "2. **Signatur-Matching**: Verwendet mathematische Algorithmen, um Medikamente zu finden, die Krankheits-Signaturen umkehren\n",
        "3. **LINCS-Programm**: Teil der NIH Library of Integrated Network-based Cellular Signatures Initiative\n",
        "\n",
        "**Wie funktioniert der Algorithmus?**\n",
        "1. **Eingabe-Signatur**: Unsere Krebs-Gen-Signatur (Onkogene + Tumorsuppressoren)\n",
        "2. **Datenbanksuche**: Vergleicht mit medikamenten-induzierten Expressionsveränderungen\n",
        "3. **Bewertungssystem**: Berechnet, wie gut jedes Medikament die Krebs-Signatur umkehrt\n",
        "4. **Ranking**: Gibt Medikamente nach ihrem Potenzial, Krebs entgegenzuwirken, sortiert zurück\n",
        "\n",
        "**Interpretation der Ergebnisse:**\n",
        "- **Negative Scores**: Medikamente, die Krebs-Signaturen umkehren (hohes therapeutisches Potenzial)\n",
        "- **Positive Scores**: Medikamente, die Krebs-Signaturen nachahmen (diese vermeiden)\n",
        "- **Score-Magnitude**: Größere absolute Werte deuten auf stärkere Effekte hin\n",
        "\n",
        "**Klinische Validierung:**\n",
        "Das System hat erfolgreich identifiziert:\n",
        "- Bekannte Krebs-Medikamente (validiert den Ansatz)\n",
        "- Repositionierte Medikamente, die bereits in Krebs-Studien sind\n",
        "- Neue Repurposing-Möglichkeiten für weitere Untersuchungen\n"
      ]
    },
    {
      "cell_type": "code",
      "execution_count": null,
      "metadata": {
        "collapsed": true,
        "id": "h4VYoOu3u_NT"
      },
      "outputs": [],
      "source": [
        "%%bash\n",
        "cd qb1rnaseq\n",
        "python drug_repositioning.py --input degs.tsv --output drug_candidates.txt"
      ]
    },
    {
      "cell_type": "code",
      "execution_count": null,
      "metadata": {
        "id": "efW7R2kcPLlH"
      },
      "outputs": [],
      "source": [
        "%%bash\n",
        "cd qb1rnaseq\n",
        "cat drug_candidates.txt"
      ]
    },
    {
      "cell_type": "markdown",
      "metadata": {
        "id": "mOY47OK3OZMF"
      },
      "source": [
        "### Interpretation der Drug Repurposing-Ergebnisse\n",
        "\n",
        "**Verständnis der L1000CDS2-Scores:**\n",
        "\n",
        "Die Drug Repurposing-Analyse produziert eine geordnete Liste von Verbindungen basierend auf ihrer Fähigkeit, Krebs-Gen-Signaturen umzukehren. So interpretieren Sie die Ergebnisse:\n",
        "\n",
        "**Score-Interpretation:**\n",
        "- **Negative Scores**: Hohes therapeutisches Potenzial (Medikamente, die Krebs-Signaturen umkehren)\n",
        "- **Positive Scores**: Diese Medikamente vermeiden (sie ahmen Krebs-Signaturen nach oder verschlechtern sie)\n",
        "- **Score-Magnitude**: Größere absolute Werte deuten auf stärkere vorhergesagte Effekte hin\n",
        "\n",
        "**Validierungskategorien:**\n",
        "\n",
        "**Bekannte Krebs-Medikamente (Positive Kontrollen):**\n",
        "- **Beispiele**: Doxorubicin, Paclitaxel, Cisplatin, Tamoxifen, Imatinib\n",
        "- **Bedeutung**: Validiert unseren computationalen Ansatz\n",
        "- **Klinische Bedeutung**: Bestätigt, dass die Krebs-Signatur biologisch relevant ist\n",
        "- **Forschungswert**: Zeigt, dass die Methode etablierte Krebs-Therapeutika identifizieren kann\n",
        "\n",
        "**Erfolgreich repositionierte Medikamente:**\n",
        "- **Metformin**: Ursprünglich für Diabetes → Jetzt in 200+ Krebs-Klinischen Studien\n",
        "- **Aspirin**: Ursprünglich für Schmerz/Entzündung → FDA-zugelassen für Krebsprävention\n",
        "- **Klinischer Erfolg**: Diese Medikamente beweisen, dass Repurposing in der Praxis funktioniert\n",
        "- **Patientennutzen**: Bereits für off-label Anwendung in einigen Fällen verfügbar\n",
        "\n",
        "**Vielversprechende Repurposing-Kandidaten:**\n",
        "- **Statine** (Cholesterin-Medikamente): Anti-Krebs-Eigenschaften in Studien entdeckt\n",
        "- **Rapamycin** (Immunsuppressivum): Aktive Krebs- und Alterungsforschung\n",
        "- **Chloroquin** (Antimalariamittel): Wird für Krebs-Anwendungen untersucht\n",
        "- **Forschungsmöglichkeit**: Neue Anwendungen, die weitere Validierung benötigen\n",
        "\n",
        "---\n",
        "\n",
        "### Warum Drug Repurposing funktioniert\n",
        "\n",
        "**Wissenschaftliche Vorteile:**\n",
        "- **Schnellerer Entwicklungszeitplan**: 5-10 Jahre vs. 15-20 Jahre für neue Medikamente\n",
        "- **Bekannte Sicherheitsprofile**: Bestehende Medikamente haben etablierte Sicherheits- und Nebenwirkungsdaten\n",
        "- **Niedrigere Entwicklungskosten**: Reduziert das finanzielle Risiko für pharmazeutische Unternehmen\n",
        "- **Regulatorische Vorteile**: Schnellerer Zulassungsprozess für neue Indikationen\n",
        "\n",
        "**Biologische Begründung:**\n",
        "- **Pathway-Targeting**: Viele Krankheiten teilen gemeinsame molekulare Signalwege\n",
        "- **Polypharmakologie**: Einzelne Medikamente beeinflussen oft mehrere biologische Ziele\n",
        "- **Netzwerk-Effekte**: Medikamente können miteinander verbundene zelluläre Systeme beeinflussen\n",
        "- **Serendipitöse Entdeckungen**: Unerwartete vorteilhafte Effekte bei verschiedenen Krankheiten\n",
        "\n"
      ]
    },
    {
      "cell_type": "markdown",
      "metadata": {
        "id": "6JO6iPIHAzZ1"
      },
      "source": [
        "\n",
        "---\n",
        "\n",
        "## Kontakt\n",
        "\n",
        "Dr. rer. nat. Israel Barrantes<br>\n",
        "Research Group Translational Bioinformatics (head)<br>\n",
        "Institute for Biostatistics and Informatics in Medicine and Ageing Research, Office 3017<br>\n",
        "Rostock University Medical Center<br>\n",
        "Ernst-Heydemann-Str. 8<br>\n",
        "18057 Rostock, Germany<br>\n",
        "\n",
        "Email: israel.barrantes[bei]uni-rostock.de<br>\n",
        "\n",
        "---\n",
        "Update: 29.10.2025\n"
      ]
    }
  ],
  "metadata": {
    "colab": {
      "provenance": []
    },
    "kernelspec": {
      "display_name": "Python 3",
      "name": "python3"
    },
    "language_info": {
      "name": "python"
    }
  },
  "nbformat": 4,
  "nbformat_minor": 0
}