{
  "cells": [
    {
      "cell_type": "markdown",
      "metadata": {
        "id": "9U_7h8Vq5Ckc"
      },
      "source": [
        "# RNA-seq Analysis Practical Protocol: From Cancer Biology to Therapeutic Discovery\n",
        "\n",
        "**Course:** Gene Expression Analysis Practical Seminar  \n",
        "**Duration:** 90 minutes (2 academic hours)  \n",
        "**Target Audience:** Third-year pre-medical students  \n",
        "**Platform:** Google Colab  \n",
        "**Instructor:** Israel Barrantes\n"
      ]
    },
    {
      "cell_type": "markdown",
      "metadata": {
        "id": "1yyQjJS95SZQ"
      },
      "source": [
        "## Medical Problem & Research Question\n",
        "\n",
        "### **Central Clinical Question:**\n",
        "**\"_What are the molecular differences between cancer cells and normal human tissue, and how can we use these differences to identify new therapeutic targets for cancer treatment?_\"**\n",
        "\n",
        "### **Why This Matters for Medicine:**\n",
        "- **Cancer heterogeneity:** Different cancers have distinct molecular signatures\n",
        "- **Precision medicine:** Treatments must be tailored to specific cancer types\n",
        "- **Drug resistance:** Cancer cells evolve to evade treatment\n",
        "- **Therapeutic targets:** New drugs are desperately needed for better patient outcomes\n",
        "\n",
        "### **What We'll Discover:**\n",
        "1. **Molecular cancer signatures:** Genes consistently altered in cancer vs normal tissue\n",
        "2. **Therapeutic vulnerabilities:** Pathways that could be targeted with drugs\n",
        "3. **Drug repositioning opportunities:** Existing drugs that might treat cancer\n",
        "4. **Biomarker identification:** Genes that could predict treatment response\n"
      ]
    },
    {
      "cell_type": "markdown",
      "metadata": {
        "id": "6vk_Nn6J5vcP"
      },
      "source": [
        "## Dataset: A Real Cancer vs Normal Tissue Study\n",
        "\n",
        "**Clinical Context:** Universal Human Reference (UHR) vs Human Brain Reference (HBR)  \n",
        "**Medical Relevance:** **Cancer cell lines vs normal human brain tissue**  \n",
        "**Sample Size:** 6 samples (3 cancer replicates vs 3 normal brain replicates)  \n",
        "**Data Type:** Paired-end RNA-sequencing (chromosome 22 subset)  \n",
        "**Source:** Griffith et al. (2015) \"Informatics for RNA-seq: A web resource for analysis on the cloud\" *PLoS Computational Biology*\n",
        "\n",
        "### **Medical Samples Explained:**\n",
        "\n",
        "#### **UHR (Universal Human Reference) = CANCER SAMPLES**\n",
        "- **Composition:** Total RNA from 10 different human cancer cell lines\n",
        "- **Cancer types included:** Breast, liver, cervix, testis, brain, skin cancers plus immune cells (T cell, B cell, macrophage, histocyte)\n",
        "- **Why this matters:** Represents the common molecular features shared across different cancer types\n",
        "- **Clinical relevance:** Helps identify pan-cancer therapeutic targets\n",
        "\n",
        "#### **HBR (Human Brain Reference) = NORMAL TISSUE CONTROLS**\n",
        "- **Composition:** Total RNA from brains of 23 healthy Caucasians, mostly 60-80 years old\n",
        "- **Why brain tissue:** Provides a normal tissue baseline for comparison\n",
        "- **Clinical relevance:** Shows what \"healthy\" gene expression looks like\n",
        "\n",
        "### **The Biological Hypothesis:**\n",
        "**Cancer cells will show systematic changes in gene expression compared to normal tissue, revealing:**\n",
        "1. **Oncogenes** (cancer-promoting genes) that are overexpressed\n",
        "2. **Tumor suppressors** (cancer-preventing genes) that are silenced\n",
        "3. **Metabolic pathways** altered to support cancer growth\n",
        "4. **Drug targets** that could selectively kill cancer cells\n"
      ]
    },
    {
      "cell_type": "markdown",
      "metadata": {
        "id": "1LErHlIH572V"
      },
      "source": [
        "## Learning Objectives: From Bench to Bedside\n",
        "\n",
        "By the end of this seminar, students will:\n",
        "\n",
        "### **Technical Skills:**\n",
        "1. Perform salmon quantification on real human cancer vs normal data\n",
        "2. Execute differential expression analysis to identify cancer biomarkers\n",
        "3. Run pathway enrichment to understand cancer biology\n",
        "4. Use computational drug repositioning for therapeutic discovery\n",
        "\n",
        "### **Medical Understanding:**\n",
        "1. **Interpret cancer gene signatures** in clinical context\n",
        "2. **Identify potential biomarkers** for cancer diagnosis/prognosis\n",
        "3. **Understand drug repositioning** as a strategy for faster therapeutic development\n",
        "4. **Connect computational findings** to real cancer treatment decisions\n",
        "\n",
        "### **Clinical Translation:**\n",
        "1. **Evaluate therapeutic targets** identified through RNA-seq\n",
        "2. **Assess drug candidates** for cancer treatment potential\n",
        "3. **Understand precision medicine** approaches to cancer care\n"
      ]
    },
    {
      "cell_type": "markdown",
      "metadata": {
        "id": "s4LtcS-o6GG2"
      },
      "source": [
        "## Part 0: Software Installation and Setup (10 minutes)\n",
        "\n",
        "### Step 0.1: Install Conda in Google Colab\n",
        "\n",
        "After running this cell, the runtime will restart automatically. Wait for it to complete, then continue."
      ]
    },
    {
      "cell_type": "code",
      "execution_count": 1,
      "metadata": {
        "colab": {
          "base_uri": "https://localhost:8080/"
        },
        "id": "pu2Sqm7bAGcw",
        "outputId": "d6f42531-9440-4047-aa43-267db4e7507b"
      },
      "outputs": [
        {
          "output_type": "stream",
          "name": "stdout",
          "text": [
            "⏬ Downloading https://github.com/jaimergp/miniforge/releases/download/24.11.2-1_colab/Miniforge3-colab-24.11.2-1_colab-Linux-x86_64.sh...\n",
            "📦 Installing...\n",
            "📌 Adjusting configuration...\n",
            "🩹 Patching environment...\n",
            "⏲ Done in 0:00:13\n",
            "🔁 Restarting kernel...\n"
          ]
        }
      ],
      "source": [
        "!pip install -q condacolab\n",
        "import condacolab\n",
        "condacolab.install()"
      ]
    },
    {
      "cell_type": "markdown",
      "metadata": {
        "id": "OkEKf6vF6RRY"
      },
      "source": [
        "### Step 0.2: Verify Conda installation"
      ]
    },
    {
      "cell_type": "code",
      "execution_count": 1,
      "metadata": {
        "colab": {
          "base_uri": "https://localhost:8080/"
        },
        "id": "CGWzfISgdm1-",
        "outputId": "5180f900-295e-4de5-d2c4-4d46c35c7443"
      },
      "outputs": [
        {
          "output_type": "stream",
          "name": "stdout",
          "text": [
            "✨🍰✨ Everything looks OK!\n"
          ]
        }
      ],
      "source": [
        "import condacolab\n",
        "condacolab.check()"
      ]
    },
    {
      "cell_type": "markdown",
      "metadata": {
        "id": "Vn_hUX296ees"
      },
      "source": [
        "### Step 0.3: Install all required software and packages"
      ]
    },
    {
      "cell_type": "code",
      "execution_count": 2,
      "metadata": {
        "colab": {
          "base_uri": "https://localhost:8080/"
        },
        "collapsed": true,
        "id": "LPhMuJU8gc2T",
        "outputId": "e1be26cd-fd66-4c7a-b81c-f61377831830"
      },
      "outputs": [
        {
          "output_type": "stream",
          "name": "stdout",
          "text": [
            "Channels:\n",
            " - bioconda\n",
            " - conda-forge\n",
            "Platform: linux-64\n",
            "Collecting package metadata (repodata.json): ...working... done\n",
            "Solving environment: ...working... done\n",
            "\n",
            "## Package Plan ##\n",
            "\n",
            "  environment location: /usr/local\n",
            "\n",
            "  added / updated specs:\n",
            "    - bioconductor-deseq2\n",
            "    - gffread\n",
            "    - r-dplyr\n",
            "    - r-ggplot2\n",
            "    - r-gprofiler2\n",
            "    - r-optparse\n",
            "    - r-tidyr\n",
            "    - salmon\n",
            "\n",
            "\n",
            "The following packages will be downloaded:\n",
            "\n",
            "    package                    |            build\n",
            "    ---------------------------|-----------------\n",
            "    _r-mutex-1.0.1             |      anacondar_1           3 KB  conda-forge\n",
            "    argcomplete-3.6.2          |     pyhd8ed1ab_0          41 KB  conda-forge\n",
            "    binutils_impl_linux-64-2.43|       h4bf12b8_2         5.4 MB  conda-forge\n",
            "    bioconductor-biobase-2.66.0|    r44h3df3fcb_0         2.6 MB  bioconda\n",
            "    bioconductor-biocgenerics-0.52.0|    r44hdfd78af_3         678 KB  bioconda\n",
            "    bioconductor-biocparallel-1.40.0|    r44he5774e6_1         1.6 MB  bioconda\n",
            "    bioconductor-data-packages-20250625|       hdfd78af_0         250 KB  bioconda\n",
            "    bioconductor-delayedarray-0.32.0|    r44h3df3fcb_1         2.5 MB  bioconda\n",
            "    bioconductor-deseq2-1.46.0 |    r44he5774e6_1         3.1 MB  bioconda\n",
            "    bioconductor-genomeinfodb-1.42.0|    r44hdfd78af_2         4.2 MB  bioconda\n",
            "    bioconductor-genomeinfodbdata-1.2.13|    r44hdfd78af_0           8 KB  bioconda\n",
            "    bioconductor-genomicranges-1.58.0|    r44h3df3fcb_2         2.4 MB  bioconda\n",
            "    bioconductor-iranges-2.40.0|    r44h3df3fcb_2         2.5 MB  bioconda\n",
            "    bioconductor-matrixgenerics-1.18.0|    r44hdfd78af_0         493 KB  bioconda\n",
            "    bioconductor-s4arrays-1.6.0|    r44h3df3fcb_1         1.0 MB  bioconda\n",
            "    bioconductor-s4vectors-0.44.0|    r44h3df3fcb_2         2.7 MB  bioconda\n",
            "    bioconductor-sparsearray-1.6.0|    r44h3df3fcb_1         1.8 MB  bioconda\n",
            "    bioconductor-summarizedexperiment-1.36.0|    r44hdfd78af_0         1.8 MB  bioconda\n",
            "    bioconductor-ucsc.utils-1.2.0|    r44h9ee0642_1         308 KB  bioconda\n",
            "    bioconductor-xvector-0.46.0|    r44h15a9599_2         726 KB  bioconda\n",
            "    bioconductor-zlibbioc-1.52.0|    r44h3df3fcb_2         249 KB  bioconda\n",
            "    boost-cpp-1.85.0           |       h3c6214e_4          18 KB  conda-forge\n",
            "    bwidget-1.10.1             |       ha770c72_1         127 KB  conda-forge\n",
            "    ca-certificates-2025.7.14  |       hbd8a1cb_0         152 KB  conda-forge\n",
            "    cairo-1.18.4               |       h3394656_0         955 KB  conda-forge\n",
            "    certifi-2025.7.14          |     pyhd8ed1ab_0         156 KB  conda-forge\n",
            "    conda-24.11.3              |  py311h38be061_0         1.1 MB  conda-forge\n",
            "    curl-8.14.1                |       h332b0f4_0         176 KB  conda-forge\n",
            "    font-ttf-dejavu-sans-mono-2.37|       hab24e00_0         388 KB  conda-forge\n",
            "    font-ttf-inconsolata-3.000 |       h77eed37_0          94 KB  conda-forge\n",
            "    font-ttf-source-code-pro-2.038|       h77eed37_0         684 KB  conda-forge\n",
            "    font-ttf-ubuntu-0.83       |       h77eed37_3         1.5 MB  conda-forge\n",
            "    fontconfig-2.15.0          |       h7e30c49_1         259 KB  conda-forge\n",
            "    fonts-conda-ecosystem-1    |                0           4 KB  conda-forge\n",
            "    fonts-conda-forge-1        |                0           4 KB  conda-forge\n",
            "    freetype-2.13.3            |       ha770c72_1         168 KB  conda-forge\n",
            "    fribidi-1.0.10             |       h36c2ea0_0         112 KB  conda-forge\n",
            "    gcc_impl_linux-64-14.2.0   |       hdb7739f_2        70.1 MB  conda-forge\n",
            "    gffread-0.12.7             |       h077b44d_6         132 KB  bioconda\n",
            "    gfortran_impl_linux-64-14.2.0|       h0ee6e4a_2        16.1 MB  conda-forge\n",
            "    graphite2-1.3.14           |       h5888daf_0          96 KB  conda-forge\n",
            "    gsl-2.7                    |       he838d99_0         3.2 MB  conda-forge\n",
            "    gxx_impl_linux-64-14.2.0   |       h2ead766_2        13.9 MB  conda-forge\n",
            "    harfbuzz-11.0.0            |       h76408a6_0         1.6 MB  conda-forge\n",
            "    icu-75.1                   |       he02047a_0        11.6 MB  conda-forge\n",
            "    jq-1.5                     |                0         1.1 MB  bioconda\n",
            "    kernel-headers_linux-64-5.14.0|       he073ed8_2         1.3 MB  conda-forge\n",
            "    lerc-4.0.0                 |       h0aef613_1         258 KB  conda-forge\n",
            "    libblas-3.9.0              |31_h59b9bed_openblas          16 KB  conda-forge\n",
            "    libboost-1.85.0            |       h0ccab89_4         2.7 MB  conda-forge\n",
            "    libboost-devel-1.85.0      |       h00ab1b0_4          40 KB  conda-forge\n",
            "    libboost-headers-1.85.0    |       ha770c72_4        13.3 MB  conda-forge\n",
            "    libcblas-3.9.0             |31_he106b2a_openblas          16 KB  conda-forge\n",
            "    libcurl-8.14.1             |       h332b0f4_0         439 KB  conda-forge\n",
            "    libdeflate-1.22            |       hb9d3cd8_0          71 KB  conda-forge\n",
            "    libfreetype-2.13.3         |       ha770c72_1           8 KB  conda-forge\n",
            "    libfreetype6-2.13.3        |       h48d6fc4_1         371 KB  conda-forge\n",
            "    libgcc-devel_linux-64-14.2.0|     h9c4974d_102         2.6 MB  conda-forge\n",
            "    libgff-2.0.0               |       h077b44d_2         168 KB  bioconda\n",
            "    libgfortran-14.2.0         |       h69a702a_2          52 KB  conda-forge\n",
            "    libgfortran-ng-14.2.0      |       h69a702a_2          53 KB  conda-forge\n",
            "    libgfortran5-14.2.0        |       hf1ad2bd_2         1.4 MB  conda-forge\n",
            "    libglib-2.84.0             |       h2ff4ddf_0         3.8 MB  conda-forge\n",
            "    libhwloc-2.11.2            |default_h3d81e11_1002         2.3 MB  conda-forge\n",
            "    libiconv-1.18              |       h4ce23a2_1         696 KB  conda-forge\n",
            "    libjemalloc-5.3.0          |       h5888daf_1         1.5 MB  conda-forge\n",
            "    libjpeg-turbo-3.1.0        |       hb9d3cd8_0         614 KB  conda-forge\n",
            "    liblapack-3.9.0            |31_h7ac8fdf_openblas          16 KB  conda-forge\n",
            "    liblzma-5.8.1              |       hb9d3cd8_2         110 KB  conda-forge\n",
            "    liblzma-devel-5.8.1        |       hb9d3cd8_2         430 KB  conda-forge\n",
            "    libopenblas-0.3.29         |pthreads_h94d23a6_0         5.6 MB  conda-forge\n",
            "    libpng-1.6.50              |       h943b412_0         282 KB  conda-forge\n",
            "    libsanitizer-14.2.0        |       hed042b8_2         4.3 MB  conda-forge\n",
            "    libstdcxx-devel_linux-64-14.2.0|     h9c4974d_102        12.9 MB  conda-forge\n",
            "    libtiff-4.7.0              |       hc4654cb_2         419 KB  conda-forge\n",
            "    libwebp-base-1.6.0         |       hd42ef1d_0         419 KB  conda-forge\n",
            "    libxcb-1.17.0              |       h8a09558_0         387 KB  conda-forge\n",
            "    libxml2-2.13.8             |       h4bc477f_0         675 KB  conda-forge\n",
            "    make-4.4.1                 |       hb9d3cd8_2         501 KB  conda-forge\n",
            "    openssl-3.5.1              |       h7b32b05_0         3.0 MB  conda-forge\n",
            "    pandoc-3.7.0.2             |       ha770c72_0        20.7 MB  conda-forge\n",
            "    pango-1.56.3               |       h9ac818e_1         442 KB  conda-forge\n",
            "    pcre2-10.44                |       hc749103_2         934 KB  conda-forge\n",
            "    pixman-0.46.2              |       h29eaf8c_0         393 KB  conda-forge\n",
            "    pthread-stubs-0.4          |    hb9d3cd8_1002           8 KB  conda-forge\n",
            "    pyyaml-6.0.2               |  py311h2dc5d0c_2         208 KB  conda-forge\n",
            "    r-abind-1.4_5              | r44hc72bb7e_1006          77 KB  conda-forge\n",
            "    r-askpass-1.2.1            |    r44h2b5f3a1_0          31 KB  conda-forge\n",
            "    r-base-4.4.2               |       hbab086e_1        25.8 MB  conda-forge\n",
            "    r-base64enc-0.1_3          | r44hb1dbf0f_1007          45 KB  conda-forge\n",
            "    r-bh-1.87.0_1              |    r44hc72bb7e_0        11.0 MB  conda-forge\n",
            "    r-bitops-1.0_9             |    r44h2b5f3a1_0          44 KB  conda-forge\n",
            "    r-bslib-0.9.0              |    r44hc72bb7e_0         4.8 MB  conda-forge\n",
            "    r-cachem-1.1.0             |    r44hb1dbf0f_1          75 KB  conda-forge\n",
            "    r-cli-3.6.5                |    r44h93ab643_0         1.3 MB  conda-forge\n",
            "    r-codetools-0.2_20         |    r44hc72bb7e_1         106 KB  conda-forge\n",
            "    r-colorspace-2.1_1         |    r44hdb488b9_0         2.4 MB  conda-forge\n",
            "    r-cpp11-0.5.2              |    r44h785f33e_1         232 KB  conda-forge\n",
            "    r-crayon-1.5.3             |    r44hc72bb7e_1         164 KB  conda-forge\n",
            "    r-crosstalk-1.2.1          |    r44hc72bb7e_1         372 KB  conda-forge\n",
            "    r-curl-6.2.2               |    r44h2700575_0         463 KB  conda-forge\n",
            "    r-data.table-1.17.6        |    r44he23165d_0         2.2 MB  conda-forge\n",
            "    r-digest-0.6.37            |    r44h0d4f4ea_0         212 KB  conda-forge\n",
            "    r-dplyr-1.1.4              |    r44h0d4f4ea_1         1.4 MB  conda-forge\n",
            "    r-ellipsis-0.3.2           |    r44hb1dbf0f_3          42 KB  conda-forge\n",
            "    r-evaluate-1.0.4           |    r44hc72bb7e_0         109 KB  conda-forge\n",
            "    r-fansi-1.0.6              |    r44hb1dbf0f_1         318 KB  conda-forge\n",
            "    r-farver-2.1.2             |    r44ha18555a_1         1.4 MB  conda-forge\n",
            "    r-fastmap-1.2.0            |    r44ha18555a_1          72 KB  conda-forge\n",
            "    r-fontawesome-0.5.3        |    r44hc72bb7e_0         1.3 MB  conda-forge\n",
            "    r-formatr-1.14             |    r44hc72bb7e_2         162 KB  conda-forge\n",
            "    r-fs-1.6.6                 |    r44h93ab643_0         499 KB  conda-forge\n",
            "    r-futile.logger-1.4.3      | r44hc72bb7e_1006         102 KB  conda-forge\n",
            "    r-futile.options-1.0.1     | r44hc72bb7e_1005          28 KB  conda-forge\n",
            "    r-generics-0.1.4           |    r44hc72bb7e_0          88 KB  conda-forge\n",
            "    r-getopt-1.20.4            |    r44ha770c72_1          51 KB  conda-forge\n",
            "    r-ggplot2-3.5.2            |    r44hc72bb7e_0         4.6 MB  conda-forge\n",
            "    r-glue-1.8.0               |    r44h2b5f3a1_0         162 KB  conda-forge\n",
            "    r-gprofiler2-0.2.3         |    r44hc72bb7e_1         1.3 MB  conda-forge\n",
            "    r-gridextra-2.3            | r44hc72bb7e_1006         1.0 MB  conda-forge\n",
            "    r-gtable-0.3.6             |    r44hc72bb7e_0         223 KB  conda-forge\n",
            "    r-hexbin-1.28.5            |    r44hb67ce94_0         1.5 MB  conda-forge\n",
            "    r-highr-0.11               |    r44hc72bb7e_1          55 KB  conda-forge\n",
            "    r-htmltools-0.5.8.1        |    r44ha18555a_1         358 KB  conda-forge\n",
            "    r-htmlwidgets-1.6.4        |    r44h785f33e_3         415 KB  conda-forge\n",
            "    r-httr-1.4.7               |    r44hc72bb7e_1         463 KB  conda-forge\n",
            "    r-isoband-0.2.7            |    r44ha18555a_3         1.6 MB  conda-forge\n",
            "    r-jquerylib-0.1.4          |    r44hc72bb7e_3         300 KB  conda-forge\n",
            "    r-jsonlite-2.0.0           |    r44h2b5f3a1_0         623 KB  conda-forge\n",
            "    r-knitr-1.50               |    r44hc72bb7e_0        1010 KB  conda-forge\n",
            "    r-labeling-0.4.3           |    r44hc72bb7e_1          68 KB  conda-forge\n",
            "    r-lambda.r-1.2.4           |    r44hc72bb7e_4         117 KB  conda-forge\n",
            "    r-later-1.4.2              |    r44h93ab643_0         152 KB  conda-forge\n",
            "    r-lattice-0.22_7           |    r44h2b5f3a1_0         1.3 MB  conda-forge\n",
            "    r-lazyeval-0.2.2           |    r44hb1dbf0f_5         157 KB  conda-forge\n",
            "    r-lifecycle-1.0.4          |    r44hc72bb7e_1         121 KB  conda-forge\n",
            "    r-locfit-1.5_9.12          |    r44h2b5f3a1_0         549 KB  conda-forge\n",
            "    r-magrittr-2.0.3           |    r44hb1dbf0f_3         207 KB  conda-forge\n",
            "    r-mass-7.3_64              |    r44h2b5f3a1_0         1.1 MB  conda-forge\n",
            "    r-matrix-1.7_3             |    r44h2ae2be5_0         4.0 MB  conda-forge\n",
            "    r-matrixstats-1.5.0        |    r44h2b5f3a1_0         462 KB  conda-forge\n",
            "    r-memoise-2.0.1            |    r44hc72bb7e_3          56 KB  conda-forge\n",
            "    r-mgcv-1.9_3               |    r44h2ae2be5_0         3.3 MB  conda-forge\n",
            "    r-mime-0.13                |    r44h2b5f3a1_0          63 KB  conda-forge\n",
            "    r-munsell-0.5.1            |    r44hc72bb7e_1         236 KB  conda-forge\n",
            "    r-nlme-3.1_168             |    r44hb67ce94_0         2.2 MB  conda-forge\n",
            "    r-openssl-2.3.3            |    r44he8289e2_0         674 KB  conda-forge\n",
            "    r-optparse-1.7.5           |    r44hc72bb7e_1          90 KB  conda-forge\n",
            "    r-pillar-1.11.0            |    r44hc72bb7e_0         615 KB  conda-forge\n",
            "    r-pkgconfig-2.0.3          |    r44hc72bb7e_4          26 KB  conda-forge\n",
            "    r-plotly-4.11.0            |    r44hc72bb7e_0         3.3 MB  conda-forge\n",
            "    r-plyr-1.8.9               |    r44ha18555a_1         767 KB  conda-forge\n",
            "    r-promises-1.3.2           |    r44h93ab643_0         1.5 MB  conda-forge\n",
            "    r-purrr-1.1.0              |    r44h54b55ab_0         538 KB  conda-forge\n",
            "    r-r6-2.6.1                 |    r44hc72bb7e_0          92 KB  conda-forge\n",
            "    r-rappdirs-0.3.3           |    r44hb1dbf0f_3          52 KB  conda-forge\n",
            "    r-rcolorbrewer-1.1_3       |    r44h785f33e_3          66 KB  conda-forge\n",
            "    r-rcpp-1.1.0               |    r44h93ab643_0         2.0 MB  conda-forge\n",
            "    r-rcpparmadillo-14.4.2_1   |    r44hc2d650c_0         886 KB  conda-forge\n",
            "    r-rcurl-1.98_1.16          |    r44he8228da_1         812 KB  conda-forge\n",
            "    r-rlang-1.1.6              |    r44h93ab643_0         1.5 MB  conda-forge\n",
            "    r-rmarkdown-2.29           |    r44hc72bb7e_0         2.0 MB  conda-forge\n",
            "    r-sass-0.4.10              |    r44h93ab643_0         2.2 MB  conda-forge\n",
            "    r-scales-1.4.0             |    r44hc72bb7e_0         762 KB  conda-forge\n",
            "    r-snow-0.4_4               |    r44hc72bb7e_3         113 KB  conda-forge\n",
            "    r-stringi-1.8.7            |    r44h3c328a7_0         911 KB  conda-forge\n",
            "    r-stringr-1.5.1            |    r44h785f33e_1         293 KB  conda-forge\n",
            "    r-sys-3.4.3                |    r44h2b5f3a1_0          49 KB  conda-forge\n",
            "    r-tibble-3.3.0             |    r44h2b5f3a1_0         605 KB  conda-forge\n",
            "    r-tidyr-1.3.1              |    r44h0d4f4ea_1         1.1 MB  conda-forge\n",
            "    r-tidyselect-1.2.1         |    r44hc72bb7e_1         214 KB  conda-forge\n",
            "    r-tinytex-0.57             |    r44hc72bb7e_0         150 KB  conda-forge\n",
            "    r-utf8-1.2.6               |    r44h2b5f3a1_0         144 KB  conda-forge\n",
            "    r-vctrs-0.6.5              |    r44h0d4f4ea_1         1.2 MB  conda-forge\n",
            "    r-viridislite-0.4.2        |    r44hc72bb7e_2         1.2 MB  conda-forge\n",
            "    r-withr-3.0.2              |    r44hc72bb7e_0         229 KB  conda-forge\n",
            "    r-xfun-0.52                |    r44h93ab643_0         576 KB  conda-forge\n",
            "    r-yaml-2.3.10              |    r44hdb488b9_0         117 KB  conda-forge\n",
            "    salmon-1.10.3              |       h45fbf2d_5         5.7 MB  bioconda\n",
            "    sed-4.9                    |       h6688a6e_0         224 KB  conda-forge\n",
            "    staden_io_lib-1.15.1       |       hfc9290b_0         717 KB  bioconda\n",
            "    sysroot_linux-64-2.34      |       h087de78_2        38.0 MB  conda-forge\n",
            "    tbb-2022.1.0               |       h4ce085d_0         175 KB  conda-forge\n",
            "    tktable-2.10               |       h8d826fa_7          90 KB  conda-forge\n",
            "    toml-0.10.2                |     pyhd8ed1ab_1          22 KB  conda-forge\n",
            "    tomlkit-0.13.3             |     pyha770c72_0          38 KB  conda-forge\n",
            "    xmltodict-0.14.2           |     pyhd8ed1ab_1          15 KB  conda-forge\n",
            "    xorg-libice-1.1.2          |       hb9d3cd8_0          57 KB  conda-forge\n",
            "    xorg-libsm-1.2.6           |       he73a12e_0          27 KB  conda-forge\n",
            "    xorg-libx11-1.8.12         |       h4f16b4b_0         816 KB  conda-forge\n",
            "    xorg-libxau-1.0.12         |       hb9d3cd8_0          14 KB  conda-forge\n",
            "    xorg-libxdmcp-1.1.5        |       hb9d3cd8_0          19 KB  conda-forge\n",
            "    xorg-libxext-1.3.6         |       hb9d3cd8_0          49 KB  conda-forge\n",
            "    xorg-libxrender-0.9.12     |       hb9d3cd8_0          32 KB  conda-forge\n",
            "    xorg-libxt-1.3.1           |       hb9d3cd8_0         371 KB  conda-forge\n",
            "    xz-5.8.1                   |       hbcc6ac9_2          23 KB  conda-forge\n",
            "    xz-gpl-tools-5.8.1         |       hbcc6ac9_2          33 KB  conda-forge\n",
            "    xz-tools-5.8.1             |       hb9d3cd8_2          94 KB  conda-forge\n",
            "    yaml-0.2.5                 |       h7f98852_2          87 KB  conda-forge\n",
            "    yq-3.4.3                   |     pyhe01879c_2          29 KB  conda-forge\n",
            "    zstandard-0.23.0           |  py311h9ecbd09_2         715 KB  conda-forge\n",
            "    zstd-1.5.7                 |       hb8e6e7a_2         554 KB  conda-forge\n",
            "    ------------------------------------------------------------\n",
            "                                           Total:       396.1 MB\n",
            "\n",
            "The following NEW packages will be INSTALLED:\n",
            "\n",
            "  _r-mutex           conda-forge/noarch::_r-mutex-1.0.1-anacondar_1 \n",
            "  argcomplete        conda-forge/noarch::argcomplete-3.6.2-pyhd8ed1ab_0 \n",
            "  binutils_impl_lin~ conda-forge/linux-64::binutils_impl_linux-64-2.43-h4bf12b8_2 \n",
            "  bioconductor-biob~ bioconda/linux-64::bioconductor-biobase-2.66.0-r44h3df3fcb_0 \n",
            "  bioconductor-bioc~ bioconda/noarch::bioconductor-biocgenerics-0.52.0-r44hdfd78af_3 \n",
            "  bioconductor-bioc~ bioconda/linux-64::bioconductor-biocparallel-1.40.0-r44he5774e6_1 \n",
            "  bioconductor-data~ bioconda/noarch::bioconductor-data-packages-20250625-hdfd78af_0 \n",
            "  bioconductor-dela~ bioconda/linux-64::bioconductor-delayedarray-0.32.0-r44h3df3fcb_1 \n",
            "  bioconductor-dese~ bioconda/linux-64::bioconductor-deseq2-1.46.0-r44he5774e6_1 \n",
            "  bioconductor-geno~ bioconda/noarch::bioconductor-genomeinfodb-1.42.0-r44hdfd78af_2 \n",
            "  bioconductor-geno~ bioconda/noarch::bioconductor-genomeinfodbdata-1.2.13-r44hdfd78af_0 \n",
            "  bioconductor-geno~ bioconda/linux-64::bioconductor-genomicranges-1.58.0-r44h3df3fcb_2 \n",
            "  bioconductor-iran~ bioconda/linux-64::bioconductor-iranges-2.40.0-r44h3df3fcb_2 \n",
            "  bioconductor-matr~ bioconda/noarch::bioconductor-matrixgenerics-1.18.0-r44hdfd78af_0 \n",
            "  bioconductor-s4ar~ bioconda/linux-64::bioconductor-s4arrays-1.6.0-r44h3df3fcb_1 \n",
            "  bioconductor-s4ve~ bioconda/linux-64::bioconductor-s4vectors-0.44.0-r44h3df3fcb_2 \n",
            "  bioconductor-spar~ bioconda/linux-64::bioconductor-sparsearray-1.6.0-r44h3df3fcb_1 \n",
            "  bioconductor-summ~ bioconda/noarch::bioconductor-summarizedexperiment-1.36.0-r44hdfd78af_0 \n",
            "  bioconductor-ucsc~ bioconda/linux-64::bioconductor-ucsc.utils-1.2.0-r44h9ee0642_1 \n",
            "  bioconductor-xvec~ bioconda/linux-64::bioconductor-xvector-0.46.0-r44h15a9599_2 \n",
            "  bioconductor-zlib~ bioconda/linux-64::bioconductor-zlibbioc-1.52.0-r44h3df3fcb_2 \n",
            "  boost-cpp          conda-forge/linux-64::boost-cpp-1.85.0-h3c6214e_4 \n",
            "  bwidget            conda-forge/linux-64::bwidget-1.10.1-ha770c72_1 \n",
            "  cairo              conda-forge/linux-64::cairo-1.18.4-h3394656_0 \n",
            "  curl               conda-forge/linux-64::curl-8.14.1-h332b0f4_0 \n",
            "  font-ttf-dejavu-s~ conda-forge/noarch::font-ttf-dejavu-sans-mono-2.37-hab24e00_0 \n",
            "  font-ttf-inconsol~ conda-forge/noarch::font-ttf-inconsolata-3.000-h77eed37_0 \n",
            "  font-ttf-source-c~ conda-forge/noarch::font-ttf-source-code-pro-2.038-h77eed37_0 \n",
            "  font-ttf-ubuntu    conda-forge/noarch::font-ttf-ubuntu-0.83-h77eed37_3 \n",
            "  fontconfig         conda-forge/linux-64::fontconfig-2.15.0-h7e30c49_1 \n",
            "  fonts-conda-ecosy~ conda-forge/noarch::fonts-conda-ecosystem-1-0 \n",
            "  fonts-conda-forge  conda-forge/noarch::fonts-conda-forge-1-0 \n",
            "  freetype           conda-forge/linux-64::freetype-2.13.3-ha770c72_1 \n",
            "  fribidi            conda-forge/linux-64::fribidi-1.0.10-h36c2ea0_0 \n",
            "  gcc_impl_linux-64  conda-forge/linux-64::gcc_impl_linux-64-14.2.0-hdb7739f_2 \n",
            "  gffread            bioconda/linux-64::gffread-0.12.7-h077b44d_6 \n",
            "  gfortran_impl_lin~ conda-forge/linux-64::gfortran_impl_linux-64-14.2.0-h0ee6e4a_2 \n",
            "  graphite2          conda-forge/linux-64::graphite2-1.3.14-h5888daf_0 \n",
            "  gsl                conda-forge/linux-64::gsl-2.7-he838d99_0 \n",
            "  gxx_impl_linux-64  conda-forge/linux-64::gxx_impl_linux-64-14.2.0-h2ead766_2 \n",
            "  harfbuzz           conda-forge/linux-64::harfbuzz-11.0.0-h76408a6_0 \n",
            "  icu                conda-forge/linux-64::icu-75.1-he02047a_0 \n",
            "  jq                 bioconda/linux-64::jq-1.5-0 \n",
            "  kernel-headers_li~ conda-forge/noarch::kernel-headers_linux-64-5.14.0-he073ed8_2 \n",
            "  lerc               conda-forge/linux-64::lerc-4.0.0-h0aef613_1 \n",
            "  libblas            conda-forge/linux-64::libblas-3.9.0-31_h59b9bed_openblas \n",
            "  libboost           conda-forge/linux-64::libboost-1.85.0-h0ccab89_4 \n",
            "  libboost-devel     conda-forge/linux-64::libboost-devel-1.85.0-h00ab1b0_4 \n",
            "  libboost-headers   conda-forge/linux-64::libboost-headers-1.85.0-ha770c72_4 \n",
            "  libcblas           conda-forge/linux-64::libcblas-3.9.0-31_he106b2a_openblas \n",
            "  libdeflate         conda-forge/linux-64::libdeflate-1.22-hb9d3cd8_0 \n",
            "  libfreetype        conda-forge/linux-64::libfreetype-2.13.3-ha770c72_1 \n",
            "  libfreetype6       conda-forge/linux-64::libfreetype6-2.13.3-h48d6fc4_1 \n",
            "  libgcc-devel_linu~ conda-forge/noarch::libgcc-devel_linux-64-14.2.0-h9c4974d_102 \n",
            "  libgff             bioconda/linux-64::libgff-2.0.0-h077b44d_2 \n",
            "  libgfortran        conda-forge/linux-64::libgfortran-14.2.0-h69a702a_2 \n",
            "  libgfortran-ng     conda-forge/linux-64::libgfortran-ng-14.2.0-h69a702a_2 \n",
            "  libgfortran5       conda-forge/linux-64::libgfortran5-14.2.0-hf1ad2bd_2 \n",
            "  libglib            conda-forge/linux-64::libglib-2.84.0-h2ff4ddf_0 \n",
            "  libhwloc           conda-forge/linux-64::libhwloc-2.11.2-default_h3d81e11_1002 \n",
            "  libjemalloc        conda-forge/linux-64::libjemalloc-5.3.0-h5888daf_1 \n",
            "  libjpeg-turbo      conda-forge/linux-64::libjpeg-turbo-3.1.0-hb9d3cd8_0 \n",
            "  liblapack          conda-forge/linux-64::liblapack-3.9.0-31_h7ac8fdf_openblas \n",
            "  liblzma-devel      conda-forge/linux-64::liblzma-devel-5.8.1-hb9d3cd8_2 \n",
            "  libopenblas        conda-forge/linux-64::libopenblas-0.3.29-pthreads_h94d23a6_0 \n",
            "  libpng             conda-forge/linux-64::libpng-1.6.50-h943b412_0 \n",
            "  libsanitizer       conda-forge/linux-64::libsanitizer-14.2.0-hed042b8_2 \n",
            "  libstdcxx-devel_l~ conda-forge/noarch::libstdcxx-devel_linux-64-14.2.0-h9c4974d_102 \n",
            "  libtiff            conda-forge/linux-64::libtiff-4.7.0-hc4654cb_2 \n",
            "  libwebp-base       conda-forge/linux-64::libwebp-base-1.6.0-hd42ef1d_0 \n",
            "  libxcb             conda-forge/linux-64::libxcb-1.17.0-h8a09558_0 \n",
            "  make               conda-forge/linux-64::make-4.4.1-hb9d3cd8_2 \n",
            "  pandoc             conda-forge/linux-64::pandoc-3.7.0.2-ha770c72_0 \n",
            "  pango              conda-forge/linux-64::pango-1.56.3-h9ac818e_1 \n",
            "  pcre2              conda-forge/linux-64::pcre2-10.44-hc749103_2 \n",
            "  pixman             conda-forge/linux-64::pixman-0.46.2-h29eaf8c_0 \n",
            "  pthread-stubs      conda-forge/linux-64::pthread-stubs-0.4-hb9d3cd8_1002 \n",
            "  pyyaml             conda-forge/linux-64::pyyaml-6.0.2-py311h2dc5d0c_2 \n",
            "  r-abind            conda-forge/noarch::r-abind-1.4_5-r44hc72bb7e_1006 \n",
            "  r-askpass          conda-forge/linux-64::r-askpass-1.2.1-r44h2b5f3a1_0 \n",
            "  r-base             conda-forge/linux-64::r-base-4.4.2-hbab086e_1 \n",
            "  r-base64enc        conda-forge/linux-64::r-base64enc-0.1_3-r44hb1dbf0f_1007 \n",
            "  r-bh               conda-forge/noarch::r-bh-1.87.0_1-r44hc72bb7e_0 \n",
            "  r-bitops           conda-forge/linux-64::r-bitops-1.0_9-r44h2b5f3a1_0 \n",
            "  r-bslib            conda-forge/noarch::r-bslib-0.9.0-r44hc72bb7e_0 \n",
            "  r-cachem           conda-forge/linux-64::r-cachem-1.1.0-r44hb1dbf0f_1 \n",
            "  r-cli              conda-forge/linux-64::r-cli-3.6.5-r44h93ab643_0 \n",
            "  r-codetools        conda-forge/noarch::r-codetools-0.2_20-r44hc72bb7e_1 \n",
            "  r-colorspace       conda-forge/linux-64::r-colorspace-2.1_1-r44hdb488b9_0 \n",
            "  r-cpp11            conda-forge/noarch::r-cpp11-0.5.2-r44h785f33e_1 \n",
            "  r-crayon           conda-forge/noarch::r-crayon-1.5.3-r44hc72bb7e_1 \n",
            "  r-crosstalk        conda-forge/noarch::r-crosstalk-1.2.1-r44hc72bb7e_1 \n",
            "  r-curl             conda-forge/linux-64::r-curl-6.2.2-r44h2700575_0 \n",
            "  r-data.table       conda-forge/linux-64::r-data.table-1.17.6-r44he23165d_0 \n",
            "  r-digest           conda-forge/linux-64::r-digest-0.6.37-r44h0d4f4ea_0 \n",
            "  r-dplyr            conda-forge/linux-64::r-dplyr-1.1.4-r44h0d4f4ea_1 \n",
            "  r-ellipsis         conda-forge/linux-64::r-ellipsis-0.3.2-r44hb1dbf0f_3 \n",
            "  r-evaluate         conda-forge/noarch::r-evaluate-1.0.4-r44hc72bb7e_0 \n",
            "  r-fansi            conda-forge/linux-64::r-fansi-1.0.6-r44hb1dbf0f_1 \n",
            "  r-farver           conda-forge/linux-64::r-farver-2.1.2-r44ha18555a_1 \n",
            "  r-fastmap          conda-forge/linux-64::r-fastmap-1.2.0-r44ha18555a_1 \n",
            "  r-fontawesome      conda-forge/noarch::r-fontawesome-0.5.3-r44hc72bb7e_0 \n",
            "  r-formatr          conda-forge/noarch::r-formatr-1.14-r44hc72bb7e_2 \n",
            "  r-fs               conda-forge/linux-64::r-fs-1.6.6-r44h93ab643_0 \n",
            "  r-futile.logger    conda-forge/noarch::r-futile.logger-1.4.3-r44hc72bb7e_1006 \n",
            "  r-futile.options   conda-forge/noarch::r-futile.options-1.0.1-r44hc72bb7e_1005 \n",
            "  r-generics         conda-forge/noarch::r-generics-0.1.4-r44hc72bb7e_0 \n",
            "  r-getopt           conda-forge/noarch::r-getopt-1.20.4-r44ha770c72_1 \n",
            "  r-ggplot2          conda-forge/noarch::r-ggplot2-3.5.2-r44hc72bb7e_0 \n",
            "  r-glue             conda-forge/linux-64::r-glue-1.8.0-r44h2b5f3a1_0 \n",
            "  r-gprofiler2       conda-forge/noarch::r-gprofiler2-0.2.3-r44hc72bb7e_1 \n",
            "  r-gridextra        conda-forge/noarch::r-gridextra-2.3-r44hc72bb7e_1006 \n",
            "  r-gtable           conda-forge/noarch::r-gtable-0.3.6-r44hc72bb7e_0 \n",
            "  r-hexbin           conda-forge/linux-64::r-hexbin-1.28.5-r44hb67ce94_0 \n",
            "  r-highr            conda-forge/noarch::r-highr-0.11-r44hc72bb7e_1 \n",
            "  r-htmltools        conda-forge/linux-64::r-htmltools-0.5.8.1-r44ha18555a_1 \n",
            "  r-htmlwidgets      conda-forge/noarch::r-htmlwidgets-1.6.4-r44h785f33e_3 \n",
            "  r-httr             conda-forge/noarch::r-httr-1.4.7-r44hc72bb7e_1 \n",
            "  r-isoband          conda-forge/linux-64::r-isoband-0.2.7-r44ha18555a_3 \n",
            "  r-jquerylib        conda-forge/noarch::r-jquerylib-0.1.4-r44hc72bb7e_3 \n",
            "  r-jsonlite         conda-forge/linux-64::r-jsonlite-2.0.0-r44h2b5f3a1_0 \n",
            "  r-knitr            conda-forge/noarch::r-knitr-1.50-r44hc72bb7e_0 \n",
            "  r-labeling         conda-forge/noarch::r-labeling-0.4.3-r44hc72bb7e_1 \n",
            "  r-lambda.r         conda-forge/noarch::r-lambda.r-1.2.4-r44hc72bb7e_4 \n",
            "  r-later            conda-forge/linux-64::r-later-1.4.2-r44h93ab643_0 \n",
            "  r-lattice          conda-forge/linux-64::r-lattice-0.22_7-r44h2b5f3a1_0 \n",
            "  r-lazyeval         conda-forge/linux-64::r-lazyeval-0.2.2-r44hb1dbf0f_5 \n",
            "  r-lifecycle        conda-forge/noarch::r-lifecycle-1.0.4-r44hc72bb7e_1 \n",
            "  r-locfit           conda-forge/linux-64::r-locfit-1.5_9.12-r44h2b5f3a1_0 \n",
            "  r-magrittr         conda-forge/linux-64::r-magrittr-2.0.3-r44hb1dbf0f_3 \n",
            "  r-mass             conda-forge/linux-64::r-mass-7.3_64-r44h2b5f3a1_0 \n",
            "  r-matrix           conda-forge/linux-64::r-matrix-1.7_3-r44h2ae2be5_0 \n",
            "  r-matrixstats      conda-forge/linux-64::r-matrixstats-1.5.0-r44h2b5f3a1_0 \n",
            "  r-memoise          conda-forge/noarch::r-memoise-2.0.1-r44hc72bb7e_3 \n",
            "  r-mgcv             conda-forge/linux-64::r-mgcv-1.9_3-r44h2ae2be5_0 \n",
            "  r-mime             conda-forge/linux-64::r-mime-0.13-r44h2b5f3a1_0 \n",
            "  r-munsell          conda-forge/noarch::r-munsell-0.5.1-r44hc72bb7e_1 \n",
            "  r-nlme             conda-forge/linux-64::r-nlme-3.1_168-r44hb67ce94_0 \n",
            "  r-openssl          conda-forge/linux-64::r-openssl-2.3.3-r44he8289e2_0 \n",
            "  r-optparse         conda-forge/noarch::r-optparse-1.7.5-r44hc72bb7e_1 \n",
            "  r-pillar           conda-forge/noarch::r-pillar-1.11.0-r44hc72bb7e_0 \n",
            "  r-pkgconfig        conda-forge/noarch::r-pkgconfig-2.0.3-r44hc72bb7e_4 \n",
            "  r-plotly           conda-forge/noarch::r-plotly-4.11.0-r44hc72bb7e_0 \n",
            "  r-plyr             conda-forge/linux-64::r-plyr-1.8.9-r44ha18555a_1 \n",
            "  r-promises         conda-forge/linux-64::r-promises-1.3.2-r44h93ab643_0 \n",
            "  r-purrr            conda-forge/linux-64::r-purrr-1.1.0-r44h54b55ab_0 \n",
            "  r-r6               conda-forge/noarch::r-r6-2.6.1-r44hc72bb7e_0 \n",
            "  r-rappdirs         conda-forge/linux-64::r-rappdirs-0.3.3-r44hb1dbf0f_3 \n",
            "  r-rcolorbrewer     conda-forge/noarch::r-rcolorbrewer-1.1_3-r44h785f33e_3 \n",
            "  r-rcpp             conda-forge/linux-64::r-rcpp-1.1.0-r44h93ab643_0 \n",
            "  r-rcpparmadillo    conda-forge/linux-64::r-rcpparmadillo-14.4.2_1-r44hc2d650c_0 \n",
            "  r-rcurl            conda-forge/linux-64::r-rcurl-1.98_1.16-r44he8228da_1 \n",
            "  r-rlang            conda-forge/linux-64::r-rlang-1.1.6-r44h93ab643_0 \n",
            "  r-rmarkdown        conda-forge/noarch::r-rmarkdown-2.29-r44hc72bb7e_0 \n",
            "  r-sass             conda-forge/linux-64::r-sass-0.4.10-r44h93ab643_0 \n",
            "  r-scales           conda-forge/noarch::r-scales-1.4.0-r44hc72bb7e_0 \n",
            "  r-snow             conda-forge/noarch::r-snow-0.4_4-r44hc72bb7e_3 \n",
            "  r-stringi          conda-forge/linux-64::r-stringi-1.8.7-r44h3c328a7_0 \n",
            "  r-stringr          conda-forge/noarch::r-stringr-1.5.1-r44h785f33e_1 \n",
            "  r-sys              conda-forge/linux-64::r-sys-3.4.3-r44h2b5f3a1_0 \n",
            "  r-tibble           conda-forge/linux-64::r-tibble-3.3.0-r44h2b5f3a1_0 \n",
            "  r-tidyr            conda-forge/linux-64::r-tidyr-1.3.1-r44h0d4f4ea_1 \n",
            "  r-tidyselect       conda-forge/noarch::r-tidyselect-1.2.1-r44hc72bb7e_1 \n",
            "  r-tinytex          conda-forge/noarch::r-tinytex-0.57-r44hc72bb7e_0 \n",
            "  r-utf8             conda-forge/linux-64::r-utf8-1.2.6-r44h2b5f3a1_0 \n",
            "  r-vctrs            conda-forge/linux-64::r-vctrs-0.6.5-r44h0d4f4ea_1 \n",
            "  r-viridislite      conda-forge/noarch::r-viridislite-0.4.2-r44hc72bb7e_2 \n",
            "  r-withr            conda-forge/noarch::r-withr-3.0.2-r44hc72bb7e_0 \n",
            "  r-xfun             conda-forge/linux-64::r-xfun-0.52-r44h93ab643_0 \n",
            "  r-yaml             conda-forge/linux-64::r-yaml-2.3.10-r44hdb488b9_0 \n",
            "  salmon             bioconda/linux-64::salmon-1.10.3-h45fbf2d_5 \n",
            "  sed                conda-forge/linux-64::sed-4.9-h6688a6e_0 \n",
            "  staden_io_lib      bioconda/linux-64::staden_io_lib-1.15.1-hfc9290b_0 \n",
            "  sysroot_linux-64   conda-forge/noarch::sysroot_linux-64-2.34-h087de78_2 \n",
            "  tbb                conda-forge/linux-64::tbb-2022.1.0-h4ce085d_0 \n",
            "  tktable            conda-forge/linux-64::tktable-2.10-h8d826fa_7 \n",
            "  toml               conda-forge/noarch::toml-0.10.2-pyhd8ed1ab_1 \n",
            "  tomlkit            conda-forge/noarch::tomlkit-0.13.3-pyha770c72_0 \n",
            "  xmltodict          conda-forge/noarch::xmltodict-0.14.2-pyhd8ed1ab_1 \n",
            "  xorg-libice        conda-forge/linux-64::xorg-libice-1.1.2-hb9d3cd8_0 \n",
            "  xorg-libsm         conda-forge/linux-64::xorg-libsm-1.2.6-he73a12e_0 \n",
            "  xorg-libx11        conda-forge/linux-64::xorg-libx11-1.8.12-h4f16b4b_0 \n",
            "  xorg-libxau        conda-forge/linux-64::xorg-libxau-1.0.12-hb9d3cd8_0 \n",
            "  xorg-libxdmcp      conda-forge/linux-64::xorg-libxdmcp-1.1.5-hb9d3cd8_0 \n",
            "  xorg-libxext       conda-forge/linux-64::xorg-libxext-1.3.6-hb9d3cd8_0 \n",
            "  xorg-libxrender    conda-forge/linux-64::xorg-libxrender-0.9.12-hb9d3cd8_0 \n",
            "  xorg-libxt         conda-forge/linux-64::xorg-libxt-1.3.1-hb9d3cd8_0 \n",
            "  xz                 conda-forge/linux-64::xz-5.8.1-hbcc6ac9_2 \n",
            "  xz-gpl-tools       conda-forge/linux-64::xz-gpl-tools-5.8.1-hbcc6ac9_2 \n",
            "  xz-tools           conda-forge/linux-64::xz-tools-5.8.1-hb9d3cd8_2 \n",
            "  yaml               conda-forge/linux-64::yaml-0.2.5-h7f98852_2 \n",
            "  yq                 conda-forge/noarch::yq-3.4.3-pyhe01879c_2 \n",
            "\n",
            "The following packages will be UPDATED:\n",
            "\n",
            "  ca-certificates    conda-forge/linux-64::ca-certificates~ --> conda-forge/noarch::ca-certificates-2025.7.14-hbd8a1cb_0 \n",
            "  certifi                           2024.12.14-pyhd8ed1ab_0 --> 2025.7.14-pyhd8ed1ab_0 \n",
            "  conda                             24.11.2-py311h38be061_1 --> 24.11.3-py311h38be061_0 \n",
            "  libcurl                                 8.11.1-h332b0f4_0 --> 8.14.1-h332b0f4_0 \n",
            "  libiconv                                  1.17-hd590300_2 --> 1.18-h4ce23a2_1 \n",
            "  liblzma                                  5.6.3-hb9d3cd8_1 --> 5.8.1-hb9d3cd8_2 \n",
            "  libxml2                                 2.13.5-h0d44e9d_1 --> 2.13.8-h4bc477f_0 \n",
            "  openssl                                  3.4.0-h7b32b05_1 --> 3.5.1-h7b32b05_0 \n",
            "  zstandard                          0.23.0-py311hbc35293_1 --> 0.23.0-py311h9ecbd09_2 \n",
            "  zstd                                     1.5.6-ha6fb4c9_0 --> 1.5.7-hb8e6e7a_2 \n",
            "\n",
            "\n",
            "Preparing transaction: ...working... done\n",
            "Verifying transaction: ...working... done\n",
            "Executing transaction: ...working... done\n"
          ]
        }
      ],
      "source": [
        "%%bash\n",
        "conda install -c bioconda -c conda-forge salmon gffread bioconductor-deseq2 r-optparse r-ggplot2 r-gprofiler2 r-dplyr r-tidyr -y -q 2>&1"
      ]
    },
    {
      "cell_type": "markdown",
      "metadata": {
        "id": "lpxI-nR-6n7K"
      },
      "source": [
        "### Step 0.4: Download Data and script repository\n",
        "\n",
        "**Background: Version Control and Reproducible Research**\n",
        "\n",
        "In modern bioinformatics, we use version control systems like Git to manage our analysis scripts and data. This ensures reproducibility and allows collaboration. We're downloading a repository that contains:\n",
        "- Pre-processed RNA-seq data files\n",
        "- Analysis scripts for each step\n",
        "- Reference genome files and annotations"
      ]
    },
    {
      "cell_type": "code",
      "execution_count": 3,
      "metadata": {
        "colab": {
          "base_uri": "https://localhost:8080/"
        },
        "id": "Mgpcp6N3N3k2",
        "outputId": "ec2d629b-4c92-4e97-aa9a-d7798eb37cde",
        "collapsed": true
      },
      "outputs": [
        {
          "output_type": "stream",
          "name": "stderr",
          "text": [
            "Cloning into 'qb1rnaseq'...\n"
          ]
        }
      ],
      "source": [
        "%%bash\n",
        "git clone https://gitlab.uni-rostock.de/wb283/qb1rnaseq.git"
      ]
    },
    {
      "cell_type": "code",
      "source": [
        "%%bash\n",
        "ls"
      ],
      "metadata": {
        "colab": {
          "base_uri": "https://localhost:8080/"
        },
        "outputId": "e682515f-8fe1-40e7-e49d-cac1cec04320",
        "id": "wbi0mKWoyxO7"
      },
      "execution_count": 4,
      "outputs": [
        {
          "output_type": "stream",
          "name": "stdout",
          "text": [
            "condacolab_install.log\n",
            "qb1rnaseq\n",
            "sample_data\n"
          ]
        }
      ]
    },
    {
      "cell_type": "code",
      "source": [
        "%%bash\n",
        "ls -lht"
      ],
      "metadata": {
        "colab": {
          "base_uri": "https://localhost:8080/"
        },
        "id": "Fddvkl-O1O13",
        "outputId": "b9a94afb-5538-441f-ed70-182d9a43e2b1"
      },
      "execution_count": 5,
      "outputs": [
        {
          "output_type": "stream",
          "name": "stdout",
          "text": [
            "total 32K\n",
            "drwxr-xr-x 4 root root 4.0K Jul 18 13:59 qb1rnaseq\n",
            "-rw-r--r-- 1 root root  21K Jul 18 13:56 condacolab_install.log\n",
            "drwxr-xr-x 1 root root 4.0K Jul 16 13:48 sample_data\n"
          ]
        }
      ]
    },
    {
      "cell_type": "code",
      "execution_count": 6,
      "metadata": {
        "id": "SvkkPQhp1K_e"
      },
      "outputs": [],
      "source": [
        "# Change working directory permanently\n",
        "import os\n",
        "os.chdir('qb1rnaseq')"
      ]
    },
    {
      "cell_type": "code",
      "source": [
        "%%bash\n",
        "ls"
      ],
      "metadata": {
        "colab": {
          "base_uri": "https://localhost:8080/"
        },
        "id": "yFYEY6Btqf9g",
        "outputId": "6e7b6929-dc13-4a1c-a56c-ba2a6cf7f230"
      },
      "execution_count": 7,
      "outputs": [
        {
          "output_type": "stream",
          "name": "stdout",
          "text": [
            "drug_repositioning.py\n",
            "griffith-data.tar.gz\n",
            "load_data.R\n",
            "mapping.sh\n",
            "pathway_analysis.R\n",
            "README.md\n",
            "run_deseq2.R\n",
            "samples.tsv\n",
            "V57\n"
          ]
        }
      ]
    },
    {
      "cell_type": "code",
      "execution_count": 8,
      "metadata": {
        "id": "onSL19mk1PNA"
      },
      "outputs": [],
      "source": [
        "%%bash\n",
        "tar xzf griffith-data.tar.gz"
      ]
    },
    {
      "cell_type": "code",
      "source": [
        "%%bash\n",
        "ls -lht"
      ],
      "metadata": {
        "colab": {
          "base_uri": "https://localhost:8080/"
        },
        "id": "-OAEbk3J1c6B",
        "outputId": "d3f360fe-3eaa-43d8-eee8-f828b30fac49"
      },
      "execution_count": 9,
      "outputs": [
        {
          "output_type": "stream",
          "name": "stdout",
          "text": [
            "total 126M\n",
            "drwxr-xr-x 2 root root 4.0K Jul 18 14:00 refs\n",
            "drwxr-xr-x 2 root root 4.0K Jul 18 14:00 reads\n",
            "-rw-r--r-- 1 root root 2.4K Jul 18 13:59 load_data.R\n",
            "-rw-r--r-- 1 root root  385 Jul 18 13:59 mapping.sh\n",
            "-rw-r--r-- 1 root root 4.0K Jul 18 13:59 pathway_analysis.R\n",
            "-rw-r--r-- 1 root root 8.3K Jul 18 13:59 run_deseq2.R\n",
            "-rw-r--r-- 1 root root  426 Jul 18 13:59 samples.tsv\n",
            "-rw-r--r-- 1 root root 126M Jul 18 13:59 griffith-data.tar.gz\n",
            "-rw-r--r-- 1 root root 6.1K Jul 18 13:59 drug_repositioning.py\n",
            "-rw-r--r-- 1 root root 6.0K Jul 18 13:59 README.md\n",
            "drwxr-xr-x 2 root root 4.0K Jul 18 13:59 V57\n"
          ]
        }
      ]
    },
    {
      "cell_type": "code",
      "execution_count": 10,
      "metadata": {
        "colab": {
          "base_uri": "https://localhost:8080/"
        },
        "outputId": "64248caa-1eb8-4cf9-fb3c-5c87a724e450",
        "id": "VGi8SR1q1sdv"
      },
      "outputs": [
        {
          "output_type": "stream",
          "name": "stdout",
          "text": [
            "sample\tcondition\ttissue_type\tclinical_context\n",
            "UHR_rep1\tcancer\tmixed_cancer_cell_lines\tUniversal Human Reference Rep1\n",
            "UHR_rep2\tcancer\tmixed_cancer_cell_lines\tUniversal Human Reference Rep2\n",
            "UHR_rep3\tcancer\tmixed_cancer_cell_lines\tUniversal Human Reference Rep3\n",
            "HBR_rep1\tnormal\tbrain_tissue\tHuman Brain Reference Rep1\n",
            "HBR_rep2\tnormal\tbrain_tissue\tHuman Brain Reference Rep2\n",
            "HBR_rep3\tnormal\tbrain_tissue\tHuman Brain Reference Rep3"
          ]
        }
      ],
      "source": [
        "%%bash\n",
        "head samples.tsv"
      ]
    },
    {
      "cell_type": "markdown",
      "metadata": {
        "id": "vgZlH_O57sGh"
      },
      "source": [
        "---\n",
        "\n",
        "## Part 1: Gene Expression Datasets (2 minutes)\n",
        "\n",
        "All data and scripts are now included in the repository! No separate download needed.\n",
        "\n",
        "### Step 1.1: Verify Dataset Contents\n",
        "\n",
        "**🧬 Background: FASTQ Files and RNA-seq Data Format**\n",
        "\n",
        "**What are FASTQ files?**\n",
        "FASTQ files contain the raw sequencing data from RNA-seq experiments. Each sequencing read is represented by 4 lines:\n",
        "1. **Header line**: Starts with `@`, contains read identifier\n",
        "2. **Sequence line**: The actual DNA/RNA sequence (A, T, G, C)\n",
        "3. **Plus line**: Starts with `+`, sometimes repeats the identifier\n",
        "4. **Quality line**: ASCII characters representing base quality scores\n",
        "\n",
        "**Why paired-end sequencing?**\n",
        "Each RNA fragment is sequenced from both ends (R1 and R2), providing:\n",
        "- Better mapping accuracy\n",
        "- Detection of splice junctions\n",
        "- Improved quantification of gene expression\n",
        "\n",
        "**Our dataset:**\n",
        "- **UHR samples**: Mixed cancer cell lines (Universal Human Reference)\n",
        "- **HBR samples**: Normal brain tissue (Human Brain Reference)\n",
        "- **Chr22 subset**: Educational dataset focusing on chromosome 22 genes\n"
      ]
    },
    {
      "cell_type": "code",
      "source": [
        "%%bash\n",
        "ls reads/"
      ],
      "metadata": {
        "colab": {
          "base_uri": "https://localhost:8080/"
        },
        "id": "uTRiAG-jm1wb",
        "outputId": "0c44a97b-668e-4796-d846-02b842934e89"
      },
      "execution_count": 11,
      "outputs": [
        {
          "output_type": "stream",
          "name": "stdout",
          "text": [
            "HBR_1_R1.fq\n",
            "HBR_1_R2.fq\n",
            "HBR_2_R1.fq\n",
            "HBR_2_R2.fq\n",
            "HBR_3_R1.fq\n",
            "HBR_3_R2.fq\n",
            "UHR_1_R1.fq\n",
            "UHR_1_R2.fq\n",
            "UHR_2_R1.fq\n",
            "UHR_2_R2.fq\n",
            "UHR_3_R1.fq\n",
            "UHR_3_R2.fq\n"
          ]
        }
      ]
    },
    {
      "cell_type": "code",
      "execution_count": 12,
      "metadata": {
        "colab": {
          "base_uri": "https://localhost:8080/"
        },
        "id": "DEquWpY63wyE",
        "outputId": "0a1a8411-462c-49d1-ff8e-2950284516e5"
      },
      "outputs": [
        {
          "output_type": "stream",
          "name": "stdout",
          "text": [
            "@HWI-ST718_146963544:6:1213:8996:10047/1\n",
            "CTTTTTTATTTTTGTCTGACTGGGTTGATTCAAAGGTCTGGTCTTTGAGCTCTTAAATTAGTTCTTCTATTTGGCCTAGTCTGTTGCTAAGGCTGCCAAC\n",
            "+\n",
            "CCCFFFFFHHHHGJHIIJHIHIIIFHIJJJJIJJGIBBFGEGGHIIHGGIJJIIHGGHIIIFGCGHHIIHIHHEEE?DFEFFFEEDCEEDDDDDDDBCDD\n",
            "@HWI-ST718_146963544:5:2303:11793:37095/1\n",
            "ATGAATTATAGGGCTGTATTTTAATTTTGCATTTTAAATTCCTGCAGTTTTCTTCCATCACTTTTCACCATGCATTGTATACTTGGAATTGCTTTTTGTG\n",
            "+\n",
            "@@??BDDFFF<FHEGFFGGIEBGHIIIIIBEHIIGIH<FHEFHHCHABF@DFHGGGII<DHBFGGGGBEGGIBHG@DHGIIIH@DE>CCHF:;>@BC>@@\n",
            "@HWI-ST718_146963544:6:2112:14109:7701/1\n",
            "GCCCTGATGTGATTATTACACATTGCATGCCTGTGTCAAACTATCTCATGTACCCCATAAATATATACACCTACTATGTACTCATAGAAATTAAAAATAA\n"
          ]
        }
      ],
      "source": [
        "%%bash\n",
        "# expression data\n",
        "head reads/UHR_1_R1.fq"
      ]
    },
    {
      "cell_type": "code",
      "source": [
        "%%bash\n",
        "wc -l reads/HBR_1_R1.fq"
      ],
      "metadata": {
        "colab": {
          "base_uri": "https://localhost:8080/"
        },
        "id": "hSC8gJWqy4vS",
        "outputId": "42e90224-cedf-413b-a232-9b91a927a623"
      },
      "execution_count": 13,
      "outputs": [
        {
          "output_type": "stream",
          "name": "stdout",
          "text": [
            "474284 reads/HBR_1_R1.fq\n"
          ]
        }
      ]
    },
    {
      "cell_type": "code",
      "source": [
        "%%bash\n",
        "wc -l reads/UHR_1_R1.fq | awk '{print $1/4}'"
      ],
      "metadata": {
        "colab": {
          "base_uri": "https://localhost:8080/"
        },
        "id": "rSpyWTP6mwYe",
        "outputId": "b076fd21-6715-4419-d97c-72bb7f3d6e4e"
      },
      "execution_count": 14,
      "outputs": [
        {
          "output_type": "stream",
          "name": "stdout",
          "text": [
            "227392\n"
          ]
        }
      ]
    },
    {
      "cell_type": "code",
      "execution_count": 15,
      "metadata": {
        "colab": {
          "base_uri": "https://localhost:8080/"
        },
        "id": "l2ikqIKP5Dxd",
        "outputId": "916ce697-d8d2-41c7-cb0d-da7ad0ea3d43"
      },
      "outputs": [
        {
          "output_type": "stream",
          "name": "stdout",
          "text": [
            "UHR_1: 227392 reads\n",
            "UHR_2: 162373 reads\n",
            "UHR_3: 185442 reads\n",
            "HBR_1: 118571 reads\n",
            "HBR_2: 144826 reads\n",
            "HBR_3: 129786 reads\n"
          ]
        }
      ],
      "source": [
        "%%bash\n",
        "# Count reads per sample\n",
        "for sample in UHR_1 UHR_2 UHR_3 HBR_1 HBR_2 HBR_3; do\n",
        "    count=$(wc -l reads/${sample}_R1.fq | awk '{print $1/4}')\n",
        "    echo \"$sample: $count reads\"\n",
        "done"
      ]
    },
    {
      "cell_type": "markdown",
      "metadata": {
        "id": "IBZ34V7R8lBT"
      },
      "source": [
        "### Step 1.2: Examine Input Data Formats\n",
        "\n",
        "**Background: Understanding Bioinformatics File Formats**\n",
        "\n",
        "Let's examine the three fundamental file types used in RNA-seq analysis to understand their structure and biological meaning:\n",
        "\n",
        "#### 1.2.1 FASTQ Format - Raw Sequencing Data\n",
        "\n",
        "- **Line 1** (`@`): Read identifier with sequencing machine info, flow cell coordinates\n",
        "- **Line 2**: DNA sequence (A, T, G, C) - this is the actual RNA converted to DNA\n",
        "- **Line 3** (`+`): Separator (sometimes repeats identifier)\n",
        "- **Line 4**: Quality scores - each character represents confidence in the corresponding base\n",
        "\n",
        "**Quality scores (Phred scores):**\n",
        "- High quality: `I` (Phred 40) = 99.99% accuracy\n",
        "- Medium quality: `B` (Phred 33) = 99.95% accuracy  \n",
        "- Low quality: `#` (Phred 2) = 37% accuracy"
      ]
    },
    {
      "cell_type": "code",
      "source": [
        "%%bash\n",
        "ls -lht"
      ],
      "metadata": {
        "colab": {
          "base_uri": "https://localhost:8080/"
        },
        "id": "DVxy_N-42IgL",
        "outputId": "c37a6ba4-f960-4f94-af0a-b3680706c52e"
      },
      "execution_count": 18,
      "outputs": [
        {
          "output_type": "stream",
          "name": "stdout",
          "text": [
            "total 126M\n",
            "drwxr-xr-x 2 root root 4.0K Jul 18 14:00 refs\n",
            "drwxr-xr-x 2 root root 4.0K Jul 18 14:00 reads\n",
            "-rw-r--r-- 1 root root 2.4K Jul 18 13:59 load_data.R\n",
            "-rw-r--r-- 1 root root  385 Jul 18 13:59 mapping.sh\n",
            "-rw-r--r-- 1 root root 4.0K Jul 18 13:59 pathway_analysis.R\n",
            "-rw-r--r-- 1 root root 8.3K Jul 18 13:59 run_deseq2.R\n",
            "-rw-r--r-- 1 root root  426 Jul 18 13:59 samples.tsv\n",
            "-rw-r--r-- 1 root root 126M Jul 18 13:59 griffith-data.tar.gz\n",
            "-rw-r--r-- 1 root root 6.1K Jul 18 13:59 drug_repositioning.py\n",
            "-rw-r--r-- 1 root root 6.0K Jul 18 13:59 README.md\n",
            "drwxr-xr-x 2 root root 4.0K Jul 18 13:59 V57\n"
          ]
        }
      ]
    },
    {
      "cell_type": "code",
      "execution_count": 16,
      "metadata": {
        "colab": {
          "base_uri": "https://localhost:8080/"
        },
        "outputId": "61e9a9ff-acf0-403d-d898-6ffb41922df5",
        "id": "iSXkQA0-y_ak"
      },
      "outputs": [
        {
          "output_type": "stream",
          "name": "stdout",
          "text": [
            "@HWI-ST718_146963544:6:1213:8996:10047/2\n",
            "ATTTGAATGACAAGATAGCTATATTGAAAAAGAACCAAGCAGAGCTTCTTGAATTGAAAAATTTACTATAGGAATTTCAAAAAGAGTTGGCAGCCTTAGC\n",
            "+\n",
            "@B@DDFFFHHHHHJDHFHIGIIGHE>EFHIJJJJJIJJIDHGGDEGHCHEDEGIGABGIJJGGHHGGGEGI@HIEHHHHHHFFD?>3>>CCCBDBC>CD:\n",
            "@HWI-ST718_146963544:5:2303:11793:37095/2\n",
            "GGGTAATTATTAAAACATTAAGAAATACTCTTTAATCATATATGTTTAAACTTGTAGAAAATCAATAACATACAAGTAAAGAAGATCAAGAAGCCACAAA\n",
            "+\n",
            "?+?:BDDA?AFHHIIGHEHGGGGGGEGIIEGGG<DGHIIGIHAC<?:DDDCFAEFGBGGIHIGGGHIIDHGHHHFF8@GICHG;DA=AEFEEEE>CC>=B\n",
            "@HWI-ST718_146963544:6:2112:14109:7701/2\n",
            "CTGCAGATGGGGGCCTGGATCATGTGGAAAGATGACGTGAAGGTCACACCTGTCAGGGACCAGTGCTGGAGGGCAAACCTCACCTTTAAAAGCTCCCACT\n"
          ]
        }
      ],
      "source": [
        "%%bash\n",
        "# expression data\n",
        "head reads/UHR_1_R2.fq"
      ]
    },
    {
      "cell_type": "markdown",
      "metadata": {
        "id": "9a5PSUFb8p1s"
      },
      "source": [
        "#### 1.2.2 GTF Format - Gene Annotations\n",
        "\n",
        "- **Column 1**: Chromosome name (22)\n",
        "- **Column 2**: Annotation source (HAVANA, ENSEMBL)\n",
        "- **Column 3**: Feature type (gene, transcript, exon, CDS)\n",
        "- **Column 4-5**: Start and end coordinates (1-based)\n",
        "- **Column 6**: Score (usually `.` for missing)\n",
        "- **Column 7**: Strand (`+` forward, `-` reverse)\n",
        "- **Column 8**: Frame (for coding sequences)\n",
        "- **Column 9**: Attributes (gene_id, gene_name, transcript_id, etc.)\n",
        "\n",
        "**Medical relevance:**\n",
        "- Tells us where genes are located on the chromosome\n",
        "- Defines exon boundaries (coding regions)\n",
        "- Links gene IDs to human-readable gene names\n",
        "- Essential for quantifying expression accurately\n"
      ]
    },
    {
      "cell_type": "code",
      "source": [
        "%%bash\n",
        "ls refs/"
      ],
      "metadata": {
        "colab": {
          "base_uri": "https://localhost:8080/"
        },
        "id": "TiWG530fm-Fw",
        "outputId": "eea25c55-8a77-4fed-fc94-acb9ad53d3e5"
      },
      "execution_count": 17,
      "outputs": [
        {
          "output_type": "stream",
          "name": "stdout",
          "text": [
            "22.fa\n",
            "22.gtf\n",
            "ERCC92.fa\n",
            "ERCC92.gtf\n"
          ]
        }
      ]
    },
    {
      "cell_type": "code",
      "execution_count": 19,
      "metadata": {
        "colab": {
          "base_uri": "https://localhost:8080/"
        },
        "id": "ErZ9RUFas9vT",
        "outputId": "0f23b64e-c10f-40de-943a-2d722aadd757"
      },
      "outputs": [
        {
          "output_type": "stream",
          "name": "stdout",
          "text": [
            "chr22\tENSEMBL\tgene\t10736171\t10736283\t.\t-\t.\tgene_id \"ENSG00000277248.1\"; gene_type \"snRNA\"; gene_status \"NOVEL\"; gene_name \"U2\"; level 3;\n",
            "chr22\tENSEMBL\ttranscript\t10736171\t10736283\t.\t-\t.\tgene_id \"ENSG00000277248.1\"; transcript_id \"ENST00000615943.1\"; gene_type \"snRNA\"; gene_status \"NOVEL\"; gene_name \"U2\"; transcript_type \"snRNA\"; transcript_status \"NOVEL\"; transcript_name \"U2.14-201\"; level 3; tag \"basic\"; transcript_support_level \"NA\";\n",
            "chr22\tENSEMBL\texon\t10736171\t10736283\t.\t-\t.\tgene_id \"ENSG00000277248.1\"; transcript_id \"ENST00000615943.1\"; gene_type \"snRNA\"; gene_status \"NOVEL\"; gene_name \"U2\"; transcript_type \"snRNA\"; transcript_status \"NOVEL\"; transcript_name \"U2.14-201\"; exon_number 1; exon_id \"ENSE00003736336.1\"; level 3; tag \"basic\"; transcript_support_level \"NA\";\n",
            "chr22\tENSEMBL\tgene\t10936023\t10936161\t.\t-\t.\tgene_id \"ENSG00000274237.1\"; gene_type \"miRNA\"; gene_status \"NOVEL\"; gene_name \"CU459211.1\"; level 3;\n",
            "chr22\tENSEMBL\ttranscript\t10936023\t10936161\t.\t-\t.\tgene_id \"ENSG00000274237.1\"; transcript_id \"ENST00000618365.1\"; gene_type \"miRNA\"; gene_status \"NOVEL\"; gene_name \"CU459211.1\"; transcript_type \"miRNA\"; transcript_status \"NOVEL\"; transcript_name \"CU459211.1-201\"; level 3; tag \"basic\"; transcript_support_level \"NA\";\n",
            "chr22\tENSEMBL\texon\t10936023\t10936161\t.\t-\t.\tgene_id \"ENSG00000274237.1\"; transcript_id \"ENST00000618365.1\"; gene_type \"miRNA\"; gene_status \"NOVEL\"; gene_name \"CU459211.1\"; transcript_type \"miRNA\"; transcript_status \"NOVEL\"; transcript_name \"CU459211.1-201\"; exon_number 1; exon_id \"ENSE00003712615.1\"; level 3; tag \"basic\"; transcript_support_level \"NA\";\n",
            "chr22\tENSEMBL\tgene\t11065974\t11067346\t.\t-\t.\tgene_id \"ENSG00000280363.1\"; gene_type \"protein_coding\"; gene_status \"KNOWN\"; gene_name \"CU104787.1\"; level 3;\n",
            "chr22\tENSEMBL\ttranscript\t11065974\t11067346\t.\t-\t.\tgene_id \"ENSG00000280363.1\"; transcript_id \"ENST00000623473.1\"; gene_type \"protein_coding\"; gene_status \"KNOWN\"; gene_name \"CU104787.1\"; transcript_type \"protein_coding\"; transcript_status \"KNOWN\"; transcript_name \"CU104787.1-201\"; level 3; protein_id \"ENSP00000485388.1\"; tag \"basic\"; transcript_support_level \"5\"; tag \"appris_principal_1\";\n",
            "chr22\tENSEMBL\texon\t11065974\t11066015\t.\t-\t.\tgene_id \"ENSG00000280363.1\"; transcript_id \"ENST00000623473.1\"; gene_type \"protein_coding\"; gene_status \"KNOWN\"; gene_name \"CU104787.1\"; transcript_type \"protein_coding\"; transcript_status \"KNOWN\"; transcript_name \"CU104787.1-201\"; exon_number 2; exon_id \"ENSE00003755067.1\"; level 3; protein_id \"ENSP00000485388.1\"; tag \"basic\"; transcript_support_level \"5\"; tag \"appris_principal_1\";\n",
            "chr22\tENSEMBL\tCDS\t11065974\t11066015\t.\t-\t0\tgene_id \"ENSG00000280363.1\"; transcript_id \"ENST00000623473.1\"; gene_type \"protein_coding\"; gene_status \"KNOWN\"; gene_name \"CU104787.1\"; transcript_type \"protein_coding\"; transcript_status \"KNOWN\"; transcript_name \"CU104787.1-201\"; exon_number 2; exon_id \"ENSE00003755067.1\"; level 3; protein_id \"ENSP00000485388.1\"; tag \"basic\"; transcript_support_level \"5\"; tag \"appris_principal_1\";\n"
          ]
        }
      ],
      "source": [
        "%%bash\n",
        "# transcriptome annotations\n",
        "head refs/22.gtf"
      ]
    },
    {
      "cell_type": "markdown",
      "metadata": {
        "id": "7Jae7bTo8zp3"
      },
      "source": [
        "#### 1.2.3 FASTA Format - Genome Sequence\n",
        "\n",
        "- **Header line** (`>`): Sequence identifier and description\n",
        "- **Sequence lines**: Raw DNA sequence (A, T, G, C, N)\n",
        "  - `A` = Adenine\n",
        "  - `T` = Thymine  \n",
        "  - `G` = Guanine\n",
        "  - `C` = Cytosine\n",
        "  - `N` = Unknown/ambiguous base\n",
        "\n",
        "**Biological context:**\n",
        "- This is the reference genome sequence for chromosome 22\n",
        "- Contains ~51 million base pairs\n",
        "- Includes both coding (genes) and non-coding regions\n",
        "- Used as a template to identify where RNA-seq reads originated\n",
        "\n",
        "**How these files work together:**\n",
        "1. **FASTQ files**: Contain the expression experimental data (what we measured)\n",
        "2. **GTF file**: Tells us where genes are located (the map)\n",
        "3. **FASTA file**: Provides the reference sequence (the genome sequence blueprint)\n",
        "\n",
        "Together, they allow us to determine which genes the RNA-seq reads came from and quantify their expression levels."
      ]
    },
    {
      "cell_type": "code",
      "execution_count": 20,
      "metadata": {
        "colab": {
          "base_uri": "https://localhost:8080/"
        },
        "id": "kT7fUehbHVPF",
        "outputId": "07b906c6-2dd4-40f2-c0f4-7d82efa4b722"
      },
      "outputs": [
        {
          "output_type": "stream",
          "name": "stdout",
          "text": [
            ">chr22\n",
            "NNNNNNNNNNNNNNNNNNNNNNNNNNNNNNNNNNNNNNNNNNNNNNNNNNNNNNNNNNNN\n",
            "NNNNNNNNNNNNNNNNNNNNNNNNNNNNNNNNNNNNNNNNNNNNNNNNNNNNNNNNNNNN\n",
            "NNNNNNNNNNNNNNNNNNNNNNNNNNNNNNNNNNNNNNNNNNNNNNNNNNNNNNNNNNNN\n",
            "NNNNNNNNNNNNNNNNNNNNNNNNNNNNNNNNNNNNNNNNNNNNNNNNNNNNNNNNNNNN\n",
            "NNNNNNNNNNNNNNNNNNNNNNNNNNNNNNNNNNNNNNNNNNNNNNNNNNNNNNNNNNNN\n",
            "NNNNNNNNNNNNNNNNNNNNNNNNNNNNNNNNNNNNNNNNNNNNNNNNNNNNNNNNNNNN\n",
            "NNNNNNNNNNNNNNNNNNNNNNNNNNNNNNNNNNNNNNNNNNNNNNNNNNNNNNNNNNNN\n",
            "NNNNNNNNNNNNNNNNNNNNNNNNNNNNNNNNNNNNNNNNNNNNNNNNNNNNNNNNNNNN\n",
            "NNNNNNNNNNNNNNNNNNNNNNNNNNNNNNNNNNNNNNNNNNNNNNNNNNNNNNNNNNNN\n"
          ]
        }
      ],
      "source": [
        "%%bash\n",
        "# sequence data\n",
        "head refs/22.fa"
      ]
    },
    {
      "cell_type": "markdown",
      "metadata": {
        "id": "w_TPcDZu73zH"
      },
      "source": [
        "## Part 2: Build Transcriptome and Quantify Expression (15 minutes)\n",
        "\n",
        "### Step 2.1: Extract Transcriptome and Build Salmon Index\n",
        "\n",
        "**🧬 Background: Transcriptomes vs Genomes for RNA-seq Analysis**\n",
        "\n",
        "**Why extract a transcriptome?**\n",
        "- **Genome**: Contains all DNA sequences including introns, exons, and regulatory regions\n",
        "- **Transcriptome**: Contains only the mature mRNA sequences (exons spliced together)\n",
        "- **RNA-seq reads**: Come from mature mRNA, so they match transcriptome sequences\n",
        "\n",
        "**What is gffread doing?**\n",
        "The `gffread` tool reads the GTF annotation file to identify exon coordinates, then extracts and splices these exonic sequences from the genome to create a transcriptome FASTA file.\n",
        "\n",
        "**What is a Salmon index?**\n",
        "Salmon uses a sophisticated indexing strategy that creates:\n",
        "- A compressed representation of all transcripts\n",
        "- K-mer (short sequence) lookup tables for fast mapping\n",
        "- This allows ultra-fast quantification without traditional alignment\n",
        "\n",
        "**Clinical relevance:**\n",
        "Accurate quantification is essential for identifying biomarkers and therapeutic targets in cancer research.\n"
      ]
    },
    {
      "cell_type": "code",
      "execution_count": 21,
      "metadata": {
        "colab": {
          "base_uri": "https://localhost:8080/"
        },
        "collapsed": true,
        "id": "NtKaB1hS5MTc",
        "outputId": "3a569be8-6c13-4c99-dabd-0cb75807f78f"
      },
      "outputs": [
        {
          "output_type": "stream",
          "name": "stderr",
          "text": [
            "FASTA index file refs/22.fa.fai created.\n"
          ]
        }
      ],
      "source": [
        "%%bash\n",
        "gffread -w chr22_transcriptome.fa -g refs/22.fa refs/22.gtf"
      ]
    },
    {
      "cell_type": "code",
      "execution_count": 22,
      "metadata": {
        "colab": {
          "base_uri": "https://localhost:8080/"
        },
        "id": "dHveYv-c_xpC",
        "outputId": "0c4b0209-1784-4668-8f97-5fb688db079b"
      },
      "outputs": [
        {
          "output_type": "stream",
          "name": "stdout",
          "text": [
            ">ENST00000615943.1\n",
            "ATCACTTCTCGGCCTTTTGGCTAAGATCAACTGTAGTATCTGTTGTTATTAATATAATATTGTATATTCA\n",
            "ACCAATTGTCAATACAAGGCTGTTTGTATCTGATATGAACCAA\n",
            ">ENST00000618365.1\n",
            "AGCATGCCCAGTTAATTTGAAATTTCAGATAAACAAATACTTTTTTCAGTGTAAGTATATCCCATACAAT\n",
            "ATTTGGGACATGCTTATACTAAAATATTATTCCTTATTTATCTGAAATTGAAATTTAACTGGGTATTAC\n",
            ">ENST00000623473.1 CDS=1-54\n",
            "GCTGCAGGCAGTGTTCTTCTGTGTCTGCTCACCGAGCTGCTCCGAGCCCGGCTT\n",
            ">ENST00000624155.1 CDS=1-120\n",
            "ATGGCAGCCGGAGCGGTTTTTCTGGCATTGTCTGCCCAGCTGCTCCAAGCCAGACTGATGAAGGAGGAGT\n"
          ]
        }
      ],
      "source": [
        "%%bash\n",
        "head chr22_transcriptome.fa"
      ]
    },
    {
      "cell_type": "code",
      "execution_count": 23,
      "metadata": {
        "colab": {
          "base_uri": "https://localhost:8080/"
        },
        "collapsed": true,
        "id": "Vqo2zZVhwj1S",
        "outputId": "b1de6bea-fd98-4444-8e1d-b4083803c65a"
      },
      "outputs": [
        {
          "output_type": "stream",
          "name": "stdout",
          "text": [
            "Version Server Response: Not Found\n",
            "index [\"salmon_index\"] did not previously exist  . . . creating it\n",
            "[2025-07-18 14:04:05.946] [jLog] [warning] The salmon index is being built without any decoy sequences.  It is recommended that decoy sequence (either computed auxiliary decoy sequence or the genome of the organism) be provided during indexing. Further details can be found at https://salmon.readthedocs.io/en/latest/salmon.html#preparing-transcriptome-indices-mapping-based-mode.\n",
            "[2025-07-18 14:04:05.946] [jLog] [info] building index\n",
            "out : salmon_index\n",
            "[2025-07-18 14:04:05.946] [puff::index::jointLog] [info] Running fixFasta\n",
            "\n",
            "[Step 1 of 4] : counting k-mers\n",
            "\n",
            "[2025-07-18 14:04:06.411] [puff::index::jointLog] [warning] Removed 5 transcripts that were sequence duplicates of indexed transcripts.\n",
            "[2025-07-18 14:04:06.411] [puff::index::jointLog] [warning] If you wish to retain duplicate transcripts, please use the `--keepDuplicates` flag\n",
            "[2025-07-18 14:04:06.412] [puff::index::jointLog] [info] Replaced 0 non-ATCG nucleotides\n",
            "[2025-07-18 14:04:06.412] [puff::index::jointLog] [info] Clipped poly-A tails from 20 transcripts\n",
            "wrote 4501 cleaned references\n",
            "[2025-07-18 14:04:06.437] [puff::index::jointLog] [info] Filter size not provided; estimating from number of distinct k-mers\n",
            "[2025-07-18 14:04:06.550] [puff::index::jointLog] [info] ntHll estimated 3183668 distinct k-mers, setting filter size to 2^26\n",
            "Threads = 2\n",
            "Vertex length = 31\n",
            "Hash functions = 5\n",
            "Filter size = 67108864\n",
            "Capacity = 2\n",
            "Files: \n",
            "salmon_index/ref_k31_fixed.fa\n",
            "--------------------------------------------------------------------------------\n",
            "Round 0, 0:67108864\n",
            "Pass\tFilling\tFiltering\n",
            "1\t3\t5\t\n",
            "2\t0\t0\n",
            "True junctions count = 17643\n",
            "False junctions count = 20543\n",
            "Hash table size = 38186\n",
            "Candidate marks count = 140626\n",
            "--------------------------------------------------------------------------------\n",
            "Reallocating bifurcations time: 0\n",
            "True marks count: 103469\n",
            "Edges construction time: 1\n",
            "--------------------------------------------------------------------------------\n",
            "Distinct junctions = 17643\n",
            "\n",
            "TwoPaCo::buildGraphMain:: allocated with scalable_malloc; freeing.\n",
            "TwoPaCo::buildGraphMain:: Calling scalable_allocation_command(TBBMALLOC_CLEAN_ALL_BUFFERS, 0);\n",
            "allowedIn: 18\n",
            "Max Junction ID: 20958\n",
            "seen.size():167673 kmerInfo.size():20959\n",
            "approximateContigTotalLength: 2118234\n",
            "counters for complex kmers:\n",
            "(prec>1 & succ>1)=1058 | (succ>1 & isStart)=16 | (prec>1 & isEnd)=14 | (isStart & isEnd)=3\n",
            "contig count: 26801 element count: 4015079 complex nodes: 1091\n",
            "# of ones in rank vector: 26800\n",
            "[2025-07-18 14:04:16.016] [puff::index::jointLog] [info] Starting the Pufferfish indexing by reading the GFA binary file.\n",
            "[2025-07-18 14:04:16.016] [puff::index::jointLog] [info] Setting the index/BinaryGfa directory salmon_index\n",
            "size = 4015079\n",
            "-----------------------------------------\n",
            "| Loading contigs | Time = 855.58 us\n",
            "-----------------------------------------\n",
            "size = 4015079\n",
            "-----------------------------------------\n",
            "| Loading contig boundaries | Time = 436.7 us\n",
            "-----------------------------------------\n",
            "Number of ones: 26800\n",
            "Number of ones per inventory item: 512\n",
            "Inventory entries filled: 53\n",
            "26800\n",
            "[2025-07-18 14:04:16.025] [puff::index::jointLog] [info] Done wrapping the rank vector with a rank9sel structure.\n",
            "[2025-07-18 14:04:16.025] [puff::index::jointLog] [info] contig count for validation: 26,800\n",
            "[2025-07-18 14:04:16.034] [puff::index::jointLog] [info] Total # of Contigs : 26,800\n",
            "[2025-07-18 14:04:16.034] [puff::index::jointLog] [info] Total # of numerical Contigs : 26,800\n",
            "[2025-07-18 14:04:16.034] [puff::index::jointLog] [info] Total # of contig vec entries: 102,522\n",
            "[2025-07-18 14:04:16.034] [puff::index::jointLog] [info] bits per offset entry 17\n",
            "[2025-07-18 14:04:16.036] [puff::index::jointLog] [info] Done constructing the contig vector. 26801\n",
            "[2025-07-18 14:04:16.045] [puff::index::jointLog] [info] # segments = 26,800\n",
            "[2025-07-18 14:04:16.045] [puff::index::jointLog] [info] total length = 4,015,079\n",
            "[2025-07-18 14:04:16.047] [puff::index::jointLog] [info] Reading the reference files ...\n",
            "[2025-07-18 14:04:16.078] [puff::index::jointLog] [info] positional integer width = 22\n",
            "[2025-07-18 14:04:16.078] [puff::index::jointLog] [info] seqSize = 4,015,079\n",
            "[2025-07-18 14:04:16.078] [puff::index::jointLog] [info] rankSize = 4,015,079\n",
            "[2025-07-18 14:04:16.078] [puff::index::jointLog] [info] edgeVecSize = 0\n",
            "[2025-07-18 14:04:16.078] [puff::index::jointLog] [info] num keys = 3,211,079\n",
            "\r[Building BooPHF]  0.205%   elapsed:   0 min 0  sec   remaining:   0 min 1  sec\r[Building BooPHF]  0.219%   elapsed:   0 min 0  sec   remaining:   0 min 1  sec\r[Building BooPHF]  0.369%   elapsed:   0 min 0  sec   remaining:   0 min 1  sec\r[Building BooPHF]  0.438%   elapsed:   0 min 0  sec   remaining:   0 min 1  sec\r[Building BooPHF]  0.561%   elapsed:   0 min 0  sec   remaining:   0 min 1  sec\r[Building BooPHF]  0.629%   elapsed:   0 min 0  sec   remaining:   0 min 1  sec\r[Building BooPHF]  0.794%   elapsed:   0 min 0  sec   remaining:   0 min 1  sec\r[Building BooPHF]  0.862%   elapsed:   0 min 0  sec   remaining:   0 min 1  sec\r[Building BooPHF]  0.958%   elapsed:   0 min 0  sec   remaining:   0 min 1  sec\r[Building BooPHF]  1.04 %   elapsed:   0 min 0  sec   remaining:   0 min 1  sec\r[Building BooPHF]  1.14 %   elapsed:   0 min 0  sec   remaining:   0 min 1  sec\r[Building BooPHF]  1.26 %   elapsed:   0 min 0  sec   remaining:   0 min 0  sec\r[Building BooPHF]  1.37 %   elapsed:   0 min 0  sec   remaining:   0 min 0  sec\r[Building BooPHF]  1.48 %   elapsed:   0 min 0  sec   remaining:   0 min 0  sec\r[Building BooPHF]  1.57 %   elapsed:   0 min 0  sec   remaining:   0 min 0  sec\r[Building BooPHF]  1.68 %   elapsed:   0 min 0  sec   remaining:   0 min 0  sec\r[Building BooPHF]  1.71 %   elapsed:   0 min 0  sec   remaining:   0 min 0  sec\r[Building BooPHF]  1.85 %   elapsed:   0 min 0  sec   remaining:   0 min 0  sec\r[Building BooPHF]  1.94 %   elapsed:   0 min 0  sec   remaining:   0 min 0  sec\r[Building BooPHF]  2.08 %   elapsed:   0 min 0  sec   remaining:   0 min 0  sec\r[Building BooPHF]  2.15 %   elapsed:   0 min 0  sec   remaining:   0 min 0  sec\r[Building BooPHF]  2.3  %   elapsed:   0 min 0  sec   remaining:   0 min 0  sec\r[Building BooPHF]  2.33 %   elapsed:   0 min 0  sec   remaining:   0 min 0  sec\r[Building BooPHF]  2.5  %   elapsed:   0 min 0  sec   remaining:   0 min 0  sec\r[Building BooPHF]  2.52 %   elapsed:   0 min 0  sec   remaining:   0 min 0  sec\r[Building BooPHF]  2.64 %   elapsed:   0 min 0  sec   remaining:   0 min 0  sec\r[Building BooPHF]  2.75 %   elapsed:   0 min 0  sec   remaining:   0 min 0  sec\r[Building BooPHF]  2.86 %   elapsed:   0 min 0  sec   remaining:   0 min 0  sec\r[Building BooPHF]  2.97 %   elapsed:   0 min 0  sec   remaining:   0 min 0  sec\r[Building BooPHF]  3.05 %   elapsed:   0 min 0  sec   remaining:   0 min 0  sec\r[Building BooPHF]  3.15 %   elapsed:   0 min 0  sec   remaining:   0 min 0  sec\r[Building BooPHF]  3.2  %   elapsed:   0 min 0  sec   remaining:   0 min 0  sec\r[Building BooPHF]  3.39 %   elapsed:   0 min 0  sec   remaining:   0 min 0  sec\r[Building BooPHF]  3.42 %   elapsed:   0 min 0  sec   remaining:   0 min 0  sec\r[Building BooPHF]  3.56 %   elapsed:   0 min 0  sec   remaining:   0 min 0  sec\r[Building BooPHF]  3.64 %   elapsed:   0 min 0  sec   remaining:   0 min 0  sec\r[Building BooPHF]  3.76 %   elapsed:   0 min 0  sec   remaining:   0 min 0  sec\r[Building BooPHF]  3.84 %   elapsed:   0 min 0  sec   remaining:   0 min 0  sec\r[Building BooPHF]  4.01 %   elapsed:   0 min 0  sec   remaining:   0 min 0  sec\r[Building BooPHF]  4.05 %   elapsed:   0 min 0  sec   remaining:   0 min 0  sec\r[Building BooPHF]  4.2  %   elapsed:   0 min 0  sec   remaining:   0 min 0  sec\r[Building BooPHF]  4.23 %   elapsed:   0 min 0  sec   remaining:   0 min 0  sec\r[Building BooPHF]  4.35 %   elapsed:   0 min 0  sec   remaining:   0 min 0  sec\r[Building BooPHF]  4.46 %   elapsed:   0 min 0  sec   remaining:   0 min 0  sec\r[Building BooPHF]  4.58 %   elapsed:   0 min 0  sec   remaining:   0 min 0  sec\r[Building BooPHF]  4.68 %   elapsed:   0 min 0  sec   remaining:   0 min 0  sec\r[Building BooPHF]  4.78 %   elapsed:   0 min 0  sec   remaining:   0 min 0  sec\r[Building BooPHF]  4.88 %   elapsed:   0 min 0  sec   remaining:   0 min 0  sec\r[Building BooPHF]  4.93 %   elapsed:   0 min 0  sec   remaining:   0 min 0  sec\r[Building BooPHF]  5.05 %   elapsed:   0 min 0  sec   remaining:   0 min 0  sec\r[Building BooPHF]  5.14 %   elapsed:   0 min 0  sec   remaining:   0 min 0  sec\r[Building BooPHF]  5.28 %   elapsed:   0 min 0  sec   remaining:   0 min 0  sec\r[Building BooPHF]  5.35 %   elapsed:   0 min 0  sec   remaining:   0 min 0  sec\r[Building BooPHF]  5.5  %   elapsed:   0 min 0  sec   remaining:   0 min 0  sec\r[Building BooPHF]  5.51 %   elapsed:   0 min 0  sec   remaining:   0 min 0  sec\r[Building BooPHF]  5.69 %   elapsed:   0 min 0  sec   remaining:   0 min 0  sec\r[Building BooPHF]  5.71 %   elapsed:   0 min 0  sec   remaining:   0 min 0  sec\r[Building BooPHF]  5.88 %   elapsed:   0 min 0  sec   remaining:   0 min 0  sec\r[Building BooPHF]  5.91 %   elapsed:   0 min 0  sec   remaining:   0 min 0  sec\r[Building BooPHF]  6.1  %   elapsed:   0 min 0  sec   remaining:   0 min 0  sec\r[Building BooPHF]  6.12 %   elapsed:   0 min 0  sec   remaining:   0 min 0  sec\r[Building BooPHF]  6.27 %   elapsed:   0 min 0  sec   remaining:   0 min 0  sec\r[Building BooPHF]  6.31 %   elapsed:   0 min 0  sec   remaining:   0 min 0  sec\r[Building BooPHF]  6.47 %   elapsed:   0 min 0  sec   remaining:   0 min 0  sec\r[Building BooPHF]  6.51 %   elapsed:   0 min 0  sec   remaining:   0 min 0  sec\r[Building BooPHF]  6.69 %   elapsed:   0 min 0  sec   remaining:   0 min 0  sec\r[Building BooPHF]  6.73 %   elapsed:   0 min 0  sec   remaining:   0 min 0  sec\r[Building BooPHF]  6.87 %   elapsed:   0 min 0  sec   remaining:   0 min 0  sec\r[Building BooPHF]  6.94 %   elapsed:   0 min 0  sec   remaining:   0 min 0  sec\r[Building BooPHF]  7.1  %   elapsed:   0 min 0  sec   remaining:   0 min 0  sec\r[Building BooPHF]  7.17 %   elapsed:   0 min 0  sec   remaining:   0 min 0  sec\r[Building BooPHF]  7.31 %   elapsed:   0 min 0  sec   remaining:   0 min 0  sec\r[Building BooPHF]  7.32 %   elapsed:   0 min 0  sec   remaining:   0 min 0  sec\r[Building BooPHF]  7.46 %   elapsed:   0 min 0  sec   remaining:   0 min 0  sec\r[Building BooPHF]  7.54 %   elapsed:   0 min 0  sec   remaining:   0 min 0  sec\r[Building BooPHF]  7.68 %   elapsed:   0 min 0  sec   remaining:   0 min 0  sec\r[Building BooPHF]  7.79 %   elapsed:   0 min 0  sec   remaining:   0 min 0  sec\r[Building BooPHF]  7.88 %   elapsed:   0 min 0  sec   remaining:   0 min 0  sec\r[Building BooPHF]  7.99 %   elapsed:   0 min 0  sec   remaining:   0 min 0  sec\r[Building BooPHF]  8.07 %   elapsed:   0 min 0  sec   remaining:   0 min 0  sec\r[Building BooPHF]  8.14 %   elapsed:   0 min 0  sec   remaining:   0 min 0  sec\r[Building BooPHF]  8.24 %   elapsed:   0 min 0  sec   remaining:   0 min 0  sec\r[Building BooPHF]  8.36 %   elapsed:   0 min 0  sec   remaining:   0 min 0  sec\r[Building BooPHF]  8.43 %   elapsed:   0 min 0  sec   remaining:   0 min 0  sec\r[Building BooPHF]  8.58 %   elapsed:   0 min 0  sec   remaining:   0 min 0  sec\r[Building BooPHF]  8.65 %   elapsed:   0 min 0  sec   remaining:   0 min 0  sec\r[Building BooPHF]  8.78 %   elapsed:   0 min 0  sec   remaining:   0 min 0  sec\r[Building BooPHF]  8.81 %   elapsed:   0 min 0  sec   remaining:   0 min 0  sec\r[Building BooPHF]  8.95 %   elapsed:   0 min 0  sec   remaining:   0 min 0  sec\r[Building BooPHF]  9.03 %   elapsed:   0 min 0  sec   remaining:   0 min 0  sec\r[Building BooPHF]  9.18 %   elapsed:   0 min 0  sec   remaining:   0 min 0  sec\r[Building BooPHF]  9.25 %   elapsed:   0 min 0  sec   remaining:   0 min 0  sec\r[Building BooPHF]  9.37 %   elapsed:   0 min 0  sec   remaining:   0 min 0  sec\r[Building BooPHF]  9.43 %   elapsed:   0 min 0  sec   remaining:   0 min 0  sec\r[Building BooPHF]  9.56 %   elapsed:   0 min 0  sec   remaining:   0 min 0  sec\r[Building BooPHF]  9.61 %   elapsed:   0 min 0  sec   remaining:   0 min 0  sec\r[Building BooPHF]  9.77 %   elapsed:   0 min 0  sec   remaining:   0 min 0  sec\r[Building BooPHF]  9.85 %   elapsed:   0 min 0  sec   remaining:   0 min 0  sec\r[Building BooPHF]  9.97 %   elapsed:   0 min 0  sec   remaining:   0 min 0  sec\r[Building BooPHF]  10   %   elapsed:   0 min 0  sec   remaining:   0 min 0  sec\r[Building BooPHF]  10.2 %   elapsed:   0 min 0  sec   remaining:   0 min 0  sec\r[Building BooPHF]  10.2 %   elapsed:   0 min 0  sec   remaining:   0 min 0  sec\r[Building BooPHF]  10.4 %   elapsed:   0 min 0  sec   remaining:   0 min 0  sec\r[Building BooPHF]  10.5 %   elapsed:   0 min 0  sec   remaining:   0 min 0  sec\r[Building BooPHF]  10.6 %   elapsed:   0 min 0  sec   remaining:   0 min 0  sec\r[Building BooPHF]  10.6 %   elapsed:   0 min 0  sec   remaining:   0 min 0  sec\r[Building BooPHF]  10.8 %   elapsed:   0 min 0  sec   remaining:   0 min 0  sec\r[Building BooPHF]  10.8 %   elapsed:   0 min 0  sec   remaining:   0 min 0  sec\r[Building BooPHF]  11   %   elapsed:   0 min 0  sec   remaining:   0 min 0  sec\r[Building BooPHF]  11   %   elapsed:   0 min 0  sec   remaining:   0 min 0  sec\r[Building BooPHF]  11.2 %   elapsed:   0 min 0  sec   remaining:   0 min 0  sec\r[Building BooPHF]  11.2 %   elapsed:   0 min 0  sec   remaining:   0 min 0  sec\r[Building BooPHF]  11.4 %   elapsed:   0 min 0  sec   remaining:   0 min 0  sec\r[Building BooPHF]  11.4 %   elapsed:   0 min 0  sec   remaining:   0 min 0  sec\r[Building BooPHF]  11.6 %   elapsed:   0 min 0  sec   remaining:   0 min 0  sec\r[Building BooPHF]  11.6 %   elapsed:   0 min 0  sec   remaining:   0 min 0  sec\r[Building BooPHF]  11.8 %   elapsed:   0 min 0  sec   remaining:   0 min 0  sec\r[Building BooPHF]  11.8 %   elapsed:   0 min 0  sec   remaining:   0 min 0  sec\r[Building BooPHF]  12   %   elapsed:   0 min 0  sec   remaining:   0 min 0  sec\r[Building BooPHF]  12   %   elapsed:   0 min 0  sec   remaining:   0 min 0  sec\r[Building BooPHF]  12.2 %   elapsed:   0 min 0  sec   remaining:   0 min 0  sec\r[Building BooPHF]  12.2 %   elapsed:   0 min 0  sec   remaining:   0 min 0  sec\r[Building BooPHF]  12.4 %   elapsed:   0 min 0  sec   remaining:   0 min 0  sec\r[Building BooPHF]  12.5 %   elapsed:   0 min 0  sec   remaining:   0 min 0  sec\r[Building BooPHF]  12.6 %   elapsed:   0 min 0  sec   remaining:   0 min 0  sec\r[Building BooPHF]  12.7 %   elapsed:   0 min 0  sec   remaining:   0 min 0  sec\r[Building BooPHF]  12.7 %   elapsed:   0 min 0  sec   remaining:   0 min 0  sec\r[Building BooPHF]  12.9 %   elapsed:   0 min 0  sec   remaining:   0 min 0  sec\r[Building BooPHF]  12.9 %   elapsed:   0 min 0  sec   remaining:   0 min 0  sec\r[Building BooPHF]  13.1 %   elapsed:   0 min 0  sec   remaining:   0 min 0  sec\r[Building BooPHF]  13.1 %   elapsed:   0 min 0  sec   remaining:   0 min 0  sec\r[Building BooPHF]  13.3 %   elapsed:   0 min 0  sec   remaining:   0 min 0  sec\r[Building BooPHF]  13.3 %   elapsed:   0 min 0  sec   remaining:   0 min 0  sec\r[Building BooPHF]  13.5 %   elapsed:   0 min 0  sec   remaining:   0 min 0  sec\r[Building BooPHF]  13.5 %   elapsed:   0 min 0  sec   remaining:   0 min 0  sec\r[Building BooPHF]  13.7 %   elapsed:   0 min 0  sec   remaining:   0 min 0  sec\r[Building BooPHF]  13.7 %   elapsed:   0 min 0  sec   remaining:   0 min 0  sec\r[Building BooPHF]  13.9 %   elapsed:   0 min 0  sec   remaining:   0 min 0  sec\r[Building BooPHF]  13.9 %   elapsed:   0 min 0  sec   remaining:   0 min 0  sec\r[Building BooPHF]  14.1 %   elapsed:   0 min 0  sec   remaining:   0 min 0  sec\r[Building BooPHF]  14.1 %   elapsed:   0 min 0  sec   remaining:   0 min 0  sec\r[Building BooPHF]  14.3 %   elapsed:   0 min 0  sec   remaining:   0 min 0  sec\r[Building BooPHF]  14.3 %   elapsed:   0 min 0  sec   remaining:   0 min 0  sec\r[Building BooPHF]  14.5 %   elapsed:   0 min 0  sec   remaining:   0 min 0  sec\r[Building BooPHF]  14.5 %   elapsed:   0 min 0  sec   remaining:   0 min 0  sec\r[Building BooPHF]  14.7 %   elapsed:   0 min 0  sec   remaining:   0 min 0  sec\r[Building BooPHF]  14.7 %   elapsed:   0 min 0  sec   remaining:   0 min 0  sec\r[Building BooPHF]  14.9 %   elapsed:   0 min 0  sec   remaining:   0 min 0  sec\r[Building BooPHF]  14.9 %   elapsed:   0 min 0  sec   remaining:   0 min 0  sec\r[Building BooPHF]  15.1 %   elapsed:   0 min 0  sec   remaining:   0 min 0  sec\r[Building BooPHF]  15.1 %   elapsed:   0 min 0  sec   remaining:   0 min 0  sec\r[Building BooPHF]  15.3 %   elapsed:   0 min 0  sec   remaining:   0 min 0  sec\r[Building BooPHF]  15.3 %   elapsed:   0 min 0  sec   remaining:   0 min 0  sec\r[Building BooPHF]  15.5 %   elapsed:   0 min 0  sec   remaining:   0 min 0  sec\r[Building BooPHF]  15.5 %   elapsed:   0 min 0  sec   remaining:   0 min 0  sec\r[Building BooPHF]  15.7 %   elapsed:   0 min 0  sec   remaining:   0 min 0  sec\r[Building BooPHF]  15.7 %   elapsed:   0 min 0  sec   remaining:   0 min 0  sec\r[Building BooPHF]  15.9 %   elapsed:   0 min 0  sec   remaining:   0 min 0  sec\r[Building BooPHF]  15.9 %   elapsed:   0 min 0  sec   remaining:   0 min 0  sec\r[Building BooPHF]  16   %   elapsed:   0 min 0  sec   remaining:   0 min 0  sec\r[Building BooPHF]  16.1 %   elapsed:   0 min 0  sec   remaining:   0 min 0  sec\r[Building BooPHF]  16.3 %   elapsed:   0 min 0  sec   remaining:   0 min 0  sec\r[Building BooPHF]  16.4 %   elapsed:   0 min 0  sec   remaining:   0 min 0  sec\r[Building BooPHF]  16.5 %   elapsed:   0 min 0  sec   remaining:   0 min 0  sec\r[Building BooPHF]  16.6 %   elapsed:   0 min 0  sec   remaining:   0 min 0  sec\r[Building BooPHF]  16.7 %   elapsed:   0 min 0  sec   remaining:   0 min 0  sec\r[Building BooPHF]  16.7 %   elapsed:   0 min 0  sec   remaining:   0 min 0  sec\r[Building BooPHF]  16.8 %   elapsed:   0 min 0  sec   remaining:   0 min 0  sec\r[Building BooPHF]  17   %   elapsed:   0 min 0  sec   remaining:   0 min 0  sec\r[Building BooPHF]  17   %   elapsed:   0 min 0  sec   remaining:   0 min 0  sec\r[Building BooPHF]  17.2 %   elapsed:   0 min 0  sec   remaining:   0 min 0  sec\r[Building BooPHF]  17.2 %   elapsed:   0 min 0  sec   remaining:   0 min 0  sec\r[Building BooPHF]  17.4 %   elapsed:   0 min 0  sec   remaining:   0 min 0  sec\r[Building BooPHF]  17.4 %   elapsed:   0 min 0  sec   remaining:   0 min 0  sec\r[Building BooPHF]  17.6 %   elapsed:   0 min 0  sec   remaining:   0 min 0  sec\r[Building BooPHF]  17.6 %   elapsed:   0 min 0  sec   remaining:   0 min 0  sec\r[Building BooPHF]  17.8 %   elapsed:   0 min 0  sec   remaining:   0 min 0  sec\r[Building BooPHF]  17.8 %   elapsed:   0 min 0  sec   remaining:   0 min 0  sec\r[Building BooPHF]  18   %   elapsed:   0 min 0  sec   remaining:   0 min 0  sec\r[Building BooPHF]  18   %   elapsed:   0 min 0  sec   remaining:   0 min 0  sec\r[Building BooPHF]  18.2 %   elapsed:   0 min 0  sec   remaining:   0 min 0  sec\r[Building BooPHF]  18.2 %   elapsed:   0 min 0  sec   remaining:   0 min 0  sec\r[Building BooPHF]  18.4 %   elapsed:   0 min 0  sec   remaining:   0 min 0  sec\r[Building BooPHF]  18.4 %   elapsed:   0 min 0  sec   remaining:   0 min 0  sec\r[Building BooPHF]  18.6 %   elapsed:   0 min 0  sec   remaining:   0 min 0  sec\r[Building BooPHF]  18.6 %   elapsed:   0 min 0  sec   remaining:   0 min 0  sec\r[Building BooPHF]  18.8 %   elapsed:   0 min 0  sec   remaining:   0 min 0  sec\r[Building BooPHF]  18.9 %   elapsed:   0 min 0  sec   remaining:   0 min 0  sec\r[Building BooPHF]  19   %   elapsed:   0 min 0  sec   remaining:   0 min 0  sec\r[Building BooPHF]  19   %   elapsed:   0 min 0  sec   remaining:   0 min 0  sec\r[Building BooPHF]  19.2 %   elapsed:   0 min 0  sec   remaining:   0 min 0  sec\r[Building BooPHF]  19.2 %   elapsed:   0 min 0  sec   remaining:   0 min 0  sec\r[Building BooPHF]  19.4 %   elapsed:   0 min 0  sec   remaining:   0 min 0  sec\r[Building BooPHF]  19.4 %   elapsed:   0 min 0  sec   remaining:   0 min 0  sec\r[Building BooPHF]  19.6 %   elapsed:   0 min 0  sec   remaining:   0 min 0  sec\r[Building BooPHF]  19.6 %   elapsed:   0 min 0  sec   remaining:   0 min 0  sec\r[Building BooPHF]  19.8 %   elapsed:   0 min 0  sec   remaining:   0 min 0  sec\r[Building BooPHF]  19.8 %   elapsed:   0 min 0  sec   remaining:   0 min 0  sec\r[Building BooPHF]  20   %   elapsed:   0 min 0  sec   remaining:   0 min 0  sec\r[Building BooPHF]  20   %   elapsed:   0 min 0  sec   remaining:   0 min 0  sec\r[Building BooPHF]  20.2 %   elapsed:   0 min 0  sec   remaining:   0 min 0  sec\r[Building BooPHF]  20.2 %   elapsed:   0 min 0  sec   remaining:   0 min 0  sec\r[Building BooPHF]  20.4 %   elapsed:   0 min 0  sec   remaining:   0 min 0  sec\r[Building BooPHF]  20.4 %   elapsed:   0 min 0  sec   remaining:   0 min 0  sec\r[Building BooPHF]  20.6 %   elapsed:   0 min 0  sec   remaining:   0 min 0  sec\r[Building BooPHF]  20.6 %   elapsed:   0 min 0  sec   remaining:   0 min 0  sec\r[Building BooPHF]  20.8 %   elapsed:   0 min 0  sec   remaining:   0 min 0  sec\r[Building BooPHF]  20.8 %   elapsed:   0 min 0  sec   remaining:   0 min 0  sec\r[Building BooPHF]  21   %   elapsed:   0 min 0  sec   remaining:   0 min 0  sec\r[Building BooPHF]  21   %   elapsed:   0 min 0  sec   remaining:   0 min 0  sec\r[Building BooPHF]  21.2 %   elapsed:   0 min 0  sec   remaining:   0 min 0  sec\r[Building BooPHF]  21.2 %   elapsed:   0 min 0  sec   remaining:   0 min 0  sec\r[Building BooPHF]  21.4 %   elapsed:   0 min 0  sec   remaining:   0 min 0  sec\r[Building BooPHF]  21.4 %   elapsed:   0 min 0  sec   remaining:   0 min 0  sec\r[Building BooPHF]  21.6 %   elapsed:   0 min 0  sec   remaining:   0 min 0  sec\r[Building BooPHF]  21.6 %   elapsed:   0 min 0  sec   remaining:   0 min 0  sec\r[Building BooPHF]  21.8 %   elapsed:   0 min 0  sec   remaining:   0 min 0  sec\r[Building BooPHF]  21.8 %   elapsed:   0 min 0  sec   remaining:   0 min 0  sec\r[Building BooPHF]  22   %   elapsed:   0 min 0  sec   remaining:   0 min 0  sec\r[Building BooPHF]  22   %   elapsed:   0 min 0  sec   remaining:   0 min 0  sec\r[Building BooPHF]  22.2 %   elapsed:   0 min 0  sec   remaining:   0 min 0  sec\r[Building BooPHF]  22.2 %   elapsed:   0 min 0  sec   remaining:   0 min 0  sec\r[Building BooPHF]  22.4 %   elapsed:   0 min 0  sec   remaining:   0 min 0  sec\r[Building BooPHF]  22.4 %   elapsed:   0 min 0  sec   remaining:   0 min 0  sec\r[Building BooPHF]  22.6 %   elapsed:   0 min 0  sec   remaining:   0 min 0  sec\r[Building BooPHF]  22.6 %   elapsed:   0 min 0  sec   remaining:   0 min 0  sec\r[Building BooPHF]  22.8 %   elapsed:   0 min 0  sec   remaining:   0 min 0  sec\r[Building BooPHF]  22.8 %   elapsed:   0 min 0  sec   remaining:   0 min 0  sec\r[Building BooPHF]  23   %   elapsed:   0 min 0  sec   remaining:   0 min 0  sec\r[Building BooPHF]  23   %   elapsed:   0 min 0  sec   remaining:   0 min 0  sec\r[Building BooPHF]  23.2 %   elapsed:   0 min 0  sec   remaining:   0 min 0  sec\r[Building BooPHF]  23.2 %   elapsed:   0 min 0  sec   remaining:   0 min 0  sec\r[Building BooPHF]  23.4 %   elapsed:   0 min 0  sec   remaining:   0 min 0  sec\r[Building BooPHF]  23.4 %   elapsed:   0 min 0  sec   remaining:   0 min 0  sec\r[Building BooPHF]  23.6 %   elapsed:   0 min 0  sec   remaining:   0 min 0  sec\r[Building BooPHF]  23.6 %   elapsed:   0 min 0  sec   remaining:   0 min 0  sec\r[Building BooPHF]  23.8 %   elapsed:   0 min 0  sec   remaining:   0 min 0  sec\r[Building BooPHF]  23.8 %   elapsed:   0 min 0  sec   remaining:   0 min 0  sec\r[Building BooPHF]  24   %   elapsed:   0 min 0  sec   remaining:   0 min 0  sec\r[Building BooPHF]  24   %   elapsed:   0 min 0  sec   remaining:   0 min 0  sec\r[Building BooPHF]  24.2 %   elapsed:   0 min 0  sec   remaining:   0 min 0  sec\r[Building BooPHF]  24.2 %   elapsed:   0 min 0  sec   remaining:   0 min 0  sec\r[Building BooPHF]  24.4 %   elapsed:   0 min 0  sec   remaining:   0 min 0  sec\r[Building BooPHF]  24.4 %   elapsed:   0 min 0  sec   remaining:   0 min 0  sec\r[Building BooPHF]  24.6 %   elapsed:   0 min 0  sec   remaining:   0 min 0  sec\r[Building BooPHF]  24.6 %   elapsed:   0 min 0  sec   remaining:   0 min 0  sec\r[Building BooPHF]  24.8 %   elapsed:   0 min 0  sec   remaining:   0 min 0  sec\r[Building BooPHF]  24.8 %   elapsed:   0 min 0  sec   remaining:   0 min 0  sec\r[Building BooPHF]  25   %   elapsed:   0 min 0  sec   remaining:   0 min 0  sec\r[Building BooPHF]  25   %   elapsed:   0 min 0  sec   remaining:   0 min 0  sec\r[Building BooPHF]  25.2 %   elapsed:   0 min 0  sec   remaining:   0 min 0  sec\r[Building BooPHF]  25.2 %   elapsed:   0 min 0  sec   remaining:   0 min 0  sec\r[Building BooPHF]  25.4 %   elapsed:   0 min 0  sec   remaining:   0 min 0  sec\r[Building BooPHF]  25.4 %   elapsed:   0 min 0  sec   remaining:   0 min 0  sec\r[Building BooPHF]  25.6 %   elapsed:   0 min 0  sec   remaining:   0 min 0  sec\r[Building BooPHF]  25.6 %   elapsed:   0 min 0  sec   remaining:   0 min 0  sec\r[Building BooPHF]  25.7 %   elapsed:   0 min 0  sec   remaining:   0 min 0  sec\r[Building BooPHF]  25.9 %   elapsed:   0 min 0  sec   remaining:   0 min 0  sec\r[Building BooPHF]  26   %   elapsed:   0 min 0  sec   remaining:   0 min 0  sec\r[Building BooPHF]  26.1 %   elapsed:   0 min 0  sec   remaining:   0 min 0  sec\r[Building BooPHF]  26.2 %   elapsed:   0 min 0  sec   remaining:   0 min 0  sec\r[Building BooPHF]  26.3 %   elapsed:   0 min 0  sec   remaining:   0 min 0  sec\r[Building BooPHF]  26.3 %   elapsed:   0 min 0  sec   remaining:   0 min 0  sec\r[Building BooPHF]  26.4 %   elapsed:   0 min 0  sec   remaining:   0 min 0  sec\r[Building BooPHF]  26.5 %   elapsed:   0 min 0  sec   remaining:   0 min 0  sec\r[Building BooPHF]  26.7 %   elapsed:   0 min 0  sec   remaining:   0 min 0  sec\r[Building BooPHF]  26.7 %   elapsed:   0 min 0  sec   remaining:   0 min 0  sec\r[Building BooPHF]  26.9 %   elapsed:   0 min 0  sec   remaining:   0 min 0  sec\r[Building BooPHF]  26.9 %   elapsed:   0 min 0  sec   remaining:   0 min 0  sec\r[Building BooPHF]  27.1 %   elapsed:   0 min 0  sec   remaining:   0 min 0  sec\r[Building BooPHF]  27.1 %   elapsed:   0 min 0  sec   remaining:   0 min 0  sec\r[Building BooPHF]  27.3 %   elapsed:   0 min 0  sec   remaining:   0 min 0  sec\r[Building BooPHF]  27.3 %   elapsed:   0 min 0  sec   remaining:   0 min 0  sec\r[Building BooPHF]  27.5 %   elapsed:   0 min 0  sec   remaining:   0 min 0  sec\r[Building BooPHF]  27.5 %   elapsed:   0 min 0  sec   remaining:   0 min 0  sec\r[Building BooPHF]  27.7 %   elapsed:   0 min 0  sec   remaining:   0 min 0  sec\r[Building BooPHF]  27.7 %   elapsed:   0 min 0  sec   remaining:   0 min 0  sec\r[Building BooPHF]  27.9 %   elapsed:   0 min 0  sec   remaining:   0 min 0  sec\r[Building BooPHF]  27.9 %   elapsed:   0 min 0  sec   remaining:   0 min 0  sec\r[Building BooPHF]  28.1 %   elapsed:   0 min 0  sec   remaining:   0 min 0  sec\r[Building BooPHF]  28.1 %   elapsed:   0 min 0  sec   remaining:   0 min 0  sec\r[Building BooPHF]  28.3 %   elapsed:   0 min 0  sec   remaining:   0 min 0  sec\r[Building BooPHF]  28.3 %   elapsed:   0 min 0  sec   remaining:   0 min 0  sec\r[Building BooPHF]  28.5 %   elapsed:   0 min 0  sec   remaining:   0 min 0  sec\r[Building BooPHF]  28.6 %   elapsed:   0 min 0  sec   remaining:   0 min 0  sec\r[Building BooPHF]  28.5 %   elapsed:   0 min 0  sec   remaining:   0 min 0  sec\r[Building BooPHF]  28.7 %   elapsed:   0 min 0  sec   remaining:   0 min 0  sec\r[Building BooPHF]  28.9 %   elapsed:   0 min 0  sec   remaining:   0 min 0  sec\r[Building BooPHF]  28.9 %   elapsed:   0 min 0  sec   remaining:   0 min 0  sec\r[Building BooPHF]  29.1 %   elapsed:   0 min 0  sec   remaining:   0 min 0  sec\r[Building BooPHF]  29.1 %   elapsed:   0 min 0  sec   remaining:   0 min 0  sec\r[Building BooPHF]  29.3 %   elapsed:   0 min 0  sec   remaining:   0 min 0  sec\r[Building BooPHF]  29.3 %   elapsed:   0 min 0  sec   remaining:   0 min 0  sec\r[Building BooPHF]  29.5 %   elapsed:   0 min 0  sec   remaining:   0 min 0  sec\r[Building BooPHF]  29.5 %   elapsed:   0 min 0  sec   remaining:   0 min 0  sec\r[Building BooPHF]  29.7 %   elapsed:   0 min 0  sec   remaining:   0 min 0  sec\r[Building BooPHF]  29.7 %   elapsed:   0 min 0  sec   remaining:   0 min 0  sec\r[Building BooPHF]  29.9 %   elapsed:   0 min 0  sec   remaining:   0 min 0  sec\r[Building BooPHF]  29.9 %   elapsed:   0 min 0  sec   remaining:   0 min 0  sec\r[Building BooPHF]  30.1 %   elapsed:   0 min 0  sec   remaining:   0 min 0  sec\r[Building BooPHF]  30.1 %   elapsed:   0 min 0  sec   remaining:   0 min 0  sec\r[Building BooPHF]  30.3 %   elapsed:   0 min 0  sec   remaining:   0 min 0  sec\r[Building BooPHF]  30.3 %   elapsed:   0 min 0  sec   remaining:   0 min 0  sec\r[Building BooPHF]  30.5 %   elapsed:   0 min 0  sec   remaining:   0 min 0  sec\r[Building BooPHF]  30.5 %   elapsed:   0 min 0  sec   remaining:   0 min 0  sec\r[Building BooPHF]  30.7 %   elapsed:   0 min 0  sec   remaining:   0 min 0  sec\r[Building BooPHF]  30.7 %   elapsed:   0 min 0  sec   remaining:   0 min 0  sec\r[Building BooPHF]  30.9 %   elapsed:   0 min 0  sec   remaining:   0 min 0  sec\r[Building BooPHF]  30.9 %   elapsed:   0 min 0  sec   remaining:   0 min 0  sec\r[Building BooPHF]  31.1 %   elapsed:   0 min 0  sec   remaining:   0 min 0  sec\r[Building BooPHF]  31.1 %   elapsed:   0 min 0  sec   remaining:   0 min 0  sec\r[Building BooPHF]  31.3 %   elapsed:   0 min 0  sec   remaining:   0 min 0  sec\r[Building BooPHF]  31.3 %   elapsed:   0 min 0  sec   remaining:   0 min 0  sec\r[Building BooPHF]  31.5 %   elapsed:   0 min 0  sec   remaining:   0 min 0  sec\r[Building BooPHF]  31.5 %   elapsed:   0 min 0  sec   remaining:   0 min 0  sec\r[Building BooPHF]  31.7 %   elapsed:   0 min 0  sec   remaining:   0 min 0  sec\r[Building BooPHF]  31.7 %   elapsed:   0 min 0  sec   remaining:   0 min 0  sec\r[Building BooPHF]  31.9 %   elapsed:   0 min 0  sec   remaining:   0 min 0  sec\r[Building BooPHF]  31.9 %   elapsed:   0 min 0  sec   remaining:   0 min 0  sec\r[Building BooPHF]  32.1 %   elapsed:   0 min 0  sec   remaining:   0 min 0  sec\r[Building BooPHF]  32.1 %   elapsed:   0 min 0  sec   remaining:   0 min 0  sec\r[Building BooPHF]  32.3 %   elapsed:   0 min 0  sec   remaining:   0 min 0  sec\r[Building BooPHF]  32.3 %   elapsed:   0 min 0  sec   remaining:   0 min 0  sec\r[Building BooPHF]  32.5 %   elapsed:   0 min 0  sec   remaining:   0 min 0  sec\r[Building BooPHF]  32.5 %   elapsed:   0 min 0  sec   remaining:   0 min 0  sec\r[Building BooPHF]  32.7 %   elapsed:   0 min 0  sec   remaining:   0 min 0  sec\r[Building BooPHF]  32.7 %   elapsed:   0 min 0  sec   remaining:   0 min 0  sec\r[Building BooPHF]  32.9 %   elapsed:   0 min 0  sec   remaining:   0 min 0  sec\r[Building BooPHF]  32.9 %   elapsed:   0 min 0  sec   remaining:   0 min 0  sec\r[Building BooPHF]  33.1 %   elapsed:   0 min 0  sec   remaining:   0 min 0  sec\r[Building BooPHF]  33.1 %   elapsed:   0 min 0  sec   remaining:   0 min 0  sec\r[Building BooPHF]  33.3 %   elapsed:   0 min 0  sec   remaining:   0 min 0  sec\r[Building BooPHF]  33.3 %   elapsed:   0 min 0  sec   remaining:   0 min 0  sec\r[Building BooPHF]  33.5 %   elapsed:   0 min 0  sec   remaining:   0 min 0  sec\r[Building BooPHF]  33.5 %   elapsed:   0 min 0  sec   remaining:   0 min 0  sec\r[Building BooPHF]  33.7 %   elapsed:   0 min 0  sec   remaining:   0 min 0  sec\r[Building BooPHF]  33.7 %   elapsed:   0 min 0  sec   remaining:   0 min 0  sec\r[Building BooPHF]  33.9 %   elapsed:   0 min 0  sec   remaining:   0 min 0  sec\r[Building BooPHF]  33.9 %   elapsed:   0 min 0  sec   remaining:   0 min 0  sec\r[Building BooPHF]  34.1 %   elapsed:   0 min 0  sec   remaining:   0 min 0  sec\r[Building BooPHF]  34.1 %   elapsed:   0 min 0  sec   remaining:   0 min 0  sec\r[Building BooPHF]  34.3 %   elapsed:   0 min 0  sec   remaining:   0 min 0  sec\r[Building BooPHF]  34.3 %   elapsed:   0 min 0  sec   remaining:   0 min 0  sec\r[Building BooPHF]  34.5 %   elapsed:   0 min 0  sec   remaining:   0 min 0  sec\r[Building BooPHF]  34.5 %   elapsed:   0 min 0  sec   remaining:   0 min 0  sec\r[Building BooPHF]  34.7 %   elapsed:   0 min 0  sec   remaining:   0 min 0  sec\r[Building BooPHF]  34.7 %   elapsed:   0 min 0  sec   remaining:   0 min 0  sec\r[Building BooPHF]  34.9 %   elapsed:   0 min 0  sec   remaining:   0 min 0  sec\r[Building BooPHF]  34.9 %   elapsed:   0 min 0  sec   remaining:   0 min 0  sec\r[Building BooPHF]  35.1 %   elapsed:   0 min 0  sec   remaining:   0 min 0  sec\r[Building BooPHF]  35.1 %   elapsed:   0 min 0  sec   remaining:   0 min 0  sec\r[Building BooPHF]  35.3 %   elapsed:   0 min 0  sec   remaining:   0 min 0  sec\r[Building BooPHF]  35.3 %   elapsed:   0 min 0  sec   remaining:   0 min 0  sec\r[Building BooPHF]  35.5 %   elapsed:   0 min 0  sec   remaining:   0 min 0  sec\r[Building BooPHF]  35.5 %   elapsed:   0 min 0  sec   remaining:   0 min 0  sec\r[Building BooPHF]  35.7 %   elapsed:   0 min 0  sec   remaining:   0 min 0  sec\r[Building BooPHF]  35.7 %   elapsed:   0 min 0  sec   remaining:   0 min 0  sec\r[Building BooPHF]  35.9 %   elapsed:   0 min 0  sec   remaining:   0 min 0  sec\r[Building BooPHF]  35.9 %   elapsed:   0 min 0  sec   remaining:   0 min 0  sec\r[Building BooPHF]  36.1 %   elapsed:   0 min 0  sec   remaining:   0 min 0  sec\r[Building BooPHF]  36.1 %   elapsed:   0 min 0  sec   remaining:   0 min 0  sec\r[Building BooPHF]  36.3 %   elapsed:   0 min 0  sec   remaining:   0 min 0  sec\r[Building BooPHF]  36.3 %   elapsed:   0 min 0  sec   remaining:   0 min 0  sec\r[Building BooPHF]  36.5 %   elapsed:   0 min 0  sec   remaining:   0 min 0  sec\r[Building BooPHF]  36.5 %   elapsed:   0 min 0  sec   remaining:   0 min 0  sec\r[Building BooPHF]  36.7 %   elapsed:   0 min 0  sec   remaining:   0 min 0  sec\r[Building BooPHF]  36.7 %   elapsed:   0 min 0  sec   remaining:   0 min 0  sec\r[Building BooPHF]  36.9 %   elapsed:   0 min 0  sec   remaining:   0 min 0  sec\r[Building BooPHF]  36.9 %   elapsed:   0 min 0  sec   remaining:   0 min 0  sec\r[Building BooPHF]  37.1 %   elapsed:   0 min 0  sec   remaining:   0 min 0  sec\r[Building BooPHF]  37.1 %   elapsed:   0 min 0  sec   remaining:   0 min 0  sec\r[Building BooPHF]  37.3 %   elapsed:   0 min 0  sec   remaining:   0 min 0  sec\r[Building BooPHF]  37.3 %   elapsed:   0 min 0  sec   remaining:   0 min 0  sec\r[Building BooPHF]  37.5 %   elapsed:   0 min 0  sec   remaining:   0 min 0  sec\r[Building BooPHF]  37.5 %   elapsed:   0 min 0  sec   remaining:   0 min 0  sec\r[Building BooPHF]  37.7 %   elapsed:   0 min 0  sec   remaining:   0 min 0  sec\r[Building BooPHF]  37.7 %   elapsed:   0 min 0  sec   remaining:   0 min 0  sec\r[Building BooPHF]  37.9 %   elapsed:   0 min 0  sec   remaining:   0 min 0  sec\r[Building BooPHF]  37.9 %   elapsed:   0 min 0  sec   remaining:   0 min 0  sec\r[Building BooPHF]  38.1 %   elapsed:   0 min 0  sec   remaining:   0 min 0  sec\r[Building BooPHF]  38.1 %   elapsed:   0 min 0  sec   remaining:   0 min 0  sec\r[Building BooPHF]  38.3 %   elapsed:   0 min 0  sec   remaining:   0 min 0  sec\r[Building BooPHF]  38.3 %   elapsed:   0 min 0  sec   remaining:   0 min 0  sec\r[Building BooPHF]  38.5 %   elapsed:   0 min 0  sec   remaining:   0 min 0  sec\r[Building BooPHF]  38.5 %   elapsed:   0 min 0  sec   remaining:   0 min 0  sec\r[Building BooPHF]  38.7 %   elapsed:   0 min 0  sec   remaining:   0 min 0  sec\r[Building BooPHF]  38.7 %   elapsed:   0 min 0  sec   remaining:   0 min 0  sec\r[Building BooPHF]  38.9 %   elapsed:   0 min 0  sec   remaining:   0 min 0  sec\r[Building BooPHF]  38.9 %   elapsed:   0 min 0  sec   remaining:   0 min 0  sec\r[Building BooPHF]  39.1 %   elapsed:   0 min 0  sec   remaining:   0 min 0  sec\r[Building BooPHF]  39.1 %   elapsed:   0 min 0  sec   remaining:   0 min 0  sec\r[Building BooPHF]  39.3 %   elapsed:   0 min 0  sec   remaining:   0 min 0  sec\r[Building BooPHF]  39.3 %   elapsed:   0 min 0  sec   remaining:   0 min 0  sec\r[Building BooPHF]  39.5 %   elapsed:   0 min 0  sec   remaining:   0 min 0  sec\r[Building BooPHF]  39.6 %   elapsed:   0 min 0  sec   remaining:   0 min 0  sec\r[Building BooPHF]  39.7 %   elapsed:   0 min 0  sec   remaining:   0 min 0  sec\r[Building BooPHF]  39.7 %   elapsed:   0 min 0  sec   remaining:   0 min 0  sec\r[Building BooPHF]  39.8 %   elapsed:   0 min 0  sec   remaining:   0 min 0  sec\r[Building BooPHF]  39.9 %   elapsed:   0 min 0  sec   remaining:   0 min 0  sec\r[Building BooPHF]  40   %   elapsed:   0 min 0  sec   remaining:   0 min 0  sec\r[Building BooPHF]  40.2 %   elapsed:   0 min 0  sec   remaining:   0 min 0  sec\r[Building BooPHF]  40.3 %   elapsed:   0 min 0  sec   remaining:   0 min 0  sec\r[Building BooPHF]  40.4 %   elapsed:   0 min 0  sec   remaining:   0 min 0  sec\r[Building BooPHF]  40.4 %   elapsed:   0 min 0  sec   remaining:   0 min 0  sec\r[Building BooPHF]  40.6 %   elapsed:   0 min 0  sec   remaining:   0 min 0  sec\r[Building BooPHF]  40.6 %   elapsed:   0 min 0  sec   remaining:   0 min 0  sec\r[Building BooPHF]  40.8 %   elapsed:   0 min 0  sec   remaining:   0 min 0  sec\r[Building BooPHF]  40.8 %   elapsed:   0 min 0  sec   remaining:   0 min 0  sec\r[Building BooPHF]  41   %   elapsed:   0 min 0  sec   remaining:   0 min 0  sec\r[Building BooPHF]  41   %   elapsed:   0 min 0  sec   remaining:   0 min 0  sec\r[Building BooPHF]  41.2 %   elapsed:   0 min 0  sec   remaining:   0 min 0  sec\r[Building BooPHF]  41.3 %   elapsed:   0 min 0  sec   remaining:   0 min 0  sec\r[Building BooPHF]  41.4 %   elapsed:   0 min 0  sec   remaining:   0 min 0  sec\r[Building BooPHF]  41.4 %   elapsed:   0 min 0  sec   remaining:   0 min 0  sec\r[Building BooPHF]  41.5 %   elapsed:   0 min 0  sec   remaining:   0 min 0  sec\r[Building BooPHF]  41.7 %   elapsed:   0 min 0  sec   remaining:   0 min 0  sec\r[Building BooPHF]  41.8 %   elapsed:   0 min 0  sec   remaining:   0 min 0  sec\r[Building BooPHF]  41.9 %   elapsed:   0 min 0  sec   remaining:   0 min 0  sec\r[Building BooPHF]  41.7 %   elapsed:   0 min 0  sec   remaining:   0 min 0  sec\r[Building BooPHF]  42.1 %   elapsed:   0 min 0  sec   remaining:   0 min 0  sec\r[Building BooPHF]  42.2 %   elapsed:   0 min 0  sec   remaining:   0 min 0  sec\r[Building BooPHF]  42.3 %   elapsed:   0 min 0  sec   remaining:   0 min 0  sec\r[Building BooPHF]  42.4 %   elapsed:   0 min 0  sec   remaining:   0 min 0  sec\r[Building BooPHF]  42.4 %   elapsed:   0 min 0  sec   remaining:   0 min 0  sec\r[Building BooPHF]  42.6 %   elapsed:   0 min 0  sec   remaining:   0 min 0  sec\r[Building BooPHF]  42.7 %   elapsed:   0 min 0  sec   remaining:   0 min 0  sec\r[Building BooPHF]  42.8 %   elapsed:   0 min 0  sec   remaining:   0 min 0  sec\r[Building BooPHF]  42.9 %   elapsed:   0 min 0  sec   remaining:   0 min 0  sec\r[Building BooPHF]  43   %   elapsed:   0 min 0  sec   remaining:   0 min 0  sec\r[Building BooPHF]  43   %   elapsed:   0 min 0  sec   remaining:   0 min 0  sec\r[Building BooPHF]  43.2 %   elapsed:   0 min 0  sec   remaining:   0 min 0  sec\r[Building BooPHF]  43.2 %   elapsed:   0 min 0  sec   remaining:   0 min 0  sec\r[Building BooPHF]  43.4 %   elapsed:   0 min 0  sec   remaining:   0 min 0  sec\r[Building BooPHF]  43.4 %   elapsed:   0 min 0  sec   remaining:   0 min 0  sec\r[Building BooPHF]  43.6 %   elapsed:   0 min 0  sec   remaining:   0 min 0  sec\r[Building BooPHF]  43.6 %   elapsed:   0 min 0  sec   remaining:   0 min 0  sec\r[Building BooPHF]  43.8 %   elapsed:   0 min 0  sec   remaining:   0 min 0  sec\r[Building BooPHF]  43.8 %   elapsed:   0 min 0  sec   remaining:   0 min 0  sec\r[Building BooPHF]  44   %   elapsed:   0 min 0  sec   remaining:   0 min 0  sec\r[Building BooPHF]  44   %   elapsed:   0 min 0  sec   remaining:   0 min 0  sec\r[Building BooPHF]  44.2 %   elapsed:   0 min 0  sec   remaining:   0 min 0  sec\r[Building BooPHF]  44.2 %   elapsed:   0 min 0  sec   remaining:   0 min 0  sec\r[Building BooPHF]  44.3 %   elapsed:   0 min 0  sec   remaining:   0 min 0  sec\r[Building BooPHF]  44.4 %   elapsed:   0 min 0  sec   remaining:   0 min 0  sec\r[Building BooPHF]  44.6 %   elapsed:   0 min 0  sec   remaining:   0 min 0  sec\r[Building BooPHF]  44.7 %   elapsed:   0 min 0  sec   remaining:   0 min 0  sec\r[Building BooPHF]  44.8 %   elapsed:   0 min 0  sec   remaining:   0 min 0  sec\r[Building BooPHF]  44.9 %   elapsed:   0 min 0  sec   remaining:   0 min 0  sec\r[Building BooPHF]  45   %   elapsed:   0 min 0  sec   remaining:   0 min 0  sec\r[Building BooPHF]  45   %   elapsed:   0 min 0  sec   remaining:   0 min 0  sec\r[Building BooPHF]  45.2 %   elapsed:   0 min 0  sec   remaining:   0 min 0  sec\r[Building BooPHF]  45.3 %   elapsed:   0 min 0  sec   remaining:   0 min 0  sec\r[Building BooPHF]  45.3 %   elapsed:   0 min 0  sec   remaining:   0 min 0  sec\r[Building BooPHF]  45.5 %   elapsed:   0 min 0  sec   remaining:   0 min 0  sec\r[Building BooPHF]  45.5 %   elapsed:   0 min 0  sec   remaining:   0 min 0  sec\r[Building BooPHF]  45.7 %   elapsed:   0 min 0  sec   remaining:   0 min 0  sec\r[Building BooPHF]  45.7 %   elapsed:   0 min 0  sec   remaining:   0 min 0  sec\r[Building BooPHF]  45.9 %   elapsed:   0 min 0  sec   remaining:   0 min 0  sec\r[Building BooPHF]  45.9 %   elapsed:   0 min 0  sec   remaining:   0 min 0  sec\r[Building BooPHF]  46   %   elapsed:   0 min 0  sec   remaining:   0 min 0  sec\r[Building BooPHF]  46.2 %   elapsed:   0 min 0  sec   remaining:   0 min 0  sec\r[Building BooPHF]  46.3 %   elapsed:   0 min 0  sec   remaining:   0 min 0  sec\r[Building BooPHF]  46.3 %   elapsed:   0 min 0  sec   remaining:   0 min 0  sec\r[Building BooPHF]  46.5 %   elapsed:   0 min 0  sec   remaining:   0 min 0  sec\r[Building BooPHF]  46.6 %   elapsed:   0 min 0  sec   remaining:   0 min 0  sec\r[Building BooPHF]  46.7 %   elapsed:   0 min 0  sec   remaining:   0 min 0  sec\r[Building BooPHF]  46.7 %   elapsed:   0 min 0  sec   remaining:   0 min 0  sec\r[Building BooPHF]  46.8 %   elapsed:   0 min 0  sec   remaining:   0 min 0  sec\r[Building BooPHF]  46.9 %   elapsed:   0 min 0  sec   remaining:   0 min 0  sec\r[Building BooPHF]  47.1 %   elapsed:   0 min 0  sec   remaining:   0 min 0  sec\r[Building BooPHF]  47.2 %   elapsed:   0 min 0  sec   remaining:   0 min 0  sec\r[Building BooPHF]  47.2 %   elapsed:   0 min 0  sec   remaining:   0 min 0  sec\r[Building BooPHF]  47.3 %   elapsed:   0 min 0  sec   remaining:   0 min 0  sec\r[Building BooPHF]  47.5 %   elapsed:   0 min 0  sec   remaining:   0 min 0  sec\r[Building BooPHF]  47.5 %   elapsed:   0 min 0  sec   remaining:   0 min 0  sec\r[Building BooPHF]  47.7 %   elapsed:   0 min 0  sec   remaining:   0 min 0  sec\r[Building BooPHF]  47.7 %   elapsed:   0 min 0  sec   remaining:   0 min 0  sec\r[Building BooPHF]  47.9 %   elapsed:   0 min 0  sec   remaining:   0 min 0  sec\r[Building BooPHF]  47.9 %   elapsed:   0 min 0  sec   remaining:   0 min 0  sec\r[Building BooPHF]  48.1 %   elapsed:   0 min 0  sec   remaining:   0 min 0  sec\r[Building BooPHF]  48.1 %   elapsed:   0 min 0  sec   remaining:   0 min 0  sec\r[Building BooPHF]  48.3 %   elapsed:   0 min 0  sec   remaining:   0 min 0  sec\r[Building BooPHF]  48.3 %   elapsed:   0 min 0  sec   remaining:   0 min 0  sec\r[Building BooPHF]  48.5 %   elapsed:   0 min 0  sec   remaining:   0 min 0  sec\r[Building BooPHF]  48.6 %   elapsed:   0 min 0  sec   remaining:   0 min 0  sec\r[Building BooPHF]  48.7 %   elapsed:   0 min 0  sec   remaining:   0 min 0  sec\r[Building BooPHF]  48.8 %   elapsed:   0 min 0  sec   remaining:   0 min 0  sec\r[Building BooPHF]  48.9 %   elapsed:   0 min 0  sec   remaining:   0 min 0  sec\r[Building BooPHF]  49   %   elapsed:   0 min 0  sec   remaining:   0 min 0  sec\r[Building BooPHF]  49.1 %   elapsed:   0 min 0  sec   remaining:   0 min 0  sec\r[Building BooPHF]  49.1 %   elapsed:   0 min 0  sec   remaining:   0 min 0  sec\r[Building BooPHF]  49.3 %   elapsed:   0 min 0  sec   remaining:   0 min 0  sec\r[Building BooPHF]  49.3 %   elapsed:   0 min 0  sec   remaining:   0 min 0  sec\r[Building BooPHF]  49.5 %   elapsed:   0 min 0  sec   remaining:   0 min 0  sec\r[Building BooPHF]  49.5 %   elapsed:   0 min 0  sec   remaining:   0 min 0  sec\r[Building BooPHF]  49.7 %   elapsed:   0 min 0  sec   remaining:   0 min 0  sec\r[Building BooPHF]  49.7 %   elapsed:   0 min 0  sec   remaining:   0 min 0  sec\r[Building BooPHF]  49.8 %   elapsed:   0 min 0  sec   remaining:   0 min 0  sec\r[Building BooPHF]  50   %   elapsed:   0 min 0  sec   remaining:   0 min 0  sec\r[Building BooPHF]  50   %   elapsed:   0 min 0  sec   remaining:   0 min 0  sec\r[Building BooPHF]  50.2 %   elapsed:   0 min 0  sec   remaining:   0 min 0  sec\r[Building BooPHF]  50.3 %   elapsed:   0 min 0  sec   remaining:   0 min 0  sec\r[Building BooPHF]  50.4 %   elapsed:   0 min 0  sec   remaining:   0 min 0  sec\r[Building BooPHF]  50.4 %   elapsed:   0 min 0  sec   remaining:   0 min 0  sec\r[Building BooPHF]  50.6 %   elapsed:   0 min 0  sec   remaining:   0 min 0  sec\r[Building BooPHF]  50.6 %   elapsed:   0 min 0  sec   remaining:   0 min 0  sec\r[Building BooPHF]  50.8 %   elapsed:   0 min 0  sec   remaining:   0 min 0  sec\r[Building BooPHF]  50.8 %   elapsed:   0 min 0  sec   remaining:   0 min 0  sec\r[Building BooPHF]  51   %   elapsed:   0 min 0  sec   remaining:   0 min 0  sec\r[Building BooPHF]  51.1 %   elapsed:   0 min 0  sec   remaining:   0 min 0  sec\r[Building BooPHF]  51.2 %   elapsed:   0 min 0  sec   remaining:   0 min 0  sec\r[Building BooPHF]  51.3 %   elapsed:   0 min 0  sec   remaining:   0 min 0  sec\r[Building BooPHF]  51.3 %   elapsed:   0 min 0  sec   remaining:   0 min 0  sec\r[Building BooPHF]  51.4 %   elapsed:   0 min 0  sec   remaining:   0 min 0  sec\r[Building BooPHF]  51.6 %   elapsed:   0 min 0  sec   remaining:   0 min 0  sec\r[Building BooPHF]  51.7 %   elapsed:   0 min 0  sec   remaining:   0 min 0  sec\r[Building BooPHF]  51.7 %   elapsed:   0 min 0  sec   remaining:   0 min 0  sec\r[Building BooPHF]  51.9 %   elapsed:   0 min 0  sec   remaining:   0 min 0  sec\r[Building BooPHF]  51.9 %   elapsed:   0 min 0  sec   remaining:   0 min 0  sec\r[Building BooPHF]  52.1 %   elapsed:   0 min 0  sec   remaining:   0 min 0  sec\r[Building BooPHF]  52.1 %   elapsed:   0 min 0  sec   remaining:   0 min 0  sec\r[Building BooPHF]  52.2 %   elapsed:   0 min 0  sec   remaining:   0 min 0  sec\r[Building BooPHF]  52.3 %   elapsed:   0 min 0  sec   remaining:   0 min 0  sec\r[Building BooPHF]  52.5 %   elapsed:   0 min 0  sec   remaining:   0 min 0  sec\r[Building BooPHF]  52.5 %   elapsed:   0 min 0  sec   remaining:   0 min 0  sec\r[Building BooPHF]  52.7 %   elapsed:   0 min 0  sec   remaining:   0 min 0  sec\r[Building BooPHF]  52.7 %   elapsed:   0 min 0  sec   remaining:   0 min 0  sec\r[Building BooPHF]  52.9 %   elapsed:   0 min 0  sec   remaining:   0 min 0  sec\r[Building BooPHF]  52.9 %   elapsed:   0 min 0  sec   remaining:   0 min 0  sec\r[Building BooPHF]  53.1 %   elapsed:   0 min 0  sec   remaining:   0 min 0  sec\r[Building BooPHF]  53.1 %   elapsed:   0 min 0  sec   remaining:   0 min 0  sec\r[Building BooPHF]  53.3 %   elapsed:   0 min 0  sec   remaining:   0 min 0  sec\r[Building BooPHF]  53.3 %   elapsed:   0 min 0  sec   remaining:   0 min 0  sec\r[Building BooPHF]  53.5 %   elapsed:   0 min 0  sec   remaining:   0 min 0  sec\r[Building BooPHF]  53.5 %   elapsed:   0 min 0  sec   remaining:   0 min 0  sec\r[Building BooPHF]  53.7 %   elapsed:   0 min 0  sec   remaining:   0 min 0  sec\r[Building BooPHF]  53.7 %   elapsed:   0 min 0  sec   remaining:   0 min 0  sec\r[Building BooPHF]  53.9 %   elapsed:   0 min 0  sec   remaining:   0 min 0  sec\r[Building BooPHF]  53.9 %   elapsed:   0 min 0  sec   remaining:   0 min 0  sec\r[Building BooPHF]  54.1 %   elapsed:   0 min 0  sec   remaining:   0 min 0  sec\r[Building BooPHF]  54.2 %   elapsed:   0 min 0  sec   remaining:   0 min 0  sec\r[Building BooPHF]  54.3 %   elapsed:   0 min 0  sec   remaining:   0 min 0  sec\r[Building BooPHF]  54.3 %   elapsed:   0 min 0  sec   remaining:   0 min 0  sec\r[Building BooPHF]  54.4 %   elapsed:   0 min 0  sec   remaining:   0 min 0  sec\r[Building BooPHF]  54.6 %   elapsed:   0 min 0  sec   remaining:   0 min 0  sec\r[Building BooPHF]  54.6 %   elapsed:   0 min 0  sec   remaining:   0 min 0  sec\r[Building BooPHF]  54.8 %   elapsed:   0 min 0  sec   remaining:   0 min 0  sec\r[Building BooPHF]  54.8 %   elapsed:   0 min 0  sec   remaining:   0 min 0  sec\r[Building BooPHF]  55   %   elapsed:   0 min 0  sec   remaining:   0 min 0  sec\r[Building BooPHF]  55   %   elapsed:   0 min 0  sec   remaining:   0 min 0  sec\r[Building BooPHF]  55.2 %   elapsed:   0 min 0  sec   remaining:   0 min 0  sec\r[Building BooPHF]  55.2 %   elapsed:   0 min 0  sec   remaining:   0 min 0  sec\r[Building BooPHF]  55.4 %   elapsed:   0 min 0  sec   remaining:   0 min 0  sec\r[Building BooPHF]  55.4 %   elapsed:   0 min 0  sec   remaining:   0 min 0  sec\r[Building BooPHF]  55.6 %   elapsed:   0 min 0  sec   remaining:   0 min 0  sec\r[Building BooPHF]  55.6 %   elapsed:   0 min 0  sec   remaining:   0 min 0  sec\r[Building BooPHF]  55.8 %   elapsed:   0 min 0  sec   remaining:   0 min 0  sec\r[Building BooPHF]  55.8 %   elapsed:   0 min 0  sec   remaining:   0 min 0  sec\r[Building BooPHF]  55.9 %   elapsed:   0 min 0  sec   remaining:   0 min 0  sec\r[Building BooPHF]  56   %   elapsed:   0 min 0  sec   remaining:   0 min 0  sec\r[Building BooPHF]  56.2 %   elapsed:   0 min 0  sec   remaining:   0 min 0  sec\r[Building BooPHF]  56.3 %   elapsed:   0 min 0  sec   remaining:   0 min 0  sec\r[Building BooPHF]  56.3 %   elapsed:   0 min 0  sec   remaining:   0 min 0  sec\r[Building BooPHF]  56.5 %   elapsed:   0 min 0  sec   remaining:   0 min 0  sec\r[Building BooPHF]  56.5 %   elapsed:   0 min 0  sec   remaining:   0 min 0  sec\r[Building BooPHF]  56.7 %   elapsed:   0 min 0  sec   remaining:   0 min 0  sec\r[Building BooPHF]  56.7 %   elapsed:   0 min 0  sec   remaining:   0 min 0  sec\r[Building BooPHF]  56.9 %   elapsed:   0 min 0  sec   remaining:   0 min 0  sec\r[Building BooPHF]  56.9 %   elapsed:   0 min 0  sec   remaining:   0 min 0  sec\r[Building BooPHF]  57.1 %   elapsed:   0 min 0  sec   remaining:   0 min 0  sec\r[Building BooPHF]  57.2 %   elapsed:   0 min 0  sec   remaining:   0 min 0  sec\r[Building BooPHF]  57.3 %   elapsed:   0 min 0  sec   remaining:   0 min 0  sec\r[Building BooPHF]  57.3 %   elapsed:   0 min 0  sec   remaining:   0 min 0  sec\r[Building BooPHF]  57.5 %   elapsed:   0 min 0  sec   remaining:   0 min 0  sec\r[Building BooPHF]  57.5 %   elapsed:   0 min 0  sec   remaining:   0 min 0  sec\r[Building BooPHF]  57.7 %   elapsed:   0 min 0  sec   remaining:   0 min 0  sec\r[Building BooPHF]  57.8 %   elapsed:   0 min 0  sec   remaining:   0 min 0  sec\r[Building BooPHF]  57.8 %   elapsed:   0 min 0  sec   remaining:   0 min 0  sec\r[Building BooPHF]  58   %   elapsed:   0 min 0  sec   remaining:   0 min 0  sec\r[Building BooPHF]  58   %   elapsed:   0 min 0  sec   remaining:   0 min 0  sec\r[Building BooPHF]  58.2 %   elapsed:   0 min 0  sec   remaining:   0 min 0  sec\r[Building BooPHF]  58.2 %   elapsed:   0 min 0  sec   remaining:   0 min 0  sec\r[Building BooPHF]  58.4 %   elapsed:   0 min 0  sec   remaining:   0 min 0  sec\r[Building BooPHF]  58.5 %   elapsed:   0 min 0  sec   remaining:   0 min 0  sec\r[Building BooPHF]  58.6 %   elapsed:   0 min 0  sec   remaining:   0 min 0  sec\r[Building BooPHF]  58.6 %   elapsed:   0 min 0  sec   remaining:   0 min 0  sec\r[Building BooPHF]  58.8 %   elapsed:   0 min 0  sec   remaining:   0 min 0  sec\r[Building BooPHF]  58.8 %   elapsed:   0 min 0  sec   remaining:   0 min 0  sec\r[Building BooPHF]  59   %   elapsed:   0 min 0  sec   remaining:   0 min 0  sec\r[Building BooPHF]  59   %   elapsed:   0 min 0  sec   remaining:   0 min 0  sec\r[Building BooPHF]  59.2 %   elapsed:   0 min 0  sec   remaining:   0 min 0  sec\r[Building BooPHF]  59.2 %   elapsed:   0 min 0  sec   remaining:   0 min 0  sec\r[Building BooPHF]  59.4 %   elapsed:   0 min 0  sec   remaining:   0 min 0  sec\r[Building BooPHF]  59.4 %   elapsed:   0 min 0  sec   remaining:   0 min 0  sec\r[Building BooPHF]  59.6 %   elapsed:   0 min 0  sec   remaining:   0 min 0  sec\r[Building BooPHF]  59.6 %   elapsed:   0 min 0  sec   remaining:   0 min 0  sec\r[Building BooPHF]  59.8 %   elapsed:   0 min 0  sec   remaining:   0 min 0  sec\r[Building BooPHF]  59.8 %   elapsed:   0 min 0  sec   remaining:   0 min 0  sec\r[Building BooPHF]  59.9 %   elapsed:   0 min 0  sec   remaining:   0 min 0  sec\r[Building BooPHF]  60.1 %   elapsed:   0 min 0  sec   remaining:   0 min 0  sec\r[Building BooPHF]  60.2 %   elapsed:   0 min 0  sec   remaining:   0 min 0  sec\r[Building BooPHF]  60.3 %   elapsed:   0 min 0  sec   remaining:   0 min 0  sec\r[Building BooPHF]  60.4 %   elapsed:   0 min 0  sec   remaining:   0 min 0  sec\r[Building BooPHF]  60.4 %   elapsed:   0 min 0  sec   remaining:   0 min 0  sec\r[Building BooPHF]  60.6 %   elapsed:   0 min 0  sec   remaining:   0 min 0  sec\r[Building BooPHF]  60.6 %   elapsed:   0 min 0  sec   remaining:   0 min 0  sec\r[Building BooPHF]  60.7 %   elapsed:   0 min 0  sec   remaining:   0 min 0  sec\r[Building BooPHF]  60.9 %   elapsed:   0 min 0  sec   remaining:   0 min 0  sec\r[Building BooPHF]  60.9 %   elapsed:   0 min 0  sec   remaining:   0 min 0  sec\r[Building BooPHF]  61.1 %   elapsed:   0 min 0  sec   remaining:   0 min 0  sec\r[Building BooPHF]  61.1 %   elapsed:   0 min 0  sec   remaining:   0 min 0  sec\r[Building BooPHF]  61.3 %   elapsed:   0 min 0  sec   remaining:   0 min 0  sec\r[Building BooPHF]  61.3 %   elapsed:   0 min 0  sec   remaining:   0 min 0  sec\r[Building BooPHF]  61.5 %   elapsed:   0 min 0  sec   remaining:   0 min 0  sec\r[Building BooPHF]  61.5 %   elapsed:   0 min 0  sec   remaining:   0 min 0  sec\r[Building BooPHF]  61.7 %   elapsed:   0 min 0  sec   remaining:   0 min 0  sec\r[Building BooPHF]  61.7 %   elapsed:   0 min 0  sec   remaining:   0 min 0  sec\r[Building BooPHF]  61.9 %   elapsed:   0 min 0  sec   remaining:   0 min 0  sec\r[Building BooPHF]  61.9 %   elapsed:   0 min 0  sec   remaining:   0 min 0  sec\r[Building BooPHF]  62.1 %   elapsed:   0 min 0  sec   remaining:   0 min 0  sec\r[Building BooPHF]  62.2 %   elapsed:   0 min 0  sec   remaining:   0 min 0  sec\r[Building BooPHF]  62.2 %   elapsed:   0 min 0  sec   remaining:   0 min 0  sec\r[Building BooPHF]  62.4 %   elapsed:   0 min 0  sec   remaining:   0 min 0  sec\r[Building BooPHF]  62.4 %   elapsed:   0 min 0  sec   remaining:   0 min 0  sec\r[Building BooPHF]  62.6 %   elapsed:   0 min 0  sec   remaining:   0 min 0  sec\r[Building BooPHF]  62.7 %   elapsed:   0 min 0  sec   remaining:   0 min 0  sec\r[Building BooPHF]  62.8 %   elapsed:   0 min 0  sec   remaining:   0 min 0  sec\r[Building BooPHF]  62.8 %   elapsed:   0 min 0  sec   remaining:   0 min 0  sec\r[Building BooPHF]  63   %   elapsed:   0 min 0  sec   remaining:   0 min 0  sec\r[Building BooPHF]  63   %   elapsed:   0 min 0  sec   remaining:   0 min 0  sec\r[Building BooPHF]  63.2 %   elapsed:   0 min 0  sec   remaining:   0 min 0  sec\r[Building BooPHF]  63.2 %   elapsed:   0 min 0  sec   remaining:   0 min 0  sec\r[Building BooPHF]  63.3 %   elapsed:   0 min 0  sec   remaining:   0 min 0  sec\r[Building BooPHF]  63.4 %   elapsed:   0 min 0  sec   remaining:   0 min 0  sec\r[Building BooPHF]  63.6 %   elapsed:   0 min 0  sec   remaining:   0 min 0  sec\r[Building BooPHF]  63.7 %   elapsed:   0 min 0  sec   remaining:   0 min 0  sec\r[Building BooPHF]  63.8 %   elapsed:   0 min 0  sec   remaining:   0 min 0  sec\r[Building BooPHF]  63.8 %   elapsed:   0 min 0  sec   remaining:   0 min 0  sec\r[Building BooPHF]  64   %   elapsed:   0 min 0  sec   remaining:   0 min 0  sec\r[Building BooPHF]  64   %   elapsed:   0 min 0  sec   remaining:   0 min 0  sec\r[Building BooPHF]  64.1 %   elapsed:   0 min 0  sec   remaining:   0 min 0  sec\r[Building BooPHF]  64.2 %   elapsed:   0 min 0  sec   remaining:   0 min 0  sec\r[Building BooPHF]  64.3 %   elapsed:   0 min 0  sec   remaining:   0 min 0  sec\r[Building BooPHF]  64.4 %   elapsed:   0 min 0  sec   remaining:   0 min 0  sec\r[Building BooPHF]  64.6 %   elapsed:   0 min 0  sec   remaining:   0 min 0  sec\r[Building BooPHF]  64.7 %   elapsed:   0 min 0  sec   remaining:   0 min 0  sec\r[Building BooPHF]  64.8 %   elapsed:   0 min 0  sec   remaining:   0 min 0  sec\r[Building BooPHF]  64.9 %   elapsed:   0 min 0  sec   remaining:   0 min 0  sec\r[Building BooPHF]  64.9 %   elapsed:   0 min 0  sec   remaining:   0 min 0  sec\r[Building BooPHF]  65.1 %   elapsed:   0 min 0  sec   remaining:   0 min 0  sec\r[Building BooPHF]  65.1 %   elapsed:   0 min 0  sec   remaining:   0 min 0  sec\r[Building BooPHF]  65.3 %   elapsed:   0 min 0  sec   remaining:   0 min 0  sec\r[Building BooPHF]  65.3 %   elapsed:   0 min 0  sec   remaining:   0 min 0  sec\r[Building BooPHF]  65.5 %   elapsed:   0 min 0  sec   remaining:   0 min 0  sec\r[Building BooPHF]  65.5 %   elapsed:   0 min 0  sec   remaining:   0 min 0  sec\r[Building BooPHF]  65.7 %   elapsed:   0 min 0  sec   remaining:   0 min 0  sec\r[Building BooPHF]  65.7 %   elapsed:   0 min 0  sec   remaining:   0 min 0  sec\r[Building BooPHF]  65.9 %   elapsed:   0 min 0  sec   remaining:   0 min 0  sec\r[Building BooPHF]  65.9 %   elapsed:   0 min 0  sec   remaining:   0 min 0  sec\r[Building BooPHF]  66.1 %   elapsed:   0 min 0  sec   remaining:   0 min 0  sec\r[Building BooPHF]  66.2 %   elapsed:   0 min 0  sec   remaining:   0 min 0  sec\r[Building BooPHF]  66.3 %   elapsed:   0 min 0  sec   remaining:   0 min 0  sec\r[Building BooPHF]  66.4 %   elapsed:   0 min 0  sec   remaining:   0 min 0  sec\r[Building BooPHF]  66.4 %   elapsed:   0 min 0  sec   remaining:   0 min 0  sec\r[Building BooPHF]  66.6 %   elapsed:   0 min 0  sec   remaining:   0 min 0  sec\r[Building BooPHF]  66.6 %   elapsed:   0 min 0  sec   remaining:   0 min 0  sec\r[Building BooPHF]  66.8 %   elapsed:   0 min 0  sec   remaining:   0 min 0  sec\r[Building BooPHF]  66.8 %   elapsed:   0 min 0  sec   remaining:   0 min 0  sec\r[Building BooPHF]  67   %   elapsed:   0 min 0  sec   remaining:   0 min 0  sec\r[Building BooPHF]  67   %   elapsed:   0 min 0  sec   remaining:   0 min 0  sec\r[Building BooPHF]  67.2 %   elapsed:   0 min 0  sec   remaining:   0 min 0  sec\r[Building BooPHF]  67.2 %   elapsed:   0 min 0  sec   remaining:   0 min 0  sec\r[Building BooPHF]  67.4 %   elapsed:   0 min 0  sec   remaining:   0 min 0  sec\r[Building BooPHF]  67.4 %   elapsed:   0 min 0  sec   remaining:   0 min 0  sec\r[Building BooPHF]  67.6 %   elapsed:   0 min 0  sec   remaining:   0 min 0  sec\r[Building BooPHF]  67.6 %   elapsed:   0 min 0  sec   remaining:   0 min 0  sec\r[Building BooPHF]  67.8 %   elapsed:   0 min 0  sec   remaining:   0 min 0  sec\r[Building BooPHF]  67.8 %   elapsed:   0 min 0  sec   remaining:   0 min 0  sec\r[Building BooPHF]  68   %   elapsed:   0 min 0  sec   remaining:   0 min 0  sec\r[Building BooPHF]  68   %   elapsed:   0 min 0  sec   remaining:   0 min 0  sec\r[Building BooPHF]  68.2 %   elapsed:   0 min 0  sec   remaining:   0 min 0  sec\r[Building BooPHF]  68.2 %   elapsed:   0 min 0  sec   remaining:   0 min 0  sec\r[Building BooPHF]  68.4 %   elapsed:   0 min 0  sec   remaining:   0 min 0  sec\r[Building BooPHF]  68.5 %   elapsed:   0 min 0  sec   remaining:   0 min 0  sec\r[Building BooPHF]  68.6 %   elapsed:   0 min 0  sec   remaining:   0 min 0  sec\r[Building BooPHF]  68.7 %   elapsed:   0 min 0  sec   remaining:   0 min 0  sec\r[Building BooPHF]  68.8 %   elapsed:   0 min 0  sec   remaining:   0 min 0  sec\r[Building BooPHF]  68.9 %   elapsed:   0 min 0  sec   remaining:   0 min 0  sec\r[Building BooPHF]  69   %   elapsed:   0 min 0  sec   remaining:   0 min 0  sec\r[Building BooPHF]  69.1 %   elapsed:   0 min 0  sec   remaining:   0 min 0  sec\r[Building BooPHF]  69.2 %   elapsed:   0 min 0  sec   remaining:   0 min 0  sec\r[Building BooPHF]  69.3 %   elapsed:   0 min 0  sec   remaining:   0 min 0  sec\r[Building BooPHF]  69.3 %   elapsed:   0 min 0  sec   remaining:   0 min 0  sec\r[Building BooPHF]  69.5 %   elapsed:   0 min 0  sec   remaining:   0 min 0  sec\r[Building BooPHF]  69.5 %   elapsed:   0 min 0  sec   remaining:   0 min 0  sec\r[Building BooPHF]  69.7 %   elapsed:   0 min 0  sec   remaining:   0 min 0  sec\r[Building BooPHF]  69.7 %   elapsed:   0 min 0  sec   remaining:   0 min 0  sec\r[Building BooPHF]  69.9 %   elapsed:   0 min 0  sec   remaining:   0 min 0  sec\r[Building BooPHF]  69.9 %   elapsed:   0 min 0  sec   remaining:   0 min 0  sec\r[Building BooPHF]  70.1 %   elapsed:   0 min 0  sec   remaining:   0 min 0  sec\r[Building BooPHF]  70.1 %   elapsed:   0 min 0  sec   remaining:   0 min 0  sec\r[Building BooPHF]  70.3 %   elapsed:   0 min 0  sec   remaining:   0 min 0  sec\r[Building BooPHF]  70.3 %   elapsed:   0 min 0  sec   remaining:   0 min 0  sec\r[Building BooPHF]  70.5 %   elapsed:   0 min 0  sec   remaining:   0 min 0  sec\r[Building BooPHF]  70.5 %   elapsed:   0 min 0  sec   remaining:   0 min 0  sec\r[Building BooPHF]  70.7 %   elapsed:   0 min 0  sec   remaining:   0 min 0  sec\r[Building BooPHF]  70.7 %   elapsed:   0 min 0  sec   remaining:   0 min 0  sec\r[Building BooPHF]  70.9 %   elapsed:   0 min 0  sec   remaining:   0 min 0  sec\r[Building BooPHF]  70.9 %   elapsed:   0 min 0  sec   remaining:   0 min 0  sec\r[Building BooPHF]  71.1 %   elapsed:   0 min 0  sec   remaining:   0 min 0  sec\r[Building BooPHF]  71.1 %   elapsed:   0 min 0  sec   remaining:   0 min 0  sec\r[Building BooPHF]  71.3 %   elapsed:   0 min 0  sec   remaining:   0 min 0  sec\r[Building BooPHF]  71.3 %   elapsed:   0 min 0  sec   remaining:   0 min 0  sec\r[Building BooPHF]  71.5 %   elapsed:   0 min 0  sec   remaining:   0 min 0  sec\r[Building BooPHF]  71.5 %   elapsed:   0 min 0  sec   remaining:   0 min 0  sec\r[Building BooPHF]  71.7 %   elapsed:   0 min 0  sec   remaining:   0 min 0  sec\r[Building BooPHF]  71.8 %   elapsed:   0 min 0  sec   remaining:   0 min 0  sec\r[Building BooPHF]  71.8 %   elapsed:   0 min 0  sec   remaining:   0 min 0  sec\r[Building BooPHF]  72   %   elapsed:   0 min 0  sec   remaining:   0 min 0  sec\r[Building BooPHF]  72.1 %   elapsed:   0 min 0  sec   remaining:   0 min 0  sec\r[Building BooPHF]  72.2 %   elapsed:   0 min 0  sec   remaining:   0 min 0  sec\r[Building BooPHF]  72.2 %   elapsed:   0 min 0  sec   remaining:   0 min 0  sec\r[Building BooPHF]  72.4 %   elapsed:   0 min 0  sec   remaining:   0 min 0  sec\r[Building BooPHF]  72.4 %   elapsed:   0 min 0  sec   remaining:   0 min 0  sec\r[Building BooPHF]  72.6 %   elapsed:   0 min 0  sec   remaining:   0 min 0  sec\r[Building BooPHF]  72.7 %   elapsed:   0 min 0  sec   remaining:   0 min 0  sec\r[Building BooPHF]  72.8 %   elapsed:   0 min 0  sec   remaining:   0 min 0  sec\r[Building BooPHF]  72.9 %   elapsed:   0 min 0  sec   remaining:   0 min 0  sec\r[Building BooPHF]  73   %   elapsed:   0 min 0  sec   remaining:   0 min 0  sec\r[Building BooPHF]  73   %   elapsed:   0 min 0  sec   remaining:   0 min 0  sec\r[Building BooPHF]  73.1 %   elapsed:   0 min 0  sec   remaining:   0 min 0  sec\r[Building BooPHF]  73.3 %   elapsed:   0 min 0  sec   remaining:   0 min 0  sec\r[Building BooPHF]  73.4 %   elapsed:   0 min 0  sec   remaining:   0 min 0  sec\r[Building BooPHF]  73.4 %   elapsed:   0 min 0  sec   remaining:   0 min 0  sec\r[Building BooPHF]  73.6 %   elapsed:   0 min 0  sec   remaining:   0 min 0  sec\r[Building BooPHF]  73.6 %   elapsed:   0 min 0  sec   remaining:   0 min 0  sec\r[Building BooPHF]  73.8 %   elapsed:   0 min 0  sec   remaining:   0 min 0  sec\r[Building BooPHF]  73.8 %   elapsed:   0 min 0  sec   remaining:   0 min 0  sec\r[Building BooPHF]  74   %   elapsed:   0 min 0  sec   remaining:   0 min 0  sec\r[Building BooPHF]  74   %   elapsed:   0 min 0  sec   remaining:   0 min 0  sec\r[Building BooPHF]  74.2 %   elapsed:   0 min 0  sec   remaining:   0 min 0  sec\r[Building BooPHF]  74.3 %   elapsed:   0 min 0  sec   remaining:   0 min 0  sec\r[Building BooPHF]  74.3 %   elapsed:   0 min 0  sec   remaining:   0 min 0  sec\r[Building BooPHF]  74.4 %   elapsed:   0 min 0  sec   remaining:   0 min 0  sec\r[Building BooPHF]  74.5 %   elapsed:   0 min 0  sec   remaining:   0 min 0  sec\r[Building BooPHF]  74.6 %   elapsed:   0 min 0  sec   remaining:   0 min 0  sec\r[Building BooPHF]  74.8 %   elapsed:   0 min 0  sec   remaining:   0 min 0  sec\r[Building BooPHF]  74.9 %   elapsed:   0 min 0  sec   remaining:   0 min 0  sec\r[Building BooPHF]  74.9 %   elapsed:   0 min 0  sec   remaining:   0 min 0  sec\r[Building BooPHF]  75.1 %   elapsed:   0 min 0  sec   remaining:   0 min 0  sec\r[Building BooPHF]  75.2 %   elapsed:   0 min 0  sec   remaining:   0 min 0  sec\r[Building BooPHF]  75.3 %   elapsed:   0 min 0  sec   remaining:   0 min 0  sec\r[Building BooPHF]  75.3 %   elapsed:   0 min 0  sec   remaining:   0 min 0  sec\r[Building BooPHF]  75.5 %   elapsed:   0 min 0  sec   remaining:   0 min 0  sec\r[Building BooPHF]  75.5 %   elapsed:   0 min 0  sec   remaining:   0 min 0  sec\r[Building BooPHF]  75.7 %   elapsed:   0 min 0  sec   remaining:   0 min 0  sec\r[Building BooPHF]  75.7 %   elapsed:   0 min 0  sec   remaining:   0 min 0  sec\r[Building BooPHF]  75.9 %   elapsed:   0 min 0  sec   remaining:   0 min 0  sec\r[Building BooPHF]  75.9 %   elapsed:   0 min 0  sec   remaining:   0 min 0  sec\r[Building BooPHF]  76.1 %   elapsed:   0 min 0  sec   remaining:   0 min 0  sec\r[Building BooPHF]  76.1 %   elapsed:   0 min 0  sec   remaining:   0 min 0  sec\r[Building BooPHF]  76.3 %   elapsed:   0 min 0  sec   remaining:   0 min 0  sec\r[Building BooPHF]  76.3 %   elapsed:   0 min 0  sec   remaining:   0 min 0  sec\r[Building BooPHF]  76.5 %   elapsed:   0 min 0  sec   remaining:   0 min 0  sec\r[Building BooPHF]  76.5 %   elapsed:   0 min 0  sec   remaining:   0 min 0  sec\r[Building BooPHF]  76.7 %   elapsed:   0 min 0  sec   remaining:   0 min 0  sec\r[Building BooPHF]  76.7 %   elapsed:   0 min 0  sec   remaining:   0 min 0  sec\r[Building BooPHF]  76.9 %   elapsed:   0 min 0  sec   remaining:   0 min 0  sec\r[Building BooPHF]  76.9 %   elapsed:   0 min 0  sec   remaining:   0 min 0  sec\r[Building BooPHF]  77.1 %   elapsed:   0 min 0  sec   remaining:   0 min 0  sec\r[Building BooPHF]  77.2 %   elapsed:   0 min 0  sec   remaining:   0 min 0  sec\r[Building BooPHF]  77.3 %   elapsed:   0 min 0  sec   remaining:   0 min 0  sec\r[Building BooPHF]  77.3 %   elapsed:   0 min 0  sec   remaining:   0 min 0  sec\r[Building BooPHF]  77.5 %   elapsed:   0 min 0  sec   remaining:   0 min 0  sec\r[Building BooPHF]  77.5 %   elapsed:   0 min 0  sec   remaining:   0 min 0  sec\r[Building BooPHF]  77.6 %   elapsed:   0 min 0  sec   remaining:   0 min 0  sec\r[Building BooPHF]  77.7 %   elapsed:   0 min 0  sec   remaining:   0 min 0  sec\r[Building BooPHF]  77.8 %   elapsed:   0 min 0  sec   remaining:   0 min 0  sec\r[Building BooPHF]  78   %   elapsed:   0 min 0  sec   remaining:   0 min 0  sec\r[Building BooPHF]  78.1 %   elapsed:   0 min 0  sec   remaining:   0 min 0  sec\r[Building BooPHF]  78.2 %   elapsed:   0 min 0  sec   remaining:   0 min 0  sec\r[Building BooPHF]  78.3 %   elapsed:   0 min 0  sec   remaining:   0 min 0  sec\r[Building BooPHF]  78.4 %   elapsed:   0 min 0  sec   remaining:   0 min 0  sec\r[Building BooPHF]  78.4 %   elapsed:   0 min 0  sec   remaining:   0 min 0  sec\r[Building BooPHF]  78.6 %   elapsed:   0 min 0  sec   remaining:   0 min 0  sec\r[Building BooPHF]  78.6 %   elapsed:   0 min 0  sec   remaining:   0 min 0  sec\r[Building BooPHF]  78.8 %   elapsed:   0 min 0  sec   remaining:   0 min 0  sec\r[Building BooPHF]  78.8 %   elapsed:   0 min 0  sec   remaining:   0 min 0  sec\r[Building BooPHF]  79   %   elapsed:   0 min 0  sec   remaining:   0 min 0  sec\r[Building BooPHF]  79   %   elapsed:   0 min 0  sec   remaining:   0 min 0  sec\r[Building BooPHF]  79.2 %   elapsed:   0 min 0  sec   remaining:   0 min 0  sec\r[Building BooPHF]  79.2 %   elapsed:   0 min 0  sec   remaining:   0 min 0  sec\r[Building BooPHF]  79.4 %   elapsed:   0 min 0  sec   remaining:   0 min 0  sec\r[Building BooPHF]  79.4 %   elapsed:   0 min 0  sec   remaining:   0 min 0  sec\r[Building BooPHF]  79.6 %   elapsed:   0 min 0  sec   remaining:   0 min 0  sec\r[Building BooPHF]  79.6 %   elapsed:   0 min 0  sec   remaining:   0 min 0  sec\r[Building BooPHF]  79.8 %   elapsed:   0 min 0  sec   remaining:   0 min 0  sec\r[Building BooPHF]  79.8 %   elapsed:   0 min 0  sec   remaining:   0 min 0  sec\r[Building BooPHF]  80   %   elapsed:   0 min 0  sec   remaining:   0 min 0  sec\r[Building BooPHF]  80   %   elapsed:   0 min 0  sec   remaining:   0 min 0  sec\r[Building BooPHF]  80.2 %   elapsed:   0 min 0  sec   remaining:   0 min 0  sec\r[Building BooPHF]  80.2 %   elapsed:   0 min 0  sec   remaining:   0 min 0  sec\r[Building BooPHF]  80.4 %   elapsed:   0 min 0  sec   remaining:   0 min 0  sec\r[Building BooPHF]  80.4 %   elapsed:   0 min 0  sec   remaining:   0 min 0  sec\r[Building BooPHF]  80.6 %   elapsed:   0 min 0  sec   remaining:   0 min 0  sec\r[Building BooPHF]  80.6 %   elapsed:   0 min 0  sec   remaining:   0 min 0  sec\r[Building BooPHF]  80.8 %   elapsed:   0 min 0  sec   remaining:   0 min 0  sec\r[Building BooPHF]  80.8 %   elapsed:   0 min 0  sec   remaining:   0 min 0  sec\r[Building BooPHF]  81   %   elapsed:   0 min 0  sec   remaining:   0 min 0  sec\r[Building BooPHF]  81   %   elapsed:   0 min 0  sec   remaining:   0 min 0  sec\r[Building BooPHF]  81.2 %   elapsed:   0 min 0  sec   remaining:   0 min 0  sec\r[Building BooPHF]  81.3 %   elapsed:   0 min 0  sec   remaining:   0 min 0  sec\r[Building BooPHF]  81.4 %   elapsed:   0 min 0  sec   remaining:   0 min 0  sec\r[Building BooPHF]  81.5 %   elapsed:   0 min 0  sec   remaining:   0 min 0  sec\r[Building BooPHF]  81.6 %   elapsed:   0 min 0  sec   remaining:   0 min 0  sec\r[Building BooPHF]  81.6 %   elapsed:   0 min 0  sec   remaining:   0 min 0  sec\r[Building BooPHF]  81.8 %   elapsed:   0 min 0  sec   remaining:   0 min 0  sec\r[Building BooPHF]  81.8 %   elapsed:   0 min 0  sec   remaining:   0 min 0  sec\r[Building BooPHF]  82   %   elapsed:   0 min 0  sec   remaining:   0 min 0  sec\r[Building BooPHF]  82.1 %   elapsed:   0 min 0  sec   remaining:   0 min 0  sec\r[Building BooPHF]  82.2 %   elapsed:   0 min 0  sec   remaining:   0 min 0  sec\r[Building BooPHF]  82.3 %   elapsed:   0 min 0  sec   remaining:   0 min 0  sec\r[Building BooPHF]  82.3 %   elapsed:   0 min 0  sec   remaining:   0 min 0  sec\r[Building BooPHF]  82.5 %   elapsed:   0 min 0  sec   remaining:   0 min 0  sec\r[Building BooPHF]  82.5 %   elapsed:   0 min 0  sec   remaining:   0 min 0  sec\r[Building BooPHF]  82.7 %   elapsed:   0 min 0  sec   remaining:   0 min 0  sec\r[Building BooPHF]  82.7 %   elapsed:   0 min 0  sec   remaining:   0 min 0  sec\r[Building BooPHF]  82.9 %   elapsed:   0 min 0  sec   remaining:   0 min 0  sec\r[Building BooPHF]  82.9 %   elapsed:   0 min 0  sec   remaining:   0 min 0  sec\r[Building BooPHF]  83.1 %   elapsed:   0 min 0  sec   remaining:   0 min 0  sec\r[Building BooPHF]  83.1 %   elapsed:   0 min 0  sec   remaining:   0 min 0  sec\r[Building BooPHF]  83.3 %   elapsed:   0 min 0  sec   remaining:   0 min 0  sec\r[Building BooPHF]  83.3 %   elapsed:   0 min 0  sec   remaining:   0 min 0  sec\r[Building BooPHF]  83.5 %   elapsed:   0 min 0  sec   remaining:   0 min 0  sec\r[Building BooPHF]  83.5 %   elapsed:   0 min 0  sec   remaining:   0 min 0  sec\r[Building BooPHF]  83.7 %   elapsed:   0 min 0  sec   remaining:   0 min 0  sec\r[Building BooPHF]  83.8 %   elapsed:   0 min 0  sec   remaining:   0 min 0  sec\r[Building BooPHF]  83.9 %   elapsed:   0 min 0  sec   remaining:   0 min 0  sec\r[Building BooPHF]  83.9 %   elapsed:   0 min 0  sec   remaining:   0 min 0  sec\r[Building BooPHF]  84.1 %   elapsed:   0 min 0  sec   remaining:   0 min 0  sec\r[Building BooPHF]  84.1 %   elapsed:   0 min 0  sec   remaining:   0 min 0  sec\r[Building BooPHF]  84.2 %   elapsed:   0 min 0  sec   remaining:   0 min 0  sec\r[Building BooPHF]  84.4 %   elapsed:   0 min 0  sec   remaining:   0 min 0  sec\r[Building BooPHF]  84.5 %   elapsed:   0 min 0  sec   remaining:   0 min 0  sec\r[Building BooPHF]  84.6 %   elapsed:   0 min 0  sec   remaining:   0 min 0  sec\r[Building BooPHF]  84.7 %   elapsed:   0 min 0  sec   remaining:   0 min 0  sec\r[Building BooPHF]  84.8 %   elapsed:   0 min 0  sec   remaining:   0 min 0  sec\r[Building BooPHF]  84.8 %   elapsed:   0 min 0  sec   remaining:   0 min 0  sec\r[Building BooPHF]  85   %   elapsed:   0 min 0  sec   remaining:   0 min 0  sec\r[Building BooPHF]  85   %   elapsed:   0 min 0  sec   remaining:   0 min 0  sec\r[Building BooPHF]  85.2 %   elapsed:   0 min 0  sec   remaining:   0 min 0  sec\r[Building BooPHF]  85.3 %   elapsed:   0 min 0  sec   remaining:   0 min 0  sec\r[Building BooPHF]  85.4 %   elapsed:   0 min 0  sec   remaining:   0 min 0  sec\r[Building BooPHF]  85.4 %   elapsed:   0 min 0  sec   remaining:   0 min 0  sec\r[Building BooPHF]  85.6 %   elapsed:   0 min 0  sec   remaining:   0 min 0  sec\r[Building BooPHF]  85.6 %   elapsed:   0 min 0  sec   remaining:   0 min 0  sec\r[Building BooPHF]  85.7 %   elapsed:   0 min 0  sec   remaining:   0 min 0  sec\r[Building BooPHF]  85.9 %   elapsed:   0 min 0  sec   remaining:   0 min 0  sec\r[Building BooPHF]  85.9 %   elapsed:   0 min 0  sec   remaining:   0 min 0  sec\r[Building BooPHF]  86.1 %   elapsed:   0 min 0  sec   remaining:   0 min 0  sec\r[Building BooPHF]  86.1 %   elapsed:   0 min 0  sec   remaining:   0 min 0  sec\r[Building BooPHF]  86.3 %   elapsed:   0 min 0  sec   remaining:   0 min 0  sec\r[Building BooPHF]  86.3 %   elapsed:   0 min 0  sec   remaining:   0 min 0  sec\r[Building BooPHF]  86.5 %   elapsed:   0 min 0  sec   remaining:   0 min 0  sec\r[Building BooPHF]  86.5 %   elapsed:   0 min 0  sec   remaining:   0 min 0  sec\r[Building BooPHF]  86.7 %   elapsed:   0 min 0  sec   remaining:   0 min 0  sec\r[Building BooPHF]  86.8 %   elapsed:   0 min 0  sec   remaining:   0 min 0  sec\r[Building BooPHF]  86.9 %   elapsed:   0 min 0  sec   remaining:   0 min 0  sec\r[Building BooPHF]  86.9 %   elapsed:   0 min 0  sec   remaining:   0 min 0  sec\r[Building BooPHF]  87.1 %   elapsed:   0 min 0  sec   remaining:   0 min 0  sec\r[Building BooPHF]  87.1 %   elapsed:   0 min 0  sec   remaining:   0 min 0  sec\r[Building BooPHF]  87.3 %   elapsed:   0 min 0  sec   remaining:   0 min 0  sec\r[Building BooPHF]  87.3 %   elapsed:   0 min 0  sec   remaining:   0 min 0  sec\r[Building BooPHF]  87.5 %   elapsed:   0 min 0  sec   remaining:   0 min 0  sec\r[Building BooPHF]  87.5 %   elapsed:   0 min 0  sec   remaining:   0 min 0  sec\r[Building BooPHF]  87.7 %   elapsed:   0 min 0  sec   remaining:   0 min 0  sec\r[Building BooPHF]  87.7 %   elapsed:   0 min 0  sec   remaining:   0 min 0  sec\r[Building BooPHF]  87.9 %   elapsed:   0 min 0  sec   remaining:   0 min 0  sec\r[Building BooPHF]  87.9 %   elapsed:   0 min 0  sec   remaining:   0 min 0  sec\r[Building BooPHF]  88.1 %   elapsed:   0 min 0  sec   remaining:   0 min 0  sec\r[Building BooPHF]  88.1 %   elapsed:   0 min 0  sec   remaining:   0 min 0  sec\r[Building BooPHF]  88.3 %   elapsed:   0 min 0  sec   remaining:   0 min 0  sec\r[Building BooPHF]  88.3 %   elapsed:   0 min 0  sec   remaining:   0 min 0  sec\r[Building BooPHF]  88.5 %   elapsed:   0 min 0  sec   remaining:   0 min 0  sec\r[Building BooPHF]  88.6 %   elapsed:   0 min 0  sec   remaining:   0 min 0  sec\r[Building BooPHF]  88.6 %   elapsed:   0 min 0  sec   remaining:   0 min 0  sec\r[Building BooPHF]  88.7 %   elapsed:   0 min 0  sec   remaining:   0 min 0  sec\r[Building BooPHF]  88.8 %   elapsed:   0 min 0  sec   remaining:   0 min 0  sec\r[Building BooPHF]  88.9 %   elapsed:   0 min 0  sec   remaining:   0 min 0  sec\r[Building BooPHF]  89.1 %   elapsed:   0 min 0  sec   remaining:   0 min 0  sec\r[Building BooPHF]  89.2 %   elapsed:   0 min 0  sec   remaining:   0 min 0  sec\r[Building BooPHF]  89.2 %   elapsed:   0 min 0  sec   remaining:   0 min 0  sec\r[Building BooPHF]  89.4 %   elapsed:   0 min 0  sec   remaining:   0 min 0  sec\r[Building BooPHF]  89.4 %   elapsed:   0 min 0  sec   remaining:   0 min 0  sec\r[Building BooPHF]  89.6 %   elapsed:   0 min 0  sec   remaining:   0 min 0  sec\r[Building BooPHF]  89.6 %   elapsed:   0 min 0  sec   remaining:   0 min 0  sec\r[Building BooPHF]  89.8 %   elapsed:   0 min 0  sec   remaining:   0 min 0  sec\r[Building BooPHF]  89.8 %   elapsed:   0 min 0  sec   remaining:   0 min 0  sec\r[Building BooPHF]  90   %   elapsed:   0 min 0  sec   remaining:   0 min 0  sec\r[Building BooPHF]  90   %   elapsed:   0 min 0  sec   remaining:   0 min 0  sec\r[Building BooPHF]  90.2 %   elapsed:   0 min 0  sec   remaining:   0 min 0  sec\r[Building BooPHF]  90.2 %   elapsed:   0 min 0  sec   remaining:   0 min 0  sec\r[Building BooPHF]  90.4 %   elapsed:   0 min 0  sec   remaining:   0 min 0  sec\r[Building BooPHF]  90.4 %   elapsed:   0 min 0  sec   remaining:   0 min 0  sec\r[Building BooPHF]  90.6 %   elapsed:   0 min 0  sec   remaining:   0 min 0  sec\r[Building BooPHF]  90.6 %   elapsed:   0 min 0  sec   remaining:   0 min 0  sec\r[Building BooPHF]  90.8 %   elapsed:   0 min 0  sec   remaining:   0 min 0  sec\r[Building BooPHF]  90.8 %   elapsed:   0 min 0  sec   remaining:   0 min 0  sec\r[Building BooPHF]  91   %   elapsed:   0 min 0  sec   remaining:   0 min 0  sec\r[Building BooPHF]  91   %   elapsed:   0 min 0  sec   remaining:   0 min 0  sec\r[Building BooPHF]  91.2 %   elapsed:   0 min 0  sec   remaining:   0 min 0  sec\r[Building BooPHF]  91.2 %   elapsed:   0 min 0  sec   remaining:   0 min 0  sec\r[Building BooPHF]  91.4 %   elapsed:   0 min 0  sec   remaining:   0 min 0  sec\r[Building BooPHF]  91.4 %   elapsed:   0 min 0  sec   remaining:   0 min 0  sec\r[Building BooPHF]  91.6 %   elapsed:   0 min 0  sec   remaining:   0 min 0  sec\r[Building BooPHF]  91.6 %   elapsed:   0 min 0  sec   remaining:   0 min 0  sec\r[Building BooPHF]  91.8 %   elapsed:   0 min 0  sec   remaining:   0 min 0  sec\r[Building BooPHF]  91.8 %   elapsed:   0 min 0  sec   remaining:   0 min 0  sec\r[Building BooPHF]  91.9 %   elapsed:   0 min 0  sec   remaining:   0 min 0  sec\r[Building BooPHF]  92.1 %   elapsed:   0 min 0  sec   remaining:   0 min 0  sec\r[Building BooPHF]  92.2 %   elapsed:   0 min 0  sec   remaining:   0 min 0  sec\r[Building BooPHF]  92.3 %   elapsed:   0 min 0  sec   remaining:   0 min 0  sec\r[Building BooPHF]  92.4 %   elapsed:   0 min 0  sec   remaining:   0 min 0  sec\r[Building BooPHF]  92.5 %   elapsed:   0 min 0  sec   remaining:   0 min 0  sec\r[Building BooPHF]  92.5 %   elapsed:   0 min 0  sec   remaining:   0 min 0  sec\r[Building BooPHF]  92.7 %   elapsed:   0 min 0  sec   remaining:   0 min 0  sec\r[Building BooPHF]  92.8 %   elapsed:   0 min 0  sec   remaining:   0 min 0  sec\r[Building BooPHF]  92.9 %   elapsed:   0 min 0  sec   remaining:   0 min 0  sec\r[Building BooPHF]  92.9 %   elapsed:   0 min 0  sec   remaining:   0 min 0  sec\r[Building BooPHF]  93.1 %   elapsed:   0 min 0  sec   remaining:   0 min 0  sec\r[Building BooPHF]  93.1 %   elapsed:   0 min 0  sec   remaining:   0 min 0  sec\r[Building BooPHF]  93.3 %   elapsed:   0 min 0  sec   remaining:   0 min 0  sec\r[Building BooPHF]  93.3 %   elapsed:   0 min 0  sec   remaining:   0 min 0  sec\r[Building BooPHF]  93.5 %   elapsed:   0 min 0  sec   remaining:   0 min 0  sec\r[Building BooPHF]  93.5 %   elapsed:   0 min 0  sec   remaining:   0 min 0  sec\r[Building BooPHF]  93.7 %   elapsed:   0 min 0  sec   remaining:   0 min 0  sec\r[Building BooPHF]  93.7 %   elapsed:   0 min 0  sec   remaining:   0 min 0  sec\r[Building BooPHF]  93.9 %   elapsed:   0 min 0  sec   remaining:   0 min 0  sec\r[Building BooPHF]  93.9 %   elapsed:   0 min 0  sec   remaining:   0 min 0  sec\r[Building BooPHF]  94.1 %   elapsed:   0 min 0  sec   remaining:   0 min 0  sec\r[Building BooPHF]  94.1 %   elapsed:   0 min 0  sec   remaining:   0 min 0  sec\r[Building BooPHF]  94.3 %   elapsed:   0 min 0  sec   remaining:   0 min 0  sec\r[Building BooPHF]  94.3 %   elapsed:   0 min 0  sec   remaining:   0 min 0  sec\r[Building BooPHF]  94.5 %   elapsed:   0 min 0  sec   remaining:   0 min 0  sec\r[Building BooPHF]  94.5 %   elapsed:   0 min 0  sec   remaining:   0 min 0  sec\r[Building BooPHF]  94.7 %   elapsed:   0 min 0  sec   remaining:   0 min 0  sec\r[Building BooPHF]  94.7 %   elapsed:   0 min 0  sec   remaining:   0 min 0  sec\r[Building BooPHF]  94.9 %   elapsed:   0 min 0  sec   remaining:   0 min 0  sec\r[Building BooPHF]  94.9 %   elapsed:   0 min 0  sec   remaining:   0 min 0  sec\r[Building BooPHF]  95.1 %   elapsed:   0 min 0  sec   remaining:   0 min 0  sec\r[Building BooPHF]  95.1 %   elapsed:   0 min 0  sec   remaining:   0 min 0  sec\r[Building BooPHF]  95.3 %   elapsed:   0 min 0  sec   remaining:   0 min 0  sec\r[Building BooPHF]  95.4 %   elapsed:   0 min 0  sec   remaining:   0 min 0  sec\r[Building BooPHF]  95.5 %   elapsed:   0 min 0  sec   remaining:   0 min 0  sec\r[Building BooPHF]  95.6 %   elapsed:   0 min 0  sec   remaining:   0 min 0  sec\r[Building BooPHF]  95.7 %   elapsed:   0 min 0  sec   remaining:   0 min 0  sec\r[Building BooPHF]  95.8 %   elapsed:   0 min 0  sec   remaining:   0 min 0  sec\r[Building BooPHF]  95.8 %   elapsed:   0 min 0  sec   remaining:   0 min 0  sec\r[Building BooPHF]  96   %   elapsed:   0 min 0  sec   remaining:   0 min 0  sec\r[Building BooPHF]  96   %   elapsed:   0 min 0  sec   remaining:   0 min 0  sec\r[Building BooPHF]  96.2 %   elapsed:   0 min 0  sec   remaining:   0 min 0  sec\r[Building BooPHF]  96.2 %   elapsed:   0 min 0  sec   remaining:   0 min 0  sec\r[Building BooPHF]  96.3 %   elapsed:   0 min 0  sec   remaining:   0 min 0  sec\r[Building BooPHF]  96.4 %   elapsed:   0 min 0  sec   remaining:   0 min 0  sec\r[Building BooPHF]  96.6 %   elapsed:   0 min 0  sec   remaining:   0 min 0  sec\r[Building BooPHF]  96.6 %   elapsed:   0 min 0  sec   remaining:   0 min 0  sec\r[Building BooPHF]  96.8 %   elapsed:   0 min 0  sec   remaining:   0 min 0  sec\r[Building BooPHF]  96.8 %   elapsed:   0 min 0  sec   remaining:   0 min 0  sec\r[Building BooPHF]  97   %   elapsed:   0 min 0  sec   remaining:   0 min 0  sec\r[Building BooPHF]  97   %   elapsed:   0 min 0  sec   remaining:   0 min 0  sec\r[Building BooPHF]  97.1 %   elapsed:   0 min 0  sec   remaining:   0 min 0  sec\r[Building BooPHF]  97.2 %   elapsed:   0 min 0  sec   remaining:   0 min 0  sec\r[Building BooPHF]  97.4 %   elapsed:   0 min 0  sec   remaining:   0 min 0  sec\r[Building BooPHF]  97.4 %   elapsed:   0 min 0  sec   remaining:   0 min 0  sec\r[Building BooPHF]  97.6 %   elapsed:   0 min 0  sec   remaining:   0 min 0  sec\r[Building BooPHF]  97.6 %   elapsed:   0 min 0  sec   remaining:   0 min 0  sec\r[Building BooPHF]  97.8 %   elapsed:   0 min 0  sec   remaining:   0 min 0  sec\r[Building BooPHF]  97.9 %   elapsed:   0 min 0  sec   remaining:   0 min 0  sec\r[Building BooPHF]  98   %   elapsed:   0 min 0  sec   remaining:   0 min 0  sec\r[Building BooPHF]  98   %   elapsed:   0 min 0  sec   remaining:   0 min 0  sec\r[Building BooPHF]  98.2 %   elapsed:   0 min 0  sec   remaining:   0 min 0  sec\r[Building BooPHF]  98.3 %   elapsed:   0 min 0  sec   remaining:   0 min 0  sec\r[Building BooPHF]  98.3 %   elapsed:   0 min 0  sec   remaining:   0 min 0  sec\r[Building BooPHF]  98.5 %   elapsed:   0 min 0  sec   remaining:   0 min 0  sec\r[Building BooPHF]  98.6 %   elapsed:   0 min 0  sec   remaining:   0 min 0  sec\r[Building BooPHF]  98.6 %   elapsed:   0 min 0  sec   remaining:   0 min 0  sec\r[Building BooPHF]  98.8 %   elapsed:   0 min 0  sec   remaining:   0 min 0  sec\r[Building BooPHF]  98.8 %   elapsed:   0 min 0  sec   remaining:   0 min 0  sec\r[Building BooPHF]  99   %   elapsed:   0 min 0  sec   remaining:   0 min 0  sec\r[Building BooPHF]  99   %   elapsed:   0 min 0  sec   remaining:   0 min 0  sec\r[Building BooPHF]  99.1 %   elapsed:   0 min 0  sec   remaining:   0 min 0  sec\r[Building BooPHF]  99.3 %   elapsed:   0 min 0  sec   remaining:   0 min 0  sec\r[Building BooPHF]  99.4 %   elapsed:   0 min 0  sec   remaining:   0 min 0  sec\r[Building BooPHF]  99.5 %   elapsed:   0 min 0  sec   remaining:   0 min 0  sec\r[Building BooPHF]  99.6 %   elapsed:   0 min 0  sec   remaining:   0 min 0  sec\r[Building BooPHF]  99.7 %   elapsed:   0 min 0  sec   remaining:   0 min 0  sec\r[Building BooPHF]  99.8 %   elapsed:   0 min 0  sec   remaining:   0 min 0  sec\r[Building BooPHF]  99.9 %   elapsed:   0 min 0  sec   remaining:   0 min 0  sec\r[Building BooPHF]  99.9 %   elapsed:   0 min 0  sec   remaining:   0 min 0  sec\n",
            "[2025-07-18 14:04:16.375] [puff::index::jointLog] [info] mphf size = 2.00639 MB\n",
            "[2025-07-18 14:04:16.380] [puff::index::jointLog] [info] chunk size = 2,007,540\n",
            "[2025-07-18 14:04:16.380] [puff::index::jointLog] [info] chunk 0 = [0, 2,007,540)\n",
            "[2025-07-18 14:04:16.380] [puff::index::jointLog] [info] chunk 1 = [2,007,540, 4,015,049)\n",
            "[2025-07-18 14:04:16.851] [puff::index::jointLog] [info] finished populating pos vector\n",
            "[2025-07-18 14:04:16.851] [puff::index::jointLog] [info] writing index components\n",
            "[2025-07-18 14:04:16.860] [puff::index::jointLog] [info] finished writing dense pufferfish index\n",
            "[2025-07-18 14:04:16.862] [jLog] [info] done building index\n",
            "for info, total work write each  : 2.331    total work inram from level 3 : 4.322  total work raw : 25.000 \n",
            "Bitarray        16830848  bits (100.00 %)   (array + ranks )\n",
            "final hash             0  bits (0.00 %) (nb in final hash 0)\n"
          ]
        }
      ],
      "source": [
        "%%bash\n",
        "salmon index -t chr22_transcriptome.fa -i salmon_index -k 31 2>&1"
      ]
    },
    {
      "cell_type": "markdown",
      "metadata": {
        "id": "4cQrm331949L"
      },
      "source": [
        "### Step 2.2: Quantify All Samples\n",
        "\n",
        "**Background: RNA-seq Quantification with Salmon**\n",
        "\n",
        "**What is RNA-seq quantification?**\n",
        "RNA-seq quantification determines how many RNA molecules (gene expression level) were present in each sample for each gene. This process involves:\n",
        "\n",
        "1. **Mapping reads**: Determining which gene/transcript each sequencing read came from\n",
        "2. **Counting**: Tallying how many reads map to each gene\n",
        "3. **Normalization**: Adjusting for sequencing depth and gene length differences\n",
        "\n",
        "**How does Salmon work?**\n",
        "Unlike traditional aligners, Salmon uses:\n",
        "- **Lightweight mapping**: Fast probabilistic assignment of reads to transcripts\n",
        "- **EM algorithm**: Handles reads that map to multiple transcripts\n",
        "- **Bias correction**: Accounts for sequence composition and positional biases\n",
        "\n",
        "**Command parameters explained:**\n",
        "- `-i salmon_index`: Use our pre-built index\n",
        "- `-l A`: Auto-detect library type (paired-end, strand-specific, etc.)\n",
        "- `-1` and `-2`: Forward and reverse read files (paired-end)\n",
        "- `-o`: Output directory for results\n",
        "- `-q`: Quiet mode (less verbose output)\n",
        "\n",
        "**Medical significance:**\n",
        "Gene expression differences between cancer and normal samples reveal:\n",
        "- Oncogenes (overexpressed in cancer)\n",
        "- Tumor suppressors (underexpressed in cancer)\n",
        "- Potential therapeutic targets"
      ]
    },
    {
      "cell_type": "code",
      "execution_count": 24,
      "metadata": {
        "collapsed": true,
        "id": "8IzWGmQroNLV"
      },
      "outputs": [],
      "source": [
        "%%bash\n",
        "mkdir -p salmon_quant"
      ]
    },
    {
      "cell_type": "code",
      "source": [
        "%%bash\n",
        "ls -lht"
      ],
      "metadata": {
        "colab": {
          "base_uri": "https://localhost:8080/"
        },
        "id": "09rs8IIX0Ngg",
        "outputId": "2b868631-984b-4078-c9ed-2ec10874f1f4"
      },
      "execution_count": 25,
      "outputs": [
        {
          "output_type": "stream",
          "name": "stdout",
          "text": [
            "total 133M\n",
            "drwxr-xr-x 2 root root 4.0K Jul 18 14:04 salmon_quant\n",
            "drwxr-xr-x 2 root root 4.0K Jul 18 14:04 salmon_index\n",
            "-rw-r--r-- 1 root root 7.0M Jul 18 14:04 chr22_transcriptome.fa\n",
            "drwxr-xr-x 2 root root 4.0K Jul 18 14:03 refs\n",
            "drwxr-xr-x 2 root root 4.0K Jul 18 14:00 reads\n",
            "-rw-r--r-- 1 root root 2.4K Jul 18 13:59 load_data.R\n",
            "-rw-r--r-- 1 root root  385 Jul 18 13:59 mapping.sh\n",
            "-rw-r--r-- 1 root root 4.0K Jul 18 13:59 pathway_analysis.R\n",
            "-rw-r--r-- 1 root root 8.3K Jul 18 13:59 run_deseq2.R\n",
            "-rw-r--r-- 1 root root  426 Jul 18 13:59 samples.tsv\n",
            "-rw-r--r-- 1 root root 126M Jul 18 13:59 griffith-data.tar.gz\n",
            "-rw-r--r-- 1 root root 6.1K Jul 18 13:59 drug_repositioning.py\n",
            "-rw-r--r-- 1 root root 6.0K Jul 18 13:59 README.md\n",
            "drwxr-xr-x 2 root root 4.0K Jul 18 13:59 V57\n"
          ]
        }
      ]
    },
    {
      "cell_type": "code",
      "source": [
        "%%bash\n",
        "bash mapping.sh"
      ],
      "metadata": {
        "colab": {
          "base_uri": "https://localhost:8080/"
        },
        "collapsed": true,
        "id": "Px7OClqk0PiL",
        "outputId": "dab3c01b-0eb9-4e0b-8606-be062c775d27"
      },
      "execution_count": 26,
      "outputs": [
        {
          "output_type": "stream",
          "name": "stderr",
          "text": [
            "Version Server Response: Not Found\n",
            "-----------------------------------------\n",
            "| Loading contig table | Time = 10.835 ms\n",
            "-----------------------------------------\n",
            "size = 26801\n",
            "-----------------------------------------\n",
            "| Loading contig offsets | Time = 328.77 us\n",
            "-----------------------------------------\n",
            "-----------------------------------------\n",
            "| Loading reference lengths | Time = 195.46 us\n",
            "-----------------------------------------\n",
            "-----------------------------------------\n",
            "| Loading mphf table | Time = 6.6866 ms\n",
            "-----------------------------------------\n",
            "size = 4015079\n",
            "Number of ones: 26800\n",
            "Number of ones per inventory item: 512\n",
            "Inventory entries filled: 53\n",
            "-----------------------------------------\n",
            "| Loading contig boundaries | Time = 9.9261 ms\n",
            "-----------------------------------------\n",
            "size = 4015079\n",
            "-----------------------------------------\n",
            "| Loading sequence | Time = 3.3349 ms\n",
            "-----------------------------------------\n",
            "size = 3211079\n",
            "-----------------------------------------\n",
            "| Loading positions | Time = 28.501 ms\n",
            "-----------------------------------------\n",
            "size = 7076035\n",
            "-----------------------------------------\n",
            "| Loading reference sequence | Time = 5.7998 ms\n",
            "-----------------------------------------\n",
            "-----------------------------------------\n",
            "| Loading reference accumulative lengths | Time = 170.8 us\n",
            "-----------------------------------------\n",
            "Version Server Response: Not Found\n",
            "-----------------------------------------\n",
            "| Loading contig table | Time = 8.2892 ms\n",
            "-----------------------------------------\n",
            "size = 26801\n",
            "-----------------------------------------\n",
            "| Loading contig offsets | Time = 148.59 us\n",
            "-----------------------------------------\n",
            "-----------------------------------------\n",
            "| Loading reference lengths | Time = 36.489 us\n",
            "-----------------------------------------\n",
            "-----------------------------------------\n",
            "| Loading mphf table | Time = 1.6439 ms\n",
            "-----------------------------------------\n",
            "size = 4015079\n",
            "Number of ones: 26800\n",
            "Number of ones per inventory item: 512\n",
            "Inventory entries filled: 53\n",
            "-----------------------------------------\n",
            "| Loading contig boundaries | Time = 7.9582 ms\n",
            "-----------------------------------------\n",
            "size = 4015079\n",
            "-----------------------------------------\n",
            "| Loading sequence | Time = 842.82 us\n",
            "-----------------------------------------\n",
            "size = 3211079\n",
            "-----------------------------------------\n",
            "| Loading positions | Time = 6.6301 ms\n",
            "-----------------------------------------\n",
            "size = 7076035\n",
            "-----------------------------------------\n",
            "| Loading reference sequence | Time = 1.4228 ms\n",
            "-----------------------------------------\n",
            "-----------------------------------------\n",
            "| Loading reference accumulative lengths | Time = 72.937 us\n",
            "-----------------------------------------\n",
            "Version Server Response: Not Found\n",
            "-----------------------------------------\n",
            "| Loading contig table | Time = 10.566 ms\n",
            "-----------------------------------------\n",
            "size = 26801\n",
            "-----------------------------------------\n",
            "| Loading contig offsets | Time = 182.03 us\n",
            "-----------------------------------------\n",
            "-----------------------------------------\n",
            "| Loading reference lengths | Time = 36.943 us\n",
            "-----------------------------------------\n",
            "-----------------------------------------\n",
            "| Loading mphf table | Time = 1.9249 ms\n",
            "-----------------------------------------\n",
            "size = 4015079\n",
            "Number of ones: 26800\n",
            "Number of ones per inventory item: 512\n",
            "Inventory entries filled: 53\n",
            "-----------------------------------------\n",
            "| Loading contig boundaries | Time = 12.853 ms\n",
            "-----------------------------------------\n",
            "size = 4015079\n",
            "-----------------------------------------\n",
            "| Loading sequence | Time = 1.1261 ms\n",
            "-----------------------------------------\n",
            "size = 3211079\n",
            "-----------------------------------------\n",
            "| Loading positions | Time = 8.4522 ms\n",
            "-----------------------------------------\n",
            "size = 7076035\n",
            "-----------------------------------------\n",
            "| Loading reference sequence | Time = 1.8294 ms\n",
            "-----------------------------------------\n",
            "-----------------------------------------\n",
            "| Loading reference accumulative lengths | Time = 61.234 us\n",
            "-----------------------------------------\n",
            "Version Server Response: Not Found\n",
            "-----------------------------------------\n",
            "| Loading contig table | Time = 8.496 ms\n",
            "-----------------------------------------\n",
            "size = 26801\n",
            "-----------------------------------------\n",
            "| Loading contig offsets | Time = 188.72 us\n",
            "-----------------------------------------\n",
            "-----------------------------------------\n",
            "| Loading reference lengths | Time = 47.294 us\n",
            "-----------------------------------------\n",
            "-----------------------------------------\n",
            "| Loading mphf table | Time = 2.1899 ms\n",
            "-----------------------------------------\n",
            "size = 4015079\n",
            "Number of ones: 26800\n",
            "Number of ones per inventory item: 512\n",
            "Inventory entries filled: 53\n",
            "-----------------------------------------\n",
            "| Loading contig boundaries | Time = 8.1983 ms\n",
            "-----------------------------------------\n",
            "size = 4015079\n",
            "-----------------------------------------\n",
            "| Loading sequence | Time = 1.1799 ms\n",
            "-----------------------------------------\n",
            "size = 3211079\n",
            "-----------------------------------------\n",
            "| Loading positions | Time = 8.8697 ms\n",
            "-----------------------------------------\n",
            "size = 7076035\n",
            "-----------------------------------------\n",
            "| Loading reference sequence | Time = 1.9248 ms\n",
            "-----------------------------------------\n",
            "-----------------------------------------\n",
            "| Loading reference accumulative lengths | Time = 82.586 us\n",
            "-----------------------------------------\n",
            "Version Server Response: Not Found\n",
            "-----------------------------------------\n",
            "| Loading contig table | Time = 9.7887 ms\n",
            "-----------------------------------------\n",
            "size = 26801\n",
            "-----------------------------------------\n",
            "| Loading contig offsets | Time = 188.38 us\n",
            "-----------------------------------------\n",
            "-----------------------------------------\n",
            "| Loading reference lengths | Time = 42.686 us\n",
            "-----------------------------------------\n",
            "-----------------------------------------\n",
            "| Loading mphf table | Time = 1.9342 ms\n",
            "-----------------------------------------\n",
            "size = 4015079\n",
            "Number of ones: 26800\n",
            "Number of ones per inventory item: 512\n",
            "Inventory entries filled: 53\n",
            "-----------------------------------------\n",
            "| Loading contig boundaries | Time = 8.3187 ms\n",
            "-----------------------------------------\n",
            "size = 4015079\n",
            "-----------------------------------------\n",
            "| Loading sequence | Time = 937.63 us\n",
            "-----------------------------------------\n",
            "size = 3211079\n",
            "-----------------------------------------\n",
            "| Loading positions | Time = 7.1905 ms\n",
            "-----------------------------------------\n",
            "size = 7076035\n",
            "-----------------------------------------\n",
            "| Loading reference sequence | Time = 1.5431 ms\n",
            "-----------------------------------------\n",
            "-----------------------------------------\n",
            "| Loading reference accumulative lengths | Time = 64.613 us\n",
            "-----------------------------------------\n",
            "Version Server Response: Not Found\n",
            "-----------------------------------------\n",
            "| Loading contig table | Time = 13.467 ms\n",
            "-----------------------------------------\n",
            "size = 26801\n",
            "-----------------------------------------\n",
            "| Loading contig offsets | Time = 131.16 us\n",
            "-----------------------------------------\n",
            "-----------------------------------------\n",
            "| Loading reference lengths | Time = 38.902 us\n",
            "-----------------------------------------\n",
            "-----------------------------------------\n",
            "| Loading mphf table | Time = 2.0107 ms\n",
            "-----------------------------------------\n",
            "size = 4015079\n",
            "Number of ones: 26800\n",
            "Number of ones per inventory item: 512\n",
            "Inventory entries filled: 53\n",
            "-----------------------------------------\n",
            "| Loading contig boundaries | Time = 16.962 ms\n",
            "-----------------------------------------\n",
            "size = 4015079\n",
            "-----------------------------------------\n",
            "| Loading sequence | Time = 1.1037 ms\n",
            "-----------------------------------------\n",
            "size = 3211079\n",
            "-----------------------------------------\n",
            "| Loading positions | Time = 8.68 ms\n",
            "-----------------------------------------\n",
            "size = 7076035\n",
            "-----------------------------------------\n",
            "| Loading reference sequence | Time = 1.8122 ms\n",
            "-----------------------------------------\n",
            "-----------------------------------------\n",
            "| Loading reference accumulative lengths | Time = 61.367 us\n",
            "-----------------------------------------\n"
          ]
        }
      ]
    },
    {
      "cell_type": "code",
      "source": [
        "%%bash\n",
        "cat mapping.sh"
      ],
      "metadata": {
        "colab": {
          "base_uri": "https://localhost:8080/"
        },
        "id": "QJwGzBes0XpL",
        "outputId": "d30ad887-ec42-4cbe-bd29-71c64d3b171a"
      },
      "execution_count": 27,
      "outputs": [
        {
          "output_type": "stream",
          "name": "stdout",
          "text": [
            "#!/bin/bash\n",
            "\n",
            "# Cancer samples\n",
            "for rep in 1 2 3; do\n",
            "    salmon quant -i salmon_index -l A \\\n",
            "        -1 reads/UHR_${rep}_R1.fq -2 reads/UHR_${rep}_R2.fq \\\n",
            "        -o salmon_quant/UHR_rep${rep} -q\n",
            "done\n",
            "\n",
            "# Normal samples\n",
            "for rep in 1 2 3; do\n",
            "    salmon quant -i salmon_index -l A \\\n",
            "        -1 reads/HBR_${rep}_R1.fq -2 reads/HBR_${rep}_R2.fq \\\n",
            "        -o salmon_quant/HBR_rep${rep} -q\n",
            "done"
          ]
        }
      ]
    },
    {
      "cell_type": "markdown",
      "metadata": {
        "id": "C3NCCHAN-XS_"
      },
      "source": [
        "### Step 2.3: Examine Salmon Quantification Results\n",
        "\n",
        "**Background: Understanding Salmon Output Format**\n",
        "\n",
        "**What is in the `quant.sf` file?**\n",
        "Salmon produces a quantification file (quant.sf) for each sample containing the estimated expression levels for all transcripts. This file is the core output that we'll use for downstream differential expression analysis.\n",
        "\n",
        "**Let's examine the quantification results:**"
      ]
    },
    {
      "cell_type": "code",
      "source": [
        "%%bash\n",
        "ls -lht salmon_quant/"
      ],
      "metadata": {
        "colab": {
          "base_uri": "https://localhost:8080/"
        },
        "id": "mliXLgSdnU8s",
        "outputId": "ba63db1c-25af-420f-c5cb-3045d596c968"
      },
      "execution_count": 29,
      "outputs": [
        {
          "output_type": "stream",
          "name": "stdout",
          "text": [
            "total 24K\n",
            "drwxr-xr-x 5 root root 4.0K Jul 18 14:04 HBR_rep3\n",
            "drwxr-xr-x 5 root root 4.0K Jul 18 14:04 HBR_rep2\n",
            "drwxr-xr-x 5 root root 4.0K Jul 18 14:04 HBR_rep1\n",
            "drwxr-xr-x 5 root root 4.0K Jul 18 14:04 UHR_rep3\n",
            "drwxr-xr-x 5 root root 4.0K Jul 18 14:04 UHR_rep2\n",
            "drwxr-xr-x 5 root root 4.0K Jul 18 14:04 UHR_rep1\n"
          ]
        }
      ]
    },
    {
      "cell_type": "code",
      "source": [
        "%%bash\n",
        "ls -lht salmon_quant/HBR_rep1/"
      ],
      "metadata": {
        "colab": {
          "base_uri": "https://localhost:8080/"
        },
        "id": "taHFhldc2zMx",
        "outputId": "a68be212-850e-48ef-b82c-3d133ba9d9ef"
      },
      "execution_count": 30,
      "outputs": [
        {
          "output_type": "stream",
          "name": "stdout",
          "text": [
            "total 228K\n",
            "drwxr-xr-x 2 root root 4.0K Jul 18 14:04 aux_info\n",
            "-rw-r--r-- 1 root root  547 Jul 18 14:04 lib_format_counts.json\n",
            "drwxr-xr-x 2 root root 4.0K Jul 18 14:04 libParams\n",
            "-rw-r--r-- 1 root root 205K Jul 18 14:04 quant.sf\n",
            "-rw-r--r-- 1 root root  235 Jul 18 14:04 cmd_info.json\n",
            "drwxr-xr-x 2 root root 4.0K Jul 18 14:04 logs\n"
          ]
        }
      ]
    },
    {
      "cell_type": "code",
      "execution_count": 31,
      "metadata": {
        "colab": {
          "base_uri": "https://localhost:8080/"
        },
        "id": "yUQV-kWOo795",
        "outputId": "ab646f29-7fc3-420f-9660-a270524fb685"
      },
      "outputs": [
        {
          "output_type": "stream",
          "name": "stdout",
          "text": [
            "Name\tLength\tEffectiveLength\tTPM\tNumReads\n",
            "ENST00000615943.1\t113\t5.574\t0.000000\t0.000\n",
            "ENST00000618365.1\t139\t16.260\t0.000000\t0.000\n",
            "ENST00000623473.1\t54\t54.000\t0.000000\t0.000\n",
            "ENST00000624155.1\t120\t8.405\t0.000000\t0.000\n",
            "ENST00000422332.1\t1241\t1067.832\t0.000000\t0.000\n",
            "ENST00000612732.1\t151\t21.745\t0.000000\t0.000\n",
            "ENST00000614148.1\t115\t6.325\t0.000000\t0.000\n",
            "ENST00000614087.1\t73\t73.000\t0.000000\t0.000\n",
            "ENST00000621672.1\t82\t82.000\t0.000000\t0.000\n"
          ]
        }
      ],
      "source": [
        "%%bash\n",
        "head salmon_quant/HBR_rep1/quant.sf"
      ]
    },
    {
      "cell_type": "code",
      "execution_count": 32,
      "metadata": {
        "colab": {
          "base_uri": "https://localhost:8080/"
        },
        "id": "Q7GRgp3mAHdO",
        "outputId": "2615c6ca-05d2-4cdc-88b3-b1756d734ad9"
      },
      "outputs": [
        {
          "output_type": "stream",
          "name": "stdout",
          "text": [
            "ENST00000468451.1\t561\t387.874\t177.575031\t1.347\n",
            "ENST00000464740.1\t612\t438.874\t0.000000\t0.000\n",
            "ENST00000413505.1\t391\t218.190\t931.527567\t3.976\n",
            "ENST00000467796.5\t813\t639.871\t0.000000\t0.000\n",
            "ENST00000462238.5\t1009\t835.832\t378.997070\t6.196\n",
            "ENST00000463325.5\t528\t354.902\t0.000000\t0.000\n",
            "ENST00000494075.5\t857\t683.832\t0.000000\t0.000\n",
            "ENST00000423888.5\t658\t484.874\t0.000000\t0.000\n",
            "ENST00000480246.1\t2987\t2813.832\t614.189956\t33.804\n",
            "ENST00000427528.1\t469\t295.939\t0.000000\t0.000\n"
          ]
        }
      ],
      "source": [
        "%%bash\n",
        "tail salmon_quant/HBR_rep1/quant.sf"
      ]
    },
    {
      "cell_type": "markdown",
      "metadata": {
        "id": "uf8sqvcx-7Ub"
      },
      "source": [
        "**Understanding the quant.sf format:**\n",
        "\n",
        "**Column explanations:**\n",
        "- **Name**: Transcript identifier (from our GTF annotation file)\n",
        "- **Length**: Effective transcript length in base pairs (accounts for fragment length distribution)\n",
        "- **EffectiveLength**: Length used for TPM calculation (adjusted for sequencing biases)\n",
        "- **TPM**: **Transcripts Per Million** - normalized expression measure\n",
        "- **NumReads**: Estimated number of reads assigned to this transcript (what we'll use for DESeq2)\n",
        "\n",
        "**Why these metrics matter:**\n",
        "\n",
        "**TPM (Transcripts Per Million):**\n",
        "- **Normalized measure**: Accounts for both sequencing depth and transcript length\n",
        "- **Comparable across samples**: Same TPM value means same expression level\n",
        "- **Range**: 0 to very high (no upper limit)\n",
        "- **Interpretation**: TPM of 1 means 1 transcript per million transcripts in the sample\n",
        "\n",
        "**NumReads (Read Counts):**\n",
        "- **Raw abundance**: Actual number of sequencing reads assigned to each transcript\n",
        "- **Statistical analysis**: Used by DESeq2 for differential expression testing\n",
        "- **Integer values**: Whole numbers suitable for count-based statistical models\n",
        "- **Not normalized**: Higher values could mean higher expression OR deeper sequencing\n",
        "\n",
        "**Length vs EffectiveLength:**\n",
        "- **Length**: Actual transcript length from annotation\n",
        "- **EffectiveLength**: Adjusted for experimental biases (GC content, positional bias)\n",
        "- **Importance**: Longer transcripts naturally get more reads, so normalization is crucial\n",
        "\n",
        "**Clinical Relevance:**\n",
        "- **Biomarker discovery**: TPM values help identify consistently expressed genes\n",
        "- **Drug targets**: NumReads provides statistical power for finding significant differences\n",
        "- **Personalized medicine**: Expression levels guide treatment decisions\n",
        "\n",
        "**What to expect:**\n",
        "- **High TPM/NumReads**: Highly expressed genes (often housekeeping genes)\n",
        "- **Zero values**: Genes not expressed in this tissue/condition\n",
        "- **Intermediate values**: Tissue-specific or condition-dependent expression"
      ]
    },
    {
      "cell_type": "markdown",
      "metadata": {
        "id": "FxlIWGyD_P8-"
      },
      "source": [
        "---\n",
        "\n",
        "## Part 3: Differential Expression Analysis (20 minutes)\n",
        "\n",
        "### Step 3.1: Load Libraries and Data\n",
        "\n",
        "**Background: Data Import and Preparation for Statistical Analysis**\n",
        "\n",
        "**What is our R script doing?**\n",
        "The `load_data.R` script performs several critical steps:\n",
        "\n",
        "1. **Data Integration**: Combines salmon results from all 6 samples into a single count matrix\n",
        "2. **Sample Annotation**: Creates metadata linking each sample to its experimental condition\n",
        "3. **Quality Control**: Checks data integrity and reports basic statistics\n",
        "4. **Format Preparation**: Converts data into the format required for DESeq2 analysis\n",
        "\n",
        "**Why use count data?**\n",
        "- **Raw counts**: Represent the actual number of sequencing reads per gene\n",
        "- **Statistical requirements**: Count-based statistical models (like DESeq2) need integer counts\n",
        "- **Comparability**: Counts can be normalized across samples for fair comparison\n",
        "\n",
        "**Medical context:**\n",
        "This step transforms raw sequencing data into a format suitable for identifying genes that are differentially expressed between cancer and normal tissue.\n"
      ]
    },
    {
      "cell_type": "code",
      "source": [
        "%%bash\n",
        "ls -lht"
      ],
      "metadata": {
        "colab": {
          "base_uri": "https://localhost:8080/"
        },
        "id": "zJ5ZL09s3C32",
        "outputId": "e4fa460b-02ac-4799-8b05-4362d0ae7a33"
      },
      "execution_count": 34,
      "outputs": [
        {
          "output_type": "stream",
          "name": "stdout",
          "text": [
            "total 133M\n",
            "drwxr-xr-x 8 root root 4.0K Jul 18 14:04 salmon_quant\n",
            "drwxr-xr-x 2 root root 4.0K Jul 18 14:04 salmon_index\n",
            "-rw-r--r-- 1 root root 7.0M Jul 18 14:04 chr22_transcriptome.fa\n",
            "drwxr-xr-x 2 root root 4.0K Jul 18 14:03 refs\n",
            "drwxr-xr-x 2 root root 4.0K Jul 18 14:00 reads\n",
            "-rw-r--r-- 1 root root 2.4K Jul 18 13:59 load_data.R\n",
            "-rw-r--r-- 1 root root  385 Jul 18 13:59 mapping.sh\n",
            "-rw-r--r-- 1 root root 4.0K Jul 18 13:59 pathway_analysis.R\n",
            "-rw-r--r-- 1 root root 8.3K Jul 18 13:59 run_deseq2.R\n",
            "-rw-r--r-- 1 root root  426 Jul 18 13:59 samples.tsv\n",
            "-rw-r--r-- 1 root root 126M Jul 18 13:59 griffith-data.tar.gz\n",
            "-rw-r--r-- 1 root root 6.1K Jul 18 13:59 drug_repositioning.py\n",
            "-rw-r--r-- 1 root root 6.0K Jul 18 13:59 README.md\n",
            "drwxr-xr-x 2 root root 4.0K Jul 18 13:59 V57\n"
          ]
        }
      ]
    },
    {
      "cell_type": "code",
      "execution_count": 36,
      "metadata": {
        "colab": {
          "base_uri": "https://localhost:8080/"
        },
        "id": "_ps_d8EWyZnt",
        "outputId": "a8be9f43-a447-4c32-d61b-eb26d6020bb2"
      },
      "outputs": [
        {
          "output_type": "stream",
          "name": "stdout",
          "text": [
            "sample\tcondition\ttissue_type\tclinical_context\n",
            "UHR_rep1\tcancer\tmixed_cancer_cell_lines\tUniversal Human Reference Rep1\n",
            "UHR_rep2\tcancer\tmixed_cancer_cell_lines\tUniversal Human Reference Rep2\n",
            "UHR_rep3\tcancer\tmixed_cancer_cell_lines\tUniversal Human Reference Rep3\n",
            "HBR_rep1\tnormal\tbrain_tissue\tHuman Brain Reference Rep1\n",
            "HBR_rep2\tnormal\tbrain_tissue\tHuman Brain Reference Rep2\n",
            "HBR_rep3\tnormal\tbrain_tissue\tHuman Brain Reference Rep3"
          ]
        }
      ],
      "source": [
        "%%bash\n",
        "cat samples.tsv"
      ]
    },
    {
      "cell_type": "code",
      "execution_count": 37,
      "metadata": {
        "colab": {
          "base_uri": "https://localhost:8080/"
        },
        "collapsed": true,
        "id": "xh5x4P5U_Lqd",
        "outputId": "54eecbf1-b001-4e26-a0c7-0609eaa16b22"
      },
      "outputs": [
        {
          "output_type": "stream",
          "name": "stdout",
          "text": [
            "Reading salmon quantification files...\n",
            "Count matrix written to: counts.tsv \n",
            "Dimensions: 4501 genes x 6 samples\n"
          ]
        }
      ],
      "source": [
        "%%bash\n",
        "# 2025-07-14\n",
        "Rscript load_data.R --input salmon_quant/ --metadata samples.tsv --output counts.tsv"
      ]
    },
    {
      "cell_type": "markdown",
      "metadata": {
        "id": "vMPUOJt4HHQJ"
      },
      "source": [
        "### Step 3.1.1: Examine the Count Matrix\n",
        "\n",
        "**Background: Understanding the Gene Expression Count Matrix**\n",
        "\n",
        "**What is a count matrix?**\n",
        "The count matrix is the fundamental data structure for RNA-seq analysis. It's a table where:\n",
        "- **Rows**: Represent genes/transcripts\n",
        "- **Columns**: Represent samples (cancer_rep1, cancer_rep2, etc.)\n",
        "- **Values**: Number of sequencing reads assigned to each gene in each sample\n",
        "\n",
        "**Why is this important?**\n",
        "- **Statistical foundation**: All differential expression analysis starts with this matrix\n",
        "- **Data quality**: Allows us to spot potential issues before analysis\n",
        "- **Biological insight**: Shows which genes are highly vs lowly expressed\n",
        "- **Clinical relevance**: Forms the basis for identifying cancer biomarkers\n",
        "\n",
        "**Let's examine our count matrix:**\n"
      ]
    },
    {
      "cell_type": "code",
      "source": [
        "%%bash\n",
        "wc -l counts.tsv"
      ],
      "metadata": {
        "colab": {
          "base_uri": "https://localhost:8080/"
        },
        "id": "PLOmoffv3O8c",
        "outputId": "5d6af8d0-7a1f-48cf-ade8-3b23f3479f7e"
      },
      "execution_count": 39,
      "outputs": [
        {
          "output_type": "stream",
          "name": "stdout",
          "text": [
            "4502 counts.tsv\n"
          ]
        }
      ]
    },
    {
      "cell_type": "code",
      "execution_count": 38,
      "metadata": {
        "colab": {
          "base_uri": "https://localhost:8080/"
        },
        "id": "L1iSgvmqHRxt",
        "outputId": "fcecdba1-b914-4376-a27c-81407ebb11c9"
      },
      "outputs": [
        {
          "output_type": "stream",
          "name": "stdout",
          "text": [
            "\tUHR_rep1\tUHR_rep2\tUHR_rep3\tHBR_rep1\tHBR_rep2\tHBR_rep3\n",
            "ENST00000615943.1\t0\t0\t0\t0\t0\t0\n",
            "ENST00000618365.1\t0\t0\t0\t0\t0\t0\n",
            "ENST00000623473.1\t0\t0\t0\t0\t0\t0\n",
            "ENST00000624155.1\t0\t0\t0\t0\t0\t0\n",
            "ENST00000422332.1\t0\t1\t0\t0\t0\t0\n",
            "ENST00000612732.1\t0\t0\t0\t0\t0\t0\n",
            "ENST00000614148.1\t0\t0\t0\t0\t0\t0\n",
            "ENST00000614087.1\t0\t0\t0\t0\t0\t0\n",
            "ENST00000621672.1\t0\t0\t0\t0\t0\t0\n"
          ]
        }
      ],
      "source": [
        "%%bash\n",
        "head counts.tsv"
      ]
    },
    {
      "cell_type": "code",
      "execution_count": 40,
      "metadata": {
        "colab": {
          "base_uri": "https://localhost:8080/"
        },
        "id": "R-c2ej9EAZri",
        "outputId": "15dfc460-4c37-482b-b229-12fb1f044c61"
      },
      "outputs": [
        {
          "output_type": "stream",
          "name": "stdout",
          "text": [
            "ENST00000468451.1\t0\t0\t1\t1\t0\t0\n",
            "ENST00000464740.1\t2\t1\t1\t0\t0\t1\n",
            "ENST00000413505.1\t4\t3\t1\t4\t1\t0\n",
            "ENST00000467796.5\t0\t0\t0\t0\t6\t0\n",
            "ENST00000462238.5\t6\t5\t6\t6\t10\t9\n",
            "ENST00000463325.5\t0\t0\t0\t0\t0\t0\n",
            "ENST00000494075.5\t0\t0\t4\t0\t8\t1\n",
            "ENST00000423888.5\t0\t2\t3\t0\t0\t0\n",
            "ENST00000480246.1\t16\t10\t16\t34\t32\t45\n",
            "ENST00000427528.1\t0\t0\t0\t0\t0\t0\n"
          ]
        }
      ],
      "source": [
        "%%bash\n",
        "tail counts.tsv"
      ]
    },
    {
      "cell_type": "markdown",
      "metadata": {
        "id": "MZ--Q8RZHcrk"
      },
      "source": [
        "**Understanding the count matrix structure:**\n",
        "\n",
        "**Gene_ID Column:**\n",
        "- **Transcript identifiers**: From our GTF annotation file\n",
        "- **ENST format**: Ensembl transcript IDs (e.g., ENST00000215832.4)\n",
        "- **Version numbers**: The `.4` indicates annotation version\n",
        "- **Biological meaning**: Each ID represents a specific mRNA transcript\n",
        "\n",
        "**Sample Columns:**\n",
        "- **cancer_rep1, cancer_rep2, cancer_rep3**: Three biological replicates of cancer cell lines\n",
        "- **normal_rep1, normal_rep2, normal_rep3**: Three biological replicates of normal brain tissue\n",
        "- **Replication importance**: Multiple replicates allow statistical testing\n",
        "\n",
        "**Count Values:**\n",
        "- **Integer numbers**: Whole read counts (0, 1, 2, 150, 5000, etc.)\n",
        "- **Dynamic range**: From 0 (not expressed) to tens of thousands (highly expressed)\n",
        "- **Raw counts**: Not yet normalized for library size or gene length\n",
        "\n",
        "**What the numbers tell us:**\n",
        "\n",
        "| Genes | High count values | Medium count values | Low count values | Zero count values |\n",
        "| --- | --- | --- | --- | --- |\n",
        "| Counts range | >1000 | 10-1000 | 0-10 | 0 |\n",
        "| Typical content | <ul><li>Housekeeping genes: Essential cellular functions (ribosomal proteins, metabolism)</li><li>Tissue-specific genes: Genes characteristic of the tissue type</li><li>Abundant transcripts: Genes producing lots of mRNA | <ul><li>Regulated genes: Genes that may change between conditions</li><li>Functional specialization: Genes involved in specific biological processes</li><li>Potential biomarkers: Candidates for differential expression</li></ul> | <ul><li>Lowly expressed genes: Genes with minimal transcription</li><li>Tissue-inappropriate genes: Genes not typically expressed in this tissue</li><li>Technical noise: Some low counts may be background</li></ul> | <ul><li>Not expressed: Gene is turned off in this sample/condition</li><li>Below detection: Expression too low to detect reliably</li><li>Technical artifacts: Missing due to technical limitations</li></ul> |\n",
        "\n",
        "\n",
        "**Clinical and Research Implications:**\n",
        "\n",
        "**Quality indicators:**\n",
        "- **Similar patterns**: Replicates should show similar count patterns\n",
        "- **Dynamic range**: Healthy samples should show diverse expression levels\n",
        "- **Library sizes**: Total counts should be similar across samples\n",
        "\n",
        "**Biological insights:**\n",
        "- **Condition differences**: Cancer vs normal samples may show different patterns\n",
        "- **Gene expression hierarchy**: Most genes lowly expressed, few highly expressed\n",
        "- **Functional categories**: Different gene types have characteristic expression levels\n",
        "\n",
        "This count matrix serves as the foundation for identifying genes that are differentially expressed between cancer and normal tissue, which will guide our search for therapeutic targets."
      ]
    },
    {
      "cell_type": "markdown",
      "metadata": {
        "id": "iCM0rc2U_WtA"
      },
      "source": [
        "### Step 3.2: Run Differential Expression Analysis\n",
        "\n",
        "**Background: Statistical Analysis with DESeq2**\n",
        "\n",
        "**What is differential expression analysis?**\n",
        "Differential expression analysis identifies genes whose expression levels significantly differ between experimental conditions (cancer vs normal). This involves:\n",
        "\n",
        "1. **Normalization**: Adjusting for differences in sequencing depth and composition\n",
        "2. **Variance modeling**: Estimating biological and technical variability\n",
        "3. **Statistical testing**: Using negative binomial models to test for significant differences\n",
        "4. **Multiple testing correction**: Adjusting p-values for testing thousands of genes simultaneously\n",
        "\n",
        "**How does DESeq2 work?**\n",
        "DESeq2 uses sophisticated statistical methods:\n",
        "- **Size factors**: Normalize for sequencing depth differences\n",
        "- **Dispersion estimation**: Model gene-specific variance\n",
        "- **Wald test**: Test for significant expression differences\n",
        "- **Benjamini-Hochberg**: Control false discovery rate\n",
        "\n",
        "**Key outputs:**\n",
        "- **Log2 fold change**: Magnitude of expression difference\n",
        "- **P-value**: Statistical significance of the difference\n",
        "- **Adjusted p-value**: Corrected for multiple testing\n",
        "\n",
        "**Clinical interpretation:**\n",
        "- **Positive fold change**: Higher expression in cancer (potential oncogenes)\n",
        "- **Negative fold change**: Lower expression in cancer (potential tumor suppressors)"
      ]
    },
    {
      "cell_type": "code",
      "execution_count": 41,
      "metadata": {
        "colab": {
          "base_uri": "https://localhost:8080/"
        },
        "collapsed": true,
        "id": "ljiBiyvOsN3x",
        "outputId": "80148545-2060-4562-95ea-b916c47b3aad"
      },
      "outputs": [
        {
          "output_type": "stream",
          "name": "stdout",
          "text": [
            "Reading input files...\n",
            "Retained 1568 genes for analysis\n",
            "Running DESeq2 analysis...\n",
            "Extracting gene symbols from GTF file...\n",
            "Mapped 1568 out of 1568 transcripts to gene symbols\n",
            "Differentially expressed genes written to: degs.tsv \n",
            "Generating plots...\n",
            "null device \n",
            "          1 \n",
            "Checking genes for heatmap...\n",
            "Genes in res_df: 1467 \n",
            "Genes in vsd: 1568 \n",
            "Overlapping genes: 0 \n",
            "No overlap found, using top genes from vsd directly...\n",
            "Selected 20 genes for heatmap\n",
            "Heatmap saved to: heatmap.png \n",
            "null device \n",
            "          1 \n",
            "Analysis complete. Plots saved as: pca_plot.png, heatmap.png, volcano_plot.png \n",
            "R workspace saved as: deseq2_results.RData \n"
          ]
        },
        {
          "output_type": "stream",
          "name": "stderr",
          "text": [
            "Warning message:\n",
            "package ‘DESeq2’ was built under R version 4.4.3 \n",
            "using ntop=500 top features by variance\n"
          ]
        }
      ],
      "source": [
        "%%bash\n",
        "# 2025-07-14\n",
        "Rscript run_deseq2.R \\\n",
        "    --metadata samples.tsv \\\n",
        "    --expression counts.tsv \\\n",
        "    --output-degs degs.tsv \\\n",
        "    --output-plots pca_plot.png,heatmap.png,volcano_plot.png \\\n",
        "    --output-image deseq2_results.RData"
      ]
    },
    {
      "cell_type": "code",
      "execution_count": 42,
      "metadata": {
        "colab": {
          "base_uri": "https://localhost:8080/"
        },
        "id": "WzHrRwoYugCx",
        "outputId": "e436277d-cefe-40ce-9da8-b5f35c6cb108"
      },
      "outputs": [
        {
          "output_type": "stream",
          "name": "stdout",
          "text": [
            "transcript_id\tgene_symbol\tlog2FoldChange\tpadj\n",
            "ENST00000328933.9\tSYNGR1\t-5.45209894653372\t4.02415634072988e-199\n",
            "ENST00000396425.7\tSEPT3\t-4.34652634627324\t1.21010482611315e-195\n",
            "ENST00000407418.7\tCBX6\t-1.91304910443322\t5.27163049477453e-136\n",
            "ENST00000333039.2\tNPTXR\t-3.26620516938627\t1.22261582468185e-105\n",
            "ENST00000262795.5\tSHANK3\t-4.08019867467502\t5.92978305953308e-98\n",
            "ENST00000255882.10\tPI4KA\t-2.32397281216817\t1.06965399258861e-93\n",
            "ENST00000329492.5\tMAPK8IP2\t-5.76918343495604\t6.11459082907164e-80\n",
            "ENST00000216181.9\tMYH9\t1.68466033421801\t7.09213910687398e-79\n",
            "ENST00000341184.6\tMGAT3\t-4.06192257106685\t1.36449702826143e-76\n"
          ]
        }
      ],
      "source": [
        "%%bash\n",
        "head degs.tsv"
      ]
    },
    {
      "cell_type": "code",
      "execution_count": 43,
      "metadata": {
        "colab": {
          "base_uri": "https://localhost:8080/"
        },
        "id": "LGOiK2v_upTs",
        "outputId": "63d60a63-18d5-415b-80c5-f1a78a14c809"
      },
      "outputs": [
        {
          "output_type": "stream",
          "name": "stdout",
          "text": [
            "gene_id \"ENSG00000100321.14\"; transcript_id \"ENST00000328933.9\"; gene_type \"protein_coding\"; gene_status \"KNOWN\"; gene_name \"SYNGR1\"; transcript_type \"protein_coding\"; transcript_status \"KNOWN\"; transcript_name \"SYNGR1-001\"; level 2; protein_id \"ENSP00000332287.5\"; tag \"basic\"; transcript_support_level \"1\"; tag \"appris_principal_1\"; tag \"CCDS\"; ccdsid \"CCDS13989.1\"; havana_gene \"OTTHUMG00000030978.4\"; havana_transcript \"OTTHUMT00000075866.2\";\n",
            "gene_id \"ENSG00000100321.14\"; transcript_id \"ENST00000328933.9\"; gene_type \"protein_coding\"; gene_status \"KNOWN\"; gene_name \"SYNGR1\"; transcript_type \"protein_coding\"; transcript_status \"KNOWN\"; transcript_name \"SYNGR1-001\"; exon_number 1; exon_id \"ENSE00001881197.1\"; level 2; protein_id \"ENSP00000332287.5\"; tag \"basic\"; transcript_support_level \"1\"; tag \"appris_principal_1\"; tag \"CCDS\"; ccdsid \"CCDS13989.1\"; havana_gene \"OTTHUMG00000030978.4\"; havana_transcript \"OTTHUMT00000075866.2\";\n",
            "gene_id \"ENSG00000100321.14\"; transcript_id \"ENST00000328933.9\"; gene_type \"protein_coding\"; gene_status \"KNOWN\"; gene_name \"SYNGR1\"; transcript_type \"protein_coding\"; transcript_status \"KNOWN\"; transcript_name \"SYNGR1-001\"; exon_number 1; exon_id \"ENSE00001881197.1\"; level 2; protein_id \"ENSP00000332287.5\"; tag \"basic\"; transcript_support_level \"1\"; tag \"appris_principal_1\"; tag \"CCDS\"; ccdsid \"CCDS13989.1\"; havana_gene \"OTTHUMG00000030978.4\"; havana_transcript \"OTTHUMT00000075866.2\";\n",
            "gene_id \"ENSG00000100321.14\"; transcript_id \"ENST00000328933.9\"; gene_type \"protein_coding\"; gene_status \"KNOWN\"; gene_name \"SYNGR1\"; transcript_type \"protein_coding\"; transcript_status \"KNOWN\"; transcript_name \"SYNGR1-001\"; exon_number 1; exon_id \"ENSE00001881197.1\"; level 2; protein_id \"ENSP00000332287.5\"; tag \"basic\"; transcript_support_level \"1\"; tag \"appris_principal_1\"; tag \"CCDS\"; ccdsid \"CCDS13989.1\"; havana_gene \"OTTHUMG00000030978.4\"; havana_transcript \"OTTHUMT00000075866.2\";\n",
            "gene_id \"ENSG00000100321.14\"; transcript_id \"ENST00000328933.9\"; gene_type \"protein_coding\"; gene_status \"KNOWN\"; gene_name \"SYNGR1\"; transcript_type \"protein_coding\"; transcript_status \"KNOWN\"; transcript_name \"SYNGR1-001\"; exon_number 1; exon_id \"ENSE00001881197.1\"; level 2; protein_id \"ENSP00000332287.5\"; tag \"basic\"; transcript_support_level \"1\"; tag \"appris_principal_1\"; tag \"CCDS\"; ccdsid \"CCDS13989.1\"; havana_gene \"OTTHUMG00000030978.4\"; havana_transcript \"OTTHUMT00000075866.2\";\n",
            "gene_id \"ENSG00000100321.14\"; transcript_id \"ENST00000328933.9\"; gene_type \"protein_coding\"; gene_status \"KNOWN\"; gene_name \"SYNGR1\"; transcript_type \"protein_coding\"; transcript_status \"KNOWN\"; transcript_name \"SYNGR1-001\"; exon_number 2; exon_id \"ENSE00000654717.3\"; level 2; protein_id \"ENSP00000332287.5\"; tag \"basic\"; transcript_support_level \"1\"; tag \"appris_principal_1\"; tag \"CCDS\"; ccdsid \"CCDS13989.1\"; havana_gene \"OTTHUMG00000030978.4\"; havana_transcript \"OTTHUMT00000075866.2\";\n",
            "gene_id \"ENSG00000100321.14\"; transcript_id \"ENST00000328933.9\"; gene_type \"protein_coding\"; gene_status \"KNOWN\"; gene_name \"SYNGR1\"; transcript_type \"protein_coding\"; transcript_status \"KNOWN\"; transcript_name \"SYNGR1-001\"; exon_number 2; exon_id \"ENSE00000654717.3\"; level 2; protein_id \"ENSP00000332287.5\"; tag \"basic\"; transcript_support_level \"1\"; tag \"appris_principal_1\"; tag \"CCDS\"; ccdsid \"CCDS13989.1\"; havana_gene \"OTTHUMG00000030978.4\"; havana_transcript \"OTTHUMT00000075866.2\";\n",
            "gene_id \"ENSG00000100321.14\"; transcript_id \"ENST00000328933.9\"; gene_type \"protein_coding\"; gene_status \"KNOWN\"; gene_name \"SYNGR1\"; transcript_type \"protein_coding\"; transcript_status \"KNOWN\"; transcript_name \"SYNGR1-001\"; exon_number 3; exon_id \"ENSE00003687533.1\"; level 2; protein_id \"ENSP00000332287.5\"; tag \"basic\"; transcript_support_level \"1\"; tag \"appris_principal_1\"; tag \"CCDS\"; ccdsid \"CCDS13989.1\"; havana_gene \"OTTHUMG00000030978.4\"; havana_transcript \"OTTHUMT00000075866.2\";\n",
            "gene_id \"ENSG00000100321.14\"; transcript_id \"ENST00000328933.9\"; gene_type \"protein_coding\"; gene_status \"KNOWN\"; gene_name \"SYNGR1\"; transcript_type \"protein_coding\"; transcript_status \"KNOWN\"; transcript_name \"SYNGR1-001\"; exon_number 3; exon_id \"ENSE00003687533.1\"; level 2; protein_id \"ENSP00000332287.5\"; tag \"basic\"; transcript_support_level \"1\"; tag \"appris_principal_1\"; tag \"CCDS\"; ccdsid \"CCDS13989.1\"; havana_gene \"OTTHUMG00000030978.4\"; havana_transcript \"OTTHUMT00000075866.2\";\n",
            "gene_id \"ENSG00000100321.14\"; transcript_id \"ENST00000328933.9\"; gene_type \"protein_coding\"; gene_status \"KNOWN\"; gene_name \"SYNGR1\"; transcript_type \"protein_coding\"; transcript_status \"KNOWN\"; transcript_name \"SYNGR1-001\"; exon_number 4; exon_id \"ENSE00000880353.5\"; level 2; protein_id \"ENSP00000332287.5\"; tag \"basic\"; transcript_support_level \"1\"; tag \"appris_principal_1\"; tag \"CCDS\"; ccdsid \"CCDS13989.1\"; havana_gene \"OTTHUMG00000030978.4\"; havana_transcript \"OTTHUMT00000075866.2\";\n",
            "gene_id \"ENSG00000100321.14\"; transcript_id \"ENST00000328933.9\"; gene_type \"protein_coding\"; gene_status \"KNOWN\"; gene_name \"SYNGR1\"; transcript_type \"protein_coding\"; transcript_status \"KNOWN\"; transcript_name \"SYNGR1-001\"; exon_number 4; exon_id \"ENSE00000880353.5\"; level 2; protein_id \"ENSP00000332287.5\"; tag \"basic\"; transcript_support_level \"1\"; tag \"appris_principal_1\"; tag \"CCDS\"; ccdsid \"CCDS13989.1\"; havana_gene \"OTTHUMG00000030978.4\"; havana_transcript \"OTTHUMT00000075866.2\";\n",
            "gene_id \"ENSG00000100321.14\"; transcript_id \"ENST00000328933.9\"; gene_type \"protein_coding\"; gene_status \"KNOWN\"; gene_name \"SYNGR1\"; transcript_type \"protein_coding\"; transcript_status \"KNOWN\"; transcript_name \"SYNGR1-001\"; exon_number 4; exon_id \"ENSE00000880353.5\"; level 2; protein_id \"ENSP00000332287.5\"; tag \"basic\"; transcript_support_level \"1\"; tag \"appris_principal_1\"; tag \"CCDS\"; ccdsid \"CCDS13989.1\"; havana_gene \"OTTHUMG00000030978.4\"; havana_transcript \"OTTHUMT00000075866.2\";\n",
            "gene_id \"ENSG00000100321.14\"; transcript_id \"ENST00000328933.9\"; gene_type \"protein_coding\"; gene_status \"KNOWN\"; gene_name \"SYNGR1\"; transcript_type \"protein_coding\"; transcript_status \"KNOWN\"; transcript_name \"SYNGR1-001\"; exon_number 4; exon_id \"ENSE00000880353.5\"; level 2; protein_id \"ENSP00000332287.5\"; tag \"basic\"; transcript_support_level \"1\"; tag \"appris_principal_1\"; tag \"CCDS\"; ccdsid \"CCDS13989.1\"; havana_gene \"OTTHUMG00000030978.4\"; havana_transcript \"OTTHUMT00000075866.2\";\n"
          ]
        }
      ],
      "source": [
        "%%bash\n",
        "grep \"ENST00000328933.9\" refs/22.gtf | cut -f9"
      ]
    },
    {
      "cell_type": "markdown",
      "metadata": {
        "id": "jjeWg47B_8S6"
      },
      "source": [
        "### Step 3.3: Create Visualization Plots\n",
        "\n",
        "**Background: Data Visualization for Biological Interpretation**\n",
        "\n",
        "**Why visualize RNA-seq results?**\n",
        "Visualization helps us understand complex datasets and communicate findings effectively. Our three key plots serve different purposes:\n",
        "\n",
        "**1. PCA Plot (Principal Component Analysis):**\n",
        "- **Purpose**: Shows overall similarity/differences between samples\n",
        "- **What it reveals**: Whether cancer and normal samples cluster separately\n",
        "- **Clinical significance**: Validates that cancer has distinct molecular signatures\n",
        "\n",
        "**2. Volcano Plot:**\n",
        "- **Purpose**: Displays both statistical significance and biological magnitude\n",
        "- **X-axis**: Log2 fold change (magnitude of difference)\n",
        "- **Y-axis**: -log10 p-value (statistical significance)\n",
        "- **Clinical significance**: Identifies the most promising therapeutic targets\n",
        "\n",
        "**3. Heatmap:**\n",
        "- **Purpose**: Shows expression patterns of top differentially expressed genes\n",
        "- **Colors**: Red = high expression, Blue = low expression\n",
        "- **Clinical significance**: Reveals potential biomarkers for cancer diagnosis\n",
        "\n",
        "**Our visualization script:**\n",
        "Uses professional ggplot2 graphics to create publication-quality figures suitable for scientific papers and clinical presentations."
      ]
    },
    {
      "cell_type": "code",
      "execution_count": 44,
      "metadata": {
        "colab": {
          "base_uri": "https://localhost:8080/",
          "height": 617
        },
        "collapsed": true,
        "id": "l-daKIxDqUCA",
        "outputId": "45475032-59dd-4a74-eaff-8234729f440f"
      },
      "outputs": [
        {
          "output_type": "display_data",
          "data": {
            "image/png": "[encoded data removed]",
            "text/plain": [
              "<IPython.core.display.Image object>"
            ]
          },
          "metadata": {}
        }
      ],
      "source": [
        "from IPython.display import Image, display\n",
        "import os\n",
        "\n",
        "display(Image('heatmap.png'))"
      ]
    },
    {
      "cell_type": "markdown",
      "source": [
        "Now let's see the annotations of one of these transcripts, e.g. `ENST00000390323.2`:"
      ],
      "metadata": {
        "id": "L2tzrcJC5_-2"
      }
    },
    {
      "cell_type": "code",
      "execution_count": 45,
      "metadata": {
        "colab": {
          "base_uri": "https://localhost:8080/"
        },
        "id": "UZpMrMTLtMlC",
        "outputId": "01845494-5971-49d0-8265-7f6cbcd07479"
      },
      "outputs": [
        {
          "output_type": "stream",
          "name": "stdout",
          "text": [
            "gene_id \"ENSG00000211677.2\"; transcript_id \"ENST00000390323.2\"; gene_type \"IG_C_gene\"; gene_status \"KNOWN\"; gene_name \"IGLC2\"; transcript_type \"IG_C_gene\"; transcript_status \"KNOWN\"; transcript_name \"IGLC2-001\"; level 2; protein_id \"ENSP00000374856.2\"; tag \"mRNA_start_NF\"; tag \"cds_start_NF\"; tag \"basic\"; transcript_support_level \"NA\"; tag \"appris_principal_1\"; havana_gene \"OTTHUMG00000151214.3\"; havana_transcript \"OTTHUMT00000321818.3\";\n",
            "gene_id \"ENSG00000211677.2\"; transcript_id \"ENST00000390323.2\"; gene_type \"IG_C_gene\"; gene_status \"KNOWN\"; gene_name \"IGLC2\"; transcript_type \"IG_C_gene\"; transcript_status \"KNOWN\"; transcript_name \"IGLC2-001\"; exon_number 1; exon_id \"ENSE00001721671.2\"; level 2; protein_id \"ENSP00000374856.2\"; tag \"mRNA_start_NF\"; tag \"cds_start_NF\"; tag \"basic\"; transcript_support_level \"NA\"; tag \"appris_principal_1\"; havana_gene \"OTTHUMG00000151214.3\"; havana_transcript \"OTTHUMT00000321818.3\";\n",
            "gene_id \"ENSG00000211677.2\"; transcript_id \"ENST00000390323.2\"; gene_type \"IG_C_gene\"; gene_status \"KNOWN\"; gene_name \"IGLC2\"; transcript_type \"IG_C_gene\"; transcript_status \"KNOWN\"; transcript_name \"IGLC2-001\"; exon_number 1; exon_id \"ENSE00001721671.2\"; level 2; protein_id \"ENSP00000374856.2\"; tag \"mRNA_start_NF\"; tag \"cds_start_NF\"; tag \"basic\"; transcript_support_level \"NA\"; tag \"appris_principal_1\"; havana_gene \"OTTHUMG00000151214.3\"; havana_transcript \"OTTHUMT00000321818.3\";\n",
            "gene_id \"ENSG00000211677.2\"; transcript_id \"ENST00000390323.2\"; gene_type \"IG_C_gene\"; gene_status \"KNOWN\"; gene_name \"IGLC2\"; transcript_type \"IG_C_gene\"; transcript_status \"KNOWN\"; transcript_name \"IGLC2-001\"; exon_number 1; exon_id \"ENSE00001721671.2\"; level 2; protein_id \"ENSP00000374856.2\"; tag \"mRNA_start_NF\"; tag \"cds_start_NF\"; tag \"basic\"; transcript_support_level \"NA\"; tag \"appris_principal_1\"; havana_gene \"OTTHUMG00000151214.3\"; havana_transcript \"OTTHUMT00000321818.3\";\n",
            "gene_id \"ENSG00000211677.2\"; transcript_id \"ENST00000390323.2\"; gene_type \"IG_C_gene\"; gene_status \"KNOWN\"; gene_name \"IGLC2\"; transcript_type \"IG_C_gene\"; transcript_status \"KNOWN\"; transcript_name \"IGLC2-001\"; exon_number 1; exon_id \"ENSE00001721671.2\"; level 2; protein_id \"ENSP00000374856.2\"; tag \"mRNA_start_NF\"; tag \"cds_start_NF\"; tag \"basic\"; transcript_support_level \"NA\"; tag \"appris_principal_1\"; havana_gene \"OTTHUMG00000151214.3\"; havana_transcript \"OTTHUMT00000321818.3\";\n"
          ]
        }
      ],
      "source": [
        "%%bash\n",
        "# Annotations from differentially expressed genes\n",
        "grep \"ENST00000390323.2\" refs/22.gtf | cut -f9"
      ]
    },
    {
      "cell_type": "markdown",
      "metadata": {
        "id": "58cpUdi8AFik"
      },
      "source": [
        "---\n",
        "\n",
        "## Part 4: Pathway Analysis (15 minutes)\n",
        "\n",
        "### Step 4.1: Run Pathway Analysis\n",
        "\n",
        "**Background: Understanding Biological Pathways in Cancer**\n",
        "\n",
        "**What is pathway enrichment analysis?**\n",
        "Instead of looking at individual genes, pathway analysis examines groups of genes that work together in biological processes. This helps us understand:\n",
        "\n",
        "**1. Biological mechanisms:** How cancer disrupts normal cellular functions\n",
        "**2. Therapeutic targets:** Which pathways could be targeted with drugs\n",
        "**3. Disease understanding:** The underlying biology of cancer progression\n",
        "\n",
        "**How does pathway enrichment work?**\n",
        "1. **Gene sets**: Pre-defined groups of genes involved in specific biological processes\n",
        "2. **Statistical testing**: Determines if cancer-associated genes are overrepresented in specific pathways\n",
        "3. **Databases used**:\n",
        "   - **GO (Gene Ontology)**: Biological processes, molecular functions\n",
        "   - **KEGG**: Metabolic and signaling pathways\n",
        "   - **Reactome**: Detailed biological reactions\n",
        "\n",
        "**Expected cancer pathways:**\n",
        "- **Upregulated**: Cell cycle, DNA replication, metabolic reprogramming\n",
        "- **Downregulated**: Apoptosis, DNA repair, immune response\n",
        "\n",
        "**Clinical relevance:**\n",
        "Pathway analysis reveals which biological systems are disrupted in cancer, guiding therapeutic strategies and drug development."
      ]
    },
    {
      "cell_type": "code",
      "execution_count": 46,
      "metadata": {
        "colab": {
          "base_uri": "https://localhost:8080/"
        },
        "id": "1kyO0lPupxJ0",
        "outputId": "665db591-c4a5-4de6-ab17-d4e2e860d4c4"
      },
      "outputs": [
        {
          "output_type": "stream",
          "name": "stdout",
          "text": [
            "Reading differential expression results...\n",
            "Found 307 significant genes for pathway analysis\n",
            "Upregulated genes: 146 \n",
            "Downregulated genes: 161 \n",
            "Running pathway enrichment for upregulated genes...\n",
            "Running pathway enrichment for downregulated genes...\n",
            "Pathway enrichment results written to: pathway_results.tsv \n",
            "Total significant pathways found: 98 \n",
            "\n",
            "Top 10 enriched pathways:\n",
            "                                                term_name      p_value\n",
            "88           modulation of chemical synaptic transmission 0.0009079101\n",
            "89                 regulation of trans-synaptic signaling 0.0009079101\n",
            "90                         chemical synaptic transmission 0.0009554070\n",
            "91                   anterograde trans-synaptic signaling 0.0009554070\n",
            "92                               trans-synaptic signaling 0.0009554070\n",
            "93                                     synaptic signaling 0.0011636579\n",
            "94                                    cell-cell signaling 0.0053331506\n",
            "1  establishment of protein localization to mitochondrion 0.0074559357\n",
            "2                   protein localization to mitochondrion 0.0074559357\n",
            "3                                DNA cytosine deamination 0.0074559357\n",
            "       direction\n",
            "88 downregulated\n",
            "89 downregulated\n",
            "90 downregulated\n",
            "91 downregulated\n",
            "92 downregulated\n",
            "93 downregulated\n",
            "94 downregulated\n",
            "1    upregulated\n",
            "2    upregulated\n",
            "3    upregulated\n"
          ]
        }
      ],
      "source": [
        "%%bash\n",
        "Rscript pathway_analysis.R --input degs.tsv --output pathway_results.tsv"
      ]
    },
    {
      "cell_type": "code",
      "execution_count": 47,
      "metadata": {
        "colab": {
          "base_uri": "https://localhost:8080/"
        },
        "collapsed": true,
        "id": "5gJS4DuyOAna",
        "outputId": "a278ae8e-0a89-426c-ac92-f9d483068586"
      },
      "outputs": [
        {
          "output_type": "stream",
          "name": "stdout",
          "text": [
            "query\tsource\tterm_id\tterm_name\tterm_size\tquery_size\tintersection_size\tp_value\tdirection\n",
            "query_1\tGO:BP\tGO:0050804\tmodulation of chemical synaptic transmission\t513\t84\t12\t0.000907910106784905\tdownregulated\n",
            "query_1\tGO:BP\tGO:0099177\tregulation of trans-synaptic signaling\t514\t84\t12\t0.000907910106784905\tdownregulated\n",
            "query_1\tGO:BP\tGO:0007268\tchemical synaptic transmission\t775\t84\t14\t0.000955406991424698\tdownregulated\n",
            "query_1\tGO:BP\tGO:0098916\tanterograde trans-synaptic signaling\t775\t84\t14\t0.000955406991424698\tdownregulated\n",
            "query_1\tGO:BP\tGO:0099537\ttrans-synaptic signaling\t781\t84\t14\t0.000955406991424698\tdownregulated\n",
            "query_1\tGO:BP\tGO:0099536\tsynaptic signaling\t807\t84\t14\t0.00116365787526633\tdownregulated\n",
            "query_1\tGO:BP\tGO:0007267\tcell-cell signaling\t1342\t84\t17\t0.00533315058684575\tdownregulated\n",
            "query_1\tGO:BP\tGO:0072655\testablishment of protein localization to mitochondrion\t123\t85\t6\t0.00745593566650851\tupregulated\n",
            "query_1\tGO:BP\tGO:0070585\tprotein localization to mitochondrion\t132\t85\t6\t0.00745593566650851\tupregulated\n"
          ]
        }
      ],
      "source": [
        "%%bash\n",
        "head pathway_results.tsv"
      ]
    },
    {
      "cell_type": "markdown",
      "metadata": {
        "id": "iQ4L9QfuAOjE"
      },
      "source": [
        "---\n",
        "\n",
        "## Part 5: Drug Repositioning (10 minutes)\n",
        "\n",
        "### 5.1 Drug Repositioning in Cancer Research\n",
        "\n",
        "**What is drug repositioning?**\n",
        "Drug repositioning (also called drug repurposing) involves finding new therapeutic uses for existing drugs. This approach offers several advantages:\n",
        "\n",
        "1. **Faster development**: 5-10 years vs 15-20 years for new drugs\n",
        "2. **Known safety profiles**: Existing drugs have established safety data\n",
        "3. **Lower costs**: Reduces the risk and expense of drug development\n",
        "4. **Immediate clinical application**: Can be prescribed off-label in some cases\n",
        "\n",
        "**How does computational drug repositioning work?**\n",
        "Our approach uses gene expression signatures:\n",
        "1. **Cancer signature**: Lists of oncogenes (upregulated) and tumor suppressors (downregulated)\n",
        "2. **Drug effects database**: How thousands of drugs affect gene expression\n",
        "3. **Signature matching**: Find drugs that reverse cancer gene expression patterns\n",
        "\n",
        "**Success stories:**\n",
        "- **Metformin**: Diabetes drug → Cancer prevention (200+ clinical trials)\n",
        "- **Aspirin**: Pain relief → Cancer prevention (FDA approved)\n",
        "- **Rapamycin**: Immunosuppressant → Cancer and aging research\n",
        "\n",
        "**Our script preparation:**\n",
        "Converts our DESeq2 results into a format compatible with L1000CDS2, a major drug repositioning database."
      ]
    },
    {
      "cell_type": "markdown",
      "metadata": {
        "id": "6UqDdjzbAVr0"
      },
      "source": [
        "### 5.2 Querying the L1000CDS2 Drug Database\n",
        "\n",
        "**Background: The L1000CDS2 Drug Repositioning Platform**\n",
        "\n",
        "**What is L1000CDS2?**\n",
        "L1000CDS2 (L1000 Characteristic Direction Signature) is a computational tool developed by the Ma'ayan Laboratory that:\n",
        "\n",
        "1. **Database scope**: Contains gene expression signatures for >20,000 drugs tested on human cell lines\n",
        "2. **Signature matching**: Uses mathematical algorithms to find drugs that reverse disease signatures\n",
        "3. **LINCS program**: Part of the NIH Library of Integrated Network-based Cellular Signatures initiative\n",
        "\n",
        "**How does the algorithm work?**\n",
        "1. **Input signature**: Our cancer gene signature (oncogenes + tumor suppressors)\n",
        "2. **Database search**: Compares against drug-induced expression changes\n",
        "3. **Scoring system**: Calculates how well each drug reverses the cancer signature\n",
        "4. **Ranking**: Returns drugs ranked by their potential to counteract cancer\n",
        "\n",
        "**Interpreting the results:**\n",
        "- **Negative scores**: Drugs that reverse cancer signatures (high therapeutic potential)\n",
        "- **Positive scores**: Drugs that mimic cancer signatures (avoid these)\n",
        "- **Score magnitude**: Larger absolute values indicate stronger effects\n",
        "\n",
        "**Clinical validation:**\n",
        "The system has successfully identified:\n",
        "- Known cancer drugs (validates the approach)\n",
        "- Repositioned drugs already in cancer trials\n",
        "- Novel repositioning opportunities for further investigation\n"
      ]
    },
    {
      "cell_type": "code",
      "execution_count": 48,
      "metadata": {
        "colab": {
          "base_uri": "https://localhost:8080/"
        },
        "collapsed": true,
        "id": "h4VYoOu3u_NT",
        "outputId": "1aec363e-e34e-46be-8c1d-a848187a923c"
      },
      "outputs": [
        {
          "output_type": "stream",
          "name": "stdout",
          "text": [
            "Read 1467 genes from degs.tsv\n",
            "Found 307 significant genes\n",
            "Using 146 upregulated and 150 downregulated genes\n",
            "Querying L1000CDS2 database...\n",
            "Found 50 drug candidates\n",
            "Drug candidates written to: drug_candidates.txt\n",
            "Top 5 candidates:\n",
            "1. GSK-2126458 (score: 0.0592)\n",
            "2. vorinostat (score: 0.0526)\n",
            "3. vorinostat (score: 0.0526)\n",
            "4. PP-110 (score: 0.0526)\n",
            "5. torin-2 (score: 0.0526)\n"
          ]
        }
      ],
      "source": [
        "%%bash\n",
        "python drug_repositioning.py --input degs.tsv --output drug_candidates.txt"
      ]
    },
    {
      "cell_type": "code",
      "execution_count": 49,
      "metadata": {
        "colab": {
          "base_uri": "https://localhost:8080/"
        },
        "id": "efW7R2kcPLlH",
        "outputId": "9c04311f-e862-480e-c053-e7b54803bd01"
      },
      "outputs": [
        {
          "output_type": "stream",
          "name": "stdout",
          "text": [
            "pert_desc\tpert_id\tcell_id\tpert_dose\tpert_dose_unit\tpert_time\tpert_time_unit\tscore\n",
            "GSK-2126458\tBRD-K42918627\tA375\t0.37\tum\t24\th\t0.0592\n",
            "vorinostat\tBRD-K81418486\tHCC515\t10.0\tum\t24.0\th\t0.0526\n",
            "vorinostat\tBRD-K81418486\tHCC515\t11.1\tum\t24.0\th\t0.0526\n",
            "PP-110\tBRD-K03618428\tHT29\t22.2\tum\t24.0\th\t0.0526\n",
            "torin-2\tBRD-K68174511\tA549\t0.37\tum\t24\th\t0.0526\n",
            "erlotinib\tBRD-K70401845\tMCF10A\t1.11\tum\t24\th\t0.0526\n",
            "PD-184352\tBRD-K05104363\tMCF10A\t3.33\tum\t24\th\t0.0526\n",
            "AZD-8330\tBRD-K37687095\tMCF10A\t0.04\tum\t24\th\t0.0526\n",
            "selumetinib\tBRD-K57080016\tA375\t0.37\tum\t24\th\t0.0526\n",
            "NVP-TAE684\tBRD-K50140147\tA375\t3.33\tum\t24\th\t0.0526\n",
            "selumetinib\tBRD-K57080016\tMCF10A\t1.11\tum\t24\th\t0.0526\n",
            "vorinostat\tBRD-K81418486\tHCC515\t10.0\tum\t24.0\th\t0.0461\n",
            "wortmannin\tBRD-A75409952\tA549\t10.0\tum\t24.0\th\t0.0461\n",
            "KU 0060648 trihydrochloride\tBRD-K09499853\tA375\t10.0\tum\t24.0\th\t0.0461\n",
            "-666\tBRD-K57080016\tA375\t80.0\tum\t24.0\th\t0.0461\n",
            "-666\tBRD-K81473043\tA375\t0.35\tum\t24.0\th\t0.0461\n",
            "TG101348\tBRD-K12502280\tHCC515\t11.1\tum\t24.0\th\t0.0461\n",
            "TG101348\tBRD-K12502280\tHT29\t11.1\tum\t24.0\th\t0.0461\n",
            "geldanamycin\tBRD-A19500257\tMCF7\t10.0\tum\t24.0\th\t0.0461\n",
            "KU 0060648 trihydrochloride\tBRD-K09499853\tMCF7\t10.0\tum\t24.0\th\t0.0461\n",
            "AZD8055\tBRD-K69932463\tMCF7\t10.0\tum\t24.0\th\t0.0461\n",
            "A112550.cdx\tBRD-K56301217\tVCAP\t11.1\tum\t24.0\th\t0.0461\n",
            "AZD8055\tBRD-K69932463\tVCAP\t10.0\tum\t24.0\th\t0.0461\n",
            "wortmannin\tBRD-A75409952\tVCAP\t10.0\tum\t24.0\th\t0.0461\n",
            "S1030\tBRD-K02130563\tASC\t10.0\tum\t24.0\th\t0.0461\n",
            "-666\tBRD-K34014345\tMCF7\t10.0\tum\t24.0\th\t0.0461\n",
            "PLX-4720\tBRD-K16478699\tA375\t0.37\tum\t24\th\t0.0461\n",
            "TGX-221\tBRD-A41692738\tA375\t0.37\tum\t24\th\t0.0461\n",
            "NVP-BEZ235\tBRD-K12184916\tA549\t1.11\tum\t24\th\t0.0461\n",
            "TG-101348\tBRD-K12502280\tA549\t10\tum\t24\th\t0.0461\n",
            "NVP-BEZ235\tBRD-K12184916\tA549\t0.37\tum\t24\th\t0.0461\n",
            "dovitinib\tBRD-K85402309\tHEPG2\t10\tum\t24\th\t0.0461\n",
            "trametinib\tBRD-K12343256\tMCF10A\t1.11\tum\t24\th\t0.0461\n",
            "trametinib\tBRD-K12343256\tMCF10A\t0.37\tum\t24\th\t0.0461\n",
            "palbociclib\tBRD-K51313569\tHT29\t0.37\tum\t24\th\t0.0461\n",
            "ZSTK-474\tBRD-K63068307\tLNCAP\t0.37\tum\t24\th\t0.0461\n",
            "PI-103\tBRD-K67868012\tLNCAP\t1.11\tum\t24\th\t0.0461\n",
            "GDC-0941\tBRD-K52911425\tLNCAP\t3.33\tum\t24\th\t0.0461\n",
            "MK-2206\tBRD-K68065987\tLNCAP\t3.33\tum\t24\th\t0.0461\n",
            "AZD-8055\tBRD-K69932463\tLNCAP\t0.12\tum\t24\th\t0.0461\n",
            "selumetinib\tBRD-K57080016\tMCF10A\t10\tum\t24\th\t0.0461\n",
            "TWS119\tBRD-K94176593\tHA1E\t10.0\tum\t24.0\th\t0.0395\n",
            "PKC-412\tBRD-K13646352\tHCC515\t10.0\tum\t24.0\th\t0.0395\n",
            "trichostatin A\tBRD-A19037878\tHA1E\t10.0\tum\t6.0\th\t0.0395\n",
            "Nutlin-3\tBRD-A12230535\tA375\t44.4\tum\t24.0\th\t0.0395\n",
            "BMS-754807\tBRD-K13049116\tA375\t10.0\tum\t24.0\th\t0.0395\n",
            "PLX-4032\tBRD-K56343971\tA375\t10.0\tum\t24.0\th\t0.0395\n",
            "HDAC6 inhibitor ISOX\tBRD-K69840642\tA375\t10.0\tum\t24.0\th\t0.0395\n",
            "vorinostat\tBRD-K81418486\tA375\t10.0\tum\t24.0\th\t0.0395\n",
            "trichostatin A\tBRD-A19037878\tHA1E\t10.0\tum\t24.0\th\t0.0395\n"
          ]
        }
      ],
      "source": [
        "%%bash\n",
        "cat drug_candidates.txt"
      ]
    },
    {
      "cell_type": "markdown",
      "metadata": {
        "id": "mOY47OK3OZMF"
      },
      "source": [
        "### Step 5.3: Interpret Drug Repositioning Results\n",
        "\n",
        "**💊 Background: Clinical Interpretation of Drug Repositioning Results**\n",
        "\n",
        "**Understanding L1000CDS2 Scores:**\n",
        "\n",
        "The drug repositioning analysis produces a ranked list of compounds based on their ability to reverse cancer gene signatures. Here's how to interpret the results:\n",
        "\n",
        "**🎯 Score Interpretation:**\n",
        "- **Negative scores**: High therapeutic potential (drugs that reverse cancer signatures)\n",
        "- **Positive scores**: Avoid these drugs (they mimic or worsen cancer signatures)\n",
        "- **Score magnitude**: Larger absolute values indicate stronger predicted effects\n",
        "\n",
        "**✅ Validation Categories:**\n",
        "\n",
        "**1️⃣ Known Cancer Drugs (Positive Controls):**\n",
        "- **Examples**: Doxorubicin, Paclitaxel, Cisplatin, Tamoxifen, Imatinib\n",
        "- **Significance**: Validates our computational approach\n",
        "- **Clinical meaning**: Confirms the cancer signature is biologically relevant\n",
        "- **Research value**: Shows the method can identify established cancer therapeutics\n",
        "\n",
        "**2️⃣ Successfully Repositioned Drugs:**\n",
        "- **Metformin**: Originally for diabetes → Now in 200+ cancer clinical trials\n",
        "- **Aspirin**: Originally for pain/inflammation → FDA-approved for cancer prevention\n",
        "- **Clinical success**: These drugs prove repositioning works in practice\n",
        "- **Patient benefit**: Already available for off-label use in some cases\n",
        "\n",
        "**3️⃣ Promising Repositioning Candidates:**\n",
        "- **Statins** (cholesterol drugs): Anti-cancer properties discovered in studies\n",
        "- **Rapamycin** (immunosuppressant): Active cancer and aging research\n",
        "- **Chloroquine** (antimalarial): Being investigated for cancer applications\n",
        "- **Research opportunity**: Novel applications requiring further validation\n",
        "\n",
        "**🚀 Clinical Translation Success Stories:**\n",
        "\n",
        "**📈 Metformin (Diabetes → Cancer Prevention):**\n",
        "- **Original discovery**: Diabetic patients had unexpectedly lower cancer rates\n",
        "- **Mechanism**: Targets cancer cell metabolism through mTOR pathway inhibition\n",
        "- **Current status**: Phase III clinical trials for cancer prevention\n",
        "- **Clinical application**: Already prescribed to diabetic cancer patients\n",
        "- **Evidence**: Some studies show 30% reduction in cancer risk\n",
        "\n",
        "**📈 Aspirin (Pain Relief → Cancer Prevention):**\n",
        "- **Original discovery**: Regular aspirin users had reduced colorectal cancer incidence\n",
        "- **Mechanism**: Inhibits chronic inflammation that promotes cancer development\n",
        "- **Current status**: FDA-approved for cancer prevention in high-risk patients\n",
        "- **Clinical application**: Daily low-dose aspirin protocols established\n",
        "- **Evidence**: Significant reduction in colorectal cancer deaths\n",
        "\n",
        "**🔬 Why Drug Repositioning Works:**\n",
        "\n",
        "**Scientific advantages:**\n",
        "- **Faster development timeline**: 5-10 years vs 15-20 years for new drugs\n",
        "- **Known safety profiles**: Existing drugs have established safety and side effect data\n",
        "- **Lower development costs**: Reduces financial risk for pharmaceutical companies\n",
        "- **Regulatory advantages**: Faster approval process for new indications\n",
        "\n",
        "**Biological rationale:**\n",
        "- **Pathway targeting**: Many diseases share common molecular pathways\n",
        "- **Polypharmacology**: Single drugs often affect multiple biological targets\n",
        "- **Network effects**: Drugs can impact interconnected cellular systems\n",
        "- **Serendipitous discoveries**: Unexpected beneficial effects in different diseases\n",
        "\n",
        "**🏥 Clinical Translation Process:**\n",
        "\n",
        "**Validation pipeline:**\n",
        "1. **In vitro testing**: Test drug effects on cancer cell lines\n",
        "2. **Animal studies**: Validate efficacy and safety in cancer models\n",
        "3. **Phase I trials**: Test safety and dosing in cancer patients\n",
        "4. **Phase II trials**: Evaluate efficacy in specific cancer types\n",
        "5. **Phase III trials**: Compare to standard treatments\n",
        "6. **Clinical implementation**: Integration into treatment guidelines\n",
        "\n",
        "**Patient selection strategies:**\n",
        "- **Biomarker-guided therapy**: Use gene expression to select patients\n",
        "- **Combination approaches**: Pair repositioned drugs with standard treatments\n",
        "- **Risk stratification**: Target high-risk patients for prevention\n",
        "- **Personalized dosing**: Optimize doses based on individual characteristics\n"
      ]
    },
    {
      "cell_type": "markdown",
      "metadata": {
        "id": "5iXwfTEdA6zR"
      },
      "source": [
        "---\n",
        "\n",
        "## Part 6: Summary and Clinical Applications (5 minutes)\n",
        "\n",
        "### What We Accomplished Today\n",
        "\n",
        "**🎉 Complete RNA-seq Analysis Pipeline Accomplished!**\n",
        "\n",
        "**Technical achievements:**\n",
        "- ✅ Downloaded and verified real cancer vs normal tissue data\n",
        "- ✅ Built transcriptome index and quantified gene expression using Salmon\n",
        "- ✅ Identified cancer-associated genes (oncogenes & tumor suppressors) with DESeq2\n",
        "- ✅ Created publication-quality visualizations (PCA, volcano plot, heatmap)\n",
        "- ✅ Performed pathway enrichment analysis to understand biological mechanisms\n",
        "- ✅ Discovered drug repositioning candidates using computational approaches\n",
        "- ✅ Learned professional bioinformatics workflow and command-line tools\n",
        "\n",
        "**From FASTQ files → Therapeutic insights in 90 minutes!**\n",
        "\n",
        "### Clinical Translation and Medical Impact\n",
        "\n",
        "**🏥 How This Analysis Guides Cancer Medicine:**\n",
        "\n",
        "#### **1. Biomarker Discovery**\n",
        "**Diagnostic markers:** Genes consistently different between cancer and normal tissue can serve as diagnostic biomarkers. For example, if certain genes are always overexpressed in cancer samples, they could be used in blood tests or tissue biopsies to detect cancer early.\n",
        "\n",
        "**Prognostic indicators:** Expression patterns that predict patient outcomes help physicians make treatment decisions. Patients with high expression of certain oncogenes might need more aggressive treatment, while those with favorable signatures might do well with less intensive therapy.\n",
        "\n",
        "**Predictive biomarkers:** Signatures that indicate drug response likelihood enable personalized medicine. Before prescribing a targeted therapy, doctors could test whether a patient's tumor has the molecular signature that predicts response to that specific drug.\n",
        "\n",
        "#### **2. Drug Target Identification**\n",
        "**Oncogenes:** Genes overexpressed in cancer represent potential targets for inhibition. For example, kinase inhibitors can block overactive growth signals in cancer cells.\n",
        "\n",
        "**Tumor suppressors:** Pathways that are suppressed in cancer could be restored through therapeutic intervention. For instance, drugs that reactivate p53 tumor suppressor function are being developed.\n",
        "\n",
        "**Metabolic vulnerabilities:** Cancer-specific dependencies can be exploited therapeutically. If cancer cells become dependent on certain metabolic pathways, drugs targeting those pathways could selectively kill cancer cells while sparing normal cells.\n",
        "\n",
        "#### **3. Drug Repositioning Success Stories**\n",
        "\n",
        "**Metformin: Diabetes drug → Cancer prevention**\n",
        "- **Discovery process:** Epidemiological studies noticed that diabetic patients taking metformin had lower cancer rates than expected\n",
        "- **Mechanism understanding:** Research revealed metformin targets cancer cell metabolism through AMPK/mTOR pathway inhibition\n",
        "- **Clinical validation:** Over 200 clinical trials are now testing metformin for cancer prevention and treatment\n",
        "- **Current status:** Some studies show 30% reduction in cancer risk; already prescribed off-label to diabetic cancer patients\n",
        "\n",
        "**Aspirin: Pain relief → Cancer prevention**\n",
        "- **Discovery process:** Large epidemiological studies found that regular aspirin users had significantly reduced colorectal cancer incidence\n",
        "- **Mechanism understanding:** Aspirin reduces chronic inflammation, which is known to promote cancer development\n",
        "- **Clinical validation:** Multiple randomized trials confirmed the protective effect\n",
        "- **Current status:** FDA-approved for cancer prevention in high-risk patients; daily low-dose aspirin protocols established\n",
        "\n",
        "#### **4. Real-World Clinical Applications**\n",
        "\n",
        "**Patient care example:**\n",
        "A 65-year-old patient with high cancer risk could benefit from this analysis workflow:\n",
        "1. **Tumor biopsy** → RNA-seq analysis performed in hospital laboratory\n",
        "2. **Gene signature analysis** → Compare patient's tumor to our normal tissue database\n",
        "3. **Therapeutic target identification** → Identify which oncogenes are overactive\n",
        "4. **Treatment selection** → Choose targeted therapy based on molecular profile\n",
        "5. **Response monitoring** → Follow-up RNA-seq to assess treatment effectiveness\n",
        "\n",
        "**Precision medicine implementation:**\n",
        "- **Tumor boards** use RNA-seq results to make treatment recommendations\n",
        "- **Clinical trials** enroll patients based on molecular signatures\n",
        "- **Therapeutic monitoring** tracks changes in gene expression during treatment\n",
        "- **Resistance prediction** identifies mechanisms before clinical resistance develops\n",
        "\n"
      ]
    },
    {
      "cell_type": "markdown",
      "metadata": {
        "id": "8Ee-nVbhPBJY"
      },
      "source": [
        "---\n",
        "\n",
        "### Professional Bioinformatics Skills Learned\n",
        "\n",
        "**🔧 Technical Skills Acquired:**\n",
        "- **RNA-seq data processing pipeline:** Complete workflow from FASTQ to results\n",
        "- **Differential expression analysis:** Statistical methods for identifying significant changes\n",
        "- **Data visualization:** Creating publication-quality scientific figures\n",
        "- **Pathway enrichment analysis:** Understanding biological mechanisms\n",
        "- **Command-line proficiency:** Professional bioinformatics tool usage\n",
        "- **Quality control:** Assessing data reliability and identifying potential issues\n",
        "\n",
        "**🎯 Professional Skills Developed:**\n",
        "- **Version control understanding:** Using Git repositories for reproducible research\n",
        "- **Workflow management:** Organizing complex multi-step analyses\n",
        "- **Error handling strategies:** Dealing with technical challenges professionally\n",
        "- **Results interpretation:** Connecting statistical results to biological meaning\n",
        "- **Scientific communication:** Presenting findings to clinical audiences\n",
        "\n",
        "**🏥 Medical Applications Mastered:**\n",
        "- **Cancer biomarker identification:** Finding genes useful for diagnosis and prognosis\n",
        "- **Therapeutic target discovery:** Identifying molecular vulnerabilities in cancer\n",
        "- **Drug repositioning strategies:** Finding new uses for existing medications\n",
        "- **Precision medicine approaches:** Tailoring treatment to individual molecular profiles\n",
        "\n",
        "### Key Learning Outcomes\n",
        "\n",
        "**Students now understand:**\n",
        "\n",
        "1. **How cancer differs molecularly from normal tissue:** Cancer involves systematic changes in gene expression that affect multiple cellular pathways, creating vulnerabilities that can be targeted therapeutically.\n",
        "\n",
        "2. **Why RNA-seq is essential for precision medicine:** Gene expression profiling provides the molecular information needed to classify cancers, predict treatment responses, and monitor therapeutic efficacy.\n",
        "\n",
        "3. **How computational biology accelerates drug discovery:** Bioinformatics approaches can identify therapeutic targets and repositioning opportunities much faster than traditional experimental methods.\n",
        "\n",
        "4. **The complete pipeline from sequencing to therapeutics:** Understanding how raw sequencing data becomes actionable clinical information through systematic computational analysis.\n",
        "\n",
        "5. **Professional bioinformatics workflow practices:** Experience with industry-standard tools, reproducible research methods, and systematic approaches to biological data analysis.\n",
        "\n",
        "6. **How to handle technical challenges in research:** Developing problem-solving skills and backup strategies for when analyses don't go as planned.\n",
        "\n",
        "### Next Steps in Cancer Research\n",
        "\n",
        "**🔬 Experimental Validation:**\n",
        "- **Cell line studies:** Test drug predictions in cancer cell cultures\n",
        "- **Animal model validation:** Confirm therapeutic effects in mouse cancer models\n",
        "- **Biomarker validation:** Test identified genes in independent patient cohorts\n",
        "- **Mechanism studies:** Understand how identified drugs affect cancer cells\n",
        "\n",
        "**🏥 Clinical Translation:**\n",
        "- **Clinical trial design:** Develop protocols to test promising drug candidates\n",
        "- **Diagnostic test development:** Create clinical assays for identified biomarkers\n",
        "- **Treatment guideline integration:** Incorporate findings into clinical practice standards\n",
        "- **Regulatory approval:** Navigate FDA processes for new therapeutic indications\n",
        "\n",
        "**📊 Computational Extensions:**\n",
        "- **Full transcriptome analysis:** Analyze complete gene expression profiles, not just chromosome 22\n",
        "- **Multi-cancer studies:** Compare our findings across different cancer types\n",
        "- **Multi-omics integration:** Combine RNA-seq with DNA, protein, and metabolite data\n",
        "- **Machine learning applications:** Use AI approaches for more sophisticated pattern recognition\n",
        "\n",
        "**🌍 Global Health Impact:**\n",
        "- **Accessible diagnostics:** Develop cost-effective tests for resource-limited settings\n",
        "- **Prevention strategies:** Implement repositioned drugs for cancer prevention programs\n",
        "- **Personalized medicine democratization:** Make precision medicine available to more patients\n",
        "- **Training programs:** Educate healthcare workers in genomic medicine approaches\n"
      ]
    },
    {
      "cell_type": "markdown",
      "metadata": {
        "id": "6JO6iPIHAzZ1"
      },
      "source": [
        "---\n",
        "\n",
        "## Assessment Questions for Medical Students\n",
        "\n",
        "### **Clinical Reasoning Questions:**\n",
        "\n",
        "1. **Therapeutic Application:**\n",
        "   - \"Based on our analysis, how would you prioritize the drug repositioning candidates for a cancer patient? Consider efficacy, safety, and current approval status.\"\n",
        "\n",
        "2. **Biomarker Development:**\n",
        "   - \"Which genes from our analysis would make the best diagnostic biomarkers for cancer? What additional validation would be needed?\"\n",
        "\n",
        "3. **Precision Medicine:**\n",
        "   - \"How could this RNA-seq approach be integrated into routine cancer care? What are the practical challenges and benefits?\"\n",
        "\n",
        "### **Data Interpretation:**\n",
        "\n",
        "1. **Results Analysis:**\n",
        "   - \"Why do known cancer drugs (doxorubicin, paclitaxel) appear in our repositioning results? What does this tell us about our computational approach?\"\n",
        "\n",
        "2. **Clinical Translation:**\n",
        "   - \"Metformin shows promise for cancer treatment. Design a clinical trial to test this hypothesis, including patient selection criteria and endpoints.\"\n",
        "\n",
        "### **Professional Skills:**\n",
        "\n",
        "1. **Workflow Management:**\n",
        "   - \"The L1000CDS2 API was unavailable during our analysis. How did we handle this professionally, and why is this important in research?\"\n",
        "\n",
        "2. **Scientific Communication:**\n",
        "   - \"Present our key findings to a hospital tumor board. Focus on actionable insights for patient care.\"\n",
        "\n",
        "---\n",
        "\n",
        "**🎉 Congratulations! You've completed a professional-level RNA-seq analysis and learned how computational biology directly contributes to cancer treatment and drug discovery.**\n",
        "\n",
        "*This hands-on experience demonstrates the complete pipeline from raw sequencing data to therapeutic insights, preparing future physicians for the era of genomic medicine and personalized cancer care.*"
      ]
    }
  ],
  "metadata": {
    "colab": {
      "provenance": []
    },
    "kernelspec": {
      "display_name": "Python 3",
      "name": "python3"
    },
    "language_info": {
      "name": "python"
    }
  },
  "nbformat": 4,
  "nbformat_minor": 0
}