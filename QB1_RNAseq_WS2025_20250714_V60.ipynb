{
  "cells": [
    {
      "cell_type": "markdown",
      "metadata": {
        "id": "1yyQjJS95SZQ"
      },
      "source": [
        "# UMR QB1 - Seminar on Gene Expression Analysis\n",
        "\n",
        "---\n",
        "\n",
        "## Medical Problem & Research Question\n",
        "\n",
        "**\"_What are the molecular differences between cancer cells and normal human tissue, and how can we use these differences to identify new therapeutic targets and their drugs for cancer treatment?_\"**\n",
        "\n",
        "### **Why This Matters for Medicine:**\n",
        "- **Cancer heterogeneity:** Different cancers have distinct molecular signatures\n",
        "- **Precision medicine:** Treatments must be tailored to specific cancer types\n",
        "- **Drug resistance:** Cancer cells evolve to evade treatment\n",
        "- **Therapeutic targets:** New drugs are desperately needed for better patient outcomes\n",
        "\n",
        "### **What We'll Discover:**\n",
        "1. **Molecular cancer signatures:** Genes consistently altered in cancer vs normal tissue\n",
        "2. **Therapeutic vulnerabilities:** Pathways that could be targeted with drugs\n",
        "3. **Drug repositioning opportunities:** Existing drugs that might treat cancer\n",
        "4. **Biomarker identification:** Genes that could predict treatment response\n",
        "\n",
        "---\n"
      ]
    },
    {
      "cell_type": "markdown",
      "metadata": {
        "id": "6vk_Nn6J5vcP"
      },
      "source": [
        "## Dataset: A Real Cancer vs Normal Tissue Study\n",
        "\n",
        "**Clinical Context:** Universal Human Reference (UHR) vs Human Brain Reference (HBR)  \n",
        "**Medical Relevance:** Cancer cell lines vs normal human brain tissue<br>\n",
        "**Sample Size:** 6 samples (3 cancer replicates vs 3 normal brain replicates)  \n",
        "**Data Type:** Paired-end RNA-sequencing (chromosome 22 subset)  \n",
        "**Reference:** Griffith M, Walker JR, Spies NC, Ainscough BJ, Griffith OL (2015) Informatics for RNA Sequencing: A Web Resource for Analysis on the Cloud. *PLoS Comput Biol* 11(8): e1004393. https://doi.org/10.1371/journal.pcbi.1004393\n",
        "\n",
        "\n",
        "\n",
        "### **Medical Samples**\n",
        "\n",
        "#### **UHR (Universal Human Reference) = CANCER SAMPLES**\n",
        "- **Composition:** Total RNA from 10 different human cancer cell lines\n",
        "- **Cancer types included:** Breast, liver, cervix, testis, brain, skin cancers plus immune cells (T cell, B cell, macrophage, histocyte)\n",
        "- **Why this matters:** Represents the common molecular features shared across different cancer types\n",
        "- **Clinical relevance:** Helps identify pan-cancer therapeutic targets\n",
        "\n",
        "#### **HBR (Human Brain Reference) = NORMAL TISSUE CONTROLS**\n",
        "- **Composition:** Total RNA from brains of 23 healthy Caucasians, mostly 60-80 years old\n",
        "- **Why brain tissue:** Provides a normal tissue baseline for comparison\n",
        "- **Clinical relevance:** Shows what \"healthy\" gene expression looks like\n",
        "\n",
        "### **The Biological Hypothesis:**\n",
        "**Cancer cells will show systematic changes in gene expression compared to normal tissue, revealing:**\n",
        "1. **Oncogenes** (cancer-promoting genes) that are overexpressed\n",
        "2. **Tumor suppressors** (cancer-preventing genes) that are silenced\n",
        "3. **Metabolic pathways** altered to support cancer growth\n",
        "4. **Drug targets** that could selectively kill cancer cells\n",
        "\n",
        "---"
      ]
    },
    {
      "cell_type": "markdown",
      "metadata": {
        "id": "1LErHlIH572V"
      },
      "source": [
        "## Learning Objectives\n",
        "\n",
        "By the end of this seminar, students will:\n",
        "\n",
        "### **Technical Skills:**\n",
        "1. Execute differential expression analysis to identify cancer biomarkers\n",
        "2. Run pathway enrichment to understand cancer biology\n",
        "3. Use computational drug repositioning for therapeutic discovery\n",
        "\n",
        "### **Medical Understanding:**\n",
        "1. **Interpret cancer gene signatures** in clinical context\n",
        "2. **Identify potential biomarkers** for cancer diagnosis/prognosis\n",
        "3. **Understand drug repositioning** as a strategy for faster therapeutic development\n",
        "4. **Connect computational findings** to real cancer treatment decisions\n",
        "\n",
        "### **Clinical Translation:**\n",
        "1. **Evaluate therapeutic targets** identified through RNA-seq\n",
        "2. **Assess drug candidates** for cancer treatment potential\n",
        "3. **Understand precision medicine** approaches to cancer care\n",
        "\n",
        "---"
      ]
    },
    {
      "cell_type": "markdown",
      "metadata": {
        "id": "s4LtcS-o6GG2"
      },
      "source": [
        "## Setup and Introduction\n",
        "\n",
        "### Install Conda in Google Colab\n",
        "\n",
        "After running this cell, the runtime will restart automatically. Wait for it to complete, then continue."
      ]
    },
    {
      "cell_type": "code",
      "execution_count": null,
      "metadata": {
        "id": "pu2Sqm7bAGcw"
      },
      "outputs": [],
      "source": [
        "!pip install -q condacolab\n",
        "import condacolab\n",
        "condacolab.install()"
      ]
    },
    {
      "cell_type": "markdown",
      "metadata": {
        "id": "OkEKf6vF6RRY"
      },
      "source": [
        "### Verify Conda installation"
      ]
    },
    {
      "cell_type": "code",
      "execution_count": null,
      "metadata": {
        "id": "CGWzfISgdm1-"
      },
      "outputs": [],
      "source": [
        "import condacolab\n",
        "condacolab.check()"
      ]
    },
    {
      "cell_type": "markdown",
      "metadata": {
        "id": "Vn_hUX296ees"
      },
      "source": [
        "### Install all required software and packages"
      ]
    },
    {
      "cell_type": "code",
      "execution_count": null,
      "metadata": {
        "collapsed": true,
        "id": "LPhMuJU8gc2T"
      },
      "outputs": [],
      "source": [
        "%%bash\n",
        "conda install -c bioconda -c conda-forge salmon gffread bioconductor-deseq2 r-optparse r-ggplot2 r-gprofiler2 r-dplyr r-tidyr -y -q 2>&1"
      ]
    },
    {
      "cell_type": "markdown",
      "metadata": {
        "id": "lpxI-nR-6n7K"
      },
      "source": [
        "### Download Data and script repository\n",
        "\n",
        "**Background: Version Control and Reproducible Research**\n",
        "\n",
        "In modern bioinformatics, we use version control systems like Git to manage our analysis scripts and data. This ensures reproducibility and allows collaboration. We're downloading a repository that contains:\n",
        "- Pre-processed RNA-seq data files\n",
        "- Analysis scripts for each step\n",
        "- Reference genome files and annotations"
      ]
    },
    {
      "cell_type": "code",
      "execution_count": null,
      "metadata": {
        "id": "Mgpcp6N3N3k2",
        "collapsed": true
      },
      "outputs": [],
      "source": [
        "%%bash\n",
        "git clone https://gitlab.uni-rostock.de/wb283/qb1rnaseq.git"
      ]
    },
    {
      "cell_type": "code",
      "source": [
        "%%bash\n",
        "ls"
      ],
      "metadata": {
        "id": "wbi0mKWoyxO7"
      },
      "execution_count": null,
      "outputs": []
    },
    {
      "cell_type": "code",
      "source": [
        "%%bash\n",
        "ls -lht"
      ],
      "metadata": {
        "id": "Fddvkl-O1O13"
      },
      "execution_count": null,
      "outputs": []
    },
    {
      "cell_type": "code",
      "execution_count": null,
      "metadata": {
        "id": "SvkkPQhp1K_e"
      },
      "outputs": [],
      "source": [
        "# Change working directory permanently\n",
        "import os\n",
        "os.chdir('qb1rnaseq')"
      ]
    },
    {
      "cell_type": "code",
      "source": [
        "%%bash\n",
        "ls"
      ],
      "metadata": {
        "id": "yFYEY6Btqf9g"
      },
      "execution_count": null,
      "outputs": []
    },
    {
      "cell_type": "code",
      "execution_count": null,
      "metadata": {
        "id": "onSL19mk1PNA"
      },
      "outputs": [],
      "source": [
        "%%bash\n",
        "tar xzf griffith-data.tar.gz"
      ]
    },
    {
      "cell_type": "code",
      "source": [
        "%%bash\n",
        "ls -lht"
      ],
      "metadata": {
        "id": "-OAEbk3J1c6B"
      },
      "execution_count": null,
      "outputs": []
    },
    {
      "cell_type": "markdown",
      "metadata": {
        "id": "vgZlH_O57sGh"
      },
      "source": [
        "---\n",
        "\n",
        "## Gene Expression\n",
        "\n",
        "**What is RNA-seq?**\n",
        "RNA-seq determines how many RNA molecules (gene expression level) were present in each sample for each gene. This process involves:\n",
        "\n",
        "1. **Mapping reads**: Determining which gene/transcript each sequencing read came from\n",
        "2. **Counting**: Tallying how many reads map to each gene\n",
        "3. **Normalization**: Adjusting for sequencing depth and gene length differences\n",
        "\n",
        "\n",
        "**Medical significance**\n",
        "\n",
        "- Oncogenes (overexpressed in cancer)\n",
        "- Tumor suppressors (underexpressed in cancer)\n",
        "- Potential therapeutic targets\n",
        "\n",
        "**Why use count data?**\n",
        "- **Raw counts**: Represent the actual number of sequencing reads per gene\n",
        "- **Statistical requirements**: Count-based statistical models (like DESeq2) need integer counts\n",
        "- **Comparability**: Counts can be normalized across samples for fair comparison\n",
        "\n",
        "---\n",
        "\n",
        "## 1 Data\n",
        "\n",
        "\n",
        "### 1.1 Dataset: Metadata and sequencings\n",
        "\n",
        "- **UHR samples**: Mixed cancer cell lines (Universal Human Reference)\n",
        "- **HBR samples**: Normal brain tissue (Human Brain Reference)\n",
        "- **Chr22 subset**: Educational dataset focusing on chromosome 22 genes\n"
      ]
    },
    {
      "cell_type": "code",
      "execution_count": null,
      "metadata": {
        "id": "_ps_d8EWyZnt"
      },
      "outputs": [],
      "source": [
        "%%bash\n",
        "cat samples.tsv"
      ]
    },
    {
      "cell_type": "code",
      "source": [
        "%%bash\n",
        "ls reads/"
      ],
      "metadata": {
        "id": "uTRiAG-jm1wb"
      },
      "execution_count": null,
      "outputs": []
    },
    {
      "cell_type": "code",
      "source": [
        "%%bash\n",
        "ls -lht"
      ],
      "metadata": {
        "id": "DVxy_N-42IgL"
      },
      "execution_count": null,
      "outputs": []
    },
    {
      "cell_type": "markdown",
      "metadata": {
        "id": "9a5PSUFb8p1s"
      },
      "source": [
        "### 1.2 Gene Annotations (GTF Format)\n",
        "\n",
        "- **Column 1**: Chromosome name (22)\n",
        "- **Column 2**: Annotation source (HAVANA, ENSEMBL)\n",
        "- **Column 3**: Feature type (gene, transcript, exon, CDS)\n",
        "- **Column 4-5**: Start and end coordinates (1-based)\n",
        "- **Column 6**: Score (usually `.` for missing)\n",
        "- **Column 7**: Strand (`+` forward, `-` reverse)\n",
        "- **Column 8**: Frame (for coding sequences)\n",
        "- **Column 9**: Attributes (gene_id, gene_name, transcript_id, etc.)\n",
        "\n",
        "**Medical relevance:**\n",
        "- Tells us where genes are located on the chromosome\n",
        "- Defines exon boundaries (coding regions)\n",
        "- Links gene IDs to human-readable gene names\n",
        "- Essential for quantifying expression accurately\n"
      ]
    },
    {
      "cell_type": "code",
      "source": [
        "%%bash\n",
        "ls refs/"
      ],
      "metadata": {
        "id": "TiWG530fm-Fw"
      },
      "execution_count": null,
      "outputs": []
    },
    {
      "cell_type": "code",
      "execution_count": null,
      "metadata": {
        "id": "ErZ9RUFas9vT"
      },
      "outputs": [],
      "source": [
        "%%bash\n",
        "# transcriptome annotations\n",
        "head refs/22.gtf"
      ]
    },
    {
      "cell_type": "markdown",
      "metadata": {
        "id": "7Jae7bTo8zp3"
      },
      "source": [
        "### 1.3 DNA Sequence (FASTA Format)\n",
        "\n",
        "- **Header line** (`>`): Sequence identifier and description\n",
        "- **Sequence lines**: Raw DNA sequence (A, T, G, C, N)\n",
        "\n",
        "**Biological context:**\n",
        "- This is the reference genome sequence for chromosome 22\n",
        "- Contains ~51 million base pairs\n",
        "- Includes both coding (genes) and non-coding regions\n",
        "- Used as a template to identify where RNA-seq reads originated\n",
        "\n",
        "**How these files work together:**\n",
        "1. **FASTQ files**: Contain the expression experimental data (what we measured)\n",
        "2. **GTF file**: Tells us where genes are located (the map)\n",
        "3. **FASTA file**: Provides the reference sequence (the genome sequence blueprint)\n",
        "\n",
        "Together, they allow us to determine which genes the RNA-seq reads came from and quantify their expression levels."
      ]
    },
    {
      "cell_type": "code",
      "execution_count": null,
      "metadata": {
        "id": "kT7fUehbHVPF"
      },
      "outputs": [],
      "source": [
        "%%bash\n",
        "# sequence data\n",
        "head refs/22.fa"
      ]
    },
    {
      "cell_type": "markdown",
      "metadata": {
        "id": "4cQrm331949L"
      },
      "source": [
        "### 1.4 Gene Expression Count Matrix\n",
        "\n",
        "**What is a count matrix?**\n",
        "The count matrix is the fundamental data structure for RNA-seq analysis. It's a table where:\n",
        "- **Rows**: Represent genes/transcripts\n",
        "- **Columns**: Represent samples (cancer_rep1, cancer_rep2, etc.)\n",
        "- **Values**: Number of sequencing reads assigned to each gene in each sample\n",
        "\n",
        "**Why is this important?**\n",
        "- **Statistical foundation**: All differential expression analysis starts with this matrix\n",
        "- **Data quality**: Allows us to spot potential issues before analysis\n",
        "- **Biological insight**: Shows which genes are highly vs lowly expressed\n",
        "- **Clinical relevance**: Forms the basis for identifying cancer biomarkers\n",
        "\n",
        "**Let's examine our count matrix:**\n"
      ]
    },
    {
      "cell_type": "code",
      "source": [
        "%%bash\n",
        "wc -l counts.tsv"
      ],
      "metadata": {
        "id": "PLOmoffv3O8c"
      },
      "execution_count": null,
      "outputs": []
    },
    {
      "cell_type": "code",
      "execution_count": null,
      "metadata": {
        "id": "L1iSgvmqHRxt"
      },
      "outputs": [],
      "source": [
        "%%bash\n",
        "head counts.tsv"
      ]
    },
    {
      "cell_type": "code",
      "execution_count": null,
      "metadata": {
        "id": "R-c2ej9EAZri"
      },
      "outputs": [],
      "source": [
        "%%bash\n",
        "tail counts.tsv"
      ]
    },
    {
      "cell_type": "markdown",
      "metadata": {
        "id": "MZ--Q8RZHcrk"
      },
      "source": [
        "**Understanding the count matrix structure:**\n",
        "\n",
        "**Gene_ID Column:**\n",
        "- **Transcript identifiers**: From our GTF annotation file\n",
        "- **ENST format**: Ensembl transcript IDs (e.g., ENST00000215832.4)\n",
        "- **Version numbers**: The `.4` indicates annotation version\n",
        "- **Biological meaning**: Each ID represents a specific mRNA transcript\n",
        "\n",
        "**Sample Columns:**\n",
        "- **cancer_rep1, cancer_rep2, cancer_rep3**: Three biological replicates of cancer cell lines\n",
        "- **normal_rep1, normal_rep2, normal_rep3**: Three biological replicates of normal brain tissue\n",
        "- **Replication importance**: Multiple replicates allow statistical testing\n",
        "\n",
        "**Count Values:**\n",
        "- **Integer numbers**: Whole read counts (0, 1, 2, 150, 5000, etc.)\n",
        "- **Dynamic range**: From 0 (not expressed) to tens of thousands (highly expressed)\n",
        "- **Raw counts**: Not yet normalized for library size or gene length\n",
        "\n",
        "**What the numbers tell us:**\n",
        "\n",
        "| Genes | High count values | Medium count values | Low count values | Zero count values |\n",
        "| --- | --- | --- | --- | --- |\n",
        "| Counts range | >1000 | 10-1000 | 0-10 | 0 |\n",
        "| Typical content | <ul><li>Housekeeping genes: Essential cellular functions (ribosomal proteins, metabolism)</li><li>Tissue-specific genes: Genes characteristic of the tissue type</li><li>Abundant transcripts: Genes producing lots of mRNA | <ul><li>Regulated genes: Genes that may change between conditions</li><li>Functional specialization: Genes involved in specific biological processes</li><li>Potential biomarkers: Candidates for differential expression</li></ul> | <ul><li>Lowly expressed genes: Genes with minimal transcription</li><li>Tissue-inappropriate genes: Genes not typically expressed in this tissue</li><li>Technical noise: Some low counts may be background</li></ul> | <ul><li>Not expressed: Gene is turned off in this sample/condition</li><li>Below detection: Expression too low to detect reliably</li><li>Technical artifacts: Missing due to technical limitations</li></ul> |\n",
        "\n",
        "\n",
        "**Clinical and Research Implications:**\n",
        "\n",
        "**Quality indicators:**\n",
        "- **Similar patterns**: Replicates should show similar count patterns\n",
        "- **Dynamic range**: Healthy samples should show diverse expression levels\n",
        "- **Library sizes**: Total counts should be similar across samples\n",
        "\n",
        "**Biological insights:**\n",
        "- **Condition differences**: Cancer vs normal samples may show different patterns\n",
        "- **Gene expression hierarchy**: Most genes lowly expressed, few highly expressed\n",
        "- **Functional categories**: Different gene types have characteristic expression levels\n",
        "\n",
        "This count matrix serves as the foundation for identifying genes that are differentially expressed between cancer and normal tissue, which will guide our search for therapeutic targets."
      ]
    },
    {
      "cell_type": "markdown",
      "metadata": {
        "id": "iCM0rc2U_WtA"
      },
      "source": [
        "## 2 Differential Expression\n",
        "\n",
        "**What is differential expression analysis?**\n",
        "Differential expression analysis identifies genes whose expression levels significantly differ between experimental conditions (cancer vs normal). This involves:\n",
        "\n",
        "1. **Normalization**: Adjusting for differences in sequencing depth and composition\n",
        "2. **Variance modeling**: Estimating biological and technical variability\n",
        "3. **Statistical testing**: Using negative binomial models to test for significant differences\n",
        "4. **Multiple testing correction**: Adjusting p-values for testing thousands of genes simultaneously\n",
        "\n",
        "**How does DESeq2 work?**\n",
        "DESeq2 uses sophisticated statistical methods:\n",
        "- **Size factors**: Normalize for sequencing depth differences\n",
        "- **Dispersion estimation**: Model gene-specific variance\n",
        "- **Wald test**: Test for significant expression differences\n",
        "- **Benjamini-Hochberg**: Control false discovery rate\n",
        "\n",
        "**Key outputs:**\n",
        "- **Log2 fold change**: Magnitude of expression difference\n",
        "- **P-value**: Statistical significance of the difference\n",
        "- **Adjusted p-value**: Corrected for multiple testing\n",
        "\n",
        "**Clinical interpretation:**\n",
        "- **Positive fold change**: Higher expression in cancer (potential oncogenes)\n",
        "- **Negative fold change**: Lower expression in cancer (potential tumor suppressors)"
      ]
    },
    {
      "cell_type": "code",
      "execution_count": null,
      "metadata": {
        "collapsed": true,
        "id": "ljiBiyvOsN3x"
      },
      "outputs": [],
      "source": [
        "%%bash\n",
        "# 2025-07-14\n",
        "Rscript run_deseq2.R \\\n",
        "    --metadata samples.tsv \\\n",
        "    --expression counts.tsv \\\n",
        "    --output-degs degs.tsv \\\n",
        "    --output-plots pca_plot.png,heatmap.png,volcano_plot.png \\\n",
        "    --output-image deseq2_results.RData"
      ]
    },
    {
      "cell_type": "code",
      "execution_count": null,
      "metadata": {
        "id": "WzHrRwoYugCx"
      },
      "outputs": [],
      "source": [
        "%%bash\n",
        "head degs.tsv"
      ]
    },
    {
      "cell_type": "code",
      "execution_count": null,
      "metadata": {
        "id": "LGOiK2v_upTs"
      },
      "outputs": [],
      "source": [
        "%%bash\n",
        "grep \"ENST00000328933.9\" refs/22.gtf | cut -f9"
      ]
    },
    {
      "cell_type": "markdown",
      "metadata": {
        "id": "jjeWg47B_8S6"
      },
      "source": [
        "### Data Visualization for Biological Interpretation\n",
        "\n",
        "**Why visualize RNA-seq results?**\n",
        "Visualization helps us understand complex datasets and communicate findings effectively. Our three key plots serve different purposes:\n",
        "\n",
        "**1. PCA Plot (Principal Component Analysis):**\n",
        "- **Purpose**: Shows overall similarity/differences between samples\n",
        "- **What it reveals**: Whether cancer and normal samples cluster separately\n",
        "- **Clinical significance**: Validates that cancer has distinct molecular signatures\n",
        "\n",
        "**2. Volcano Plot:**\n",
        "- **Purpose**: Displays both statistical significance and biological magnitude\n",
        "- **X-axis**: Log2 fold change (magnitude of difference)\n",
        "- **Y-axis**: -log10 p-value (statistical significance)\n",
        "- **Clinical significance**: Identifies the most promising therapeutic targets\n",
        "\n",
        "**3. Heatmap:**\n",
        "- **Purpose**: Shows expression patterns of top differentially expressed genes\n",
        "- **Colors**: Red = high expression, Blue = low expression\n",
        "- **Clinical significance**: Reveals potential biomarkers for cancer diagnosis\n",
        "\n",
        "**Our visualization script:**\n",
        "Uses professional ggplot2 graphics to create publication-quality figures suitable for scientific papers and clinical presentations."
      ]
    },
    {
      "cell_type": "code",
      "execution_count": null,
      "metadata": {
        "collapsed": true,
        "id": "l-daKIxDqUCA"
      },
      "outputs": [],
      "source": [
        "from IPython.display import Image, display\n",
        "import os\n",
        "\n",
        "display(Image('heatmap.png'))"
      ]
    },
    {
      "cell_type": "markdown",
      "source": [
        "Now let's see the annotations of one of these transcripts, e.g. `ENST00000390323.2`:"
      ],
      "metadata": {
        "id": "L2tzrcJC5_-2"
      }
    },
    {
      "cell_type": "code",
      "execution_count": null,
      "metadata": {
        "id": "UZpMrMTLtMlC"
      },
      "outputs": [],
      "source": [
        "%%bash\n",
        "# Annotations from differentially expressed genes\n",
        "grep \"ENST00000390323.2\" refs/22.gtf | cut -f9"
      ]
    },
    {
      "cell_type": "markdown",
      "metadata": {
        "id": "58cpUdi8AFik"
      },
      "source": [
        "---\n",
        "\n",
        "## 3 Pathway Analysis\n",
        "\n",
        "### Run Pathway Analysis\n",
        "\n",
        "**What is pathway enrichment analysis?**\n",
        "Instead of looking at individual genes, pathway analysis examines groups of genes that work together in biological processes. This helps us understand:\n",
        "\n",
        "- **Biological mechanisms:** How cancer disrupts normal cellular functions\n",
        "- **Therapeutic targets:** Which pathways could be targeted with drugs\n",
        "- **Disease understanding:** The underlying biology of cancer progression\n",
        "\n",
        "**How does pathway enrichment work?**\n",
        "1. **Gene sets**: Pre-defined groups of genes involved in specific biological processes\n",
        "2. **Statistical testing**: Determines if cancer-associated genes are overrepresented in specific pathways\n",
        "3. **Databases used**:\n",
        "   - **GO (Gene Ontology)**: Biological processes, molecular functions\n",
        "   - **KEGG**: Metabolic and signaling pathways\n",
        "   - **Reactome**: Detailed biological reactions\n",
        "\n",
        "**Expected cancer pathways:**\n",
        "- **Upregulated**: Cell cycle, DNA replication, metabolic reprogramming\n",
        "- **Downregulated**: Apoptosis, DNA repair, immune response\n",
        "\n",
        "**Clinical relevance:**\n",
        "Pathway analysis reveals which biological systems are disrupted in cancer, guiding therapeutic strategies and drug development."
      ]
    },
    {
      "cell_type": "code",
      "execution_count": null,
      "metadata": {
        "id": "1kyO0lPupxJ0"
      },
      "outputs": [],
      "source": [
        "%%bash\n",
        "Rscript pathway_analysis.R --input degs.tsv --output pathway_results.tsv"
      ]
    },
    {
      "cell_type": "code",
      "execution_count": null,
      "metadata": {
        "collapsed": true,
        "id": "5gJS4DuyOAna"
      },
      "outputs": [],
      "source": [
        "%%bash\n",
        "head pathway_results.tsv"
      ]
    },
    {
      "cell_type": "markdown",
      "metadata": {
        "id": "iQ4L9QfuAOjE"
      },
      "source": [
        "---\n",
        "\n",
        "## 4 Drug Repositioning\n",
        "\n",
        "### Drug Repositioning in Cancer Research\n",
        "\n",
        "**What is drug repositioning?**\n",
        "Drug repositioning (also called drug repurposing) involves finding new therapeutic uses for existing drugs. This approach offers several advantages:\n",
        "\n",
        "1. **Faster development**: 5-10 years vs 15-20 years for new drugs\n",
        "2. **Known safety profiles**: Existing drugs have established safety data\n",
        "3. **Lower costs**: Reduces the risk and expense of drug development\n",
        "4. **Immediate clinical application**: Can be prescribed off-label in some cases\n",
        "\n",
        "**How does computational drug repositioning work?**\n",
        "Our approach uses gene expression signatures:\n",
        "1. **Cancer signature**: Lists of oncogenes (upregulated) and tumor suppressors (downregulated)\n",
        "2. **Drug effects database**: How thousands of drugs affect gene expression\n",
        "3. **Signature matching**: Find drugs that reverse cancer gene expression patterns\n",
        "\n",
        "**Success stories:**\n",
        "- **Metformin**: Diabetes drug → Cancer prevention (200+ clinical trials)\n",
        "- **Aspirin**: Pain relief → Cancer prevention (FDA approved)\n",
        "- **Rapamycin**: Immunosuppressant → Cancer and aging research\n",
        "\n",
        "**Our script preparation:**\n",
        "Converts our DESeq2 results into a format compatible with L1000CDS2, a major drug repositioning database."
      ]
    },
    {
      "cell_type": "markdown",
      "metadata": {
        "id": "6UqDdjzbAVr0"
      },
      "source": [
        "### Querying the L1000CDS2 Drug Database\n",
        "\n",
        "**What is L1000CDS2?**\n",
        "L1000CDS2 (L1000 Characteristic Direction Signature) is a computational tool developed by the Ma'ayan Laboratory that:\n",
        "\n",
        "1. **Database scope**: Contains gene expression signatures for >20,000 drugs tested on human cell lines\n",
        "2. **Signature matching**: Uses mathematical algorithms to find drugs that reverse disease signatures\n",
        "3. **LINCS program**: Part of the NIH Library of Integrated Network-based Cellular Signatures initiative\n",
        "\n",
        "**How does the algorithm work?**\n",
        "1. **Input signature**: Our cancer gene signature (oncogenes + tumor suppressors)\n",
        "2. **Database search**: Compares against drug-induced expression changes\n",
        "3. **Scoring system**: Calculates how well each drug reverses the cancer signature\n",
        "4. **Ranking**: Returns drugs ranked by their potential to counteract cancer\n",
        "\n",
        "**Interpreting the results:**\n",
        "- **Negative scores**: Drugs that reverse cancer signatures (high therapeutic potential)\n",
        "- **Positive scores**: Drugs that mimic cancer signatures (avoid these)\n",
        "- **Score magnitude**: Larger absolute values indicate stronger effects\n",
        "\n",
        "**Clinical validation:**\n",
        "The system has successfully identified:\n",
        "- Known cancer drugs (validates the approach)\n",
        "- Repositioned drugs already in cancer trials\n",
        "- Novel repositioning opportunities for further investigation\n"
      ]
    },
    {
      "cell_type": "code",
      "execution_count": null,
      "metadata": {
        "collapsed": true,
        "id": "h4VYoOu3u_NT"
      },
      "outputs": [],
      "source": [
        "%%bash\n",
        "python drug_repositioning.py --input degs.tsv --output drug_candidates.txt"
      ]
    },
    {
      "cell_type": "code",
      "execution_count": null,
      "metadata": {
        "id": "efW7R2kcPLlH"
      },
      "outputs": [],
      "source": [
        "%%bash\n",
        "cat drug_candidates.txt"
      ]
    },
    {
      "cell_type": "markdown",
      "metadata": {
        "id": "mOY47OK3OZMF"
      },
      "source": [
        "### Interpretation of Drug Repositioning Results\n",
        "\n",
        "**Understanding L1000CDS2 Scores:**\n",
        "\n",
        "The drug repositioning analysis produces a ranked list of compounds based on their ability to reverse cancer gene signatures. Here's how to interpret the results:\n",
        "\n",
        "**Score Interpretation:**\n",
        "- **Negative scores**: High therapeutic potential (drugs that reverse cancer signatures)\n",
        "- **Positive scores**: Avoid these drugs (they mimic or worsen cancer signatures)\n",
        "- **Score magnitude**: Larger absolute values indicate stronger predicted effects\n",
        "\n",
        "**Validation Categories:**\n",
        "\n",
        "**Known Cancer Drugs (Positive Controls):**\n",
        "- **Examples**: Doxorubicin, Paclitaxel, Cisplatin, Tamoxifen, Imatinib\n",
        "- **Significance**: Validates our computational approach\n",
        "- **Clinical meaning**: Confirms the cancer signature is biologically relevant\n",
        "- **Research value**: Shows the method can identify established cancer therapeutics\n",
        "\n",
        "**Successfully Repositioned Drugs:**\n",
        "- **Metformin**: Originally for diabetes → Now in 200+ cancer clinical trials\n",
        "- **Aspirin**: Originally for pain/inflammation → FDA-approved for cancer prevention\n",
        "- **Clinical success**: These drugs prove repositioning works in practice\n",
        "- **Patient benefit**: Already available for off-label use in some cases\n",
        "\n",
        "**Promising Repositioning Candidates:**\n",
        "- **Statins** (cholesterol drugs): Anti-cancer properties discovered in studies\n",
        "- **Rapamycin** (immunosuppressant): Active cancer and aging research\n",
        "- **Chloroquine** (antimalarial): Being investigated for cancer applications\n",
        "- **Research opportunity**: Novel applications requiring further validation\n",
        "\n",
        "---\n",
        "\n",
        "### Why Drug Repositioning Works\n",
        "\n",
        "**Scientific advantages:**\n",
        "- **Faster development timeline**: 5-10 years vs 15-20 years for new drugs\n",
        "- **Known safety profiles**: Existing drugs have established safety and side effect data\n",
        "- **Lower development costs**: Reduces financial risk for pharmaceutical companies\n",
        "- **Regulatory advantages**: Faster approval process for new indications\n",
        "\n",
        "**Biological rationale:**\n",
        "- **Pathway targeting**: Many diseases share common molecular pathways\n",
        "- **Polypharmacology**: Single drugs often affect multiple biological targets\n",
        "- **Network effects**: Drugs can impact interconnected cellular systems\n",
        "- **Serendipitous discoveries**: Unexpected beneficial effects in different diseases\n",
        "\n"
      ]
    },
    {
      "cell_type": "markdown",
      "metadata": {
        "id": "6JO6iPIHAzZ1"
      },
      "source": [
        "\n",
        "---\n",
        "\n",
        "## Contact\n",
        "\n",
        "Dr. rer. nat. Israel Barrantes <br>\n",
        "Research Group Translational Bioinformatics (head)<br>\n",
        "Institute for Biostatistics and Informatics in Medicine and Ageing Research, Office 3017<br>\n",
        "Rostock University Medical Center<br>\n",
        "Ernst-Heydemann-Str. 8<br>\n",
        "18057 Rostock, Germany<br>\n",
        "\n",
        "Email: israel.barrantes[bei]uni-rostock.de\n",
        "\n",
        "---\n",
        "Last update 2025/10/25\n"
      ]
    }
  ],
  "metadata": {
    "colab": {
      "provenance": []
    },
    "kernelspec": {
      "display_name": "Python 3",
      "name": "python3"
    },
    "language_info": {
      "name": "python"
    }
  },
  "nbformat": 4,
  "nbformat_minor": 0
}